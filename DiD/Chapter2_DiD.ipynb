{
  "nbformat": 4,
  "nbformat_minor": 0,
  "metadata": {
    "colab": {
      "name": "Chapter2_DiD.ipynb",
      "provenance": [],
      "collapsed_sections": [],
      "authorship_tag": "ABX9TyP5yDZnK/vb+YmFQKYs83co",
      "include_colab_link": true
    },
    "kernelspec": {
      "name": "python3",
      "display_name": "Python 3"
    },
    "language_info": {
      "name": "python"
    }
  },
  "cells": [
    {
      "cell_type": "markdown",
      "metadata": {
        "id": "view-in-github",
        "colab_type": "text"
      },
      "source": [
        "<a href=\"https://colab.research.google.com/github/cheul0518/DeepLearning/blob/main/DiD/Chapter2_DiD.ipynb\" target=\"_parent\"><img src=\"https://colab.research.google.com/assets/colab-badge.svg\" alt=\"Open In Colab\"/></a>"
      ]
    },
    {
      "cell_type": "code",
      "metadata": {
        "id": "UWtKRvUSnLSC"
      },
      "source": [
        "# Install mxnet (GPU's required) \n",
        "# Reference: https://colab.research.google.com/github/d2l-ai/d2l-en-colab/blob/master/chapter_deep-learning-computation/use-gpu.ipynb#scrollTo=oR98Jmh0mzJ5\n",
        "!pip install -U mxnet-cu101==1.7.0\n",
        "!pip install d2l==0.16.6"
      ],
      "execution_count": null,
      "outputs": []
    },
    {
      "cell_type": "markdown",
      "metadata": {
        "id": "thF3oNjYl-nw"
      },
      "source": [
        "# 2.1 Data Manipulation\n",
        "\n"
      ]
    },
    {
      "cell_type": "markdown",
      "metadata": {
        "id": "ki6dzkgg6zR1"
      },
      "source": [
        "### 2.1.8 Exercises"
      ]
    },
    {
      "cell_type": "markdown",
      "metadata": {
        "id": "NYGol-at9GiS"
      },
      "source": [
        "1. Run the code in this section. Change the conditional statement X == Y in this section to X < Y or X > Y, and then see what kind of tensor you can get."
      ]
    },
    {
      "cell_type": "code",
      "metadata": {
        "id": "166GXY5D623u",
        "colab": {
          "base_uri": "https://localhost:8080/"
        },
        "outputId": "667989a6-ae31-4f17-cdb3-4cb6e49c3820"
      },
      "source": [
        "from mxnet import np\n",
        "\n",
        "X = np.arange(12).reshape(3,4)\n",
        "Y = np.array([[2,1,4,3,],[1,2,3,4,],[4,3,2,1]])\n",
        "rst1 = np.zeros_like(Y)\n",
        "rst1 = X < Y\n",
        "print(rst1, \"type:\", type(rst1), \",dtype:\", (rst1).dtype, \",shape:\", rst1.shape)\n",
        "rst2 = np.zeros_like(Y)\n",
        "rst2 = X > Y\n",
        "print(rst2, \"type:\", type(rst2), \",dtype:\", (rst2).dtype, \",shape:\", rst2.shape)"
      ],
      "execution_count": null,
      "outputs": [
        {
          "output_type": "stream",
          "text": [
            "[[ True False  True False]\n",
            " [False False False False]\n",
            " [False False False False]] type: <class 'mxnet.numpy.ndarray'> ,dtype: bool ,shape: (3, 4)\n",
            "[[False False False False]\n",
            " [ True  True  True  True]\n",
            " [ True  True  True  True]] type: <class 'mxnet.numpy.ndarray'> ,dtype: bool ,shape: (3, 4)\n"
          ],
          "name": "stdout"
        }
      ]
    },
    {
      "cell_type": "markdown",
      "metadata": {
        "id": "7U03Ym0z9I7n"
      },
      "source": [
        "2. Replace the two tensors that operate by element in the broadcasting mechanism with other shapes, e.g., 3-dimensional tensors. Is the result the same as expected?"
      ]
    },
    {
      "cell_type": "code",
      "metadata": {
        "id": "WqaA2VGr9NeL",
        "colab": {
          "base_uri": "https://localhost:8080/"
        },
        "outputId": "32350f3e-14e9-4097-a7b6-8ec64b0bd826"
      },
      "source": [
        "# Yes, the result's expected\n",
        "\"\"\"When operating on two arrays, NumPy compares their shapes element-wise. It starts with the trailing(i.e. rightmost) dimensions and works its way left.\n",
        "Two dimensions are compatible when\n",
        "1. they are equal, or\n",
        "2. one of them is 1\n",
        "\"\"\"\n",
        "a = np.arange(9).reshape(3,1,3)\n",
        "b = np.arange(6).reshape(3,2,1)\n",
        "print(a)\n",
        "print(\"------------\")\n",
        "print(b)\n",
        "print(\"------------\")\n",
        "print(a+b)\n",
        "print(\"------------\")\n",
        "print(a*b)"
      ],
      "execution_count": null,
      "outputs": [
        {
          "output_type": "stream",
          "text": [
            "[[[0. 1. 2.]]\n",
            "\n",
            " [[3. 4. 5.]]\n",
            "\n",
            " [[6. 7. 8.]]]\n",
            "------------\n",
            "[[[0.]\n",
            "  [1.]]\n",
            "\n",
            " [[2.]\n",
            "  [3.]]\n",
            "\n",
            " [[4.]\n",
            "  [5.]]]\n",
            "------------\n",
            "[[[ 0.  1.  2.]\n",
            "  [ 1.  2.  3.]]\n",
            "\n",
            " [[ 5.  6.  7.]\n",
            "  [ 6.  7.  8.]]\n",
            "\n",
            " [[10. 11. 12.]\n",
            "  [11. 12. 13.]]]\n",
            "------------\n",
            "[[[ 0.  0.  0.]\n",
            "  [ 0.  1.  2.]]\n",
            "\n",
            " [[ 6.  8. 10.]\n",
            "  [ 9. 12. 15.]]\n",
            "\n",
            " [[24. 28. 32.]\n",
            "  [30. 35. 40.]]]\n"
          ],
          "name": "stdout"
        }
      ]
    },
    {
      "cell_type": "markdown",
      "metadata": {
        "id": "W__Kg2u5-0_X"
      },
      "source": [
        "#2.2 Data Preprocessing"
      ]
    },
    {
      "cell_type": "markdown",
      "metadata": {
        "id": "Ula6dGuJH_hY"
      },
      "source": [
        "### 2.2.5 Exercises\n",
        "  - Create a raw dataset with more rows and columns.\n",
        "\n"
      ]
    },
    {
      "cell_type": "code",
      "metadata": {
        "colab": {
          "base_uri": "https://localhost:8080/"
        },
        "id": "IyCkNsONH-60",
        "outputId": "3d1eb8a0-5bb6-495b-bf38-53e93aded2c9"
      },
      "source": [
        "import os\n",
        "import pandas as pd\n",
        "from mxnet import np\n",
        "\n",
        "os.makedirs(os.path.join('..','data'), exist_ok=True)\n",
        "data_file = os.path.join('..','data', 'house_normal.csv')\n",
        "with open(data_file, 'w') as f:\n",
        "    f.write('NumRooms,Alley,BathRooms,ParkingLot,Price\\n')\n",
        "    f.write('NA,Pave,NA,Yes,127500\\n')\n",
        "    f.write('2,NA,1,No,116000\\n')\n",
        "    f.write('4,NA,1,Yes,178100\\n')\n",
        "    f.write('NA,NA,NA,NA,140000\\n')\n",
        "    f.write('NA,Pave,NA,No,127500\\n')\n",
        "    f.write('2,Pave,1,Yes,126000\\n')\n",
        "    f.write('4,NA,2,Yes,218100\\n')\n",
        "    f.write('6,NA,NA,NA,250000\\n')\n",
        "data = pd.read_csv(data_file)\n",
        "print(data)"
      ],
      "execution_count": null,
      "outputs": [
        {
          "output_type": "stream",
          "text": [
            "   NumRooms Alley  BathRooms ParkingLot   Price\n",
            "0       NaN  Pave        NaN        Yes  127500\n",
            "1       2.0   NaN        1.0         No  116000\n",
            "2       4.0   NaN        1.0        Yes  178100\n",
            "3       NaN   NaN        NaN        NaN  140000\n",
            "4       NaN  Pave        NaN         No  127500\n",
            "5       2.0  Pave        1.0        Yes  126000\n",
            "6       4.0   NaN        2.0        Yes  218100\n",
            "7       6.0   NaN        NaN        NaN  250000\n"
          ],
          "name": "stdout"
        }
      ]
    },
    {
      "cell_type": "markdown",
      "metadata": {
        "id": "Z-jELXKzIWWT"
      },
      "source": [
        "*   Delete the column with the most missing values."
      ]
    },
    {
      "cell_type": "code",
      "metadata": {
        "colab": {
          "base_uri": "https://localhost:8080/"
        },
        "id": "vSQAdaQxNGbn",
        "outputId": "a50d7b3c-4246-4331-fa5c-497e31c20789"
      },
      "source": [
        "data = data.drop(data.isna().sum().idxmax(),axis=1)\n",
        "print(data)"
      ],
      "execution_count": null,
      "outputs": [
        {
          "output_type": "stream",
          "text": [
            "   NumRooms  BathRooms ParkingLot   Price\n",
            "0       NaN        NaN        Yes  127500\n",
            "1       2.0        1.0         No  116000\n",
            "2       4.0        1.0        Yes  178100\n",
            "3       NaN        NaN        NaN  140000\n",
            "4       NaN        NaN         No  127500\n",
            "5       2.0        1.0        Yes  126000\n",
            "6       4.0        2.0        Yes  218100\n",
            "7       6.0        NaN        NaN  250000\n"
          ],
          "name": "stdout"
        }
      ]
    },
    {
      "cell_type": "markdown",
      "metadata": {
        "id": "uDCopXs3NVHY"
      },
      "source": [
        "* Convert the preprocessed dataset to the tensor format."
      ]
    },
    {
      "cell_type": "code",
      "metadata": {
        "colab": {
          "base_uri": "https://localhost:8080/"
        },
        "id": "2bT_4T06OKfT",
        "outputId": "17fde7fc-591e-4e2d-b8c3-f972ea3dedd0"
      },
      "source": [
        "ins,outs = data.iloc[:,0:3], data.iloc[:,-1]\n",
        "ins = ins.fillna(ins.mean())  # fill out na with mean. For columns whose type isn't numerical, NaN within such columns remains still.\n",
        "ins = pd.get_dummies(ins, dummy_na=True)\n",
        "\n",
        "# Convert preprocessed data to tensor(mxnet.numpy.ndarray)\n",
        "X,y = np.array(ins.values), np.array(outs.values)\n",
        "print(\"X:\\n{}\\n\\ny:\\n{}\".format(X, y))\n",
        "print(f'X format: {type(X)} and Y format: {type(Y)}')"
      ],
      "execution_count": null,
      "outputs": [
        {
          "output_type": "stream",
          "text": [
            "X:\n",
            "[[3.6  1.25 0.   1.   0.  ]\n",
            " [2.   1.   1.   0.   0.  ]\n",
            " [4.   1.   0.   1.   0.  ]\n",
            " [3.6  1.25 0.   0.   1.  ]\n",
            " [3.6  1.25 1.   0.   0.  ]\n",
            " [2.   1.   0.   1.   0.  ]\n",
            " [4.   2.   0.   1.   0.  ]\n",
            " [6.   1.25 0.   0.   1.  ]]\n",
            "\n",
            "y:\n",
            "[127500 116000 178100 140000 127500 126000 218100 250000]\n",
            "X format: <class 'mxnet.numpy.ndarray'> and Y format: <class 'mxnet.numpy.ndarray'>\n"
          ],
          "name": "stdout"
        }
      ]
    },
    {
      "cell_type": "markdown",
      "metadata": {
        "id": "pb7OM8cMSsXl"
      },
      "source": [
        "# 2.3 Linear Algebra"
      ]
    },
    {
      "cell_type": "markdown",
      "metadata": {
        "id": "0CjpPky1y2-F"
      },
      "source": [
        "### 2.3.13 Exercises"
      ]
    },
    {
      "cell_type": "markdown",
      "metadata": {
        "id": "4oc35p8Fy73O"
      },
      "source": [
        "1. Prove that the transpose of a matrix $A$'s transpose is $A:(A^T)^T=A$.\n",
        "  - Let's say there is a random element $a_{ij}$ in $A$, it be $a_{ji}$ once transposed. Transposed again, $a_{ji}$ will be $a_{ij}$. Thus, all elements in $A$ is the same as ones in $(A^T)^T$."
      ]
    },
    {
      "cell_type": "markdown",
      "metadata": {
        "id": "wixih8m9kNSd"
      },
      "source": [
        "2. Given two matrices $A$ and $B$, show that the sum of transpose is equal to the transpose of a sum: $A^T+B^T=(A+B)^T$.\n",
        "  - Let's suppose $A$ and $B$ are matrices $\\in R^{m\\times n}$\n",
        "\\\n",
        "\\\n",
        "$A=\n",
        "\\begin{pmatrix}\n",
        "a_{11}&\\cdots&a_{1n}\\\\\n",
        "\\vdots&\\ddots&\\vdots\\\\\n",
        "a_{m1}&\\cdots&a_{mn}\n",
        "\\end{pmatrix}$,\n",
        "$B=\n",
        "\\begin{pmatrix}\n",
        "b_{11}&\\cdots&b_{1n}\\\\\n",
        "\\vdots&\\ddots&\\vdots\\\\\n",
        "b_{m1}&\\cdots&b_{mn}\n",
        "\\end{pmatrix}$\n",
        "\\\n",
        "\\\n",
        "$A^T+B^T=\n",
        "\\begin{pmatrix}\n",
        "a_{11}&\\cdots&a_{m1}\\\\\n",
        "\\vdots&\\ddots&\\vdots\\\\\n",
        "a_{1n}&\\cdots&a_{mn}\n",
        "\\end{pmatrix}+\n",
        "\\begin{pmatrix}\n",
        "b_{11}&\\cdots&b_{m1}\\\\\n",
        "\\vdots&\\ddots&\\vdots\\\\\n",
        "b_{1n}&\\cdots&b_{mn}\n",
        "\\end{pmatrix}=\n",
        "\\begin{pmatrix}\n",
        "a_{11}+b_{11}&\\cdots&a_{m1}+b_{m1}\\\\\n",
        "\\vdots&\\ddots&\\vdots\\\\\n",
        "a_{1n}+b_{1n}&\\cdots&a_{mn}+b_{mn}\n",
        "\\end{pmatrix}$\n",
        "\\\n",
        "\\\n",
        "$(A+B)^T=\n",
        "\\begin{pmatrix}\n",
        "a_{11}+b_{11}&\\cdots&a_{1n}+b_{1n}\\\\\n",
        "\\vdots&\\ddots&\\vdots\\\\\n",
        "a_{m1}+b_{m1}&\\cdots&a_{mn}+b_{mn}\n",
        "\\end{pmatrix}^T=\n",
        "\\begin{pmatrix}\n",
        "a_{11}+b_{11}&\\cdots&a_{m1}+b_{m1}\\\\\n",
        "\\vdots&\\ddots&\\vdots\\\\\n",
        "a_{1n}+b_{1n}&\\cdots&a_{mn}+b_{mn}\n",
        "\\end{pmatrix}$\n",
        "\\\n",
        "\\\n",
        "Thus, $A^T+B^T = (A+B)^T$"
      ]
    },
    {
      "cell_type": "markdown",
      "metadata": {
        "id": "MjnX2z9aonn8"
      },
      "source": [
        "3. Given any square matrix $A$, is $A+A^T$ always symmetric? Why?\n",
        "  - A definition of being a symmetric matrix is, $A$ is symmetric $\\leftrightarrow A=A^T$: $a_{ij}=a_{ji}$ for every $i$,$j$.\n",
        "  - Given a square matrix $A$, a random element $a_{ij}$ in $A$ is tranposed to $a_{ji}$ in $A^T$. And so $A+A^T$ has $a_{ij}+a_{ji}$ for $i^{th}$ row and $j^{th}$ column.\n",
        "  - A random element $a_{ji}$ in $A$ is tranposed to $a_{ij}$ in $A^T$. And so $A+A^T$ has $a_{ji}+a_{ij}$ for $j^{th}$ row and $i^{th}$ column.\n",
        "  - Because the entry of $i^{th}$ row and $j^{th}$ column and the entry of $j^{th}$ row and $i^{th}$ column are equal, $A+A^T$ is symmetric."
      ]
    },
    {
      "cell_type": "markdown",
      "metadata": {
        "id": "rWRr9JsyAbJ9"
      },
      "source": [
        "4. We defined the tensor X of shape (2, 3, 4) in this section. What is the output of len(X)?\n",
        "  - 2"
      ]
    },
    {
      "cell_type": "code",
      "metadata": {
        "colab": {
          "base_uri": "https://localhost:8080/"
        },
        "id": "iG3PQ5QbAglb",
        "outputId": "5c229660-7e32-4ad3-883a-0bd8e3ea7c47"
      },
      "source": [
        "from mxnet import np\n",
        "X = np.ones(shape=(2,3,4))\n",
        "print(len(X))"
      ],
      "execution_count": null,
      "outputs": [
        {
          "output_type": "stream",
          "text": [
            "2\n"
          ],
          "name": "stdout"
        }
      ]
    },
    {
      "cell_type": "markdown",
      "metadata": {
        "id": "esG11-v-AuuW"
      },
      "source": [
        "5. For a tensor X of arbitrary shape, does len(X) always correspond to the length of a certain axis of X? What is that axis?\n",
        "  - Yes, the very first dimension"
      ]
    },
    {
      "cell_type": "markdown",
      "metadata": {
        "id": "sFyT7LAOBkwy"
      },
      "source": [
        "6. Run A / A.sum(axis=1) and see what happens. Can you analyze the reason?\n",
        "  - This caculation doesn't work because A.sum(axis=1) is a vector of (5,) that lost its axe so it cannot be broadcast to run A / A.sum(axis=1). A.sum(axis=1) has to be reshaped as a matrix of (5,1) for computation."
      ]
    },
    {
      "cell_type": "code",
      "metadata": {
        "colab": {
          "base_uri": "https://localhost:8080/"
        },
        "id": "ndKroYSUBsA7",
        "outputId": "10783450-8fea-4de8-a194-455afea5fd2d"
      },
      "source": [
        "from mxnet import np\n",
        "A = np.arange(20).reshape(5, 4)\n",
        "#print(A/A.sum(axis=1))\n",
        "print(A/A.sum(axis=1).reshape(-1,1))"
      ],
      "execution_count": null,
      "outputs": [
        {
          "output_type": "stream",
          "text": [
            "[[0.         0.16666667 0.33333334 0.5       ]\n",
            " [0.18181819 0.22727273 0.27272728 0.3181818 ]\n",
            " [0.21052632 0.23684211 0.2631579  0.28947368]\n",
            " [0.22222222 0.24074075 0.25925925 0.2777778 ]\n",
            " [0.22857143 0.24285714 0.25714287 0.27142859]]\n"
          ],
          "name": "stdout"
        }
      ]
    },
    {
      "cell_type": "markdown",
      "metadata": {
        "id": "SzYT6ZYoDqYg"
      },
      "source": [
        "7. When traveling between two points in Manhattan, what is the distance that you need to cover in terms of the coordinates, i.e., in terms of avenues and streets? Can you travel diagonally?\n",
        "  - The distance is $\\sqrt{||streets||^2 + ||avenues||^2}$, which is a $L_2$ norm.\n",
        "  - You can travel diagonally if there's no building/structures/obstacles in a way, which is very unlikely in Manhattan."
      ]
    },
    {
      "cell_type": "markdown",
      "metadata": {
        "id": "sNLJ5RpUFIqi"
      },
      "source": [
        "8. Consider a tensor with shape (2, 3, 4). What are the shapes of the summation outputs along axis 0, 1, and 2?\n",
        "  - (3,4), (2,4), (2,3) respectively."
      ]
    },
    {
      "cell_type": "code",
      "metadata": {
        "colab": {
          "base_uri": "https://localhost:8080/"
        },
        "id": "VQmuL_l7FOtt",
        "outputId": "4f45aa50-08de-4e85-b649-3393e9b6a63d"
      },
      "source": [
        "from mxnet import np\n",
        "aTensor = np.ones((2,3,4))\n",
        "print(aTensor.sum(axis=0).shape)\n",
        "print(aTensor.sum(axis=1).shape)\n",
        "print(aTensor.sum(axis=2).shape)"
      ],
      "execution_count": null,
      "outputs": [
        {
          "output_type": "stream",
          "text": [
            "(3, 4)\n",
            "(2, 4)\n",
            "(2, 3)\n"
          ],
          "name": "stdout"
        }
      ]
    },
    {
      "cell_type": "markdown",
      "metadata": {
        "id": "CQHHSZeoFKN2"
      },
      "source": [
        "9. Feed a tensor with 3 or more axes to the linalg.norm function and observe its output. What does this function compute for tensors of arbitrary shape?\n",
        "  - L2 norm for every element in the tensor."
      ]
    },
    {
      "cell_type": "code",
      "metadata": {
        "colab": {
          "base_uri": "https://localhost:8080/"
        },
        "id": "PyM2CxaYFxdh",
        "outputId": "310d863f-cbf2-43ab-d0cf-0cf122291946"
      },
      "source": [
        "from mxnet import np\n",
        "A = np.arange(40).reshape(4,2,5)\n",
        "B = np.ones(shape=(4,2,5))\n",
        "print(np.linalg.norm(A))\n",
        "print(np.linalg.norm(B))"
      ],
      "execution_count": null,
      "outputs": [
        {
          "output_type": "stream",
          "text": [
            "143.31783\n",
            "6.3245554\n"
          ],
          "name": "stdout"
        }
      ]
    },
    {
      "cell_type": "markdown",
      "metadata": {
        "id": "uRAoCxLtGg6D"
      },
      "source": [
        "# 2.4 Calculus"
      ]
    },
    {
      "cell_type": "code",
      "metadata": {
        "colab": {
          "base_uri": "https://localhost:8080/",
          "height": 347
        },
        "id": "5e1wnvveKLxZ",
        "outputId": "b39dd9d2-3f4a-456b-f9b9-01d562a4450c"
      },
      "source": [
        "%matplotlib inline\n",
        "from IPython import display\n",
        "from mxnet import np, npx\n",
        "from d2l import mxnet as d2l\n",
        "\n",
        "npx.set_np()\n",
        "\n",
        "def f(x):\n",
        "    return 3*x**2-4*x\n",
        "\n",
        "def numerical_lim(f,x,h):\n",
        "    return (f(x+h)-f(x))/h\n",
        "\n",
        "h = 0.1\n",
        "for i in range(5):\n",
        "    print(f\"h={h:.5f}, numerical limit={numerical_lim(f,1,h):.5f}\")\n",
        "    h=h*0.1\n",
        "\n",
        "def use_svg_display():\n",
        "    \"\"\"Use the svg format to display a plot in Jupyter.\"\"\"\n",
        "    display.set_matplotlib_formats('svg')\n",
        "    # What is svg file format? Scalable Vector Graphics(svg) is a vector image file format.\n",
        "    # A vector image uses geometric forms such as points, lines, curves and shapes to represent different parts of the image as\n",
        "    # discrete objects. These forms can be individually edited. A vector image remains crisp and clear at any resolution or size.\n",
        "\n",
        "def set_figsize(figsize=(3.5,2.5)):\n",
        "    \"\"\"Set the figure size for matplotlib.\"\"\"\n",
        "    use_svg_display()\n",
        "    d2l.plt.rcParams[\"figure.figsize\"] = figsize\n",
        "    #rcParams means runtime configuration parameters. rcParamas[\"figure.figsize\"] has [6.4, 4.8] as a default figuration size (width, height in inches).\n",
        "\n",
        "def set_axes(axes, xlabel,ylabel,xlim,ylim,xscale,yscale,legend):\n",
        "    \"\"\"Set the axes for matplotlib.\"\"\"\n",
        "    axes.set_xlabel(xlabel)\n",
        "    axes.set_ylabel(ylabel)\n",
        "    axes.set_xscale(xscale) #Set the x-axis scale: (linear, log, symlog, ...)\n",
        "    axes.set_yscale(yscale) #Set the y-axis scale.\n",
        "    axes.set_xlim(xlim) # Set the x-axis view limits.\n",
        "    axes.set_ylim(ylim) # Set the y-axis view limits.\n",
        "    if legend:\n",
        "        axes.legend(legend)\n",
        "    axes.grid() # Whether or not show the grid lines.\n",
        "\n",
        "def plot(X, Y=None, xlabel=None, ylabel=None,legend=None, xlim=None,\n",
        "         ylim=None, xscale='linear',yscale='linear',\n",
        "         fmts=('-','m--','g-.','r:'), figsize=(3.5,2.5),axes=None):\n",
        "    \"\"\"plot data points.\"\"\"\n",
        "    if legend is None:\n",
        "        legend = []\n",
        "  \n",
        "    set_figsize(figsize)\n",
        "    axes = axes if axes else d2l.plt.gca()  # Get the current Axes instance on the current figure matching the given keyword args, or create one.\n",
        "\n",
        "    # Return True if 'X' (tensor or list) has 1 axis\n",
        "    def has_one_axis(X):\n",
        "        return (hasattr(X,'ndim') and X.ndim==1 or isinstance(X,list) and not hasattr(X[0],\"__len__\"))\n",
        "        # The hasattr() method returns true if an object has the given named attribute and false if it does not.\n",
        "\n",
        "    if has_one_axis(X):\n",
        "        X = [X]\n",
        "    if Y is None:\n",
        "        X,Y = [[]] * len(X), X\n",
        "    elif has_one_axis(Y):\n",
        "        Y=[Y]\n",
        "    if len(X) != len(Y):\n",
        "        X = X*len(Y)\n",
        "    axes.cla()  # clear the current axes\n",
        "    for x,y, fmt in zip(X,Y, fmts):\n",
        "        if len(x):\n",
        "            axes.plot(x,y,fmt)\n",
        "        else:\n",
        "            axes.plot(y, fmt)\n",
        "    set_axes(axes,xlabel,ylabel,xlim,ylim,xscale,yscale,legend)\n",
        "\n",
        "x = np.arange(0, 3, 0.1)\n",
        "plot(x, [f(x), 2 * x - 3], 'x', 'f(x)', legend=['f(x)', 'Tangent line (x=1)'])"
      ],
      "execution_count": null,
      "outputs": [
        {
          "output_type": "stream",
          "text": [
            "h=0.10000, numerical limit=2.30000\n",
            "h=0.01000, numerical limit=2.03000\n",
            "h=0.00100, numerical limit=2.00300\n",
            "h=0.00010, numerical limit=2.00030\n",
            "h=0.00001, numerical limit=2.00003\n"
          ],
          "name": "stdout"
        },
        {
          "output_type": "display_data",
          "data": {
            "text/plain": [
              "<Figure size 252x180 with 1 Axes>"
            ],
            "image/svg+xml": "<?xml version=\"1.0\" encoding=\"utf-8\" standalone=\"no\"?>\n<!DOCTYPE svg PUBLIC \"-//W3C//DTD SVG 1.1//EN\"\n  \"http://www.w3.org/Graphics/SVG/1.1/DTD/svg11.dtd\">\n<!-- Created with matplotlib (https://matplotlib.org/) -->\n<svg height=\"180.65625pt\" version=\"1.1\" viewBox=\"0 0 243.529353 180.65625\" width=\"243.529353pt\" xmlns=\"http://www.w3.org/2000/svg\" xmlns:xlink=\"http://www.w3.org/1999/xlink\">\n <defs>\n  <style type=\"text/css\">\n*{stroke-linecap:butt;stroke-linejoin:round;}\n  </style>\n </defs>\n <g id=\"figure_1\">\n  <g id=\"patch_1\">\n   <path d=\"M 0 180.65625 \nL 243.529353 180.65625 \nL 243.529353 0 \nL 0 0 \nz\n\" style=\"fill:none;\"/>\n  </g>\n  <g id=\"axes_1\">\n   <g id=\"patch_2\">\n    <path d=\"M 40.603125 143.1 \nL 235.903125 143.1 \nL 235.903125 7.2 \nL 40.603125 7.2 \nz\n\" style=\"fill:#ffffff;\"/>\n   </g>\n   <g id=\"matplotlib.axis_1\">\n    <g id=\"xtick_1\">\n     <g id=\"line2d_1\">\n      <path clip-path=\"url(#p6fa29f0611)\" d=\"M 49.480398 143.1 \nL 49.480398 7.2 \n\" style=\"fill:none;stroke:#b0b0b0;stroke-linecap:square;stroke-width:0.8;\"/>\n     </g>\n     <g id=\"line2d_2\">\n      <defs>\n       <path d=\"M 0 0 \nL 0 3.5 \n\" id=\"m9e889d984f\" style=\"stroke:#000000;stroke-width:0.8;\"/>\n      </defs>\n      <g>\n       <use style=\"stroke:#000000;stroke-width:0.8;\" x=\"49.480398\" xlink:href=\"#m9e889d984f\" y=\"143.1\"/>\n      </g>\n     </g>\n     <g id=\"text_1\">\n      <!-- 0 -->\n      <defs>\n       <path d=\"M 31.78125 66.40625 \nQ 24.171875 66.40625 20.328125 58.90625 \nQ 16.5 51.421875 16.5 36.375 \nQ 16.5 21.390625 20.328125 13.890625 \nQ 24.171875 6.390625 31.78125 6.390625 \nQ 39.453125 6.390625 43.28125 13.890625 \nQ 47.125 21.390625 47.125 36.375 \nQ 47.125 51.421875 43.28125 58.90625 \nQ 39.453125 66.40625 31.78125 66.40625 \nz\nM 31.78125 74.21875 \nQ 44.046875 74.21875 50.515625 64.515625 \nQ 56.984375 54.828125 56.984375 36.375 \nQ 56.984375 17.96875 50.515625 8.265625 \nQ 44.046875 -1.421875 31.78125 -1.421875 \nQ 19.53125 -1.421875 13.0625 8.265625 \nQ 6.59375 17.96875 6.59375 36.375 \nQ 6.59375 54.828125 13.0625 64.515625 \nQ 19.53125 74.21875 31.78125 74.21875 \nz\n\" id=\"DejaVuSans-48\"/>\n      </defs>\n      <g transform=\"translate(46.299148 157.698438)scale(0.1 -0.1)\">\n       <use xlink:href=\"#DejaVuSans-48\"/>\n      </g>\n     </g>\n    </g>\n    <g id=\"xtick_2\">\n     <g id=\"line2d_3\">\n      <path clip-path=\"url(#p6fa29f0611)\" d=\"M 110.702966 143.1 \nL 110.702966 7.2 \n\" style=\"fill:none;stroke:#b0b0b0;stroke-linecap:square;stroke-width:0.8;\"/>\n     </g>\n     <g id=\"line2d_4\">\n      <g>\n       <use style=\"stroke:#000000;stroke-width:0.8;\" x=\"110.702966\" xlink:href=\"#m9e889d984f\" y=\"143.1\"/>\n      </g>\n     </g>\n     <g id=\"text_2\">\n      <!-- 1 -->\n      <defs>\n       <path d=\"M 12.40625 8.296875 \nL 28.515625 8.296875 \nL 28.515625 63.921875 \nL 10.984375 60.40625 \nL 10.984375 69.390625 \nL 28.421875 72.90625 \nL 38.28125 72.90625 \nL 38.28125 8.296875 \nL 54.390625 8.296875 \nL 54.390625 0 \nL 12.40625 0 \nz\n\" id=\"DejaVuSans-49\"/>\n      </defs>\n      <g transform=\"translate(107.521716 157.698438)scale(0.1 -0.1)\">\n       <use xlink:href=\"#DejaVuSans-49\"/>\n      </g>\n     </g>\n    </g>\n    <g id=\"xtick_3\">\n     <g id=\"line2d_5\">\n      <path clip-path=\"url(#p6fa29f0611)\" d=\"M 171.925535 143.1 \nL 171.925535 7.2 \n\" style=\"fill:none;stroke:#b0b0b0;stroke-linecap:square;stroke-width:0.8;\"/>\n     </g>\n     <g id=\"line2d_6\">\n      <g>\n       <use style=\"stroke:#000000;stroke-width:0.8;\" x=\"171.925535\" xlink:href=\"#m9e889d984f\" y=\"143.1\"/>\n      </g>\n     </g>\n     <g id=\"text_3\">\n      <!-- 2 -->\n      <defs>\n       <path d=\"M 19.1875 8.296875 \nL 53.609375 8.296875 \nL 53.609375 0 \nL 7.328125 0 \nL 7.328125 8.296875 \nQ 12.9375 14.109375 22.625 23.890625 \nQ 32.328125 33.6875 34.8125 36.53125 \nQ 39.546875 41.84375 41.421875 45.53125 \nQ 43.3125 49.21875 43.3125 52.78125 \nQ 43.3125 58.59375 39.234375 62.25 \nQ 35.15625 65.921875 28.609375 65.921875 \nQ 23.96875 65.921875 18.8125 64.3125 \nQ 13.671875 62.703125 7.8125 59.421875 \nL 7.8125 69.390625 \nQ 13.765625 71.78125 18.9375 73 \nQ 24.125 74.21875 28.421875 74.21875 \nQ 39.75 74.21875 46.484375 68.546875 \nQ 53.21875 62.890625 53.21875 53.421875 \nQ 53.21875 48.921875 51.53125 44.890625 \nQ 49.859375 40.875 45.40625 35.40625 \nQ 44.1875 33.984375 37.640625 27.21875 \nQ 31.109375 20.453125 19.1875 8.296875 \nz\n\" id=\"DejaVuSans-50\"/>\n      </defs>\n      <g transform=\"translate(168.744285 157.698438)scale(0.1 -0.1)\">\n       <use xlink:href=\"#DejaVuSans-50\"/>\n      </g>\n     </g>\n    </g>\n    <g id=\"xtick_4\">\n     <g id=\"line2d_7\">\n      <path clip-path=\"url(#p6fa29f0611)\" d=\"M 233.148103 143.1 \nL 233.148103 7.2 \n\" style=\"fill:none;stroke:#b0b0b0;stroke-linecap:square;stroke-width:0.8;\"/>\n     </g>\n     <g id=\"line2d_8\">\n      <g>\n       <use style=\"stroke:#000000;stroke-width:0.8;\" x=\"233.148103\" xlink:href=\"#m9e889d984f\" y=\"143.1\"/>\n      </g>\n     </g>\n     <g id=\"text_4\">\n      <!-- 3 -->\n      <defs>\n       <path d=\"M 40.578125 39.3125 \nQ 47.65625 37.796875 51.625 33 \nQ 55.609375 28.21875 55.609375 21.1875 \nQ 55.609375 10.40625 48.1875 4.484375 \nQ 40.765625 -1.421875 27.09375 -1.421875 \nQ 22.515625 -1.421875 17.65625 -0.515625 \nQ 12.796875 0.390625 7.625 2.203125 \nL 7.625 11.71875 \nQ 11.71875 9.328125 16.59375 8.109375 \nQ 21.484375 6.890625 26.8125 6.890625 \nQ 36.078125 6.890625 40.9375 10.546875 \nQ 45.796875 14.203125 45.796875 21.1875 \nQ 45.796875 27.640625 41.28125 31.265625 \nQ 36.765625 34.90625 28.71875 34.90625 \nL 20.21875 34.90625 \nL 20.21875 43.015625 \nL 29.109375 43.015625 \nQ 36.375 43.015625 40.234375 45.921875 \nQ 44.09375 48.828125 44.09375 54.296875 \nQ 44.09375 59.90625 40.109375 62.90625 \nQ 36.140625 65.921875 28.71875 65.921875 \nQ 24.65625 65.921875 20.015625 65.03125 \nQ 15.375 64.15625 9.8125 62.3125 \nL 9.8125 71.09375 \nQ 15.4375 72.65625 20.34375 73.4375 \nQ 25.25 74.21875 29.59375 74.21875 \nQ 40.828125 74.21875 47.359375 69.109375 \nQ 53.90625 64.015625 53.90625 55.328125 \nQ 53.90625 49.265625 50.4375 45.09375 \nQ 46.96875 40.921875 40.578125 39.3125 \nz\n\" id=\"DejaVuSans-51\"/>\n      </defs>\n      <g transform=\"translate(229.966853 157.698438)scale(0.1 -0.1)\">\n       <use xlink:href=\"#DejaVuSans-51\"/>\n      </g>\n     </g>\n    </g>\n    <g id=\"text_5\">\n     <!-- x -->\n     <defs>\n      <path d=\"M 54.890625 54.6875 \nL 35.109375 28.078125 \nL 55.90625 0 \nL 45.3125 0 \nL 29.390625 21.484375 \nL 13.484375 0 \nL 2.875 0 \nL 24.125 28.609375 \nL 4.6875 54.6875 \nL 15.28125 54.6875 \nL 29.78125 35.203125 \nL 44.28125 54.6875 \nz\n\" id=\"DejaVuSans-120\"/>\n     </defs>\n     <g transform=\"translate(135.29375 171.376563)scale(0.1 -0.1)\">\n      <use xlink:href=\"#DejaVuSans-120\"/>\n     </g>\n    </g>\n   </g>\n   <g id=\"matplotlib.axis_2\">\n    <g id=\"ytick_1\">\n     <g id=\"line2d_9\">\n      <path clip-path=\"url(#p6fa29f0611)\" d=\"M 40.603125 114.635518 \nL 235.903125 114.635518 \n\" style=\"fill:none;stroke:#b0b0b0;stroke-linecap:square;stroke-width:0.8;\"/>\n     </g>\n     <g id=\"line2d_10\">\n      <defs>\n       <path d=\"M 0 0 \nL -3.5 0 \n\" id=\"m8754e1d539\" style=\"stroke:#000000;stroke-width:0.8;\"/>\n      </defs>\n      <g>\n       <use style=\"stroke:#000000;stroke-width:0.8;\" x=\"40.603125\" xlink:href=\"#m8754e1d539\" y=\"114.635518\"/>\n      </g>\n     </g>\n     <g id=\"text_6\">\n      <!-- 0 -->\n      <g transform=\"translate(27.240625 118.434736)scale(0.1 -0.1)\">\n       <use xlink:href=\"#DejaVuSans-48\"/>\n      </g>\n     </g>\n    </g>\n    <g id=\"ytick_2\">\n     <g id=\"line2d_11\">\n      <path clip-path=\"url(#p6fa29f0611)\" d=\"M 40.603125 77.490168 \nL 235.903125 77.490168 \n\" style=\"fill:none;stroke:#b0b0b0;stroke-linecap:square;stroke-width:0.8;\"/>\n     </g>\n     <g id=\"line2d_12\">\n      <g>\n       <use style=\"stroke:#000000;stroke-width:0.8;\" x=\"40.603125\" xlink:href=\"#m8754e1d539\" y=\"77.490168\"/>\n      </g>\n     </g>\n     <g id=\"text_7\">\n      <!-- 5 -->\n      <defs>\n       <path d=\"M 10.796875 72.90625 \nL 49.515625 72.90625 \nL 49.515625 64.59375 \nL 19.828125 64.59375 \nL 19.828125 46.734375 \nQ 21.96875 47.46875 24.109375 47.828125 \nQ 26.265625 48.1875 28.421875 48.1875 \nQ 40.625 48.1875 47.75 41.5 \nQ 54.890625 34.8125 54.890625 23.390625 \nQ 54.890625 11.625 47.5625 5.09375 \nQ 40.234375 -1.421875 26.90625 -1.421875 \nQ 22.3125 -1.421875 17.546875 -0.640625 \nQ 12.796875 0.140625 7.71875 1.703125 \nL 7.71875 11.625 \nQ 12.109375 9.234375 16.796875 8.0625 \nQ 21.484375 6.890625 26.703125 6.890625 \nQ 35.15625 6.890625 40.078125 11.328125 \nQ 45.015625 15.765625 45.015625 23.390625 \nQ 45.015625 31 40.078125 35.4375 \nQ 35.15625 39.890625 26.703125 39.890625 \nQ 22.75 39.890625 18.8125 39.015625 \nQ 14.890625 38.140625 10.796875 36.28125 \nz\n\" id=\"DejaVuSans-53\"/>\n      </defs>\n      <g transform=\"translate(27.240625 81.289387)scale(0.1 -0.1)\">\n       <use xlink:href=\"#DejaVuSans-53\"/>\n      </g>\n     </g>\n    </g>\n    <g id=\"ytick_3\">\n     <g id=\"line2d_13\">\n      <path clip-path=\"url(#p6fa29f0611)\" d=\"M 40.603125 40.344819 \nL 235.903125 40.344819 \n\" style=\"fill:none;stroke:#b0b0b0;stroke-linecap:square;stroke-width:0.8;\"/>\n     </g>\n     <g id=\"line2d_14\">\n      <g>\n       <use style=\"stroke:#000000;stroke-width:0.8;\" x=\"40.603125\" xlink:href=\"#m8754e1d539\" y=\"40.344819\"/>\n      </g>\n     </g>\n     <g id=\"text_8\">\n      <!-- 10 -->\n      <g transform=\"translate(20.878125 44.144037)scale(0.1 -0.1)\">\n       <use xlink:href=\"#DejaVuSans-49\"/>\n       <use x=\"63.623047\" xlink:href=\"#DejaVuSans-48\"/>\n      </g>\n     </g>\n    </g>\n    <g id=\"text_9\">\n     <!-- f(x) -->\n     <defs>\n      <path d=\"M 37.109375 75.984375 \nL 37.109375 68.5 \nL 28.515625 68.5 \nQ 23.6875 68.5 21.796875 66.546875 \nQ 19.921875 64.59375 19.921875 59.515625 \nL 19.921875 54.6875 \nL 34.71875 54.6875 \nL 34.71875 47.703125 \nL 19.921875 47.703125 \nL 19.921875 0 \nL 10.890625 0 \nL 10.890625 47.703125 \nL 2.296875 47.703125 \nL 2.296875 54.6875 \nL 10.890625 54.6875 \nL 10.890625 58.5 \nQ 10.890625 67.625 15.140625 71.796875 \nQ 19.390625 75.984375 28.609375 75.984375 \nz\n\" id=\"DejaVuSans-102\"/>\n      <path d=\"M 31 75.875 \nQ 24.46875 64.65625 21.28125 53.65625 \nQ 18.109375 42.671875 18.109375 31.390625 \nQ 18.109375 20.125 21.3125 9.0625 \nQ 24.515625 -2 31 -13.1875 \nL 23.1875 -13.1875 \nQ 15.875 -1.703125 12.234375 9.375 \nQ 8.59375 20.453125 8.59375 31.390625 \nQ 8.59375 42.28125 12.203125 53.3125 \nQ 15.828125 64.359375 23.1875 75.875 \nz\n\" id=\"DejaVuSans-40\"/>\n      <path d=\"M 8.015625 75.875 \nL 15.828125 75.875 \nQ 23.140625 64.359375 26.78125 53.3125 \nQ 30.421875 42.28125 30.421875 31.390625 \nQ 30.421875 20.453125 26.78125 9.375 \nQ 23.140625 -1.703125 15.828125 -13.1875 \nL 8.015625 -13.1875 \nQ 14.5 -2 17.703125 9.0625 \nQ 20.90625 20.125 20.90625 31.390625 \nQ 20.90625 42.671875 17.703125 53.65625 \nQ 14.5 64.65625 8.015625 75.875 \nz\n\" id=\"DejaVuSans-41\"/>\n     </defs>\n     <g transform=\"translate(14.798437 83.771094)rotate(-90)scale(0.1 -0.1)\">\n      <use xlink:href=\"#DejaVuSans-102\"/>\n      <use x=\"35.205078\" xlink:href=\"#DejaVuSans-40\"/>\n      <use x=\"74.21875\" xlink:href=\"#DejaVuSans-120\"/>\n      <use x=\"133.398438\" xlink:href=\"#DejaVuSans-41\"/>\n     </g>\n    </g>\n   </g>\n   <g id=\"line2d_15\">\n    <path clip-path=\"url(#p6fa29f0611)\" d=\"M 49.480398 114.635518 \nL 55.602655 117.384273 \nL 61.724912 119.687285 \nL 67.847169 121.544553 \nL 73.969426 122.956076 \nL 80.091682 123.921855 \nL 86.21394 124.44189 \nL 92.336195 124.516181 \nL 98.458453 124.144727 \nL 104.580712 123.327528 \nL 110.702966 122.064587 \nL 116.825225 120.355901 \nL 122.947483 118.201471 \nL 129.069741 115.601294 \nL 135.191992 112.55538 \nL 141.314251 109.063715 \nL 147.436509 105.126307 \nL 153.558767 100.743158 \nL 159.681025 95.914254 \nL 165.803276 90.639622 \nL 171.925535 84.919238 \nL 178.0478 78.753096 \nL 184.170051 72.141236 \nL 190.292302 65.083621 \nL 196.414568 57.580258 \nL 202.536819 49.631156 \nL 208.659085 41.236292 \nL 214.781336 32.395709 \nL 220.903587 23.109386 \nL 227.025852 13.377273 \n\" style=\"fill:none;stroke:#1f77b4;stroke-linecap:square;stroke-width:1.5;\"/>\n   </g>\n   <g id=\"line2d_16\">\n    <path clip-path=\"url(#p6fa29f0611)\" d=\"M 49.480398 136.922727 \nL 55.602655 135.436913 \nL 61.724912 133.951099 \nL 67.847169 132.465286 \nL 73.969426 130.979472 \nL 80.091682 129.493657 \nL 86.21394 128.007843 \nL 92.336195 126.52203 \nL 98.458453 125.036215 \nL 104.580712 123.550401 \nL 110.702966 122.064587 \nL 116.825225 120.578773 \nL 122.947483 119.092959 \nL 129.069741 117.607144 \nL 135.191992 116.121332 \nL 141.314251 114.635518 \nL 147.436509 113.149703 \nL 153.558767 111.663889 \nL 159.681025 110.178075 \nL 165.803276 108.692262 \nL 171.925535 107.206448 \nL 178.0478 105.720632 \nL 184.170051 104.234819 \nL 190.292302 102.749006 \nL 196.414568 101.26319 \nL 202.536819 99.777378 \nL 208.659085 98.291562 \nL 214.781336 96.805749 \nL 220.903587 95.319937 \nL 227.025852 93.83412 \n\" style=\"fill:none;stroke:#bf00bf;stroke-dasharray:5.55,2.4;stroke-dashoffset:0;stroke-width:1.5;\"/>\n   </g>\n   <g id=\"patch_3\">\n    <path d=\"M 40.603125 143.1 \nL 40.603125 7.2 \n\" style=\"fill:none;stroke:#000000;stroke-linecap:square;stroke-linejoin:miter;stroke-width:0.8;\"/>\n   </g>\n   <g id=\"patch_4\">\n    <path d=\"M 235.903125 143.1 \nL 235.903125 7.2 \n\" style=\"fill:none;stroke:#000000;stroke-linecap:square;stroke-linejoin:miter;stroke-width:0.8;\"/>\n   </g>\n   <g id=\"patch_5\">\n    <path d=\"M 40.603125 143.1 \nL 235.903125 143.1 \n\" style=\"fill:none;stroke:#000000;stroke-linecap:square;stroke-linejoin:miter;stroke-width:0.8;\"/>\n   </g>\n   <g id=\"patch_6\">\n    <path d=\"M 40.603125 7.2 \nL 235.903125 7.2 \n\" style=\"fill:none;stroke:#000000;stroke-linecap:square;stroke-linejoin:miter;stroke-width:0.8;\"/>\n   </g>\n   <g id=\"legend_1\">\n    <g id=\"patch_7\">\n     <path d=\"M 47.603125 44.55625 \nL 172.153125 44.55625 \nQ 174.153125 44.55625 174.153125 42.55625 \nL 174.153125 14.2 \nQ 174.153125 12.2 172.153125 12.2 \nL 47.603125 12.2 \nQ 45.603125 12.2 45.603125 14.2 \nL 45.603125 42.55625 \nQ 45.603125 44.55625 47.603125 44.55625 \nz\n\" style=\"fill:#ffffff;opacity:0.8;stroke:#cccccc;stroke-linejoin:miter;\"/>\n    </g>\n    <g id=\"line2d_17\">\n     <path d=\"M 49.603125 20.298437 \nL 69.603125 20.298437 \n\" style=\"fill:none;stroke:#1f77b4;stroke-linecap:square;stroke-width:1.5;\"/>\n    </g>\n    <g id=\"line2d_18\"/>\n    <g id=\"text_10\">\n     <!-- f(x) -->\n     <g transform=\"translate(77.603125 23.798437)scale(0.1 -0.1)\">\n      <use xlink:href=\"#DejaVuSans-102\"/>\n      <use x=\"35.205078\" xlink:href=\"#DejaVuSans-40\"/>\n      <use x=\"74.21875\" xlink:href=\"#DejaVuSans-120\"/>\n      <use x=\"133.398438\" xlink:href=\"#DejaVuSans-41\"/>\n     </g>\n    </g>\n    <g id=\"line2d_19\">\n     <path d=\"M 49.603125 34.976562 \nL 69.603125 34.976562 \n\" style=\"fill:none;stroke:#bf00bf;stroke-dasharray:5.55,2.4;stroke-dashoffset:0;stroke-width:1.5;\"/>\n    </g>\n    <g id=\"line2d_20\"/>\n    <g id=\"text_11\">\n     <!-- Tangent line (x=1) -->\n     <defs>\n      <path d=\"M -0.296875 72.90625 \nL 61.375 72.90625 \nL 61.375 64.59375 \nL 35.5 64.59375 \nL 35.5 0 \nL 25.59375 0 \nL 25.59375 64.59375 \nL -0.296875 64.59375 \nz\n\" id=\"DejaVuSans-84\"/>\n      <path d=\"M 34.28125 27.484375 \nQ 23.390625 27.484375 19.1875 25 \nQ 14.984375 22.515625 14.984375 16.5 \nQ 14.984375 11.71875 18.140625 8.90625 \nQ 21.296875 6.109375 26.703125 6.109375 \nQ 34.1875 6.109375 38.703125 11.40625 \nQ 43.21875 16.703125 43.21875 25.484375 \nL 43.21875 27.484375 \nz\nM 52.203125 31.203125 \nL 52.203125 0 \nL 43.21875 0 \nL 43.21875 8.296875 \nQ 40.140625 3.328125 35.546875 0.953125 \nQ 30.953125 -1.421875 24.3125 -1.421875 \nQ 15.921875 -1.421875 10.953125 3.296875 \nQ 6 8.015625 6 15.921875 \nQ 6 25.140625 12.171875 29.828125 \nQ 18.359375 34.515625 30.609375 34.515625 \nL 43.21875 34.515625 \nL 43.21875 35.40625 \nQ 43.21875 41.609375 39.140625 45 \nQ 35.0625 48.390625 27.6875 48.390625 \nQ 23 48.390625 18.546875 47.265625 \nQ 14.109375 46.140625 10.015625 43.890625 \nL 10.015625 52.203125 \nQ 14.9375 54.109375 19.578125 55.046875 \nQ 24.21875 56 28.609375 56 \nQ 40.484375 56 46.34375 49.84375 \nQ 52.203125 43.703125 52.203125 31.203125 \nz\n\" id=\"DejaVuSans-97\"/>\n      <path d=\"M 54.890625 33.015625 \nL 54.890625 0 \nL 45.90625 0 \nL 45.90625 32.71875 \nQ 45.90625 40.484375 42.875 44.328125 \nQ 39.84375 48.1875 33.796875 48.1875 \nQ 26.515625 48.1875 22.3125 43.546875 \nQ 18.109375 38.921875 18.109375 30.90625 \nL 18.109375 0 \nL 9.078125 0 \nL 9.078125 54.6875 \nL 18.109375 54.6875 \nL 18.109375 46.1875 \nQ 21.34375 51.125 25.703125 53.5625 \nQ 30.078125 56 35.796875 56 \nQ 45.21875 56 50.046875 50.171875 \nQ 54.890625 44.34375 54.890625 33.015625 \nz\n\" id=\"DejaVuSans-110\"/>\n      <path d=\"M 45.40625 27.984375 \nQ 45.40625 37.75 41.375 43.109375 \nQ 37.359375 48.484375 30.078125 48.484375 \nQ 22.859375 48.484375 18.828125 43.109375 \nQ 14.796875 37.75 14.796875 27.984375 \nQ 14.796875 18.265625 18.828125 12.890625 \nQ 22.859375 7.515625 30.078125 7.515625 \nQ 37.359375 7.515625 41.375 12.890625 \nQ 45.40625 18.265625 45.40625 27.984375 \nz\nM 54.390625 6.78125 \nQ 54.390625 -7.171875 48.1875 -13.984375 \nQ 42 -20.796875 29.203125 -20.796875 \nQ 24.46875 -20.796875 20.265625 -20.09375 \nQ 16.0625 -19.390625 12.109375 -17.921875 \nL 12.109375 -9.1875 \nQ 16.0625 -11.328125 19.921875 -12.34375 \nQ 23.78125 -13.375 27.78125 -13.375 \nQ 36.625 -13.375 41.015625 -8.765625 \nQ 45.40625 -4.15625 45.40625 5.171875 \nL 45.40625 9.625 \nQ 42.625 4.78125 38.28125 2.390625 \nQ 33.9375 0 27.875 0 \nQ 17.828125 0 11.671875 7.65625 \nQ 5.515625 15.328125 5.515625 27.984375 \nQ 5.515625 40.671875 11.671875 48.328125 \nQ 17.828125 56 27.875 56 \nQ 33.9375 56 38.28125 53.609375 \nQ 42.625 51.21875 45.40625 46.390625 \nL 45.40625 54.6875 \nL 54.390625 54.6875 \nz\n\" id=\"DejaVuSans-103\"/>\n      <path d=\"M 56.203125 29.59375 \nL 56.203125 25.203125 \nL 14.890625 25.203125 \nQ 15.484375 15.921875 20.484375 11.0625 \nQ 25.484375 6.203125 34.421875 6.203125 \nQ 39.59375 6.203125 44.453125 7.46875 \nQ 49.3125 8.734375 54.109375 11.28125 \nL 54.109375 2.78125 \nQ 49.265625 0.734375 44.1875 -0.34375 \nQ 39.109375 -1.421875 33.890625 -1.421875 \nQ 20.796875 -1.421875 13.15625 6.1875 \nQ 5.515625 13.8125 5.515625 26.8125 \nQ 5.515625 40.234375 12.765625 48.109375 \nQ 20.015625 56 32.328125 56 \nQ 43.359375 56 49.78125 48.890625 \nQ 56.203125 41.796875 56.203125 29.59375 \nz\nM 47.21875 32.234375 \nQ 47.125 39.59375 43.09375 43.984375 \nQ 39.0625 48.390625 32.421875 48.390625 \nQ 24.90625 48.390625 20.390625 44.140625 \nQ 15.875 39.890625 15.1875 32.171875 \nz\n\" id=\"DejaVuSans-101\"/>\n      <path d=\"M 18.3125 70.21875 \nL 18.3125 54.6875 \nL 36.8125 54.6875 \nL 36.8125 47.703125 \nL 18.3125 47.703125 \nL 18.3125 18.015625 \nQ 18.3125 11.328125 20.140625 9.421875 \nQ 21.96875 7.515625 27.59375 7.515625 \nL 36.8125 7.515625 \nL 36.8125 0 \nL 27.59375 0 \nQ 17.1875 0 13.234375 3.875 \nQ 9.28125 7.765625 9.28125 18.015625 \nL 9.28125 47.703125 \nL 2.6875 47.703125 \nL 2.6875 54.6875 \nL 9.28125 54.6875 \nL 9.28125 70.21875 \nz\n\" id=\"DejaVuSans-116\"/>\n      <path id=\"DejaVuSans-32\"/>\n      <path d=\"M 9.421875 75.984375 \nL 18.40625 75.984375 \nL 18.40625 0 \nL 9.421875 0 \nz\n\" id=\"DejaVuSans-108\"/>\n      <path d=\"M 9.421875 54.6875 \nL 18.40625 54.6875 \nL 18.40625 0 \nL 9.421875 0 \nz\nM 9.421875 75.984375 \nL 18.40625 75.984375 \nL 18.40625 64.59375 \nL 9.421875 64.59375 \nz\n\" id=\"DejaVuSans-105\"/>\n      <path d=\"M 10.59375 45.40625 \nL 73.1875 45.40625 \nL 73.1875 37.203125 \nL 10.59375 37.203125 \nz\nM 10.59375 25.484375 \nL 73.1875 25.484375 \nL 73.1875 17.1875 \nL 10.59375 17.1875 \nz\n\" id=\"DejaVuSans-61\"/>\n     </defs>\n     <g transform=\"translate(77.603125 38.476562)scale(0.1 -0.1)\">\n      <use xlink:href=\"#DejaVuSans-84\"/>\n      <use x=\"44.583984\" xlink:href=\"#DejaVuSans-97\"/>\n      <use x=\"105.863281\" xlink:href=\"#DejaVuSans-110\"/>\n      <use x=\"169.242188\" xlink:href=\"#DejaVuSans-103\"/>\n      <use x=\"232.71875\" xlink:href=\"#DejaVuSans-101\"/>\n      <use x=\"294.242188\" xlink:href=\"#DejaVuSans-110\"/>\n      <use x=\"357.621094\" xlink:href=\"#DejaVuSans-116\"/>\n      <use x=\"396.830078\" xlink:href=\"#DejaVuSans-32\"/>\n      <use x=\"428.617188\" xlink:href=\"#DejaVuSans-108\"/>\n      <use x=\"456.400391\" xlink:href=\"#DejaVuSans-105\"/>\n      <use x=\"484.183594\" xlink:href=\"#DejaVuSans-110\"/>\n      <use x=\"547.5625\" xlink:href=\"#DejaVuSans-101\"/>\n      <use x=\"609.085938\" xlink:href=\"#DejaVuSans-32\"/>\n      <use x=\"640.873047\" xlink:href=\"#DejaVuSans-40\"/>\n      <use x=\"679.886719\" xlink:href=\"#DejaVuSans-120\"/>\n      <use x=\"739.066406\" xlink:href=\"#DejaVuSans-61\"/>\n      <use x=\"822.855469\" xlink:href=\"#DejaVuSans-49\"/>\n      <use x=\"886.478516\" xlink:href=\"#DejaVuSans-41\"/>\n     </g>\n    </g>\n   </g>\n  </g>\n </g>\n <defs>\n  <clipPath id=\"p6fa29f0611\">\n   <rect height=\"135.9\" width=\"195.3\" x=\"40.603125\" y=\"7.2\"/>\n  </clipPath>\n </defs>\n</svg>\n"
          },
          "metadata": {
            "tags": [],
            "needs_background": "light"
          }
        }
      ]
    },
    {
      "cell_type": "markdown",
      "metadata": {
        "id": "RgcM2-zQ4W_H"
      },
      "source": [
        "###2.4.6 Exercises"
      ]
    },
    {
      "cell_type": "markdown",
      "metadata": {
        "id": "mcBwDwJN4f71"
      },
      "source": [
        "1. Plot the function  $y=f(x)=x^3−\\frac{1}{x}$  and its tangent line when  $x=1$."
      ]
    },
    {
      "cell_type": "code",
      "metadata": {
        "colab": {
          "base_uri": "https://localhost:8080/",
          "height": 262
        },
        "id": "BYFc0_D94dMf",
        "outputId": "171b2829-d006-4f32-84a8-7c9aa87cb06f"
      },
      "source": [
        "%matplotlib inline\n",
        "from IPython import display\n",
        "from mxnet import np, npx\n",
        "from d2l import mxnet as d2l\n",
        "\n",
        "npx.set_np()\n",
        "\n",
        "def f(x):\n",
        "    return x**3-1/x\n",
        "\n",
        "\n",
        "def use_svg_display():\n",
        "    \"\"\"Use the svg format to display a plot in Jupyter. The svg format stands for Scalable Vector Graphics, and is a vector image file format. \n",
        "    A vector image uses geometric forms such as points, lines, curves and shapes to represent different parts of the image as discrete objects.\n",
        "    These forms can be individually edited. A vector image remains crisp and clear at any resolution or size.\"\"\"\n",
        "    display.set_matplotlib_formats('svg')\n",
        "\n",
        "\n",
        "def set_figsize(figsize):\n",
        "    \"\"\"Set the figure size for matpotlib.\"\"\"\n",
        "    use_svg_display()\n",
        "    d2l.plt.rcParams[\"figure.figsize\"] = figsize\n",
        "    #rcParams means runtime configuration parameters. rcParams[\"figure.figsize\"] has [6.4,4.8] as a default figuration size(width,height in inches).\n",
        "\n",
        "\n",
        "def set_axes(axes, xlabel, ylabel, xlim, ylim, xscale, yscale, legend):\n",
        "    \"\"\"Set the axes for matplotlib.\"\"\"\n",
        "    axes.set_xlabel(xlabel)\n",
        "    axes.set_ylabel(ylabel)\n",
        "    axes.set_xscale(xscale) # Set the x-axis scale: linear, log, symlog, ...\n",
        "    axes.set_yscale(yscale) # Set the y-axis scale\n",
        "    axes.set_xlim(xlim)\n",
        "    axes.set_ylim(ylim)\n",
        "    if legend:\n",
        "        axes.legend(legend)\n",
        "    axes.grid() # Whether or not show th grid lines.\n",
        "\n",
        "\n",
        "def has_one_axis(X):\n",
        "    \"\"\"Return True if 'X' either (X has a single dimension) or (X is list and X[0] not have __len__ attribute)'\"\"\"\n",
        "    return (hasattr(X,'ndim') and X.ndim==1 or isinstance(X,list) and not hasattr(X[0],\"__len__\"))\n",
        "\n",
        "\n",
        "def plot(X, Y=None, xlabel=None, ylabel=None, legend=None, xlim=None, ylim=None, xscale='linear', yscale='linear',fmts=('-','m--'), figsize=(3.5,2.5), axes=None):\n",
        "    \"\"\"Plot data points.\"\"\"\n",
        "    if legend is None:\n",
        "        legend = []\n",
        "    \n",
        "    set_figsize(figsize)\n",
        "    axes = axes if axes else d2l.plt.gca()  # Get the current axes instance on the current figure matching the given kwargs, or create one.\n",
        "\n",
        "    if has_one_axis(X):\n",
        "        X = [X]\n",
        "    if Y is None:\n",
        "        X,Y = [[]] * len(X), X\n",
        "    elif has_one_axis(Y):\n",
        "        Y = [Y]\n",
        "    if len(X) != len(Y):\n",
        "        X = X*len(Y)\n",
        "    axes.cla()  # Clear the current axes\n",
        "\n",
        "    for x,y,fmt in zip(X,Y,fmts):\n",
        "        if len(x):\n",
        "            axes.plot(x,y,fmt)\n",
        "        else:\n",
        "            axes.plot(y, fmt)\n",
        "    set_axes(axes,xlabel,ylabel,xlim,ylim,xscale,yscale,legend)\n",
        "\n",
        "x = np.arange(0.5,2,0.005)\n",
        "plot(x, [f(x), 4*x-4],'x', 'f(x)', legend=['f(x)', 'Tangent line(x=1)'])"
      ],
      "execution_count": null,
      "outputs": [
        {
          "output_type": "display_data",
          "data": {
            "text/plain": [
              "<Figure size 252x180 with 1 Axes>"
            ],
            "image/svg+xml": "<?xml version=\"1.0\" encoding=\"utf-8\" standalone=\"no\"?>\n<!DOCTYPE svg PUBLIC \"-//W3C//DTD SVG 1.1//EN\"\n  \"http://www.w3.org/Graphics/SVG/1.1/DTD/svg11.dtd\">\n<!-- Created with matplotlib (https://matplotlib.org/) -->\n<svg height=\"180.65625pt\" version=\"1.1\" viewBox=\"0 0 245.120313 180.65625\" width=\"245.120313pt\" xmlns=\"http://www.w3.org/2000/svg\" xmlns:xlink=\"http://www.w3.org/1999/xlink\">\n <defs>\n  <style type=\"text/css\">\n*{stroke-linecap:butt;stroke-linejoin:round;}\n  </style>\n </defs>\n <g id=\"figure_1\">\n  <g id=\"patch_1\">\n   <path d=\"M 0 180.65625 \nL 245.120313 180.65625 \nL 245.120313 0 \nL 0 0 \nz\n\" style=\"fill:none;\"/>\n  </g>\n  <g id=\"axes_1\">\n   <g id=\"patch_2\">\n    <path d=\"M 42.620312 143.1 \nL 237.920313 143.1 \nL 237.920313 7.2 \nL 42.620312 7.2 \nz\n\" style=\"fill:#ffffff;\"/>\n   </g>\n   <g id=\"matplotlib.axis_1\">\n    <g id=\"xtick_1\">\n     <g id=\"line2d_1\">\n      <path clip-path=\"url(#pf8c59d344f)\" d=\"M 51.497585 143.1 \nL 51.497585 7.2 \n\" style=\"fill:none;stroke:#b0b0b0;stroke-linecap:square;stroke-width:0.8;\"/>\n     </g>\n     <g id=\"line2d_2\">\n      <defs>\n       <path d=\"M 0 0 \nL 0 3.5 \n\" id=\"m6f688060d6\" style=\"stroke:#000000;stroke-width:0.8;\"/>\n      </defs>\n      <g>\n       <use style=\"stroke:#000000;stroke-width:0.8;\" x=\"51.497585\" xlink:href=\"#m6f688060d6\" y=\"143.1\"/>\n      </g>\n     </g>\n     <g id=\"text_1\">\n      <!-- 0.5 -->\n      <defs>\n       <path d=\"M 31.78125 66.40625 \nQ 24.171875 66.40625 20.328125 58.90625 \nQ 16.5 51.421875 16.5 36.375 \nQ 16.5 21.390625 20.328125 13.890625 \nQ 24.171875 6.390625 31.78125 6.390625 \nQ 39.453125 6.390625 43.28125 13.890625 \nQ 47.125 21.390625 47.125 36.375 \nQ 47.125 51.421875 43.28125 58.90625 \nQ 39.453125 66.40625 31.78125 66.40625 \nz\nM 31.78125 74.21875 \nQ 44.046875 74.21875 50.515625 64.515625 \nQ 56.984375 54.828125 56.984375 36.375 \nQ 56.984375 17.96875 50.515625 8.265625 \nQ 44.046875 -1.421875 31.78125 -1.421875 \nQ 19.53125 -1.421875 13.0625 8.265625 \nQ 6.59375 17.96875 6.59375 36.375 \nQ 6.59375 54.828125 13.0625 64.515625 \nQ 19.53125 74.21875 31.78125 74.21875 \nz\n\" id=\"DejaVuSans-48\"/>\n       <path d=\"M 10.6875 12.40625 \nL 21 12.40625 \nL 21 0 \nL 10.6875 0 \nz\n\" id=\"DejaVuSans-46\"/>\n       <path d=\"M 10.796875 72.90625 \nL 49.515625 72.90625 \nL 49.515625 64.59375 \nL 19.828125 64.59375 \nL 19.828125 46.734375 \nQ 21.96875 47.46875 24.109375 47.828125 \nQ 26.265625 48.1875 28.421875 48.1875 \nQ 40.625 48.1875 47.75 41.5 \nQ 54.890625 34.8125 54.890625 23.390625 \nQ 54.890625 11.625 47.5625 5.09375 \nQ 40.234375 -1.421875 26.90625 -1.421875 \nQ 22.3125 -1.421875 17.546875 -0.640625 \nQ 12.796875 0.140625 7.71875 1.703125 \nL 7.71875 11.625 \nQ 12.109375 9.234375 16.796875 8.0625 \nQ 21.484375 6.890625 26.703125 6.890625 \nQ 35.15625 6.890625 40.078125 11.328125 \nQ 45.015625 15.765625 45.015625 23.390625 \nQ 45.015625 31 40.078125 35.4375 \nQ 35.15625 39.890625 26.703125 39.890625 \nQ 22.75 39.890625 18.8125 39.015625 \nQ 14.890625 38.140625 10.796875 36.28125 \nz\n\" id=\"DejaVuSans-53\"/>\n      </defs>\n      <g transform=\"translate(43.546023 157.698438)scale(0.1 -0.1)\">\n       <use xlink:href=\"#DejaVuSans-48\"/>\n       <use x=\"63.623047\" xlink:href=\"#DejaVuSans-46\"/>\n       <use x=\"95.410156\" xlink:href=\"#DejaVuSans-53\"/>\n      </g>\n     </g>\n    </g>\n    <g id=\"xtick_2\">\n     <g id=\"line2d_3\">\n      <path clip-path=\"url(#pf8c59d344f)\" d=\"M 110.877336 143.1 \nL 110.877336 7.2 \n\" style=\"fill:none;stroke:#b0b0b0;stroke-linecap:square;stroke-width:0.8;\"/>\n     </g>\n     <g id=\"line2d_4\">\n      <g>\n       <use style=\"stroke:#000000;stroke-width:0.8;\" x=\"110.877336\" xlink:href=\"#m6f688060d6\" y=\"143.1\"/>\n      </g>\n     </g>\n     <g id=\"text_2\">\n      <!-- 1.0 -->\n      <defs>\n       <path d=\"M 12.40625 8.296875 \nL 28.515625 8.296875 \nL 28.515625 63.921875 \nL 10.984375 60.40625 \nL 10.984375 69.390625 \nL 28.421875 72.90625 \nL 38.28125 72.90625 \nL 38.28125 8.296875 \nL 54.390625 8.296875 \nL 54.390625 0 \nL 12.40625 0 \nz\n\" id=\"DejaVuSans-49\"/>\n      </defs>\n      <g transform=\"translate(102.925773 157.698438)scale(0.1 -0.1)\">\n       <use xlink:href=\"#DejaVuSans-49\"/>\n       <use x=\"63.623047\" xlink:href=\"#DejaVuSans-46\"/>\n       <use x=\"95.410156\" xlink:href=\"#DejaVuSans-48\"/>\n      </g>\n     </g>\n    </g>\n    <g id=\"xtick_3\">\n     <g id=\"line2d_5\">\n      <path clip-path=\"url(#pf8c59d344f)\" d=\"M 170.257086 143.1 \nL 170.257086 7.2 \n\" style=\"fill:none;stroke:#b0b0b0;stroke-linecap:square;stroke-width:0.8;\"/>\n     </g>\n     <g id=\"line2d_6\">\n      <g>\n       <use style=\"stroke:#000000;stroke-width:0.8;\" x=\"170.257086\" xlink:href=\"#m6f688060d6\" y=\"143.1\"/>\n      </g>\n     </g>\n     <g id=\"text_3\">\n      <!-- 1.5 -->\n      <g transform=\"translate(162.305524 157.698438)scale(0.1 -0.1)\">\n       <use xlink:href=\"#DejaVuSans-49\"/>\n       <use x=\"63.623047\" xlink:href=\"#DejaVuSans-46\"/>\n       <use x=\"95.410156\" xlink:href=\"#DejaVuSans-53\"/>\n      </g>\n     </g>\n    </g>\n    <g id=\"xtick_4\">\n     <g id=\"line2d_7\">\n      <path clip-path=\"url(#pf8c59d344f)\" d=\"M 229.636837 143.1 \nL 229.636837 7.2 \n\" style=\"fill:none;stroke:#b0b0b0;stroke-linecap:square;stroke-width:0.8;\"/>\n     </g>\n     <g id=\"line2d_8\">\n      <g>\n       <use style=\"stroke:#000000;stroke-width:0.8;\" x=\"229.636837\" xlink:href=\"#m6f688060d6\" y=\"143.1\"/>\n      </g>\n     </g>\n     <g id=\"text_4\">\n      <!-- 2.0 -->\n      <defs>\n       <path d=\"M 19.1875 8.296875 \nL 53.609375 8.296875 \nL 53.609375 0 \nL 7.328125 0 \nL 7.328125 8.296875 \nQ 12.9375 14.109375 22.625 23.890625 \nQ 32.328125 33.6875 34.8125 36.53125 \nQ 39.546875 41.84375 41.421875 45.53125 \nQ 43.3125 49.21875 43.3125 52.78125 \nQ 43.3125 58.59375 39.234375 62.25 \nQ 35.15625 65.921875 28.609375 65.921875 \nQ 23.96875 65.921875 18.8125 64.3125 \nQ 13.671875 62.703125 7.8125 59.421875 \nL 7.8125 69.390625 \nQ 13.765625 71.78125 18.9375 73 \nQ 24.125 74.21875 28.421875 74.21875 \nQ 39.75 74.21875 46.484375 68.546875 \nQ 53.21875 62.890625 53.21875 53.421875 \nQ 53.21875 48.921875 51.53125 44.890625 \nQ 49.859375 40.875 45.40625 35.40625 \nQ 44.1875 33.984375 37.640625 27.21875 \nQ 31.109375 20.453125 19.1875 8.296875 \nz\n\" id=\"DejaVuSans-50\"/>\n      </defs>\n      <g transform=\"translate(221.685274 157.698438)scale(0.1 -0.1)\">\n       <use xlink:href=\"#DejaVuSans-50\"/>\n       <use x=\"63.623047\" xlink:href=\"#DejaVuSans-46\"/>\n       <use x=\"95.410156\" xlink:href=\"#DejaVuSans-48\"/>\n      </g>\n     </g>\n    </g>\n    <g id=\"text_5\">\n     <!-- x -->\n     <defs>\n      <path d=\"M 54.890625 54.6875 \nL 35.109375 28.078125 \nL 55.90625 0 \nL 45.3125 0 \nL 29.390625 21.484375 \nL 13.484375 0 \nL 2.875 0 \nL 24.125 28.609375 \nL 4.6875 54.6875 \nL 15.28125 54.6875 \nL 29.78125 35.203125 \nL 44.28125 54.6875 \nz\n\" id=\"DejaVuSans-120\"/>\n     </defs>\n     <g transform=\"translate(137.310937 171.376563)scale(0.1 -0.1)\">\n      <use xlink:href=\"#DejaVuSans-120\"/>\n     </g>\n    </g>\n   </g>\n   <g id=\"matplotlib.axis_2\">\n    <g id=\"ytick_1\">\n     <g id=\"line2d_9\">\n      <path clip-path=\"url(#pf8c59d344f)\" d=\"M 42.620312 136.922727 \nL 237.920313 136.922727 \n\" style=\"fill:none;stroke:#b0b0b0;stroke-linecap:square;stroke-width:0.8;\"/>\n     </g>\n     <g id=\"line2d_10\">\n      <defs>\n       <path d=\"M 0 0 \nL -3.5 0 \n\" id=\"m74cc723805\" style=\"stroke:#000000;stroke-width:0.8;\"/>\n      </defs>\n      <g>\n       <use style=\"stroke:#000000;stroke-width:0.8;\" x=\"42.620312\" xlink:href=\"#m74cc723805\" y=\"136.922727\"/>\n      </g>\n     </g>\n     <g id=\"text_6\">\n      <!-- −2 -->\n      <defs>\n       <path d=\"M 10.59375 35.5 \nL 73.1875 35.5 \nL 73.1875 27.203125 \nL 10.59375 27.203125 \nz\n\" id=\"DejaVuSans-8722\"/>\n      </defs>\n      <g transform=\"translate(20.878125 140.721946)scale(0.1 -0.1)\">\n       <use xlink:href=\"#DejaVuSans-8722\"/>\n       <use x=\"83.789062\" xlink:href=\"#DejaVuSans-50\"/>\n      </g>\n     </g>\n    </g>\n    <g id=\"ytick_2\">\n     <g id=\"line2d_11\">\n      <path clip-path=\"url(#pf8c59d344f)\" d=\"M 42.620312 110.744783 \nL 237.920313 110.744783 \n\" style=\"fill:none;stroke:#b0b0b0;stroke-linecap:square;stroke-width:0.8;\"/>\n     </g>\n     <g id=\"line2d_12\">\n      <g>\n       <use style=\"stroke:#000000;stroke-width:0.8;\" x=\"42.620312\" xlink:href=\"#m74cc723805\" y=\"110.744783\"/>\n      </g>\n     </g>\n     <g id=\"text_7\">\n      <!-- 0 -->\n      <g transform=\"translate(29.257812 114.544002)scale(0.1 -0.1)\">\n       <use xlink:href=\"#DejaVuSans-48\"/>\n      </g>\n     </g>\n    </g>\n    <g id=\"ytick_3\">\n     <g id=\"line2d_13\">\n      <path clip-path=\"url(#pf8c59d344f)\" d=\"M 42.620312 84.566839 \nL 237.920313 84.566839 \n\" style=\"fill:none;stroke:#b0b0b0;stroke-linecap:square;stroke-width:0.8;\"/>\n     </g>\n     <g id=\"line2d_14\">\n      <g>\n       <use style=\"stroke:#000000;stroke-width:0.8;\" x=\"42.620312\" xlink:href=\"#m74cc723805\" y=\"84.566839\"/>\n      </g>\n     </g>\n     <g id=\"text_8\">\n      <!-- 2 -->\n      <g transform=\"translate(29.257812 88.366058)scale(0.1 -0.1)\">\n       <use xlink:href=\"#DejaVuSans-50\"/>\n      </g>\n     </g>\n    </g>\n    <g id=\"ytick_4\">\n     <g id=\"line2d_15\">\n      <path clip-path=\"url(#pf8c59d344f)\" d=\"M 42.620312 58.388895 \nL 237.920313 58.388895 \n\" style=\"fill:none;stroke:#b0b0b0;stroke-linecap:square;stroke-width:0.8;\"/>\n     </g>\n     <g id=\"line2d_16\">\n      <g>\n       <use style=\"stroke:#000000;stroke-width:0.8;\" x=\"42.620312\" xlink:href=\"#m74cc723805\" y=\"58.388895\"/>\n      </g>\n     </g>\n     <g id=\"text_9\">\n      <!-- 4 -->\n      <defs>\n       <path d=\"M 37.796875 64.3125 \nL 12.890625 25.390625 \nL 37.796875 25.390625 \nz\nM 35.203125 72.90625 \nL 47.609375 72.90625 \nL 47.609375 25.390625 \nL 58.015625 25.390625 \nL 58.015625 17.1875 \nL 47.609375 17.1875 \nL 47.609375 0 \nL 37.796875 0 \nL 37.796875 17.1875 \nL 4.890625 17.1875 \nL 4.890625 26.703125 \nz\n\" id=\"DejaVuSans-52\"/>\n      </defs>\n      <g transform=\"translate(29.257812 62.188114)scale(0.1 -0.1)\">\n       <use xlink:href=\"#DejaVuSans-52\"/>\n      </g>\n     </g>\n    </g>\n    <g id=\"ytick_5\">\n     <g id=\"line2d_17\">\n      <path clip-path=\"url(#pf8c59d344f)\" d=\"M 42.620312 32.210951 \nL 237.920313 32.210951 \n\" style=\"fill:none;stroke:#b0b0b0;stroke-linecap:square;stroke-width:0.8;\"/>\n     </g>\n     <g id=\"line2d_18\">\n      <g>\n       <use style=\"stroke:#000000;stroke-width:0.8;\" x=\"42.620312\" xlink:href=\"#m74cc723805\" y=\"32.210951\"/>\n      </g>\n     </g>\n     <g id=\"text_10\">\n      <!-- 6 -->\n      <defs>\n       <path d=\"M 33.015625 40.375 \nQ 26.375 40.375 22.484375 35.828125 \nQ 18.609375 31.296875 18.609375 23.390625 \nQ 18.609375 15.53125 22.484375 10.953125 \nQ 26.375 6.390625 33.015625 6.390625 \nQ 39.65625 6.390625 43.53125 10.953125 \nQ 47.40625 15.53125 47.40625 23.390625 \nQ 47.40625 31.296875 43.53125 35.828125 \nQ 39.65625 40.375 33.015625 40.375 \nz\nM 52.59375 71.296875 \nL 52.59375 62.3125 \nQ 48.875 64.0625 45.09375 64.984375 \nQ 41.3125 65.921875 37.59375 65.921875 \nQ 27.828125 65.921875 22.671875 59.328125 \nQ 17.53125 52.734375 16.796875 39.40625 \nQ 19.671875 43.65625 24.015625 45.921875 \nQ 28.375 48.1875 33.59375 48.1875 \nQ 44.578125 48.1875 50.953125 41.515625 \nQ 57.328125 34.859375 57.328125 23.390625 \nQ 57.328125 12.15625 50.6875 5.359375 \nQ 44.046875 -1.421875 33.015625 -1.421875 \nQ 20.359375 -1.421875 13.671875 8.265625 \nQ 6.984375 17.96875 6.984375 36.375 \nQ 6.984375 53.65625 15.1875 63.9375 \nQ 23.390625 74.21875 37.203125 74.21875 \nQ 40.921875 74.21875 44.703125 73.484375 \nQ 48.484375 72.75 52.59375 71.296875 \nz\n\" id=\"DejaVuSans-54\"/>\n      </defs>\n      <g transform=\"translate(29.257812 36.01017)scale(0.1 -0.1)\">\n       <use xlink:href=\"#DejaVuSans-54\"/>\n      </g>\n     </g>\n    </g>\n    <g id=\"text_11\">\n     <!-- f(x) -->\n     <defs>\n      <path d=\"M 37.109375 75.984375 \nL 37.109375 68.5 \nL 28.515625 68.5 \nQ 23.6875 68.5 21.796875 66.546875 \nQ 19.921875 64.59375 19.921875 59.515625 \nL 19.921875 54.6875 \nL 34.71875 54.6875 \nL 34.71875 47.703125 \nL 19.921875 47.703125 \nL 19.921875 0 \nL 10.890625 0 \nL 10.890625 47.703125 \nL 2.296875 47.703125 \nL 2.296875 54.6875 \nL 10.890625 54.6875 \nL 10.890625 58.5 \nQ 10.890625 67.625 15.140625 71.796875 \nQ 19.390625 75.984375 28.609375 75.984375 \nz\n\" id=\"DejaVuSans-102\"/>\n      <path d=\"M 31 75.875 \nQ 24.46875 64.65625 21.28125 53.65625 \nQ 18.109375 42.671875 18.109375 31.390625 \nQ 18.109375 20.125 21.3125 9.0625 \nQ 24.515625 -2 31 -13.1875 \nL 23.1875 -13.1875 \nQ 15.875 -1.703125 12.234375 9.375 \nQ 8.59375 20.453125 8.59375 31.390625 \nQ 8.59375 42.28125 12.203125 53.3125 \nQ 15.828125 64.359375 23.1875 75.875 \nz\n\" id=\"DejaVuSans-40\"/>\n      <path d=\"M 8.015625 75.875 \nL 15.828125 75.875 \nQ 23.140625 64.359375 26.78125 53.3125 \nQ 30.421875 42.28125 30.421875 31.390625 \nQ 30.421875 20.453125 26.78125 9.375 \nQ 23.140625 -1.703125 15.828125 -13.1875 \nL 8.015625 -13.1875 \nQ 14.5 -2 17.703125 9.0625 \nQ 20.90625 20.125 20.90625 31.390625 \nQ 20.90625 42.671875 17.703125 53.65625 \nQ 14.5 64.65625 8.015625 75.875 \nz\n\" id=\"DejaVuSans-41\"/>\n     </defs>\n     <g transform=\"translate(14.798437 83.771094)rotate(-90)scale(0.1 -0.1)\">\n      <use xlink:href=\"#DejaVuSans-102\"/>\n      <use x=\"35.205078\" xlink:href=\"#DejaVuSans-40\"/>\n      <use x=\"74.21875\" xlink:href=\"#DejaVuSans-120\"/>\n      <use x=\"133.398438\" xlink:href=\"#DejaVuSans-41\"/>\n     </g>\n    </g>\n   </g>\n   <g id=\"line2d_19\">\n    <path clip-path=\"url(#pf8c59d344f)\" d=\"M 51.497585 135.286606 \nL 56.247968 132.922578 \nL 62.185937 130.241282 \nL 69.311508 127.287105 \nL 79.999867 123.128618 \nL 98.407586 115.985623 \nL 107.908351 112.037732 \nL 116.221522 108.33342 \nL 123.940883 104.635765 \nL 131.066446 100.968474 \nL 137.598212 97.368658 \nL 144.129993 93.520982 \nL 150.661773 89.407052 \nL 157.193539 85.00932 \nL 163.131523 80.750881 \nL 169.069492 76.231675 \nL 175.007462 71.439739 \nL 180.945445 66.363374 \nL 186.883415 60.99114 \nL 192.821384 55.311774 \nL 198.759368 49.314164 \nL 204.697337 42.987368 \nL 210.635306 36.320565 \nL 216.57329 29.302994 \nL 222.511259 21.92407 \nL 228.449243 14.173214 \nL 229.04304 13.377273 \nL 229.04304 13.377273 \n\" style=\"fill:none;stroke:#1f77b4;stroke-linecap:square;stroke-width:1.5;\"/>\n   </g>\n   <g id=\"line2d_20\">\n    <path clip-path=\"url(#pf8c59d344f)\" d=\"M 51.497585 136.922727 \nL 229.04304 58.650674 \nL 229.04304 58.650674 \n\" style=\"fill:none;stroke:#bf00bf;stroke-dasharray:5.55,2.4;stroke-dashoffset:0;stroke-width:1.5;\"/>\n   </g>\n   <g id=\"patch_3\">\n    <path d=\"M 42.620312 143.1 \nL 42.620312 7.2 \n\" style=\"fill:none;stroke:#000000;stroke-linecap:square;stroke-linejoin:miter;stroke-width:0.8;\"/>\n   </g>\n   <g id=\"patch_4\">\n    <path d=\"M 237.920313 143.1 \nL 237.920313 7.2 \n\" style=\"fill:none;stroke:#000000;stroke-linecap:square;stroke-linejoin:miter;stroke-width:0.8;\"/>\n   </g>\n   <g id=\"patch_5\">\n    <path d=\"M 42.620312 143.1 \nL 237.920313 143.1 \n\" style=\"fill:none;stroke:#000000;stroke-linecap:square;stroke-linejoin:miter;stroke-width:0.8;\"/>\n   </g>\n   <g id=\"patch_6\">\n    <path d=\"M 42.620312 7.2 \nL 237.920313 7.2 \n\" style=\"fill:none;stroke:#000000;stroke-linecap:square;stroke-linejoin:miter;stroke-width:0.8;\"/>\n   </g>\n   <g id=\"legend_1\">\n    <g id=\"patch_7\">\n     <path d=\"M 49.620312 44.55625 \nL 170.992188 44.55625 \nQ 172.992188 44.55625 172.992188 42.55625 \nL 172.992188 14.2 \nQ 172.992188 12.2 170.992188 12.2 \nL 49.620312 12.2 \nQ 47.620312 12.2 47.620312 14.2 \nL 47.620312 42.55625 \nQ 47.620312 44.55625 49.620312 44.55625 \nz\n\" style=\"fill:#ffffff;opacity:0.8;stroke:#cccccc;stroke-linejoin:miter;\"/>\n    </g>\n    <g id=\"line2d_21\">\n     <path d=\"M 51.620312 20.298437 \nL 71.620312 20.298437 \n\" style=\"fill:none;stroke:#1f77b4;stroke-linecap:square;stroke-width:1.5;\"/>\n    </g>\n    <g id=\"line2d_22\"/>\n    <g id=\"text_12\">\n     <!-- f(x) -->\n     <g transform=\"translate(79.620312 23.798437)scale(0.1 -0.1)\">\n      <use xlink:href=\"#DejaVuSans-102\"/>\n      <use x=\"35.205078\" xlink:href=\"#DejaVuSans-40\"/>\n      <use x=\"74.21875\" xlink:href=\"#DejaVuSans-120\"/>\n      <use x=\"133.398438\" xlink:href=\"#DejaVuSans-41\"/>\n     </g>\n    </g>\n    <g id=\"line2d_23\">\n     <path d=\"M 51.620312 34.976562 \nL 71.620312 34.976562 \n\" style=\"fill:none;stroke:#bf00bf;stroke-dasharray:5.55,2.4;stroke-dashoffset:0;stroke-width:1.5;\"/>\n    </g>\n    <g id=\"line2d_24\"/>\n    <g id=\"text_13\">\n     <!-- Tangent line(x=1) -->\n     <defs>\n      <path d=\"M -0.296875 72.90625 \nL 61.375 72.90625 \nL 61.375 64.59375 \nL 35.5 64.59375 \nL 35.5 0 \nL 25.59375 0 \nL 25.59375 64.59375 \nL -0.296875 64.59375 \nz\n\" id=\"DejaVuSans-84\"/>\n      <path d=\"M 34.28125 27.484375 \nQ 23.390625 27.484375 19.1875 25 \nQ 14.984375 22.515625 14.984375 16.5 \nQ 14.984375 11.71875 18.140625 8.90625 \nQ 21.296875 6.109375 26.703125 6.109375 \nQ 34.1875 6.109375 38.703125 11.40625 \nQ 43.21875 16.703125 43.21875 25.484375 \nL 43.21875 27.484375 \nz\nM 52.203125 31.203125 \nL 52.203125 0 \nL 43.21875 0 \nL 43.21875 8.296875 \nQ 40.140625 3.328125 35.546875 0.953125 \nQ 30.953125 -1.421875 24.3125 -1.421875 \nQ 15.921875 -1.421875 10.953125 3.296875 \nQ 6 8.015625 6 15.921875 \nQ 6 25.140625 12.171875 29.828125 \nQ 18.359375 34.515625 30.609375 34.515625 \nL 43.21875 34.515625 \nL 43.21875 35.40625 \nQ 43.21875 41.609375 39.140625 45 \nQ 35.0625 48.390625 27.6875 48.390625 \nQ 23 48.390625 18.546875 47.265625 \nQ 14.109375 46.140625 10.015625 43.890625 \nL 10.015625 52.203125 \nQ 14.9375 54.109375 19.578125 55.046875 \nQ 24.21875 56 28.609375 56 \nQ 40.484375 56 46.34375 49.84375 \nQ 52.203125 43.703125 52.203125 31.203125 \nz\n\" id=\"DejaVuSans-97\"/>\n      <path d=\"M 54.890625 33.015625 \nL 54.890625 0 \nL 45.90625 0 \nL 45.90625 32.71875 \nQ 45.90625 40.484375 42.875 44.328125 \nQ 39.84375 48.1875 33.796875 48.1875 \nQ 26.515625 48.1875 22.3125 43.546875 \nQ 18.109375 38.921875 18.109375 30.90625 \nL 18.109375 0 \nL 9.078125 0 \nL 9.078125 54.6875 \nL 18.109375 54.6875 \nL 18.109375 46.1875 \nQ 21.34375 51.125 25.703125 53.5625 \nQ 30.078125 56 35.796875 56 \nQ 45.21875 56 50.046875 50.171875 \nQ 54.890625 44.34375 54.890625 33.015625 \nz\n\" id=\"DejaVuSans-110\"/>\n      <path d=\"M 45.40625 27.984375 \nQ 45.40625 37.75 41.375 43.109375 \nQ 37.359375 48.484375 30.078125 48.484375 \nQ 22.859375 48.484375 18.828125 43.109375 \nQ 14.796875 37.75 14.796875 27.984375 \nQ 14.796875 18.265625 18.828125 12.890625 \nQ 22.859375 7.515625 30.078125 7.515625 \nQ 37.359375 7.515625 41.375 12.890625 \nQ 45.40625 18.265625 45.40625 27.984375 \nz\nM 54.390625 6.78125 \nQ 54.390625 -7.171875 48.1875 -13.984375 \nQ 42 -20.796875 29.203125 -20.796875 \nQ 24.46875 -20.796875 20.265625 -20.09375 \nQ 16.0625 -19.390625 12.109375 -17.921875 \nL 12.109375 -9.1875 \nQ 16.0625 -11.328125 19.921875 -12.34375 \nQ 23.78125 -13.375 27.78125 -13.375 \nQ 36.625 -13.375 41.015625 -8.765625 \nQ 45.40625 -4.15625 45.40625 5.171875 \nL 45.40625 9.625 \nQ 42.625 4.78125 38.28125 2.390625 \nQ 33.9375 0 27.875 0 \nQ 17.828125 0 11.671875 7.65625 \nQ 5.515625 15.328125 5.515625 27.984375 \nQ 5.515625 40.671875 11.671875 48.328125 \nQ 17.828125 56 27.875 56 \nQ 33.9375 56 38.28125 53.609375 \nQ 42.625 51.21875 45.40625 46.390625 \nL 45.40625 54.6875 \nL 54.390625 54.6875 \nz\n\" id=\"DejaVuSans-103\"/>\n      <path d=\"M 56.203125 29.59375 \nL 56.203125 25.203125 \nL 14.890625 25.203125 \nQ 15.484375 15.921875 20.484375 11.0625 \nQ 25.484375 6.203125 34.421875 6.203125 \nQ 39.59375 6.203125 44.453125 7.46875 \nQ 49.3125 8.734375 54.109375 11.28125 \nL 54.109375 2.78125 \nQ 49.265625 0.734375 44.1875 -0.34375 \nQ 39.109375 -1.421875 33.890625 -1.421875 \nQ 20.796875 -1.421875 13.15625 6.1875 \nQ 5.515625 13.8125 5.515625 26.8125 \nQ 5.515625 40.234375 12.765625 48.109375 \nQ 20.015625 56 32.328125 56 \nQ 43.359375 56 49.78125 48.890625 \nQ 56.203125 41.796875 56.203125 29.59375 \nz\nM 47.21875 32.234375 \nQ 47.125 39.59375 43.09375 43.984375 \nQ 39.0625 48.390625 32.421875 48.390625 \nQ 24.90625 48.390625 20.390625 44.140625 \nQ 15.875 39.890625 15.1875 32.171875 \nz\n\" id=\"DejaVuSans-101\"/>\n      <path d=\"M 18.3125 70.21875 \nL 18.3125 54.6875 \nL 36.8125 54.6875 \nL 36.8125 47.703125 \nL 18.3125 47.703125 \nL 18.3125 18.015625 \nQ 18.3125 11.328125 20.140625 9.421875 \nQ 21.96875 7.515625 27.59375 7.515625 \nL 36.8125 7.515625 \nL 36.8125 0 \nL 27.59375 0 \nQ 17.1875 0 13.234375 3.875 \nQ 9.28125 7.765625 9.28125 18.015625 \nL 9.28125 47.703125 \nL 2.6875 47.703125 \nL 2.6875 54.6875 \nL 9.28125 54.6875 \nL 9.28125 70.21875 \nz\n\" id=\"DejaVuSans-116\"/>\n      <path id=\"DejaVuSans-32\"/>\n      <path d=\"M 9.421875 75.984375 \nL 18.40625 75.984375 \nL 18.40625 0 \nL 9.421875 0 \nz\n\" id=\"DejaVuSans-108\"/>\n      <path d=\"M 9.421875 54.6875 \nL 18.40625 54.6875 \nL 18.40625 0 \nL 9.421875 0 \nz\nM 9.421875 75.984375 \nL 18.40625 75.984375 \nL 18.40625 64.59375 \nL 9.421875 64.59375 \nz\n\" id=\"DejaVuSans-105\"/>\n      <path d=\"M 10.59375 45.40625 \nL 73.1875 45.40625 \nL 73.1875 37.203125 \nL 10.59375 37.203125 \nz\nM 10.59375 25.484375 \nL 73.1875 25.484375 \nL 73.1875 17.1875 \nL 10.59375 17.1875 \nz\n\" id=\"DejaVuSans-61\"/>\n     </defs>\n     <g transform=\"translate(79.620312 38.476562)scale(0.1 -0.1)\">\n      <use xlink:href=\"#DejaVuSans-84\"/>\n      <use x=\"44.583984\" xlink:href=\"#DejaVuSans-97\"/>\n      <use x=\"105.863281\" xlink:href=\"#DejaVuSans-110\"/>\n      <use x=\"169.242188\" xlink:href=\"#DejaVuSans-103\"/>\n      <use x=\"232.71875\" xlink:href=\"#DejaVuSans-101\"/>\n      <use x=\"294.242188\" xlink:href=\"#DejaVuSans-110\"/>\n      <use x=\"357.621094\" xlink:href=\"#DejaVuSans-116\"/>\n      <use x=\"396.830078\" xlink:href=\"#DejaVuSans-32\"/>\n      <use x=\"428.617188\" xlink:href=\"#DejaVuSans-108\"/>\n      <use x=\"456.400391\" xlink:href=\"#DejaVuSans-105\"/>\n      <use x=\"484.183594\" xlink:href=\"#DejaVuSans-110\"/>\n      <use x=\"547.5625\" xlink:href=\"#DejaVuSans-101\"/>\n      <use x=\"609.085938\" xlink:href=\"#DejaVuSans-40\"/>\n      <use x=\"648.099609\" xlink:href=\"#DejaVuSans-120\"/>\n      <use x=\"707.279297\" xlink:href=\"#DejaVuSans-61\"/>\n      <use x=\"791.068359\" xlink:href=\"#DejaVuSans-49\"/>\n      <use x=\"854.691406\" xlink:href=\"#DejaVuSans-41\"/>\n     </g>\n    </g>\n   </g>\n  </g>\n </g>\n <defs>\n  <clipPath id=\"pf8c59d344f\">\n   <rect height=\"135.9\" width=\"195.3\" x=\"42.620312\" y=\"7.2\"/>\n  </clipPath>\n </defs>\n</svg>\n"
          },
          "metadata": {
            "tags": [],
            "needs_background": "light"
          }
        }
      ]
    },
    {
      "cell_type": "markdown",
      "metadata": {
        "id": "MjYVF5BNLCqN"
      },
      "source": [
        "2. Find the gradient of the function  $f(x)=3x^2_1+5e^{x_2}$.\n",
        "  - $\\nabla_x f(x) = [\\frac{\\partial f(x)}{\\partial x_1}, \\frac{\\partial f(x)}{\\partial x_2}]^T = [6x_1, 5e^{x_2}]^T$, where $x = [x_1,x_2]^T$"
      ]
    },
    {
      "cell_type": "markdown",
      "metadata": {
        "id": "XQtArTKuOLDi"
      },
      "source": [
        "3. What is the gradient of the function $f(x) = ||x||_2$?\n",
        "  - $\\nabla_x ||x||_2 = \\frac{\\partial}{\\partial x}\\sqrt{x^T\\cdot x} = \\frac{1}{||x||}[x_1,x_2]^T$"
      ]
    },
    {
      "cell_type": "markdown",
      "metadata": {
        "id": "vzYuNqdnS46p"
      },
      "source": [
        "4. Can you write out the chain rule for the case where  $u = f(x,y,z)$  and  $x = x(a,b)$ ,  $y = y(a,b)$ , and  $z = z(a,b)$?\n",
        "  - $\\frac{\\partial u}{\\partial a} = \\frac{\\partial u}{\\partial x}\\frac{\\partial x}{\\partial a} + \\frac{\\partial u}{\\partial y}\\frac{\\partial y}{\\partial a} + \\frac{\\partial u}{\\partial z}\\frac{\\partial z}{\\partial a}$\n",
        "  - $\\frac{\\partial u}{\\partial b} = \\frac{\\partial u}{\\partial x}\\frac{\\partial x}{\\partial b} + \\frac{\\partial u}{\\partial y}\\frac{\\partial y}{\\partial b} + \\frac{\\partial u}{\\partial z}\\frac{\\partial z}{\\partial b}$"
      ]
    },
    {
      "cell_type": "markdown",
      "metadata": {
        "id": "VDH9pelrEQkf"
      },
      "source": [
        "#2.5 Automatic differentiation"
      ]
    },
    {
      "cell_type": "code",
      "metadata": {
        "colab": {
          "base_uri": "https://localhost:8080/"
        },
        "id": "ArfclWT7E9si",
        "outputId": "f1580979-44dd-43cc-e5f1-bec38400ac75"
      },
      "source": [
        "from mxnet import autograd, np, npx\n",
        "\n",
        "npx.set_np()\n",
        "x = np.arange(4.0)\n",
        "\n",
        "x.attach_grad()\n",
        "x.grad  # Compute the gradients of heads w.r.t variables. Gradients will be returned as new NDArrays instead of stored into variable.grad. \n",
        "       # Supports recording gradient graph for computing higher order gradients.\n",
        "\n",
        "with autograd.record(): # Returns an autograd recording scope context to be used in ‘with’ statement and captures code that needs gradients to be calculated.\n",
        "    y = 2 * np.dot(x,x)\n",
        "y.backward()  # Compute the gradients of heads w.r.t previously marked variables.\n",
        "\n",
        "with autograd.record():\n",
        "    y = x.sum()\n",
        "y.backward()\n",
        "x.grad == 1\n",
        "\n",
        "with autograd.record():\n",
        "    y = x * x # ([x^2_1, x^2_2, x^2_3, x^2_4]^T)\n",
        "y.backward()\n",
        "\n",
        "with autograd.record():\n",
        "    y = x * x\n",
        "    u = y.detach()  # return a new NDarray, detached from the current graph\n",
        "    z = u * x\n",
        "print(\"default x: \", x)\n",
        "print(\"u = y.detach=\", u)\n",
        "print(x.grad == u)\n",
        "print(x.grad == 2*x)\n",
        "y.backward()\n",
        "print(x.grad == 2*x)\n",
        "print(x)\n",
        "z.backward()\n",
        "print(x.grad)\n",
        "\n",
        "def f(a):\n",
        "    b = a*2\n",
        "    while np.linalg.norm(b) < 1000:\n",
        "          b = b * 2\n",
        "    if b.sum() > 0:\n",
        "        c = b\n",
        "    else:\n",
        "        c = 100 * b\n",
        "    return c\n",
        "\n",
        "a = np.random.normal()\n",
        "a.attach_grad()\n",
        "with autograd.record():\n",
        "      d = f(a)\n",
        "d.backward()\n",
        "a.grad == d/a"
      ],
      "execution_count": null,
      "outputs": [
        {
          "output_type": "stream",
          "text": [
            "default x:  [0. 1. 2. 3.]\n",
            "u = y.detach= [0. 1. 4. 9.]\n",
            "[ True False  True False]\n",
            "[ True  True  True  True]\n",
            "[ True  True  True  True]\n",
            "[0. 1. 2. 3.]\n",
            "[0. 1. 4. 9.]\n"
          ],
          "name": "stdout"
        },
        {
          "output_type": "execute_result",
          "data": {
            "text/plain": [
              "array(True)"
            ]
          },
          "metadata": {
            "tags": []
          },
          "execution_count": 64
        }
      ]
    },
    {
      "cell_type": "markdown",
      "metadata": {
        "id": "K95PaE6oEcUn"
      },
      "source": [
        "###2.5.13 Exercises"
      ]
    },
    {
      "cell_type": "markdown",
      "metadata": {
        "id": "YzGnQlJZX7S1"
      },
      "source": [
        "1. Why is the second derivative much more expensive to compute than the first derivative?\n",
        "  - Let's say we are trying to compute a second derivative of C: $\\frac{\\partial^2 C}{(\\partial v_j)(\\partial v_k)}$. If there are a million such $v_j$ variables, then the number of computations for the second derivatie would be half a trillion: a half of million * million, $\\frac{\\partial^2 C}{(\\partial v_j)(\\partial v_k)} = \\frac{\\partial^2 C}{(\\partial v_k)(\\partial v_j)}$."
      ]
    },
    {
      "cell_type": "markdown",
      "metadata": {
        "id": "EuvlC3utZk3B"
      },
      "source": [
        "2. After running the function for backpropagation, immediately run it again and see what happens.\n",
        "  - By default, backward() does not clear the computaion history so you cannot call the function again with no information."
      ]
    },
    {
      "cell_type": "code",
      "metadata": {
        "colab": {
          "base_uri": "https://localhost:8080/",
          "height": 426
        },
        "id": "N0W5emusZpzq",
        "outputId": "46c1e2d8-a6fe-4ebc-eaa8-5ebe86e654b9"
      },
      "source": [
        "from mxnet import np, npx\n",
        "\n",
        "npx.set_np()\n",
        "x = np.arange(4.0)\n",
        "x.attach_grad()\n",
        "with autograd.record():\n",
        "    y = x**2\n",
        "    z = y.grad\n",
        "y.backward()\n",
        "y.backward()\n",
        "print(x.grad)"
      ],
      "execution_count": null,
      "outputs": [
        {
          "output_type": "error",
          "ename": "MXNetError",
          "evalue": "ignored",
          "traceback": [
            "\u001b[0;31m---------------------------------------------------------------------------\u001b[0m",
            "\u001b[0;31mMXNetError\u001b[0m                                Traceback (most recent call last)",
            "\u001b[0;32m<ipython-input-30-26865bb3fb21>\u001b[0m in \u001b[0;36m<module>\u001b[0;34m()\u001b[0m\n\u001b[1;32m      8\u001b[0m     \u001b[0mz\u001b[0m \u001b[0;34m=\u001b[0m \u001b[0my\u001b[0m\u001b[0;34m.\u001b[0m\u001b[0mgrad\u001b[0m\u001b[0;34m\u001b[0m\u001b[0;34m\u001b[0m\u001b[0m\n\u001b[1;32m      9\u001b[0m \u001b[0my\u001b[0m\u001b[0;34m.\u001b[0m\u001b[0mbackward\u001b[0m\u001b[0;34m(\u001b[0m\u001b[0;34m)\u001b[0m\u001b[0;34m\u001b[0m\u001b[0;34m\u001b[0m\u001b[0m\n\u001b[0;32m---> 10\u001b[0;31m \u001b[0my\u001b[0m\u001b[0;34m.\u001b[0m\u001b[0mbackward\u001b[0m\u001b[0;34m(\u001b[0m\u001b[0;34m)\u001b[0m\u001b[0;34m\u001b[0m\u001b[0;34m\u001b[0m\u001b[0m\n\u001b[0m\u001b[1;32m     11\u001b[0m \u001b[0mprint\u001b[0m\u001b[0;34m(\u001b[0m\u001b[0mx\u001b[0m\u001b[0;34m.\u001b[0m\u001b[0mgrad\u001b[0m\u001b[0;34m)\u001b[0m\u001b[0;34m\u001b[0m\u001b[0;34m\u001b[0m\u001b[0m\n",
            "\u001b[0;32m/usr/local/lib/python3.7/dist-packages/mxnet/ndarray/ndarray.py\u001b[0m in \u001b[0;36mbackward\u001b[0;34m(self, out_grad, retain_graph, train_mode)\u001b[0m\n\u001b[1;32m   2871\u001b[0m             \u001b[0mctypes\u001b[0m\u001b[0;34m.\u001b[0m\u001b[0mc_int\u001b[0m\u001b[0;34m(\u001b[0m\u001b[0mtrain_mode\u001b[0m\u001b[0;34m)\u001b[0m\u001b[0;34m,\u001b[0m\u001b[0;34m\u001b[0m\u001b[0;34m\u001b[0m\u001b[0m\n\u001b[1;32m   2872\u001b[0m             \u001b[0mctypes\u001b[0m\u001b[0;34m.\u001b[0m\u001b[0mc_void_p\u001b[0m\u001b[0;34m(\u001b[0m\u001b[0;36m0\u001b[0m\u001b[0;34m)\u001b[0m\u001b[0;34m,\u001b[0m\u001b[0;34m\u001b[0m\u001b[0;34m\u001b[0m\u001b[0m\n\u001b[0;32m-> 2873\u001b[0;31m             ctypes.c_void_p(0)))\n\u001b[0m\u001b[1;32m   2874\u001b[0m \u001b[0;34m\u001b[0m\u001b[0m\n\u001b[1;32m   2875\u001b[0m     \u001b[0;32mdef\u001b[0m \u001b[0mtostype\u001b[0m\u001b[0;34m(\u001b[0m\u001b[0mself\u001b[0m\u001b[0;34m,\u001b[0m \u001b[0mstype\u001b[0m\u001b[0;34m)\u001b[0m\u001b[0;34m:\u001b[0m\u001b[0;34m\u001b[0m\u001b[0;34m\u001b[0m\u001b[0m\n",
            "\u001b[0;32m/usr/local/lib/python3.7/dist-packages/mxnet/base.py\u001b[0m in \u001b[0;36mcheck_call\u001b[0;34m(ret)\u001b[0m\n\u001b[1;32m    244\u001b[0m     \"\"\"\n\u001b[1;32m    245\u001b[0m     \u001b[0;32mif\u001b[0m \u001b[0mret\u001b[0m \u001b[0;34m!=\u001b[0m \u001b[0;36m0\u001b[0m\u001b[0;34m:\u001b[0m\u001b[0;34m\u001b[0m\u001b[0;34m\u001b[0m\u001b[0m\n\u001b[0;32m--> 246\u001b[0;31m         \u001b[0;32mraise\u001b[0m \u001b[0mget_last_ffi_error\u001b[0m\u001b[0;34m(\u001b[0m\u001b[0;34m)\u001b[0m\u001b[0;34m\u001b[0m\u001b[0;34m\u001b[0m\u001b[0m\n\u001b[0m\u001b[1;32m    247\u001b[0m \u001b[0;34m\u001b[0m\u001b[0m\n\u001b[1;32m    248\u001b[0m \u001b[0;34m\u001b[0m\u001b[0m\n",
            "\u001b[0;31mMXNetError\u001b[0m: Traceback (most recent call last):\n  File \"src/imperative/imperative.cc\", line 295\nMXNetError: Check failed: !AGInfo: :IsNone(*i): Cannot differentiate node because it is not in a computational graph. You need to set is_recording to true or use autograd.record() to save computational graphs for backward. If you want to differentiate the same graph twice, you need to pass retain_graph=True to backward."
          ]
        }
      ]
    },
    {
      "cell_type": "markdown",
      "metadata": {
        "id": "q4jT0OkieRjY"
      },
      "source": [
        "3. In the control flow example where we calculate the derivative of d with respect to a, what would happen if we changed the variable a to a random vector or matrix. At this point, the result of the calculation f(a) is no longer a scalar. What happens to the result? How do we analyze this?\n",
        "  - f(a) will follow the form of a. For example, if a is a vector, then f(a) will be the vector with the same dimension of $a$. Thus, there is nothing special to analyze, unless you do matrix calculus. This is because you have to carefully pick which convention you would like to use: either numerator layout or denominator layout."
      ]
    },
    {
      "cell_type": "code",
      "metadata": {
        "colab": {
          "base_uri": "https://localhost:8080/"
        },
        "id": "3R-be0g5h8O1",
        "outputId": "39fa6556-d31a-4b9c-c951-333eac600464"
      },
      "source": [
        "from mxnet import autograd, np, npx\n",
        "\n",
        "npx.set_np()\n",
        "\n",
        "def f(a):\n",
        "    b = a*2\n",
        "    while np.linalg.norm(b) < 1000:\n",
        "          b = b * 2\n",
        "    if b.sum() > 0:\n",
        "        c = b\n",
        "    else:\n",
        "        c = 100 * b\n",
        "    return c\n",
        "\n",
        "# Let's suppose a is a vector of the dimension of 4: (4,)\n",
        "a = np.random.normal(size=(4,))\n",
        "a.attach_grad()\n",
        "with autograd.record():\n",
        "      d = f(a)\n",
        "d.backward()\n",
        "print(\"When a is a vector:\\n\",  a.grad==d/a)\n",
        "\n",
        "# Let's suppose b is a matrix of the dimension of 4: (2,2)\n",
        "b = np.random.normal(size=(2,2))\n",
        "b.attach_grad()\n",
        "with autograd.record():\n",
        "      c = f(b)\n",
        "c.backward()\n",
        "print(\"\\nWhen a is a matrix: \\n\", b.grad==c/b)"
      ],
      "execution_count": null,
      "outputs": [
        {
          "output_type": "stream",
          "text": [
            "When a is a vector:\n",
            " [ True  True  True  True]\n",
            "\n",
            "When a is a matrix: \n",
            " [[ True  True]\n",
            " [ True  True]]\n"
          ],
          "name": "stdout"
        }
      ]
    },
    {
      "cell_type": "markdown",
      "metadata": {
        "id": "CFKfYdXAj8yr"
      },
      "source": [
        "4. Redesign an example of finding the gradient of the control flow. Run and analyze the result."
      ]
    },
    {
      "cell_type": "code",
      "metadata": {
        "colab": {
          "base_uri": "https://localhost:8080/"
        },
        "id": "BjWqqV53mGpn",
        "outputId": "cd520398-6c4c-439e-808a-903eb5cbc1d7"
      },
      "source": [
        "from mxnet import np,npx\n",
        "\n",
        "npx.set_np()\n",
        "\n",
        "def f(a):\n",
        "    b = a**2 + 2*a + 5\n",
        "    if True:\n",
        "        b = 4 * b\n",
        "    i = 0\n",
        "    while i < 9:\n",
        "          b = 2*b\n",
        "          i += 1\n",
        "    return b\n",
        "\n",
        "# Let's suppose a is a vector of the dimension of 4: (4,)\n",
        "a = np.arange(4.0).reshape(4,)\n",
        "a.attach_grad()\n",
        "with autograd.record():\n",
        "      d = f(a)\n",
        "d.backward()\n",
        "print(\"When a is a vector:\\n\",  a.grad==2**9*4*(2*a+2))"
      ],
      "execution_count": null,
      "outputs": [
        {
          "output_type": "stream",
          "text": [
            "When a is a vector:\n",
            " [ True  True  True  True]\n"
          ],
          "name": "stdout"
        }
      ]
    },
    {
      "cell_type": "markdown",
      "metadata": {
        "id": "8XRlL7CrrvQK"
      },
      "source": [
        "5.  Let $f(x) = \\sin(x)$. Plot $f(x)$ and  $\\frac{\\partial f(x)}{\\partial x}$, where the latter is computed without exploiting that $f'(x) = \\cos(x)$."
      ]
    },
    {
      "cell_type": "code",
      "metadata": {
        "colab": {
          "base_uri": "https://localhost:8080/",
          "height": 371
        },
        "id": "BX8G0utys3eB",
        "outputId": "3bb721ac-ff42-4727-f5e5-99d757bfe863"
      },
      "source": [
        "%matplotlib inline\n",
        "from  IPython import display\n",
        "from mxnet import np, npx\n",
        "from d2l import mxnet as d2l\n",
        "\n",
        "npx.set_np()\n",
        "\n",
        "def foo(x):\n",
        "    return np.sin(x)\n",
        "\n",
        "def use_svg_display():\n",
        "    display.set_matplotlib_formats('svg')\n",
        "\n",
        "def set_axes(axes, xlabel, ylabel, xlim, ylim, xscale, yscale, legend):\n",
        "    axes.set_xlabel(xlabel)\n",
        "    axes.set_ylabel(ylabel)\n",
        "    axes.set_xscale(xscale)\n",
        "    axes.set_yscale(yscale)\n",
        "    axes.set_xlim(xlim)\n",
        "    axes.set_ylim(ylim)\n",
        "    if legend:\n",
        "        axes.legend(legend)\n",
        "    axes.grid()\n",
        "\n",
        "def plot(X, Y=None, xlabel=None, ylabel=None, legend=None, xlim=None, ylim=None, xscale='linear', yscale='linear', fmts=('-','m--'), axes=None):\n",
        "    if legend is None:\n",
        "        legend = []\n",
        "    use_svg_display()\n",
        "    axes = axes if axes else d2l.plt.gca()  # Get the current axes instance on the current figure matching the given kwargs, or create one.\n",
        "    Y.append(X.grad)\n",
        "    X = [X]*2\n",
        "    axes.cla()  # clear the current axes\n",
        "    for x, y, fmt in zip(X, Y, fmts):\n",
        "        axes.plot(x, y, fmt)\n",
        "    set_axes(axes,xlabel,ylabel,xlim,ylim,xscale,yscale,legend)\n",
        "\n",
        "\n",
        "x = np.arange(-5,5,0.005)\n",
        "x.attach_grad()\n",
        "with autograd.record():\n",
        "      f = np.sin(x)\n",
        "f.backward()\n",
        "plot(x, [foo(x)],'x','f(x)',legend=['f(x)','df(x)/dx'])"
      ],
      "execution_count": null,
      "outputs": [
        {
          "output_type": "display_data",
          "data": {
            "text/plain": [
              "<Figure size 432x288 with 1 Axes>"
            ],
            "image/svg+xml": "<?xml version=\"1.0\" encoding=\"utf-8\" standalone=\"no\"?>\n<!DOCTYPE svg PUBLIC \"-//W3C//DTD SVG 1.1//EN\"\n  \"http://www.w3.org/Graphics/SVG/1.1/DTD/svg11.dtd\">\n<!-- Created with matplotlib (https://matplotlib.org/) -->\n<svg height=\"262.19625pt\" version=\"1.1\" viewBox=\"0 0 400.523437 262.19625\" width=\"400.523437pt\" xmlns=\"http://www.w3.org/2000/svg\" xmlns:xlink=\"http://www.w3.org/1999/xlink\">\n <defs>\n  <style type=\"text/css\">\n*{stroke-linecap:butt;stroke-linejoin:round;}\n  </style>\n </defs>\n <g id=\"figure_1\">\n  <g id=\"patch_1\">\n   <path d=\"M 0 262.19625 \nL 400.523437 262.19625 \nL 400.523437 0 \nL 0 0 \nz\n\" style=\"fill:none;\"/>\n  </g>\n  <g id=\"axes_1\">\n   <g id=\"patch_2\">\n    <path d=\"M 58.523438 224.64 \nL 393.323438 224.64 \nL 393.323438 7.2 \nL 58.523438 7.2 \nz\n\" style=\"fill:#ffffff;\"/>\n   </g>\n   <g id=\"matplotlib.axis_1\">\n    <g id=\"xtick_1\">\n     <g id=\"line2d_1\">\n      <path clip-path=\"url(#pab33940044)\" d=\"M 104.193209 224.64 \nL 104.193209 7.2 \n\" style=\"fill:none;stroke:#b0b0b0;stroke-linecap:square;stroke-width:0.8;\"/>\n     </g>\n     <g id=\"line2d_2\">\n      <defs>\n       <path d=\"M 0 0 \nL 0 3.5 \n\" id=\"mdd78a13cc5\" style=\"stroke:#000000;stroke-width:0.8;\"/>\n      </defs>\n      <g>\n       <use style=\"stroke:#000000;stroke-width:0.8;\" x=\"104.193209\" xlink:href=\"#mdd78a13cc5\" y=\"224.64\"/>\n      </g>\n     </g>\n     <g id=\"text_1\">\n      <!-- −4 -->\n      <defs>\n       <path d=\"M 10.59375 35.5 \nL 73.1875 35.5 \nL 73.1875 27.203125 \nL 10.59375 27.203125 \nz\n\" id=\"DejaVuSans-8722\"/>\n       <path d=\"M 37.796875 64.3125 \nL 12.890625 25.390625 \nL 37.796875 25.390625 \nz\nM 35.203125 72.90625 \nL 47.609375 72.90625 \nL 47.609375 25.390625 \nL 58.015625 25.390625 \nL 58.015625 17.1875 \nL 47.609375 17.1875 \nL 47.609375 0 \nL 37.796875 0 \nL 37.796875 17.1875 \nL 4.890625 17.1875 \nL 4.890625 26.703125 \nz\n\" id=\"DejaVuSans-52\"/>\n      </defs>\n      <g transform=\"translate(96.822115 239.238437)scale(0.1 -0.1)\">\n       <use xlink:href=\"#DejaVuSans-8722\"/>\n       <use x=\"83.789062\" xlink:href=\"#DejaVuSans-52\"/>\n      </g>\n     </g>\n    </g>\n    <g id=\"xtick_2\">\n     <g id=\"line2d_3\">\n      <path clip-path=\"url(#pab33940044)\" d=\"M 165.096389 224.64 \nL 165.096389 7.2 \n\" style=\"fill:none;stroke:#b0b0b0;stroke-linecap:square;stroke-width:0.8;\"/>\n     </g>\n     <g id=\"line2d_4\">\n      <g>\n       <use style=\"stroke:#000000;stroke-width:0.8;\" x=\"165.096389\" xlink:href=\"#mdd78a13cc5\" y=\"224.64\"/>\n      </g>\n     </g>\n     <g id=\"text_2\">\n      <!-- −2 -->\n      <defs>\n       <path d=\"M 19.1875 8.296875 \nL 53.609375 8.296875 \nL 53.609375 0 \nL 7.328125 0 \nL 7.328125 8.296875 \nQ 12.9375 14.109375 22.625 23.890625 \nQ 32.328125 33.6875 34.8125 36.53125 \nQ 39.546875 41.84375 41.421875 45.53125 \nQ 43.3125 49.21875 43.3125 52.78125 \nQ 43.3125 58.59375 39.234375 62.25 \nQ 35.15625 65.921875 28.609375 65.921875 \nQ 23.96875 65.921875 18.8125 64.3125 \nQ 13.671875 62.703125 7.8125 59.421875 \nL 7.8125 69.390625 \nQ 13.765625 71.78125 18.9375 73 \nQ 24.125 74.21875 28.421875 74.21875 \nQ 39.75 74.21875 46.484375 68.546875 \nQ 53.21875 62.890625 53.21875 53.421875 \nQ 53.21875 48.921875 51.53125 44.890625 \nQ 49.859375 40.875 45.40625 35.40625 \nQ 44.1875 33.984375 37.640625 27.21875 \nQ 31.109375 20.453125 19.1875 8.296875 \nz\n\" id=\"DejaVuSans-50\"/>\n      </defs>\n      <g transform=\"translate(157.725295 239.238437)scale(0.1 -0.1)\">\n       <use xlink:href=\"#DejaVuSans-8722\"/>\n       <use x=\"83.789062\" xlink:href=\"#DejaVuSans-50\"/>\n      </g>\n     </g>\n    </g>\n    <g id=\"xtick_3\">\n     <g id=\"line2d_5\">\n      <path clip-path=\"url(#pab33940044)\" d=\"M 225.999568 224.64 \nL 225.999568 7.2 \n\" style=\"fill:none;stroke:#b0b0b0;stroke-linecap:square;stroke-width:0.8;\"/>\n     </g>\n     <g id=\"line2d_6\">\n      <g>\n       <use style=\"stroke:#000000;stroke-width:0.8;\" x=\"225.999568\" xlink:href=\"#mdd78a13cc5\" y=\"224.64\"/>\n      </g>\n     </g>\n     <g id=\"text_3\">\n      <!-- 0 -->\n      <defs>\n       <path d=\"M 31.78125 66.40625 \nQ 24.171875 66.40625 20.328125 58.90625 \nQ 16.5 51.421875 16.5 36.375 \nQ 16.5 21.390625 20.328125 13.890625 \nQ 24.171875 6.390625 31.78125 6.390625 \nQ 39.453125 6.390625 43.28125 13.890625 \nQ 47.125 21.390625 47.125 36.375 \nQ 47.125 51.421875 43.28125 58.90625 \nQ 39.453125 66.40625 31.78125 66.40625 \nz\nM 31.78125 74.21875 \nQ 44.046875 74.21875 50.515625 64.515625 \nQ 56.984375 54.828125 56.984375 36.375 \nQ 56.984375 17.96875 50.515625 8.265625 \nQ 44.046875 -1.421875 31.78125 -1.421875 \nQ 19.53125 -1.421875 13.0625 8.265625 \nQ 6.59375 17.96875 6.59375 36.375 \nQ 6.59375 54.828125 13.0625 64.515625 \nQ 19.53125 74.21875 31.78125 74.21875 \nz\n\" id=\"DejaVuSans-48\"/>\n      </defs>\n      <g transform=\"translate(222.818318 239.238437)scale(0.1 -0.1)\">\n       <use xlink:href=\"#DejaVuSans-48\"/>\n      </g>\n     </g>\n    </g>\n    <g id=\"xtick_4\">\n     <g id=\"line2d_7\">\n      <path clip-path=\"url(#pab33940044)\" d=\"M 286.902748 224.64 \nL 286.902748 7.2 \n\" style=\"fill:none;stroke:#b0b0b0;stroke-linecap:square;stroke-width:0.8;\"/>\n     </g>\n     <g id=\"line2d_8\">\n      <g>\n       <use style=\"stroke:#000000;stroke-width:0.8;\" x=\"286.902748\" xlink:href=\"#mdd78a13cc5\" y=\"224.64\"/>\n      </g>\n     </g>\n     <g id=\"text_4\">\n      <!-- 2 -->\n      <g transform=\"translate(283.721498 239.238437)scale(0.1 -0.1)\">\n       <use xlink:href=\"#DejaVuSans-50\"/>\n      </g>\n     </g>\n    </g>\n    <g id=\"xtick_5\">\n     <g id=\"line2d_9\">\n      <path clip-path=\"url(#pab33940044)\" d=\"M 347.805927 224.64 \nL 347.805927 7.2 \n\" style=\"fill:none;stroke:#b0b0b0;stroke-linecap:square;stroke-width:0.8;\"/>\n     </g>\n     <g id=\"line2d_10\">\n      <g>\n       <use style=\"stroke:#000000;stroke-width:0.8;\" x=\"347.805927\" xlink:href=\"#mdd78a13cc5\" y=\"224.64\"/>\n      </g>\n     </g>\n     <g id=\"text_5\">\n      <!-- 4 -->\n      <g transform=\"translate(344.624677 239.238437)scale(0.1 -0.1)\">\n       <use xlink:href=\"#DejaVuSans-52\"/>\n      </g>\n     </g>\n    </g>\n    <g id=\"text_6\">\n     <!-- x -->\n     <defs>\n      <path d=\"M 54.890625 54.6875 \nL 35.109375 28.078125 \nL 55.90625 0 \nL 45.3125 0 \nL 29.390625 21.484375 \nL 13.484375 0 \nL 2.875 0 \nL 24.125 28.609375 \nL 4.6875 54.6875 \nL 15.28125 54.6875 \nL 29.78125 35.203125 \nL 44.28125 54.6875 \nz\n\" id=\"DejaVuSans-120\"/>\n     </defs>\n     <g transform=\"translate(222.964063 252.916562)scale(0.1 -0.1)\">\n      <use xlink:href=\"#DejaVuSans-120\"/>\n     </g>\n    </g>\n   </g>\n   <g id=\"matplotlib.axis_2\">\n    <g id=\"ytick_1\">\n     <g id=\"line2d_11\">\n      <path clip-path=\"url(#pab33940044)\" d=\"M 58.523438 214.756393 \nL 393.323438 214.756393 \n\" style=\"fill:none;stroke:#b0b0b0;stroke-linecap:square;stroke-width:0.8;\"/>\n     </g>\n     <g id=\"line2d_12\">\n      <defs>\n       <path d=\"M 0 0 \nL -3.5 0 \n\" id=\"m47467dda85\" style=\"stroke:#000000;stroke-width:0.8;\"/>\n      </defs>\n      <g>\n       <use style=\"stroke:#000000;stroke-width:0.8;\" x=\"58.523438\" xlink:href=\"#m47467dda85\" y=\"214.756393\"/>\n      </g>\n     </g>\n     <g id=\"text_7\">\n      <!-- −1.00 -->\n      <defs>\n       <path d=\"M 12.40625 8.296875 \nL 28.515625 8.296875 \nL 28.515625 63.921875 \nL 10.984375 60.40625 \nL 10.984375 69.390625 \nL 28.421875 72.90625 \nL 38.28125 72.90625 \nL 38.28125 8.296875 \nL 54.390625 8.296875 \nL 54.390625 0 \nL 12.40625 0 \nz\n\" id=\"DejaVuSans-49\"/>\n       <path d=\"M 10.6875 12.40625 \nL 21 12.40625 \nL 21 0 \nL 10.6875 0 \nz\n\" id=\"DejaVuSans-46\"/>\n      </defs>\n      <g transform=\"translate(20.878125 218.555612)scale(0.1 -0.1)\">\n       <use xlink:href=\"#DejaVuSans-8722\"/>\n       <use x=\"83.789062\" xlink:href=\"#DejaVuSans-49\"/>\n       <use x=\"147.412109\" xlink:href=\"#DejaVuSans-46\"/>\n       <use x=\"179.199219\" xlink:href=\"#DejaVuSans-48\"/>\n       <use x=\"242.822266\" xlink:href=\"#DejaVuSans-48\"/>\n      </g>\n     </g>\n    </g>\n    <g id=\"ytick_2\">\n     <g id=\"line2d_13\">\n      <path clip-path=\"url(#pab33940044)\" d=\"M 58.523438 190.047299 \nL 393.323438 190.047299 \n\" style=\"fill:none;stroke:#b0b0b0;stroke-linecap:square;stroke-width:0.8;\"/>\n     </g>\n     <g id=\"line2d_14\">\n      <g>\n       <use style=\"stroke:#000000;stroke-width:0.8;\" x=\"58.523438\" xlink:href=\"#m47467dda85\" y=\"190.047299\"/>\n      </g>\n     </g>\n     <g id=\"text_8\">\n      <!-- −0.75 -->\n      <defs>\n       <path d=\"M 8.203125 72.90625 \nL 55.078125 72.90625 \nL 55.078125 68.703125 \nL 28.609375 0 \nL 18.3125 0 \nL 43.21875 64.59375 \nL 8.203125 64.59375 \nz\n\" id=\"DejaVuSans-55\"/>\n       <path d=\"M 10.796875 72.90625 \nL 49.515625 72.90625 \nL 49.515625 64.59375 \nL 19.828125 64.59375 \nL 19.828125 46.734375 \nQ 21.96875 47.46875 24.109375 47.828125 \nQ 26.265625 48.1875 28.421875 48.1875 \nQ 40.625 48.1875 47.75 41.5 \nQ 54.890625 34.8125 54.890625 23.390625 \nQ 54.890625 11.625 47.5625 5.09375 \nQ 40.234375 -1.421875 26.90625 -1.421875 \nQ 22.3125 -1.421875 17.546875 -0.640625 \nQ 12.796875 0.140625 7.71875 1.703125 \nL 7.71875 11.625 \nQ 12.109375 9.234375 16.796875 8.0625 \nQ 21.484375 6.890625 26.703125 6.890625 \nQ 35.15625 6.890625 40.078125 11.328125 \nQ 45.015625 15.765625 45.015625 23.390625 \nQ 45.015625 31 40.078125 35.4375 \nQ 35.15625 39.890625 26.703125 39.890625 \nQ 22.75 39.890625 18.8125 39.015625 \nQ 14.890625 38.140625 10.796875 36.28125 \nz\n\" id=\"DejaVuSans-53\"/>\n      </defs>\n      <g transform=\"translate(20.878125 193.846517)scale(0.1 -0.1)\">\n       <use xlink:href=\"#DejaVuSans-8722\"/>\n       <use x=\"83.789062\" xlink:href=\"#DejaVuSans-48\"/>\n       <use x=\"147.412109\" xlink:href=\"#DejaVuSans-46\"/>\n       <use x=\"179.199219\" xlink:href=\"#DejaVuSans-55\"/>\n       <use x=\"242.822266\" xlink:href=\"#DejaVuSans-53\"/>\n      </g>\n     </g>\n    </g>\n    <g id=\"ytick_3\">\n     <g id=\"line2d_15\">\n      <path clip-path=\"url(#pab33940044)\" d=\"M 58.523438 165.338204 \nL 393.323438 165.338204 \n\" style=\"fill:none;stroke:#b0b0b0;stroke-linecap:square;stroke-width:0.8;\"/>\n     </g>\n     <g id=\"line2d_16\">\n      <g>\n       <use style=\"stroke:#000000;stroke-width:0.8;\" x=\"58.523438\" xlink:href=\"#m47467dda85\" y=\"165.338204\"/>\n      </g>\n     </g>\n     <g id=\"text_9\">\n      <!-- −0.50 -->\n      <g transform=\"translate(20.878125 169.137423)scale(0.1 -0.1)\">\n       <use xlink:href=\"#DejaVuSans-8722\"/>\n       <use x=\"83.789062\" xlink:href=\"#DejaVuSans-48\"/>\n       <use x=\"147.412109\" xlink:href=\"#DejaVuSans-46\"/>\n       <use x=\"179.199219\" xlink:href=\"#DejaVuSans-53\"/>\n       <use x=\"242.822266\" xlink:href=\"#DejaVuSans-48\"/>\n      </g>\n     </g>\n    </g>\n    <g id=\"ytick_4\">\n     <g id=\"line2d_17\">\n      <path clip-path=\"url(#pab33940044)\" d=\"M 58.523438 140.629109 \nL 393.323438 140.629109 \n\" style=\"fill:none;stroke:#b0b0b0;stroke-linecap:square;stroke-width:0.8;\"/>\n     </g>\n     <g id=\"line2d_18\">\n      <g>\n       <use style=\"stroke:#000000;stroke-width:0.8;\" x=\"58.523438\" xlink:href=\"#m47467dda85\" y=\"140.629109\"/>\n      </g>\n     </g>\n     <g id=\"text_10\">\n      <!-- −0.25 -->\n      <g transform=\"translate(20.878125 144.428328)scale(0.1 -0.1)\">\n       <use xlink:href=\"#DejaVuSans-8722\"/>\n       <use x=\"83.789062\" xlink:href=\"#DejaVuSans-48\"/>\n       <use x=\"147.412109\" xlink:href=\"#DejaVuSans-46\"/>\n       <use x=\"179.199219\" xlink:href=\"#DejaVuSans-50\"/>\n       <use x=\"242.822266\" xlink:href=\"#DejaVuSans-53\"/>\n      </g>\n     </g>\n    </g>\n    <g id=\"ytick_5\">\n     <g id=\"line2d_19\">\n      <path clip-path=\"url(#pab33940044)\" d=\"M 58.523438 115.920015 \nL 393.323438 115.920015 \n\" style=\"fill:none;stroke:#b0b0b0;stroke-linecap:square;stroke-width:0.8;\"/>\n     </g>\n     <g id=\"line2d_20\">\n      <g>\n       <use style=\"stroke:#000000;stroke-width:0.8;\" x=\"58.523438\" xlink:href=\"#m47467dda85\" y=\"115.920015\"/>\n      </g>\n     </g>\n     <g id=\"text_11\">\n      <!-- 0.00 -->\n      <g transform=\"translate(29.257813 119.719233)scale(0.1 -0.1)\">\n       <use xlink:href=\"#DejaVuSans-48\"/>\n       <use x=\"63.623047\" xlink:href=\"#DejaVuSans-46\"/>\n       <use x=\"95.410156\" xlink:href=\"#DejaVuSans-48\"/>\n       <use x=\"159.033203\" xlink:href=\"#DejaVuSans-48\"/>\n      </g>\n     </g>\n    </g>\n    <g id=\"ytick_6\">\n     <g id=\"line2d_21\">\n      <path clip-path=\"url(#pab33940044)\" d=\"M 58.523438 91.21092 \nL 393.323438 91.21092 \n\" style=\"fill:none;stroke:#b0b0b0;stroke-linecap:square;stroke-width:0.8;\"/>\n     </g>\n     <g id=\"line2d_22\">\n      <g>\n       <use style=\"stroke:#000000;stroke-width:0.8;\" x=\"58.523438\" xlink:href=\"#m47467dda85\" y=\"91.21092\"/>\n      </g>\n     </g>\n     <g id=\"text_12\">\n      <!-- 0.25 -->\n      <g transform=\"translate(29.257813 95.010139)scale(0.1 -0.1)\">\n       <use xlink:href=\"#DejaVuSans-48\"/>\n       <use x=\"63.623047\" xlink:href=\"#DejaVuSans-46\"/>\n       <use x=\"95.410156\" xlink:href=\"#DejaVuSans-50\"/>\n       <use x=\"159.033203\" xlink:href=\"#DejaVuSans-53\"/>\n      </g>\n     </g>\n    </g>\n    <g id=\"ytick_7\">\n     <g id=\"line2d_23\">\n      <path clip-path=\"url(#pab33940044)\" d=\"M 58.523438 66.501826 \nL 393.323438 66.501826 \n\" style=\"fill:none;stroke:#b0b0b0;stroke-linecap:square;stroke-width:0.8;\"/>\n     </g>\n     <g id=\"line2d_24\">\n      <g>\n       <use style=\"stroke:#000000;stroke-width:0.8;\" x=\"58.523438\" xlink:href=\"#m47467dda85\" y=\"66.501826\"/>\n      </g>\n     </g>\n     <g id=\"text_13\">\n      <!-- 0.50 -->\n      <g transform=\"translate(29.257813 70.301044)scale(0.1 -0.1)\">\n       <use xlink:href=\"#DejaVuSans-48\"/>\n       <use x=\"63.623047\" xlink:href=\"#DejaVuSans-46\"/>\n       <use x=\"95.410156\" xlink:href=\"#DejaVuSans-53\"/>\n       <use x=\"159.033203\" xlink:href=\"#DejaVuSans-48\"/>\n      </g>\n     </g>\n    </g>\n    <g id=\"ytick_8\">\n     <g id=\"line2d_25\">\n      <path clip-path=\"url(#pab33940044)\" d=\"M 58.523438 41.792731 \nL 393.323438 41.792731 \n\" style=\"fill:none;stroke:#b0b0b0;stroke-linecap:square;stroke-width:0.8;\"/>\n     </g>\n     <g id=\"line2d_26\">\n      <g>\n       <use style=\"stroke:#000000;stroke-width:0.8;\" x=\"58.523438\" xlink:href=\"#m47467dda85\" y=\"41.792731\"/>\n      </g>\n     </g>\n     <g id=\"text_14\">\n      <!-- 0.75 -->\n      <g transform=\"translate(29.257813 45.59195)scale(0.1 -0.1)\">\n       <use xlink:href=\"#DejaVuSans-48\"/>\n       <use x=\"63.623047\" xlink:href=\"#DejaVuSans-46\"/>\n       <use x=\"95.410156\" xlink:href=\"#DejaVuSans-55\"/>\n       <use x=\"159.033203\" xlink:href=\"#DejaVuSans-53\"/>\n      </g>\n     </g>\n    </g>\n    <g id=\"ytick_9\">\n     <g id=\"line2d_27\">\n      <path clip-path=\"url(#pab33940044)\" d=\"M 58.523438 17.083636 \nL 393.323438 17.083636 \n\" style=\"fill:none;stroke:#b0b0b0;stroke-linecap:square;stroke-width:0.8;\"/>\n     </g>\n     <g id=\"line2d_28\">\n      <g>\n       <use style=\"stroke:#000000;stroke-width:0.8;\" x=\"58.523438\" xlink:href=\"#m47467dda85\" y=\"17.083636\"/>\n      </g>\n     </g>\n     <g id=\"text_15\">\n      <!-- 1.00 -->\n      <g transform=\"translate(29.257813 20.882855)scale(0.1 -0.1)\">\n       <use xlink:href=\"#DejaVuSans-49\"/>\n       <use x=\"63.623047\" xlink:href=\"#DejaVuSans-46\"/>\n       <use x=\"95.410156\" xlink:href=\"#DejaVuSans-48\"/>\n       <use x=\"159.033203\" xlink:href=\"#DejaVuSans-48\"/>\n      </g>\n     </g>\n    </g>\n    <g id=\"text_16\">\n     <!-- f(x) -->\n     <defs>\n      <path d=\"M 37.109375 75.984375 \nL 37.109375 68.5 \nL 28.515625 68.5 \nQ 23.6875 68.5 21.796875 66.546875 \nQ 19.921875 64.59375 19.921875 59.515625 \nL 19.921875 54.6875 \nL 34.71875 54.6875 \nL 34.71875 47.703125 \nL 19.921875 47.703125 \nL 19.921875 0 \nL 10.890625 0 \nL 10.890625 47.703125 \nL 2.296875 47.703125 \nL 2.296875 54.6875 \nL 10.890625 54.6875 \nL 10.890625 58.5 \nQ 10.890625 67.625 15.140625 71.796875 \nQ 19.390625 75.984375 28.609375 75.984375 \nz\n\" id=\"DejaVuSans-102\"/>\n      <path d=\"M 31 75.875 \nQ 24.46875 64.65625 21.28125 53.65625 \nQ 18.109375 42.671875 18.109375 31.390625 \nQ 18.109375 20.125 21.3125 9.0625 \nQ 24.515625 -2 31 -13.1875 \nL 23.1875 -13.1875 \nQ 15.875 -1.703125 12.234375 9.375 \nQ 8.59375 20.453125 8.59375 31.390625 \nQ 8.59375 42.28125 12.203125 53.3125 \nQ 15.828125 64.359375 23.1875 75.875 \nz\n\" id=\"DejaVuSans-40\"/>\n      <path d=\"M 8.015625 75.875 \nL 15.828125 75.875 \nQ 23.140625 64.359375 26.78125 53.3125 \nQ 30.421875 42.28125 30.421875 31.390625 \nQ 30.421875 20.453125 26.78125 9.375 \nQ 23.140625 -1.703125 15.828125 -13.1875 \nL 8.015625 -13.1875 \nQ 14.5 -2 17.703125 9.0625 \nQ 20.90625 20.125 20.90625 31.390625 \nQ 20.90625 42.671875 17.703125 53.65625 \nQ 14.5 64.65625 8.015625 75.875 \nz\n\" id=\"DejaVuSans-41\"/>\n     </defs>\n     <g transform=\"translate(14.798438 124.541094)rotate(-90)scale(0.1 -0.1)\">\n      <use xlink:href=\"#DejaVuSans-102\"/>\n      <use x=\"35.205078\" xlink:href=\"#DejaVuSans-40\"/>\n      <use x=\"74.21875\" xlink:href=\"#DejaVuSans-120\"/>\n      <use x=\"133.398438\" xlink:href=\"#DejaVuSans-41\"/>\n     </g>\n    </g>\n   </g>\n   <g id=\"line2d_29\">\n    <path clip-path=\"url(#pab33940044)\" d=\"M 73.741619 21.14341 \nL 75.416452 19.745521 \nL 77.091298 18.63847 \nL 78.613869 17.887301 \nL 80.136454 17.381155 \nL 81.65904 17.12131 \nL 83.18161 17.108408 \nL 84.704196 17.342486 \nL 86.226766 17.822947 \nL 87.749352 18.548613 \nL 89.271937 19.517653 \nL 90.946769 20.861786 \nL 92.621601 22.493393 \nL 94.448695 24.595375 \nL 96.42805 27.243163 \nL 98.407405 30.265472 \nL 100.539022 33.924456 \nL 102.822885 38.289926 \nL 105.25901 43.426865 \nL 107.999658 49.758468 \nL 110.89256 57.021714 \nL 114.08997 65.664634 \nL 117.744165 76.214276 \nL 122.00739 89.232834 \nL 127.793194 107.685899 \nL 139.66931 145.75001 \nL 144.08479 159.052116 \nL 147.738977 169.387733 \nL 150.936395 177.805407 \nL 153.829297 184.836414 \nL 156.569944 190.925038 \nL 159.006069 195.828866 \nL 161.28994 199.962544 \nL 163.421549 203.394745 \nL 165.400904 206.198482 \nL 167.380259 208.620929 \nL 169.207353 210.509724 \nL 170.882185 211.942217 \nL 172.557025 213.08432 \nL 174.079603 213.867672 \nL 175.602188 214.406214 \nL 177.124766 214.698584 \nL 178.647344 214.744063 \nL 180.169922 214.542534 \nL 181.6925 214.094498 \nL 183.215085 213.401073 \nL 184.737663 212.464004 \nL 186.412496 211.154623 \nL 188.087335 209.557226 \nL 189.914429 207.491833 \nL 191.74153 205.096874 \nL 193.720878 202.140481 \nL 195.852487 198.54981 \nL 198.136365 194.254026 \nL 200.57249 189.187079 \nL 203.160876 183.290723 \nL 206.053771 176.127125 \nL 209.251188 167.580542 \nL 212.753128 157.570688 \nL 216.864085 145.12818 \nL 222.193119 128.242414 \nL 236.50536 82.493899 \nL 240.616332 70.27943 \nL 244.118258 60.521374 \nL 247.315675 52.247885 \nL 250.208584 45.364315 \nL 252.796956 39.742997 \nL 255.233096 34.954086 \nL 257.516959 30.934342 \nL 259.648576 27.613248 \nL 261.627931 24.916358 \nL 263.455024 22.767836 \nL 265.282118 20.954559 \nL 266.95695 19.592488 \nL 268.631782 18.521738 \nL 270.154368 17.80386 \nL 271.676953 17.331222 \nL 273.199524 17.105009 \nL 274.722109 17.125781 \nL 276.24468 17.393485 \nL 277.767265 17.907455 \nL 279.28985 18.666406 \nL 280.812421 19.668436 \nL 282.487268 21.048434 \nL 284.1621 22.715335 \nL 285.989194 24.855055 \nL 287.968549 27.542655 \nL 289.947904 30.603521 \nL 292.07952 34.302424 \nL 294.363384 38.708601 \nL 296.799509 43.886366 \nL 299.540156 50.260367 \nL 302.433051 57.563944 \nL 305.630469 66.245769 \nL 309.284656 76.831967 \nL 313.547889 89.881966 \nL 319.48594 108.850069 \nL 330.905286 145.44969 \nL 335.32078 158.76865 \nL 338.974967 169.122704 \nL 342.17237 177.5596 \nL 345.06528 184.610396 \nL 347.805927 190.719633 \nL 350.242052 195.643185 \nL 352.525916 199.796421 \nL 354.657518 203.247726 \nL 356.789149 206.271343 \nL 358.768489 208.682968 \nL 360.595597 210.561583 \nL 362.270415 211.984545 \nL 363.945262 213.11701 \nL 365.467847 213.891514 \nL 366.990432 214.421136 \nL 368.512989 214.704551 \nL 370.035574 214.741064 \nL 371.558159 214.530575 \nL 373.080745 214.073614 \nL 374.60333 213.371311 \nL 376.125886 212.425453 \nL 377.800733 211.106493 \nL 378.105256 210.835614 \nL 378.105256 210.835614 \n\" style=\"fill:none;stroke:#1f77b4;stroke-linecap:square;stroke-width:1.5;\"/>\n   </g>\n   <g id=\"line2d_30\">\n    <path clip-path=\"url(#pab33940044)\" d=\"M 73.741619 87.88387 \nL 79.2229 105.30463 \nL 92.46934 147.702986 \nL 96.732573 160.45143 \nL 100.38676 170.694098 \nL 103.584178 179.014969 \nL 106.477073 185.94687 \nL 109.21772 191.932364 \nL 111.653845 196.737658 \nL 113.937716 200.773656 \nL 116.069325 204.110567 \nL 118.04868 206.822674 \nL 120.028035 209.150846 \nL 121.855129 210.950632 \nL 123.529968 212.300131 \nL 125.204808 213.358151 \nL 126.727386 214.064347 \nL 128.249964 214.525226 \nL 129.772542 214.739651 \nL 131.29512 214.707073 \nL 132.817705 214.427581 \nL 134.340283 213.90187 \nL 135.862861 213.13126 \nL 137.385439 212.117666 \nL 139.060279 210.72512 \nL 140.735118 209.045854 \nL 142.562212 206.892931 \nL 144.541567 204.191399 \nL 146.520915 201.11706 \nL 148.652531 197.404213 \nL 150.936395 192.983809 \nL 153.372527 187.79177 \nL 156.113167 181.402994 \nL 159.006069 174.085338 \nL 162.203487 165.389975 \nL 165.857674 154.791063 \nL 170.273154 141.252872 \nL 176.363473 121.768085 \nL 187.173788 87.109054 \nL 191.589268 73.750515 \nL 195.243463 63.352828 \nL 198.593135 54.482347 \nL 201.486029 47.415433 \nL 204.226677 41.289342 \nL 206.815063 36.057508 \nL 209.098927 31.918947 \nL 211.230543 28.481951 \nL 213.209898 25.673613 \nL 215.189253 23.24643 \nL 217.016347 21.353157 \nL 218.691179 19.916493 \nL 220.366026 18.770154 \nL 221.888597 17.98292 \nL 223.411182 17.440467 \nL 224.933753 17.144167 \nL 226.456338 17.094753 \nL 227.978923 17.292352 \nL 229.501494 17.736471 \nL 231.024079 18.425996 \nL 232.54665 19.3592 \nL 234.221497 20.664387 \nL 235.896329 22.257643 \nL 237.723423 24.318605 \nL 239.550516 26.709234 \nL 241.529871 29.661097 \nL 243.661488 33.247073 \nL 245.945351 37.538014 \nL 248.381476 42.600125 \nL 250.969863 48.491721 \nL 253.862772 55.650518 \nL 257.060189 64.192417 \nL 260.562115 74.19795 \nL 264.673087 86.636685 \nL 270.002106 103.519498 \nL 284.466623 149.736855 \nL 288.57758 161.928702 \nL 292.07952 171.66226 \nL 295.276923 179.909339 \nL 298.169833 186.766028 \nL 300.758219 192.361096 \nL 303.194344 197.123502 \nL 305.478207 201.117037 \nL 307.609824 204.412599 \nL 309.589179 207.084958 \nL 311.416272 209.210234 \nL 313.243366 210.999764 \nL 314.918198 212.339702 \nL 316.593045 213.388054 \nL 318.115616 214.085367 \nL 319.638201 214.537326 \nL 321.160786 214.742791 \nL 322.683372 214.701246 \nL 324.205928 214.412806 \nL 325.728513 213.878182 \nL 327.251098 213.098712 \nL 328.773684 212.07634 \nL 330.448501 210.67428 \nL 332.123348 208.985635 \nL 333.950456 206.822674 \nL 335.929797 204.110591 \nL 337.909166 201.025989 \nL 340.040768 197.302574 \nL 342.324632 192.871389 \nL 344.760757 187.668558 \nL 347.501404 181.268553 \nL 350.394314 173.940228 \nL 353.591717 165.234653 \nL 357.245904 154.62613 \nL 361.661398 141.079455 \nL 367.751711 121.589047 \nL 378.105256 88.358113 \nL 378.105256 88.358113 \n\" style=\"fill:none;stroke:#bf00bf;stroke-dasharray:5.55,2.4;stroke-dashoffset:0;stroke-width:1.5;\"/>\n   </g>\n   <g id=\"patch_3\">\n    <path d=\"M 58.523438 224.64 \nL 58.523438 7.2 \n\" style=\"fill:none;stroke:#000000;stroke-linecap:square;stroke-linejoin:miter;stroke-width:0.8;\"/>\n   </g>\n   <g id=\"patch_4\">\n    <path d=\"M 393.323438 224.64 \nL 393.323438 7.2 \n\" style=\"fill:none;stroke:#000000;stroke-linecap:square;stroke-linejoin:miter;stroke-width:0.8;\"/>\n   </g>\n   <g id=\"patch_5\">\n    <path d=\"M 58.523438 224.64 \nL 393.323437 224.64 \n\" style=\"fill:none;stroke:#000000;stroke-linecap:square;stroke-linejoin:miter;stroke-width:0.8;\"/>\n   </g>\n   <g id=\"patch_6\">\n    <path d=\"M 58.523438 7.2 \nL 393.323437 7.2 \n\" style=\"fill:none;stroke:#000000;stroke-linecap:square;stroke-linejoin:miter;stroke-width:0.8;\"/>\n   </g>\n   <g id=\"legend_1\">\n    <g id=\"patch_7\">\n     <path d=\"M 315.096875 44.55625 \nL 386.323438 44.55625 \nQ 388.323438 44.55625 388.323438 42.55625 \nL 388.323438 14.2 \nQ 388.323438 12.2 386.323438 12.2 \nL 315.096875 12.2 \nQ 313.096875 12.2 313.096875 14.2 \nL 313.096875 42.55625 \nQ 313.096875 44.55625 315.096875 44.55625 \nz\n\" style=\"fill:#ffffff;opacity:0.8;stroke:#cccccc;stroke-linejoin:miter;\"/>\n    </g>\n    <g id=\"line2d_31\">\n     <path d=\"M 317.096875 20.298437 \nL 337.096875 20.298437 \n\" style=\"fill:none;stroke:#1f77b4;stroke-linecap:square;stroke-width:1.5;\"/>\n    </g>\n    <g id=\"line2d_32\"/>\n    <g id=\"text_17\">\n     <!-- f(x) -->\n     <g transform=\"translate(345.096875 23.798437)scale(0.1 -0.1)\">\n      <use xlink:href=\"#DejaVuSans-102\"/>\n      <use x=\"35.205078\" xlink:href=\"#DejaVuSans-40\"/>\n      <use x=\"74.21875\" xlink:href=\"#DejaVuSans-120\"/>\n      <use x=\"133.398438\" xlink:href=\"#DejaVuSans-41\"/>\n     </g>\n    </g>\n    <g id=\"line2d_33\">\n     <path d=\"M 317.096875 34.976562 \nL 337.096875 34.976562 \n\" style=\"fill:none;stroke:#bf00bf;stroke-dasharray:5.55,2.4;stroke-dashoffset:0;stroke-width:1.5;\"/>\n    </g>\n    <g id=\"line2d_34\"/>\n    <g id=\"text_18\">\n     <!-- df(x)/dx -->\n     <defs>\n      <path d=\"M 45.40625 46.390625 \nL 45.40625 75.984375 \nL 54.390625 75.984375 \nL 54.390625 0 \nL 45.40625 0 \nL 45.40625 8.203125 \nQ 42.578125 3.328125 38.25 0.953125 \nQ 33.9375 -1.421875 27.875 -1.421875 \nQ 17.96875 -1.421875 11.734375 6.484375 \nQ 5.515625 14.40625 5.515625 27.296875 \nQ 5.515625 40.1875 11.734375 48.09375 \nQ 17.96875 56 27.875 56 \nQ 33.9375 56 38.25 53.625 \nQ 42.578125 51.265625 45.40625 46.390625 \nz\nM 14.796875 27.296875 \nQ 14.796875 17.390625 18.875 11.75 \nQ 22.953125 6.109375 30.078125 6.109375 \nQ 37.203125 6.109375 41.296875 11.75 \nQ 45.40625 17.390625 45.40625 27.296875 \nQ 45.40625 37.203125 41.296875 42.84375 \nQ 37.203125 48.484375 30.078125 48.484375 \nQ 22.953125 48.484375 18.875 42.84375 \nQ 14.796875 37.203125 14.796875 27.296875 \nz\n\" id=\"DejaVuSans-100\"/>\n      <path d=\"M 25.390625 72.90625 \nL 33.6875 72.90625 \nL 8.296875 -9.28125 \nL 0 -9.28125 \nz\n\" id=\"DejaVuSans-47\"/>\n     </defs>\n     <g transform=\"translate(345.096875 38.476562)scale(0.1 -0.1)\">\n      <use xlink:href=\"#DejaVuSans-100\"/>\n      <use x=\"63.476562\" xlink:href=\"#DejaVuSans-102\"/>\n      <use x=\"98.681641\" xlink:href=\"#DejaVuSans-40\"/>\n      <use x=\"137.695312\" xlink:href=\"#DejaVuSans-120\"/>\n      <use x=\"196.875\" xlink:href=\"#DejaVuSans-41\"/>\n      <use x=\"235.888672\" xlink:href=\"#DejaVuSans-47\"/>\n      <use x=\"269.580078\" xlink:href=\"#DejaVuSans-100\"/>\n      <use x=\"333.056641\" xlink:href=\"#DejaVuSans-120\"/>\n     </g>\n    </g>\n   </g>\n  </g>\n </g>\n <defs>\n  <clipPath id=\"pab33940044\">\n   <rect height=\"217.44\" width=\"334.8\" x=\"58.523438\" y=\"7.2\"/>\n  </clipPath>\n </defs>\n</svg>\n"
          },
          "metadata": {
            "tags": [],
            "needs_background": "light"
          }
        }
      ]
    },
    {
      "cell_type": "markdown",
      "metadata": {
        "id": "ijf4_9GHdCd4"
      },
      "source": [
        "# 2.6 Probability"
      ]
    },
    {
      "cell_type": "markdown",
      "metadata": {
        "id": "bxwVB5Nia8U_"
      },
      "source": [
        "###2.6.5 Exercises"
      ]
    },
    {
      "cell_type": "markdown",
      "metadata": {
        "id": "HqPqoVskbAhY"
      },
      "source": [
        "1. We conducted $m=500$ groups of experiments where each group draws $n=10$ samples. Vary $m$ and $n$. Observe and analyze the experimental results.\n",
        "  - As $n$ increases, each entry value is being close as a factor of 0.167. Also, each probability of each entry becomes close to 0.167 as $m$ increases.\n",
        "  - Thus, $m$ and $n$ are proportional to reaching the true probability of 0.167"
      ]
    },
    {
      "cell_type": "code",
      "metadata": {
        "id": "CkcJIgopbEJn",
        "colab": {
          "base_uri": "https://localhost:8080/",
          "height": 526
        },
        "outputId": "c605b0ae-8e97-4e5c-96c8-c870c51ef314"
      },
      "source": [
        "%matplotlib inline\n",
        "\n",
        "\n",
        "import random\n",
        "from mxnet import np, npx\n",
        "from d2l import mxnet as d2l\n",
        "\n",
        "npx.set_np()\n",
        "\n",
        "fair_chance = [1.0/6] * 6 \n",
        "counts = np.random.multinomial(50, fair_chance, 1000) \n",
        "cum_counts = counts.cumsum(axis=0)\n",
        "estimates = cum_counts / cum_counts.sum(axis=1, keepdims=True)\n",
        "\n",
        "\n",
        "d2l.set_figsize((6,4.5))\n",
        "for i in range(6):\n",
        "    d2l.plt.plot(estimates[:,i].asnumpy(), label=(\"p(die=\"+str(i+1)+\")\"))\n",
        "d2l.plt.plot()\n",
        "d2l.plt.axhline(y=0.167, color='black', linestyle='dashed')\n",
        "d2l.plt.gca().set_xlabel('Groups of experiments')\n",
        "d2l.plt.gca().set_ylabel('Estimated probability')\n",
        "d2l.plt.legend(); # Semicolon removes unnecessary output from plt. It works as plt.show()"
      ],
      "execution_count": 28,
      "outputs": [
        {
          "output_type": "stream",
          "text": [
            "[[0.18       0.1        0.28       0.16       0.14       0.14      ]\n",
            " [0.2        0.15       0.2        0.16       0.13       0.16      ]\n",
            " [0.17333333 0.14666666 0.18666667 0.18       0.16       0.15333334]\n",
            " ...\n",
            " [0.16621242 0.16436873 0.17006011 0.16739479 0.16629258 0.16567135]\n",
            " [0.16614614 0.1643043  0.17003003 0.16744745 0.16638638 0.16568568]\n",
            " [0.16612    0.16422    0.17       0.16742    0.16654    0.1657    ]]\n"
          ],
          "name": "stdout"
        },
        {
          "output_type": "display_data",
          "data": {
            "text/plain": [
              "<Figure size 432x324 with 1 Axes>"
            ],
            "image/svg+xml": "<?xml version=\"1.0\" encoding=\"utf-8\" standalone=\"no\"?>\n<!DOCTYPE svg PUBLIC \"-//W3C//DTD SVG 1.1//EN\"\n  \"http://www.w3.org/Graphics/SVG/1.1/DTD/svg11.dtd\">\n<!-- Created with matplotlib (https://matplotlib.org/) -->\n<svg height=\"289.37625pt\" version=\"1.1\" viewBox=\"0 0 398.50625 289.37625\" width=\"398.50625pt\" xmlns=\"http://www.w3.org/2000/svg\" xmlns:xlink=\"http://www.w3.org/1999/xlink\">\n <defs>\n  <style type=\"text/css\">\n*{stroke-linecap:butt;stroke-linejoin:round;}\n  </style>\n </defs>\n <g id=\"figure_1\">\n  <g id=\"patch_1\">\n   <path d=\"M 0 289.37625 \nL 398.50625 289.37625 \nL 398.50625 0 \nL 0 0 \nz\n\" style=\"fill:none;\"/>\n  </g>\n  <g id=\"axes_1\">\n   <g id=\"patch_2\">\n    <path d=\"M 56.50625 251.82 \nL 391.30625 251.82 \nL 391.30625 7.2 \nL 56.50625 7.2 \nz\n\" style=\"fill:#ffffff;\"/>\n   </g>\n   <g id=\"matplotlib.axis_1\">\n    <g id=\"xtick_1\">\n     <g id=\"line2d_1\">\n      <defs>\n       <path d=\"M 0 0 \nL 0 3.5 \n\" id=\"md76c785392\" style=\"stroke:#000000;stroke-width:0.8;\"/>\n      </defs>\n      <g>\n       <use style=\"stroke:#000000;stroke-width:0.8;\" x=\"71.724432\" xlink:href=\"#md76c785392\" y=\"251.82\"/>\n      </g>\n     </g>\n     <g id=\"text_1\">\n      <!-- 0 -->\n      <defs>\n       <path d=\"M 31.78125 66.40625 \nQ 24.171875 66.40625 20.328125 58.90625 \nQ 16.5 51.421875 16.5 36.375 \nQ 16.5 21.390625 20.328125 13.890625 \nQ 24.171875 6.390625 31.78125 6.390625 \nQ 39.453125 6.390625 43.28125 13.890625 \nQ 47.125 21.390625 47.125 36.375 \nQ 47.125 51.421875 43.28125 58.90625 \nQ 39.453125 66.40625 31.78125 66.40625 \nz\nM 31.78125 74.21875 \nQ 44.046875 74.21875 50.515625 64.515625 \nQ 56.984375 54.828125 56.984375 36.375 \nQ 56.984375 17.96875 50.515625 8.265625 \nQ 44.046875 -1.421875 31.78125 -1.421875 \nQ 19.53125 -1.421875 13.0625 8.265625 \nQ 6.59375 17.96875 6.59375 36.375 \nQ 6.59375 54.828125 13.0625 64.515625 \nQ 19.53125 74.21875 31.78125 74.21875 \nz\n\" id=\"DejaVuSans-48\"/>\n      </defs>\n      <g transform=\"translate(68.543182 266.418437)scale(0.1 -0.1)\">\n       <use xlink:href=\"#DejaVuSans-48\"/>\n      </g>\n     </g>\n    </g>\n    <g id=\"xtick_2\">\n     <g id=\"line2d_2\">\n      <g>\n       <use style=\"stroke:#000000;stroke-width:0.8;\" x=\"132.658093\" xlink:href=\"#md76c785392\" y=\"251.82\"/>\n      </g>\n     </g>\n     <g id=\"text_2\">\n      <!-- 200 -->\n      <defs>\n       <path d=\"M 19.1875 8.296875 \nL 53.609375 8.296875 \nL 53.609375 0 \nL 7.328125 0 \nL 7.328125 8.296875 \nQ 12.9375 14.109375 22.625 23.890625 \nQ 32.328125 33.6875 34.8125 36.53125 \nQ 39.546875 41.84375 41.421875 45.53125 \nQ 43.3125 49.21875 43.3125 52.78125 \nQ 43.3125 58.59375 39.234375 62.25 \nQ 35.15625 65.921875 28.609375 65.921875 \nQ 23.96875 65.921875 18.8125 64.3125 \nQ 13.671875 62.703125 7.8125 59.421875 \nL 7.8125 69.390625 \nQ 13.765625 71.78125 18.9375 73 \nQ 24.125 74.21875 28.421875 74.21875 \nQ 39.75 74.21875 46.484375 68.546875 \nQ 53.21875 62.890625 53.21875 53.421875 \nQ 53.21875 48.921875 51.53125 44.890625 \nQ 49.859375 40.875 45.40625 35.40625 \nQ 44.1875 33.984375 37.640625 27.21875 \nQ 31.109375 20.453125 19.1875 8.296875 \nz\n\" id=\"DejaVuSans-50\"/>\n      </defs>\n      <g transform=\"translate(123.114343 266.418437)scale(0.1 -0.1)\">\n       <use xlink:href=\"#DejaVuSans-50\"/>\n       <use x=\"63.623047\" xlink:href=\"#DejaVuSans-48\"/>\n       <use x=\"127.246094\" xlink:href=\"#DejaVuSans-48\"/>\n      </g>\n     </g>\n    </g>\n    <g id=\"xtick_3\">\n     <g id=\"line2d_3\">\n      <g>\n       <use style=\"stroke:#000000;stroke-width:0.8;\" x=\"193.591754\" xlink:href=\"#md76c785392\" y=\"251.82\"/>\n      </g>\n     </g>\n     <g id=\"text_3\">\n      <!-- 400 -->\n      <defs>\n       <path d=\"M 37.796875 64.3125 \nL 12.890625 25.390625 \nL 37.796875 25.390625 \nz\nM 35.203125 72.90625 \nL 47.609375 72.90625 \nL 47.609375 25.390625 \nL 58.015625 25.390625 \nL 58.015625 17.1875 \nL 47.609375 17.1875 \nL 47.609375 0 \nL 37.796875 0 \nL 37.796875 17.1875 \nL 4.890625 17.1875 \nL 4.890625 26.703125 \nz\n\" id=\"DejaVuSans-52\"/>\n      </defs>\n      <g transform=\"translate(184.048004 266.418437)scale(0.1 -0.1)\">\n       <use xlink:href=\"#DejaVuSans-52\"/>\n       <use x=\"63.623047\" xlink:href=\"#DejaVuSans-48\"/>\n       <use x=\"127.246094\" xlink:href=\"#DejaVuSans-48\"/>\n      </g>\n     </g>\n    </g>\n    <g id=\"xtick_4\">\n     <g id=\"line2d_4\">\n      <g>\n       <use style=\"stroke:#000000;stroke-width:0.8;\" x=\"254.525415\" xlink:href=\"#md76c785392\" y=\"251.82\"/>\n      </g>\n     </g>\n     <g id=\"text_4\">\n      <!-- 600 -->\n      <defs>\n       <path d=\"M 33.015625 40.375 \nQ 26.375 40.375 22.484375 35.828125 \nQ 18.609375 31.296875 18.609375 23.390625 \nQ 18.609375 15.53125 22.484375 10.953125 \nQ 26.375 6.390625 33.015625 6.390625 \nQ 39.65625 6.390625 43.53125 10.953125 \nQ 47.40625 15.53125 47.40625 23.390625 \nQ 47.40625 31.296875 43.53125 35.828125 \nQ 39.65625 40.375 33.015625 40.375 \nz\nM 52.59375 71.296875 \nL 52.59375 62.3125 \nQ 48.875 64.0625 45.09375 64.984375 \nQ 41.3125 65.921875 37.59375 65.921875 \nQ 27.828125 65.921875 22.671875 59.328125 \nQ 17.53125 52.734375 16.796875 39.40625 \nQ 19.671875 43.65625 24.015625 45.921875 \nQ 28.375 48.1875 33.59375 48.1875 \nQ 44.578125 48.1875 50.953125 41.515625 \nQ 57.328125 34.859375 57.328125 23.390625 \nQ 57.328125 12.15625 50.6875 5.359375 \nQ 44.046875 -1.421875 33.015625 -1.421875 \nQ 20.359375 -1.421875 13.671875 8.265625 \nQ 6.984375 17.96875 6.984375 36.375 \nQ 6.984375 53.65625 15.1875 63.9375 \nQ 23.390625 74.21875 37.203125 74.21875 \nQ 40.921875 74.21875 44.703125 73.484375 \nQ 48.484375 72.75 52.59375 71.296875 \nz\n\" id=\"DejaVuSans-54\"/>\n      </defs>\n      <g transform=\"translate(244.981665 266.418437)scale(0.1 -0.1)\">\n       <use xlink:href=\"#DejaVuSans-54\"/>\n       <use x=\"63.623047\" xlink:href=\"#DejaVuSans-48\"/>\n       <use x=\"127.246094\" xlink:href=\"#DejaVuSans-48\"/>\n      </g>\n     </g>\n    </g>\n    <g id=\"xtick_5\">\n     <g id=\"line2d_5\">\n      <g>\n       <use style=\"stroke:#000000;stroke-width:0.8;\" x=\"315.459076\" xlink:href=\"#md76c785392\" y=\"251.82\"/>\n      </g>\n     </g>\n     <g id=\"text_5\">\n      <!-- 800 -->\n      <defs>\n       <path d=\"M 31.78125 34.625 \nQ 24.75 34.625 20.71875 30.859375 \nQ 16.703125 27.09375 16.703125 20.515625 \nQ 16.703125 13.921875 20.71875 10.15625 \nQ 24.75 6.390625 31.78125 6.390625 \nQ 38.8125 6.390625 42.859375 10.171875 \nQ 46.921875 13.96875 46.921875 20.515625 \nQ 46.921875 27.09375 42.890625 30.859375 \nQ 38.875 34.625 31.78125 34.625 \nz\nM 21.921875 38.8125 \nQ 15.578125 40.375 12.03125 44.71875 \nQ 8.5 49.078125 8.5 55.328125 \nQ 8.5 64.0625 14.71875 69.140625 \nQ 20.953125 74.21875 31.78125 74.21875 \nQ 42.671875 74.21875 48.875 69.140625 \nQ 55.078125 64.0625 55.078125 55.328125 \nQ 55.078125 49.078125 51.53125 44.71875 \nQ 48 40.375 41.703125 38.8125 \nQ 48.828125 37.15625 52.796875 32.3125 \nQ 56.78125 27.484375 56.78125 20.515625 \nQ 56.78125 9.90625 50.3125 4.234375 \nQ 43.84375 -1.421875 31.78125 -1.421875 \nQ 19.734375 -1.421875 13.25 4.234375 \nQ 6.78125 9.90625 6.78125 20.515625 \nQ 6.78125 27.484375 10.78125 32.3125 \nQ 14.796875 37.15625 21.921875 38.8125 \nz\nM 18.3125 54.390625 \nQ 18.3125 48.734375 21.84375 45.5625 \nQ 25.390625 42.390625 31.78125 42.390625 \nQ 38.140625 42.390625 41.71875 45.5625 \nQ 45.3125 48.734375 45.3125 54.390625 \nQ 45.3125 60.0625 41.71875 63.234375 \nQ 38.140625 66.40625 31.78125 66.40625 \nQ 25.390625 66.40625 21.84375 63.234375 \nQ 18.3125 60.0625 18.3125 54.390625 \nz\n\" id=\"DejaVuSans-56\"/>\n      </defs>\n      <g transform=\"translate(305.915326 266.418437)scale(0.1 -0.1)\">\n       <use xlink:href=\"#DejaVuSans-56\"/>\n       <use x=\"63.623047\" xlink:href=\"#DejaVuSans-48\"/>\n       <use x=\"127.246094\" xlink:href=\"#DejaVuSans-48\"/>\n      </g>\n     </g>\n    </g>\n    <g id=\"xtick_6\">\n     <g id=\"line2d_6\">\n      <g>\n       <use style=\"stroke:#000000;stroke-width:0.8;\" x=\"376.392736\" xlink:href=\"#md76c785392\" y=\"251.82\"/>\n      </g>\n     </g>\n     <g id=\"text_6\">\n      <!-- 1000 -->\n      <defs>\n       <path d=\"M 12.40625 8.296875 \nL 28.515625 8.296875 \nL 28.515625 63.921875 \nL 10.984375 60.40625 \nL 10.984375 69.390625 \nL 28.421875 72.90625 \nL 38.28125 72.90625 \nL 38.28125 8.296875 \nL 54.390625 8.296875 \nL 54.390625 0 \nL 12.40625 0 \nz\n\" id=\"DejaVuSans-49\"/>\n      </defs>\n      <g transform=\"translate(363.667736 266.418437)scale(0.1 -0.1)\">\n       <use xlink:href=\"#DejaVuSans-49\"/>\n       <use x=\"63.623047\" xlink:href=\"#DejaVuSans-48\"/>\n       <use x=\"127.246094\" xlink:href=\"#DejaVuSans-48\"/>\n       <use x=\"190.869141\" xlink:href=\"#DejaVuSans-48\"/>\n      </g>\n     </g>\n    </g>\n    <g id=\"text_7\">\n     <!-- Groups of experiments -->\n     <defs>\n      <path d=\"M 59.515625 10.40625 \nL 59.515625 29.984375 \nL 43.40625 29.984375 \nL 43.40625 38.09375 \nL 69.28125 38.09375 \nL 69.28125 6.78125 \nQ 63.578125 2.734375 56.6875 0.65625 \nQ 49.8125 -1.421875 42 -1.421875 \nQ 24.90625 -1.421875 15.25 8.5625 \nQ 5.609375 18.5625 5.609375 36.375 \nQ 5.609375 54.25 15.25 64.234375 \nQ 24.90625 74.21875 42 74.21875 \nQ 49.125 74.21875 55.546875 72.453125 \nQ 61.96875 70.703125 67.390625 67.28125 \nL 67.390625 56.78125 \nQ 61.921875 61.421875 55.765625 63.765625 \nQ 49.609375 66.109375 42.828125 66.109375 \nQ 29.4375 66.109375 22.71875 58.640625 \nQ 16.015625 51.171875 16.015625 36.375 \nQ 16.015625 21.625 22.71875 14.15625 \nQ 29.4375 6.6875 42.828125 6.6875 \nQ 48.046875 6.6875 52.140625 7.59375 \nQ 56.25 8.5 59.515625 10.40625 \nz\n\" id=\"DejaVuSans-71\"/>\n      <path d=\"M 41.109375 46.296875 \nQ 39.59375 47.171875 37.8125 47.578125 \nQ 36.03125 48 33.890625 48 \nQ 26.265625 48 22.1875 43.046875 \nQ 18.109375 38.09375 18.109375 28.8125 \nL 18.109375 0 \nL 9.078125 0 \nL 9.078125 54.6875 \nL 18.109375 54.6875 \nL 18.109375 46.1875 \nQ 20.953125 51.171875 25.484375 53.578125 \nQ 30.03125 56 36.53125 56 \nQ 37.453125 56 38.578125 55.875 \nQ 39.703125 55.765625 41.0625 55.515625 \nz\n\" id=\"DejaVuSans-114\"/>\n      <path d=\"M 30.609375 48.390625 \nQ 23.390625 48.390625 19.1875 42.75 \nQ 14.984375 37.109375 14.984375 27.296875 \nQ 14.984375 17.484375 19.15625 11.84375 \nQ 23.34375 6.203125 30.609375 6.203125 \nQ 37.796875 6.203125 41.984375 11.859375 \nQ 46.1875 17.53125 46.1875 27.296875 \nQ 46.1875 37.015625 41.984375 42.703125 \nQ 37.796875 48.390625 30.609375 48.390625 \nz\nM 30.609375 56 \nQ 42.328125 56 49.015625 48.375 \nQ 55.71875 40.765625 55.71875 27.296875 \nQ 55.71875 13.875 49.015625 6.21875 \nQ 42.328125 -1.421875 30.609375 -1.421875 \nQ 18.84375 -1.421875 12.171875 6.21875 \nQ 5.515625 13.875 5.515625 27.296875 \nQ 5.515625 40.765625 12.171875 48.375 \nQ 18.84375 56 30.609375 56 \nz\n\" id=\"DejaVuSans-111\"/>\n      <path d=\"M 8.5 21.578125 \nL 8.5 54.6875 \nL 17.484375 54.6875 \nL 17.484375 21.921875 \nQ 17.484375 14.15625 20.5 10.265625 \nQ 23.53125 6.390625 29.59375 6.390625 \nQ 36.859375 6.390625 41.078125 11.03125 \nQ 45.3125 15.671875 45.3125 23.6875 \nL 45.3125 54.6875 \nL 54.296875 54.6875 \nL 54.296875 0 \nL 45.3125 0 \nL 45.3125 8.40625 \nQ 42.046875 3.421875 37.71875 1 \nQ 33.40625 -1.421875 27.6875 -1.421875 \nQ 18.265625 -1.421875 13.375 4.4375 \nQ 8.5 10.296875 8.5 21.578125 \nz\nM 31.109375 56 \nz\n\" id=\"DejaVuSans-117\"/>\n      <path d=\"M 18.109375 8.203125 \nL 18.109375 -20.796875 \nL 9.078125 -20.796875 \nL 9.078125 54.6875 \nL 18.109375 54.6875 \nL 18.109375 46.390625 \nQ 20.953125 51.265625 25.265625 53.625 \nQ 29.59375 56 35.59375 56 \nQ 45.5625 56 51.78125 48.09375 \nQ 58.015625 40.1875 58.015625 27.296875 \nQ 58.015625 14.40625 51.78125 6.484375 \nQ 45.5625 -1.421875 35.59375 -1.421875 \nQ 29.59375 -1.421875 25.265625 0.953125 \nQ 20.953125 3.328125 18.109375 8.203125 \nz\nM 48.6875 27.296875 \nQ 48.6875 37.203125 44.609375 42.84375 \nQ 40.53125 48.484375 33.40625 48.484375 \nQ 26.265625 48.484375 22.1875 42.84375 \nQ 18.109375 37.203125 18.109375 27.296875 \nQ 18.109375 17.390625 22.1875 11.75 \nQ 26.265625 6.109375 33.40625 6.109375 \nQ 40.53125 6.109375 44.609375 11.75 \nQ 48.6875 17.390625 48.6875 27.296875 \nz\n\" id=\"DejaVuSans-112\"/>\n      <path d=\"M 44.28125 53.078125 \nL 44.28125 44.578125 \nQ 40.484375 46.53125 36.375 47.5 \nQ 32.28125 48.484375 27.875 48.484375 \nQ 21.1875 48.484375 17.84375 46.4375 \nQ 14.5 44.390625 14.5 40.28125 \nQ 14.5 37.15625 16.890625 35.375 \nQ 19.28125 33.59375 26.515625 31.984375 \nL 29.59375 31.296875 \nQ 39.15625 29.25 43.1875 25.515625 \nQ 47.21875 21.78125 47.21875 15.09375 \nQ 47.21875 7.46875 41.1875 3.015625 \nQ 35.15625 -1.421875 24.609375 -1.421875 \nQ 20.21875 -1.421875 15.453125 -0.5625 \nQ 10.6875 0.296875 5.421875 2 \nL 5.421875 11.28125 \nQ 10.40625 8.6875 15.234375 7.390625 \nQ 20.0625 6.109375 24.8125 6.109375 \nQ 31.15625 6.109375 34.5625 8.28125 \nQ 37.984375 10.453125 37.984375 14.40625 \nQ 37.984375 18.0625 35.515625 20.015625 \nQ 33.0625 21.96875 24.703125 23.78125 \nL 21.578125 24.515625 \nQ 13.234375 26.265625 9.515625 29.90625 \nQ 5.8125 33.546875 5.8125 39.890625 \nQ 5.8125 47.609375 11.28125 51.796875 \nQ 16.75 56 26.8125 56 \nQ 31.78125 56 36.171875 55.265625 \nQ 40.578125 54.546875 44.28125 53.078125 \nz\n\" id=\"DejaVuSans-115\"/>\n      <path id=\"DejaVuSans-32\"/>\n      <path d=\"M 37.109375 75.984375 \nL 37.109375 68.5 \nL 28.515625 68.5 \nQ 23.6875 68.5 21.796875 66.546875 \nQ 19.921875 64.59375 19.921875 59.515625 \nL 19.921875 54.6875 \nL 34.71875 54.6875 \nL 34.71875 47.703125 \nL 19.921875 47.703125 \nL 19.921875 0 \nL 10.890625 0 \nL 10.890625 47.703125 \nL 2.296875 47.703125 \nL 2.296875 54.6875 \nL 10.890625 54.6875 \nL 10.890625 58.5 \nQ 10.890625 67.625 15.140625 71.796875 \nQ 19.390625 75.984375 28.609375 75.984375 \nz\n\" id=\"DejaVuSans-102\"/>\n      <path d=\"M 56.203125 29.59375 \nL 56.203125 25.203125 \nL 14.890625 25.203125 \nQ 15.484375 15.921875 20.484375 11.0625 \nQ 25.484375 6.203125 34.421875 6.203125 \nQ 39.59375 6.203125 44.453125 7.46875 \nQ 49.3125 8.734375 54.109375 11.28125 \nL 54.109375 2.78125 \nQ 49.265625 0.734375 44.1875 -0.34375 \nQ 39.109375 -1.421875 33.890625 -1.421875 \nQ 20.796875 -1.421875 13.15625 6.1875 \nQ 5.515625 13.8125 5.515625 26.8125 \nQ 5.515625 40.234375 12.765625 48.109375 \nQ 20.015625 56 32.328125 56 \nQ 43.359375 56 49.78125 48.890625 \nQ 56.203125 41.796875 56.203125 29.59375 \nz\nM 47.21875 32.234375 \nQ 47.125 39.59375 43.09375 43.984375 \nQ 39.0625 48.390625 32.421875 48.390625 \nQ 24.90625 48.390625 20.390625 44.140625 \nQ 15.875 39.890625 15.1875 32.171875 \nz\n\" id=\"DejaVuSans-101\"/>\n      <path d=\"M 54.890625 54.6875 \nL 35.109375 28.078125 \nL 55.90625 0 \nL 45.3125 0 \nL 29.390625 21.484375 \nL 13.484375 0 \nL 2.875 0 \nL 24.125 28.609375 \nL 4.6875 54.6875 \nL 15.28125 54.6875 \nL 29.78125 35.203125 \nL 44.28125 54.6875 \nz\n\" id=\"DejaVuSans-120\"/>\n      <path d=\"M 9.421875 54.6875 \nL 18.40625 54.6875 \nL 18.40625 0 \nL 9.421875 0 \nz\nM 9.421875 75.984375 \nL 18.40625 75.984375 \nL 18.40625 64.59375 \nL 9.421875 64.59375 \nz\n\" id=\"DejaVuSans-105\"/>\n      <path d=\"M 52 44.1875 \nQ 55.375 50.25 60.0625 53.125 \nQ 64.75 56 71.09375 56 \nQ 79.640625 56 84.28125 50.015625 \nQ 88.921875 44.046875 88.921875 33.015625 \nL 88.921875 0 \nL 79.890625 0 \nL 79.890625 32.71875 \nQ 79.890625 40.578125 77.09375 44.375 \nQ 74.3125 48.1875 68.609375 48.1875 \nQ 61.625 48.1875 57.5625 43.546875 \nQ 53.515625 38.921875 53.515625 30.90625 \nL 53.515625 0 \nL 44.484375 0 \nL 44.484375 32.71875 \nQ 44.484375 40.625 41.703125 44.40625 \nQ 38.921875 48.1875 33.109375 48.1875 \nQ 26.21875 48.1875 22.15625 43.53125 \nQ 18.109375 38.875 18.109375 30.90625 \nL 18.109375 0 \nL 9.078125 0 \nL 9.078125 54.6875 \nL 18.109375 54.6875 \nL 18.109375 46.1875 \nQ 21.1875 51.21875 25.484375 53.609375 \nQ 29.78125 56 35.6875 56 \nQ 41.65625 56 45.828125 52.96875 \nQ 50 49.953125 52 44.1875 \nz\n\" id=\"DejaVuSans-109\"/>\n      <path d=\"M 54.890625 33.015625 \nL 54.890625 0 \nL 45.90625 0 \nL 45.90625 32.71875 \nQ 45.90625 40.484375 42.875 44.328125 \nQ 39.84375 48.1875 33.796875 48.1875 \nQ 26.515625 48.1875 22.3125 43.546875 \nQ 18.109375 38.921875 18.109375 30.90625 \nL 18.109375 0 \nL 9.078125 0 \nL 9.078125 54.6875 \nL 18.109375 54.6875 \nL 18.109375 46.1875 \nQ 21.34375 51.125 25.703125 53.5625 \nQ 30.078125 56 35.796875 56 \nQ 45.21875 56 50.046875 50.171875 \nQ 54.890625 44.34375 54.890625 33.015625 \nz\n\" id=\"DejaVuSans-110\"/>\n      <path d=\"M 18.3125 70.21875 \nL 18.3125 54.6875 \nL 36.8125 54.6875 \nL 36.8125 47.703125 \nL 18.3125 47.703125 \nL 18.3125 18.015625 \nQ 18.3125 11.328125 20.140625 9.421875 \nQ 21.96875 7.515625 27.59375 7.515625 \nL 36.8125 7.515625 \nL 36.8125 0 \nL 27.59375 0 \nQ 17.1875 0 13.234375 3.875 \nQ 9.28125 7.765625 9.28125 18.015625 \nL 9.28125 47.703125 \nL 2.6875 47.703125 \nL 2.6875 54.6875 \nL 9.28125 54.6875 \nL 9.28125 70.21875 \nz\n\" id=\"DejaVuSans-116\"/>\n     </defs>\n     <g transform=\"translate(166.760156 280.096562)scale(0.1 -0.1)\">\n      <use xlink:href=\"#DejaVuSans-71\"/>\n      <use x=\"77.490234\" xlink:href=\"#DejaVuSans-114\"/>\n      <use x=\"116.353516\" xlink:href=\"#DejaVuSans-111\"/>\n      <use x=\"177.535156\" xlink:href=\"#DejaVuSans-117\"/>\n      <use x=\"240.914062\" xlink:href=\"#DejaVuSans-112\"/>\n      <use x=\"304.390625\" xlink:href=\"#DejaVuSans-115\"/>\n      <use x=\"356.490234\" xlink:href=\"#DejaVuSans-32\"/>\n      <use x=\"388.277344\" xlink:href=\"#DejaVuSans-111\"/>\n      <use x=\"449.458984\" xlink:href=\"#DejaVuSans-102\"/>\n      <use x=\"484.664062\" xlink:href=\"#DejaVuSans-32\"/>\n      <use x=\"516.451172\" xlink:href=\"#DejaVuSans-101\"/>\n      <use x=\"576.224609\" xlink:href=\"#DejaVuSans-120\"/>\n      <use x=\"635.404297\" xlink:href=\"#DejaVuSans-112\"/>\n      <use x=\"698.880859\" xlink:href=\"#DejaVuSans-101\"/>\n      <use x=\"760.404297\" xlink:href=\"#DejaVuSans-114\"/>\n      <use x=\"801.517578\" xlink:href=\"#DejaVuSans-105\"/>\n      <use x=\"829.300781\" xlink:href=\"#DejaVuSans-109\"/>\n      <use x=\"926.712891\" xlink:href=\"#DejaVuSans-101\"/>\n      <use x=\"988.236328\" xlink:href=\"#DejaVuSans-110\"/>\n      <use x=\"1051.615234\" xlink:href=\"#DejaVuSans-116\"/>\n      <use x=\"1090.824219\" xlink:href=\"#DejaVuSans-115\"/>\n     </g>\n    </g>\n   </g>\n   <g id=\"matplotlib.axis_2\">\n    <g id=\"ytick_1\">\n     <g id=\"line2d_7\">\n      <defs>\n       <path d=\"M 0 0 \nL -3.5 0 \n\" id=\"m9ca7326b32\" style=\"stroke:#000000;stroke-width:0.8;\"/>\n      </defs>\n      <g>\n       <use style=\"stroke:#000000;stroke-width:0.8;\" x=\"56.50625\" xlink:href=\"#m9ca7326b32\" y=\"240.700911\"/>\n      </g>\n     </g>\n     <g id=\"text_8\">\n      <!-- 0.100 -->\n      <defs>\n       <path d=\"M 10.6875 12.40625 \nL 21 12.40625 \nL 21 0 \nL 10.6875 0 \nz\n\" id=\"DejaVuSans-46\"/>\n      </defs>\n      <g transform=\"translate(20.878125 244.50013)scale(0.1 -0.1)\">\n       <use xlink:href=\"#DejaVuSans-48\"/>\n       <use x=\"63.623047\" xlink:href=\"#DejaVuSans-46\"/>\n       <use x=\"95.410156\" xlink:href=\"#DejaVuSans-49\"/>\n       <use x=\"159.033203\" xlink:href=\"#DejaVuSans-48\"/>\n       <use x=\"222.65625\" xlink:href=\"#DejaVuSans-48\"/>\n      </g>\n     </g>\n    </g>\n    <g id=\"ytick_2\">\n     <g id=\"line2d_8\">\n      <g>\n       <use style=\"stroke:#000000;stroke-width:0.8;\" x=\"56.50625\" xlink:href=\"#m9ca7326b32\" y=\"209.814547\"/>\n      </g>\n     </g>\n     <g id=\"text_9\">\n      <!-- 0.125 -->\n      <defs>\n       <path d=\"M 10.796875 72.90625 \nL 49.515625 72.90625 \nL 49.515625 64.59375 \nL 19.828125 64.59375 \nL 19.828125 46.734375 \nQ 21.96875 47.46875 24.109375 47.828125 \nQ 26.265625 48.1875 28.421875 48.1875 \nQ 40.625 48.1875 47.75 41.5 \nQ 54.890625 34.8125 54.890625 23.390625 \nQ 54.890625 11.625 47.5625 5.09375 \nQ 40.234375 -1.421875 26.90625 -1.421875 \nQ 22.3125 -1.421875 17.546875 -0.640625 \nQ 12.796875 0.140625 7.71875 1.703125 \nL 7.71875 11.625 \nQ 12.109375 9.234375 16.796875 8.0625 \nQ 21.484375 6.890625 26.703125 6.890625 \nQ 35.15625 6.890625 40.078125 11.328125 \nQ 45.015625 15.765625 45.015625 23.390625 \nQ 45.015625 31 40.078125 35.4375 \nQ 35.15625 39.890625 26.703125 39.890625 \nQ 22.75 39.890625 18.8125 39.015625 \nQ 14.890625 38.140625 10.796875 36.28125 \nz\n\" id=\"DejaVuSans-53\"/>\n      </defs>\n      <g transform=\"translate(20.878125 213.613766)scale(0.1 -0.1)\">\n       <use xlink:href=\"#DejaVuSans-48\"/>\n       <use x=\"63.623047\" xlink:href=\"#DejaVuSans-46\"/>\n       <use x=\"95.410156\" xlink:href=\"#DejaVuSans-49\"/>\n       <use x=\"159.033203\" xlink:href=\"#DejaVuSans-50\"/>\n       <use x=\"222.65625\" xlink:href=\"#DejaVuSans-53\"/>\n      </g>\n     </g>\n    </g>\n    <g id=\"ytick_3\">\n     <g id=\"line2d_9\">\n      <g>\n       <use style=\"stroke:#000000;stroke-width:0.8;\" x=\"56.50625\" xlink:href=\"#m9ca7326b32\" y=\"178.928184\"/>\n      </g>\n     </g>\n     <g id=\"text_10\">\n      <!-- 0.150 -->\n      <g transform=\"translate(20.878125 182.727402)scale(0.1 -0.1)\">\n       <use xlink:href=\"#DejaVuSans-48\"/>\n       <use x=\"63.623047\" xlink:href=\"#DejaVuSans-46\"/>\n       <use x=\"95.410156\" xlink:href=\"#DejaVuSans-49\"/>\n       <use x=\"159.033203\" xlink:href=\"#DejaVuSans-53\"/>\n       <use x=\"222.65625\" xlink:href=\"#DejaVuSans-48\"/>\n      </g>\n     </g>\n    </g>\n    <g id=\"ytick_4\">\n     <g id=\"line2d_10\">\n      <g>\n       <use style=\"stroke:#000000;stroke-width:0.8;\" x=\"56.50625\" xlink:href=\"#m9ca7326b32\" y=\"148.04182\"/>\n      </g>\n     </g>\n     <g id=\"text_11\">\n      <!-- 0.175 -->\n      <defs>\n       <path d=\"M 8.203125 72.90625 \nL 55.078125 72.90625 \nL 55.078125 68.703125 \nL 28.609375 0 \nL 18.3125 0 \nL 43.21875 64.59375 \nL 8.203125 64.59375 \nz\n\" id=\"DejaVuSans-55\"/>\n      </defs>\n      <g transform=\"translate(20.878125 151.841039)scale(0.1 -0.1)\">\n       <use xlink:href=\"#DejaVuSans-48\"/>\n       <use x=\"63.623047\" xlink:href=\"#DejaVuSans-46\"/>\n       <use x=\"95.410156\" xlink:href=\"#DejaVuSans-49\"/>\n       <use x=\"159.033203\" xlink:href=\"#DejaVuSans-55\"/>\n       <use x=\"222.65625\" xlink:href=\"#DejaVuSans-53\"/>\n      </g>\n     </g>\n    </g>\n    <g id=\"ytick_5\">\n     <g id=\"line2d_11\">\n      <g>\n       <use style=\"stroke:#000000;stroke-width:0.8;\" x=\"56.50625\" xlink:href=\"#m9ca7326b32\" y=\"117.155456\"/>\n      </g>\n     </g>\n     <g id=\"text_12\">\n      <!-- 0.200 -->\n      <g transform=\"translate(20.878125 120.954675)scale(0.1 -0.1)\">\n       <use xlink:href=\"#DejaVuSans-48\"/>\n       <use x=\"63.623047\" xlink:href=\"#DejaVuSans-46\"/>\n       <use x=\"95.410156\" xlink:href=\"#DejaVuSans-50\"/>\n       <use x=\"159.033203\" xlink:href=\"#DejaVuSans-48\"/>\n       <use x=\"222.65625\" xlink:href=\"#DejaVuSans-48\"/>\n      </g>\n     </g>\n    </g>\n    <g id=\"ytick_6\">\n     <g id=\"line2d_12\">\n      <g>\n       <use style=\"stroke:#000000;stroke-width:0.8;\" x=\"56.50625\" xlink:href=\"#m9ca7326b32\" y=\"86.269092\"/>\n      </g>\n     </g>\n     <g id=\"text_13\">\n      <!-- 0.225 -->\n      <g transform=\"translate(20.878125 90.068311)scale(0.1 -0.1)\">\n       <use xlink:href=\"#DejaVuSans-48\"/>\n       <use x=\"63.623047\" xlink:href=\"#DejaVuSans-46\"/>\n       <use x=\"95.410156\" xlink:href=\"#DejaVuSans-50\"/>\n       <use x=\"159.033203\" xlink:href=\"#DejaVuSans-50\"/>\n       <use x=\"222.65625\" xlink:href=\"#DejaVuSans-53\"/>\n      </g>\n     </g>\n    </g>\n    <g id=\"ytick_7\">\n     <g id=\"line2d_13\">\n      <g>\n       <use style=\"stroke:#000000;stroke-width:0.8;\" x=\"56.50625\" xlink:href=\"#m9ca7326b32\" y=\"55.382729\"/>\n      </g>\n     </g>\n     <g id=\"text_14\">\n      <!-- 0.250 -->\n      <g transform=\"translate(20.878125 59.181948)scale(0.1 -0.1)\">\n       <use xlink:href=\"#DejaVuSans-48\"/>\n       <use x=\"63.623047\" xlink:href=\"#DejaVuSans-46\"/>\n       <use x=\"95.410156\" xlink:href=\"#DejaVuSans-50\"/>\n       <use x=\"159.033203\" xlink:href=\"#DejaVuSans-53\"/>\n       <use x=\"222.65625\" xlink:href=\"#DejaVuSans-48\"/>\n      </g>\n     </g>\n    </g>\n    <g id=\"ytick_8\">\n     <g id=\"line2d_14\">\n      <g>\n       <use style=\"stroke:#000000;stroke-width:0.8;\" x=\"56.50625\" xlink:href=\"#m9ca7326b32\" y=\"24.496365\"/>\n      </g>\n     </g>\n     <g id=\"text_15\">\n      <!-- 0.275 -->\n      <g transform=\"translate(20.878125 28.295584)scale(0.1 -0.1)\">\n       <use xlink:href=\"#DejaVuSans-48\"/>\n       <use x=\"63.623047\" xlink:href=\"#DejaVuSans-46\"/>\n       <use x=\"95.410156\" xlink:href=\"#DejaVuSans-50\"/>\n       <use x=\"159.033203\" xlink:href=\"#DejaVuSans-55\"/>\n       <use x=\"222.65625\" xlink:href=\"#DejaVuSans-53\"/>\n      </g>\n     </g>\n    </g>\n    <g id=\"text_16\">\n     <!-- Estimated probability -->\n     <defs>\n      <path d=\"M 9.8125 72.90625 \nL 55.90625 72.90625 \nL 55.90625 64.59375 \nL 19.671875 64.59375 \nL 19.671875 43.015625 \nL 54.390625 43.015625 \nL 54.390625 34.71875 \nL 19.671875 34.71875 \nL 19.671875 8.296875 \nL 56.78125 8.296875 \nL 56.78125 0 \nL 9.8125 0 \nz\n\" id=\"DejaVuSans-69\"/>\n      <path d=\"M 34.28125 27.484375 \nQ 23.390625 27.484375 19.1875 25 \nQ 14.984375 22.515625 14.984375 16.5 \nQ 14.984375 11.71875 18.140625 8.90625 \nQ 21.296875 6.109375 26.703125 6.109375 \nQ 34.1875 6.109375 38.703125 11.40625 \nQ 43.21875 16.703125 43.21875 25.484375 \nL 43.21875 27.484375 \nz\nM 52.203125 31.203125 \nL 52.203125 0 \nL 43.21875 0 \nL 43.21875 8.296875 \nQ 40.140625 3.328125 35.546875 0.953125 \nQ 30.953125 -1.421875 24.3125 -1.421875 \nQ 15.921875 -1.421875 10.953125 3.296875 \nQ 6 8.015625 6 15.921875 \nQ 6 25.140625 12.171875 29.828125 \nQ 18.359375 34.515625 30.609375 34.515625 \nL 43.21875 34.515625 \nL 43.21875 35.40625 \nQ 43.21875 41.609375 39.140625 45 \nQ 35.0625 48.390625 27.6875 48.390625 \nQ 23 48.390625 18.546875 47.265625 \nQ 14.109375 46.140625 10.015625 43.890625 \nL 10.015625 52.203125 \nQ 14.9375 54.109375 19.578125 55.046875 \nQ 24.21875 56 28.609375 56 \nQ 40.484375 56 46.34375 49.84375 \nQ 52.203125 43.703125 52.203125 31.203125 \nz\n\" id=\"DejaVuSans-97\"/>\n      <path d=\"M 45.40625 46.390625 \nL 45.40625 75.984375 \nL 54.390625 75.984375 \nL 54.390625 0 \nL 45.40625 0 \nL 45.40625 8.203125 \nQ 42.578125 3.328125 38.25 0.953125 \nQ 33.9375 -1.421875 27.875 -1.421875 \nQ 17.96875 -1.421875 11.734375 6.484375 \nQ 5.515625 14.40625 5.515625 27.296875 \nQ 5.515625 40.1875 11.734375 48.09375 \nQ 17.96875 56 27.875 56 \nQ 33.9375 56 38.25 53.625 \nQ 42.578125 51.265625 45.40625 46.390625 \nz\nM 14.796875 27.296875 \nQ 14.796875 17.390625 18.875 11.75 \nQ 22.953125 6.109375 30.078125 6.109375 \nQ 37.203125 6.109375 41.296875 11.75 \nQ 45.40625 17.390625 45.40625 27.296875 \nQ 45.40625 37.203125 41.296875 42.84375 \nQ 37.203125 48.484375 30.078125 48.484375 \nQ 22.953125 48.484375 18.875 42.84375 \nQ 14.796875 37.203125 14.796875 27.296875 \nz\n\" id=\"DejaVuSans-100\"/>\n      <path d=\"M 48.6875 27.296875 \nQ 48.6875 37.203125 44.609375 42.84375 \nQ 40.53125 48.484375 33.40625 48.484375 \nQ 26.265625 48.484375 22.1875 42.84375 \nQ 18.109375 37.203125 18.109375 27.296875 \nQ 18.109375 17.390625 22.1875 11.75 \nQ 26.265625 6.109375 33.40625 6.109375 \nQ 40.53125 6.109375 44.609375 11.75 \nQ 48.6875 17.390625 48.6875 27.296875 \nz\nM 18.109375 46.390625 \nQ 20.953125 51.265625 25.265625 53.625 \nQ 29.59375 56 35.59375 56 \nQ 45.5625 56 51.78125 48.09375 \nQ 58.015625 40.1875 58.015625 27.296875 \nQ 58.015625 14.40625 51.78125 6.484375 \nQ 45.5625 -1.421875 35.59375 -1.421875 \nQ 29.59375 -1.421875 25.265625 0.953125 \nQ 20.953125 3.328125 18.109375 8.203125 \nL 18.109375 0 \nL 9.078125 0 \nL 9.078125 75.984375 \nL 18.109375 75.984375 \nz\n\" id=\"DejaVuSans-98\"/>\n      <path d=\"M 9.421875 75.984375 \nL 18.40625 75.984375 \nL 18.40625 0 \nL 9.421875 0 \nz\n\" id=\"DejaVuSans-108\"/>\n      <path d=\"M 32.171875 -5.078125 \nQ 28.375 -14.84375 24.75 -17.8125 \nQ 21.140625 -20.796875 15.09375 -20.796875 \nL 7.90625 -20.796875 \nL 7.90625 -13.28125 \nL 13.1875 -13.28125 \nQ 16.890625 -13.28125 18.9375 -11.515625 \nQ 21 -9.765625 23.484375 -3.21875 \nL 25.09375 0.875 \nL 2.984375 54.6875 \nL 12.5 54.6875 \nL 29.59375 11.921875 \nL 46.6875 54.6875 \nL 56.203125 54.6875 \nz\n\" id=\"DejaVuSans-121\"/>\n     </defs>\n     <g transform=\"translate(14.798438 183.033437)rotate(-90)scale(0.1 -0.1)\">\n      <use xlink:href=\"#DejaVuSans-69\"/>\n      <use x=\"63.183594\" xlink:href=\"#DejaVuSans-115\"/>\n      <use x=\"115.283203\" xlink:href=\"#DejaVuSans-116\"/>\n      <use x=\"154.492188\" xlink:href=\"#DejaVuSans-105\"/>\n      <use x=\"182.275391\" xlink:href=\"#DejaVuSans-109\"/>\n      <use x=\"279.6875\" xlink:href=\"#DejaVuSans-97\"/>\n      <use x=\"340.966797\" xlink:href=\"#DejaVuSans-116\"/>\n      <use x=\"380.175781\" xlink:href=\"#DejaVuSans-101\"/>\n      <use x=\"441.699219\" xlink:href=\"#DejaVuSans-100\"/>\n      <use x=\"505.175781\" xlink:href=\"#DejaVuSans-32\"/>\n      <use x=\"536.962891\" xlink:href=\"#DejaVuSans-112\"/>\n      <use x=\"600.439453\" xlink:href=\"#DejaVuSans-114\"/>\n      <use x=\"639.302734\" xlink:href=\"#DejaVuSans-111\"/>\n      <use x=\"700.484375\" xlink:href=\"#DejaVuSans-98\"/>\n      <use x=\"763.960938\" xlink:href=\"#DejaVuSans-97\"/>\n      <use x=\"825.240234\" xlink:href=\"#DejaVuSans-98\"/>\n      <use x=\"888.716797\" xlink:href=\"#DejaVuSans-105\"/>\n      <use x=\"916.5\" xlink:href=\"#DejaVuSans-108\"/>\n      <use x=\"944.283203\" xlink:href=\"#DejaVuSans-105\"/>\n      <use x=\"972.066406\" xlink:href=\"#DejaVuSans-116\"/>\n      <use x=\"1011.275391\" xlink:href=\"#DejaVuSans-121\"/>\n     </g>\n    </g>\n   </g>\n   <g id=\"line2d_15\">\n    <path clip-path=\"url(#p800ad8a6e2)\" d=\"M 71.724432 141.864538 \nL 72.0291 117.155452 \nL 72.333768 150.100913 \nL 72.943105 122.097281 \nL 73.247773 141.864538 \nL 73.552442 152.454152 \nL 73.85711 138.775905 \nL 74.161778 139.119099 \nL 74.466447 136.922729 \nL 74.771115 139.618259 \nL 75.075783 145.982735 \nL 75.380451 143.765249 \nL 75.68512 150.689232 \nL 75.989788 155.042722 \nL 76.294456 161.940692 \nL 76.599125 165.120159 \nL 76.903793 165.200904 \nL 77.208461 163.972682 \nL 77.51313 166.573643 \nL 77.817798 165.397023 \nL 78.122466 156.465369 \nL 78.427135 153.681932 \nL 78.731803 156.278179 \nL 79.036471 157.678366 \nL 79.341139 153.268744 \nL 79.645808 154.676664 \nL 79.950476 149.806762 \nL 80.255144 152.088995 \nL 80.559813 150.924544 \nL 80.864481 149.038157 \nL 81.473818 155.34223 \nL 82.387822 158.337268 \nL 82.692491 158.559878 \nL 82.997159 162.021971 \nL 83.301827 162.77224 \nL 83.606496 162.867271 \nL 83.911164 162.355021 \nL 84.215832 161.278827 \nL 84.520501 161.976591 \nL 84.825169 160.957927 \nL 85.434506 161.202095 \nL 85.739174 162.367834 \nL 86.043842 161.940692 \nL 86.34851 160.522427 \nL 86.653179 160.149281 \nL 86.957847 162.213211 \nL 87.567184 162.377757 \nL 87.871852 161.997873 \nL 88.17652 162.530337 \nL 88.481189 161.72007 \nL 88.785857 162.238709 \nL 89.090525 160.609376 \nL 90.00453 158.472303 \nL 90.309198 157.008824 \nL 90.613867 156.376229 \nL 90.918535 157.693812 \nL 91.223203 157.450289 \nL 91.527872 157.588509 \nL 91.83254 157.353822 \nL 92.137208 156.762668 \nL 92.441877 157.26297 \nL 92.746545 158.454943 \nL 93.355881 158.680462 \nL 93.66055 159.127063 \nL 93.965218 158.893794 \nL 94.269886 158.337268 \nL 94.574555 157.145166 \nL 94.879223 158.230308 \nL 95.183891 158.020492 \nL 95.48856 159.067084 \nL 95.793228 160.705235 \nL 96.097896 161.692824 \nL 96.402564 161.451013 \nL 96.707233 160.024242 \nL 97.316569 159.596953 \nL 97.621238 159.103443 \nL 97.925906 159.757338 \nL 98.230574 159.273218 \nL 98.535243 159.632888 \nL 98.839911 159.710007 \nL 99.144579 160.056956 \nL 99.753916 158.602957 \nL 100.058584 158.162026 \nL 100.363252 160.071242 \nL 100.667921 160.396357 \nL 100.972589 159.186379 \nL 101.277257 158.757488 \nL 101.581926 159.585207 \nL 101.886594 159.160919 \nL 102.191262 158.989653 \nL 102.800599 160.0965 \nL 103.105267 160.15878 \nL 103.409936 160.455195 \nL 103.714604 159.580494 \nL 104.019272 160.338643 \nL 104.32394 159.481211 \nL 104.628609 159.546289 \nL 105.237945 160.785925 \nL 105.542614 161.278827 \nL 106.15195 161.371722 \nL 107.065955 159.393212 \nL 107.370623 159.244664 \nL 107.675292 159.721531 \nL 107.97996 160.60227 \nL 108.284628 160.447426 \nL 108.589297 160.700173 \nL 108.893965 160.747909 \nL 109.198633 160.595624 \nL 109.503302 160.643452 \nL 109.80797 160.298307 \nL 110.112638 160.347719 \nL 110.417307 160.97549 \nL 110.721975 160.635794 \nL 111.026643 161.06161 \nL 111.331311 160.915069 \nL 111.63598 161.332307 \nL 112.245316 162.701326 \nL 112.549985 162.180902 \nL 112.854653 162.031526 \nL 113.159321 162.966463 \nL 113.46399 163.35071 \nL 113.768658 162.485086 \nL 114.073326 162.514284 \nL 114.377994 162.718318 \nL 114.682663 162.571464 \nL 114.987331 163.117827 \nL 115.596668 163.16549 \nL 115.901336 163.696555 \nL 116.206004 163.884205 \nL 116.510673 163.902394 \nL 117.120009 163.114366 \nL 117.424678 163.628181 \nL 117.729346 163.810125 \nL 118.034014 163.343696 \nL 118.338682 163.204224 \nL 118.643351 163.225948 \nL 118.948019 162.930638 \nL 119.252687 163.425988 \nL 119.862024 163.77638 \nL 120.166692 163.63943 \nL 120.471361 163.811137 \nL 120.776029 162.913038 \nL 121.080697 162.480723 \nL 122.29937 163.762425 \nL 122.604039 162.749615 \nL 122.908707 162.91845 \nL 123.213375 162.213211 \nL 123.518044 162.961198 \nL 123.822712 162.838534 \nL 124.736717 162.902581 \nL 125.650722 161.298672 \nL 125.95539 161.466164 \nL 126.260058 162.043639 \nL 126.564727 161.93215 \nL 127.174063 162.928042 \nL 127.478732 162.947851 \nL 127.7834 163.101001 \nL 128.088068 162.986842 \nL 128.392736 162.345338 \nL 128.697405 162.367834 \nL 129.002073 161.867146 \nL 129.306741 161.891907 \nL 129.916078 161.683306 \nL 130.220746 161.196535 \nL 130.525415 161.478977 \nL 130.830083 162.13867 \nL 131.134751 161.909175 \nL 131.43942 162.434551 \nL 131.744088 162.081085 \nL 132.048756 162.600312 \nL 132.353424 162.249552 \nL 132.658093 162.148133 \nL 132.962761 162.292355 \nL 133.267429 162.313452 \nL 133.876766 161.149682 \nL 134.181434 161.415924 \nL 134.486103 161.202095 \nL 135.400107 161.749489 \nL 136.009444 160.979135 \nL 136.314112 160.889388 \nL 136.618781 160.915953 \nL 137.532786 161.449632 \nL 138.142122 162.399039 \nL 138.446791 162.305702 \nL 138.751459 161.654182 \nL 139.360795 161.144288 \nL 139.970132 162.071088 \nL 140.2748 161.76302 \nL 140.579469 161.893066 \nL 140.884137 162.455465 \nL 141.493474 162.383832 \nL 141.798142 162.722866 \nL 142.10281 162.845971 \nL 142.407479 162.755929 \nL 142.712147 162.983437 \nL 143.626152 162.716109 \nL 143.93082 162.317024 \nL 144.844825 162.985186 \nL 145.149493 162.795805 \nL 145.75883 163.029295 \nL 146.672835 163.872644 \nL 147.282171 163.695874 \nL 147.58684 164.102728 \nL 147.891508 163.718794 \nL 148.805513 164.3362 \nL 149.110181 164.151183 \nL 149.41485 164.35369 \nL 149.719518 163.400877 \nL 150.024186 163.604709 \nL 150.328854 163.234563 \nL 150.633523 163.152382 \nL 151.242859 163.932972 \nL 151.852196 164.233769 \nL 152.156864 163.96287 \nL 152.461533 163.972682 \nL 152.766201 163.612257 \nL 153.375537 163.542411 \nL 153.680206 163.370611 \nL 153.984874 162.835367 \nL 154.289542 162.576582 \nL 154.594211 161.957648 \nL 155.203547 161.81153 \nL 155.508216 162.007833 \nL 155.812884 161.756706 \nL 156.117552 161.685147 \nL 156.422221 161.968362 \nL 157.031557 161.913207 \nL 157.336225 161.666866 \nL 157.945562 161.701421 \nL 158.25023 161.285031 \nL 158.554899 161.649101 \nL 158.859567 161.494073 \nL 159.468904 161.614712 \nL 159.773572 161.802233 \nL 160.382908 161.750281 \nL 160.687577 161.513753 \nL 160.992245 161.530966 \nL 161.90625 162.164278 \nL 164.648265 160.921236 \nL 164.952933 161.020133 \nL 165.56227 160.896144 \nL 165.866938 161.233281 \nL 167.085611 161.616074 \nL 167.390279 161.867146 \nL 167.999616 161.818894 \nL 168.304284 161.756135 \nL 168.608953 162.003617 \nL 168.913621 161.786253 \nL 169.218289 161.955126 \nL 169.522958 161.815985 \nL 170.436963 161.783878 \nL 170.741631 161.495398 \nL 171.046299 161.510918 \nL 171.350967 161.752361 \nL 171.960304 161.781577 \nL 172.264972 161.198855 \nL 172.569641 161.140606 \nL 172.874309 161.231127 \nL 173.178977 160.951207 \nL 173.483646 160.894229 \nL 173.788314 161.131751 \nL 174.092982 161.001263 \nL 174.39765 161.16395 \nL 174.702319 161.107027 \nL 175.006987 161.341125 \nL 175.920992 160.810576 \nL 176.22566 160.827347 \nL 177.139665 160.520973 \nL 177.444334 160.680382 \nL 177.749002 160.62646 \nL 178.358338 160.237979 \nL 178.663007 160.185769 \nL 178.967675 159.993884 \nL 179.577012 160.170157 \nL 179.88168 159.910507 \nL 180.186348 159.998395 \nL 180.491017 159.809695 \nL 180.795685 159.41558 \nL 181.405021 159.729005 \nL 182.014358 159.358307 \nL 182.319026 159.64966 \nL 182.623695 159.397852 \nL 182.928363 159.552475 \nL 183.5377 159.18776 \nL 183.842368 159.274746 \nL 184.756373 159.134335 \nL 185.365709 159.306263 \nL 185.670378 159.259742 \nL 185.975046 159.410628 \nL 186.279714 159.888415 \nL 186.584383 159.906107 \nL 187.193719 160.266311 \nL 187.803056 160.36403 \nL 188.107724 160.444756 \nL 188.717061 159.834788 \nL 189.631066 160.332678 \nL 190.240402 160.554754 \nL 190.545071 160.31738 \nL 190.849739 160.396357 \nL 191.154407 160.286341 \nL 191.459076 160.427727 \nL 191.763744 160.693508 \nL 192.068412 160.645956 \nL 192.37308 160.100734 \nL 192.677749 160.241163 \nL 192.982417 159.9474 \nL 193.287085 160.211045 \nL 193.591754 160.10368 \nL 194.20109 160.135786 \nL 194.505759 160.274043 \nL 195.115095 159.696475 \nL 195.724432 159.669634 \nL 196.0291 159.626095 \nL 196.638437 159.900381 \nL 197.247773 159.753214 \nL 197.552442 159.710007 \nL 197.85711 159.845612 \nL 198.161778 159.564809 \nL 198.466447 159.700121 \nL 198.771115 160.012128 \nL 199.68512 159.941509 \nL 199.989788 160.074335 \nL 200.294456 160.031274 \nL 200.599125 160.104987 \nL 200.903793 160.003936 \nL 201.51313 160.439767 \nL 201.817798 160.45409 \nL 202.122466 160.698755 \nL 202.427135 160.712415 \nL 202.731803 160.554018 \nL 203.341139 160.638887 \nL 203.645808 160.595624 \nL 203.950476 160.438976 \nL 204.255144 160.509706 \nL 204.864481 160.255339 \nL 205.473818 160.284058 \nL 206.083154 160.312519 \nL 206.387822 160.159314 \nL 206.692491 160.285071 \nL 206.997159 160.243667 \nL 207.301827 160.590267 \nL 207.911164 160.451513 \nL 208.215832 160.685279 \nL 208.520501 160.588555 \nL 209.434506 161.010008 \nL 210.957847 161.124682 \nL 211.262515 161.244235 \nL 212.481189 160.916689 \nL 212.785857 161.141895 \nL 213.395193 160.900084 \nL 214.00453 160.924329 \nL 214.918535 161.065237 \nL 215.527872 160.827347 \nL 216.746545 160.616519 \nL 217.051213 160.37051 \nL 217.355881 160.538222 \nL 217.66055 160.447849 \nL 217.965218 160.203718 \nL 218.574555 160.127796 \nL 218.879223 159.987956 \nL 219.183891 160.154362 \nL 219.793228 160.07925 \nL 220.097896 160.09256 \nL 220.707233 160.32073 \nL 223.449248 160.532534 \nL 224.058584 160.014135 \nL 224.363252 159.879542 \nL 224.972589 160.004157 \nL 225.277257 159.968239 \nL 225.581926 159.737124 \nL 226.495931 159.68033 \nL 227.409936 159.431173 \nL 228.32394 159.664682 \nL 228.933277 159.786996 \nL 229.237945 159.704705 \nL 229.542614 159.765549 \nL 229.847282 159.636092 \nL 230.456619 159.804669 \nL 230.761287 159.628636 \nL 231.065955 159.689038 \nL 231.370623 159.560962 \nL 231.675292 159.715216 \nL 232.893965 159.487249 \nL 233.80797 159.388076 \nL 234.112638 159.216442 \nL 234.417307 159.276366 \nL 235.026643 159.211527 \nL 235.940648 159.206667 \nL 236.245316 159.402969 \nL 236.549985 159.27944 \nL 237.46399 159.500946 \nL 238.073326 159.255765 \nL 239.291999 159.26405 \nL 239.596668 159.18776 \nL 240.510673 159.272205 \nL 241.120009 159.120988 \nL 242.034014 159.469778 \nL 242.338682 159.350299 \nL 242.643351 159.451092 \nL 243.252687 159.125867 \nL 243.862024 159.326808 \nL 244.471361 159.178316 \nL 245.385365 158.957528 \nL 245.690034 159.057235 \nL 245.994702 158.854747 \nL 246.29937 158.954288 \nL 246.908707 158.980743 \nL 247.213375 159.122369 \nL 247.518044 159.049761 \nL 247.822712 159.190779 \nL 248.736717 159.271303 \nL 249.041385 159.114287 \nL 249.346053 159.127063 \nL 249.650722 159.308749 \nL 249.95539 159.236803 \nL 250.260058 159.459782 \nL 250.869395 159.274175 \nL 251.174063 159.370311 \nL 252.088068 159.15674 \nL 253.61141 159.466667 \nL 253.916078 159.272279 \nL 254.525415 159.502143 \nL 254.830083 159.554942 \nL 255.43942 159.864556 \nL 255.744088 160.039006 \nL 256.048756 159.927462 \nL 256.353424 160.019823 \nL 256.962761 159.676188 \nL 257.267429 159.687491 \nL 257.572098 159.860524 \nL 257.876766 159.710007 \nL 258.790771 159.823834 \nL 259.095439 159.874902 \nL 259.704776 159.696678 \nL 260.314112 159.878271 \nL 260.618781 159.849258 \nL 260.923449 159.70117 \nL 261.228117 159.712197 \nL 261.532786 159.564809 \nL 262.142122 159.705625 \nL 263.665464 159.485924 \nL 264.2748 159.430253 \nL 264.579469 159.519466 \nL 265.493474 159.281152 \nL 266.712147 158.97973 \nL 267.93082 159.256686 \nL 268.540157 159.279293 \nL 268.844825 159.29056 \nL 269.149493 159.187557 \nL 269.454162 159.236932 \nL 269.75883 159.058432 \nL 270.368166 159.157126 \nL 270.672835 158.941769 \nL 270.977503 159.028884 \nL 271.58684 158.939026 \nL 272.196176 159.074669 \nL 272.805513 159.359025 \nL 277.375537 159.043943 \nL 277.984874 159.211932 \nL 279.203547 158.92903 \nL 279.508216 158.940223 \nL 279.812884 158.734642 \nL 280.726889 158.660966 \nL 281.336225 158.504631 \nL 281.945562 158.206154 \nL 282.25023 158.361072 \nL 282.554899 158.087688 \nL 282.859567 158.313538 \nL 283.773572 158.207296 \nL 284.07824 158.325468 \nL 284.687577 158.313741 \nL 285.601582 158.243544 \nL 286.515587 158.593936 \nL 287.124923 158.546679 \nL 287.73426 158.847696 \nL 288.038928 158.823818 \nL 288.343596 158.661169 \nL 288.648265 158.637623 \nL 289.257601 158.76349 \nL 289.866938 158.819731 \nL 290.476275 158.772584 \nL 291.085611 158.622858 \nL 291.694948 158.781568 \nL 292.304284 158.939376 \nL 292.608953 158.711648 \nL 293.218289 158.76719 \nL 293.522958 158.913474 \nL 293.827626 158.72089 \nL 294.436963 158.708592 \nL 296.264972 158.806016 \nL 296.569641 158.983707 \nL 297.178977 159.004178 \nL 298.092982 158.901857 \nL 298.39765 158.945323 \nL 299.311655 159.405363 \nL 299.616324 159.348955 \nL 300.834997 159.551407 \nL 301.444334 159.471822 \nL 302.05367 159.457941 \nL 302.358338 159.532519 \nL 302.967675 159.453522 \nL 303.88168 159.611054 \nL 304.491017 159.564662 \nL 304.795685 159.638319 \nL 305.100353 159.518509 \nL 305.405021 159.624199 \nL 305.70969 159.601113 \nL 306.014358 159.353447 \nL 307.233031 159.294997 \nL 307.5377 159.176843 \nL 308.147036 159.100498 \nL 308.451705 159.046576 \nL 308.756373 159.183121 \nL 309.365709 159.012205 \nL 310.279714 159.072662 \nL 310.584383 158.956313 \nL 310.889051 159.091753 \nL 312.107724 158.941972 \nL 313.021729 159.095472 \nL 314.240402 158.853992 \nL 314.849739 158.997017 \nL 315.154407 158.882932 \nL 315.763744 159.086967 \nL 316.068412 159.219369 \nL 316.37308 159.136323 \nL 317.896422 159.304459 \nL 318.20109 159.221928 \nL 319.724432 159.539882 \nL 320.943105 159.151861 \nL 322.161778 159.608256 \nL 323.989788 159.748096 \nL 324.599125 159.467164 \nL 325.51313 159.522356 \nL 326.427135 159.429553 \nL 327.036471 159.564386 \nL 327.645808 159.492919 \nL 328.559813 159.6059 \nL 329.169149 159.622376 \nL 329.473818 159.543067 \nL 330.083154 159.792464 \nL 330.387822 159.684159 \nL 331.301827 159.708386 \nL 332.520501 159.682779 \nL 332.825169 159.633201 \nL 333.739174 159.743475 \nL 334.043842 159.464752 \nL 334.653179 159.309614 \nL 335.262515 159.554665 \nL 335.871852 159.542368 \nL 336.481189 159.615325 \nL 340.137208 159.457867 \nL 343.183891 159.509948 \nL 345.621238 158.996189 \nL 347.449248 158.719086 \nL 347.753916 158.53705 \nL 348.363252 158.690643 \nL 348.667921 158.563542 \nL 351.105267 158.579522 \nL 351.714604 158.543181 \nL 352.32394 158.53381 \nL 352.933277 158.658168 \nL 353.542614 158.72864 \nL 354.456619 158.700768 \nL 355.370623 158.885178 \nL 355.97996 158.82229 \nL 356.589297 158.997238 \nL 359.331311 158.99096 \nL 359.63598 158.920617 \nL 359.940648 159.085236 \nL 361.159321 159.220677 \nL 361.46399 159.072662 \nL 362.377994 159.303207 \nL 363.291999 159.45494 \nL 364.206004 159.091496 \nL 365.120009 159.037887 \nL 365.424678 158.840847 \nL 367.252687 158.990408 \nL 369.080697 159.087574 \nL 369.690034 158.951435 \nL 370.29937 158.916585 \nL 370.908707 159.057843 \nL 371.822712 159.105782 \nL 372.12738 159.013199 \nL 372.736717 159.05348 \nL 373.650722 158.926766 \nL 375.478732 158.89847 \nL 376.088068 159.012665 \nL 376.088068 159.012665 \n\" style=\"fill:none;stroke:#1f77b4;stroke-linecap:square;stroke-width:1.5;\"/>\n   </g>\n   <g id=\"line2d_16\">\n    <path clip-path=\"url(#p800ad8a6e2)\" d=\"M 71.724432 240.700909 \nL 72.0291 178.928176 \nL 72.333768 183.046373 \nL 72.638437 172.750909 \nL 72.943105 186.340919 \nL 73.247773 162.455465 \nL 73.85711 169.662276 \nL 74.161778 177.555456 \nL 74.466447 173.986366 \nL 75.075783 162.455465 \nL 75.380451 164.672932 \nL 75.68512 154.21909 \nL 75.989788 148.45363 \nL 76.294456 138.775905 \nL 76.599125 140.411073 \nL 76.903793 136.373641 \nL 77.208461 135.362156 \nL 77.51313 138.158186 \nL 77.817798 138.334679 \nL 78.122466 136.248841 \nL 78.427135 139.715923 \nL 78.731803 140.834994 \nL 79.036471 143.841281 \nL 79.645808 141.864538 \nL 80.255144 147.828805 \nL 80.559813 145.982735 \nL 81.169149 144.181032 \nL 81.473818 144.110836 \nL 81.778486 144.771505 \nL 82.083154 143.276489 \nL 82.387822 143.923646 \nL 82.692491 146.539242 \nL 82.997159 145.765979 \nL 83.301827 146.933081 \nL 83.606496 146.188647 \nL 83.911164 147.891159 \nL 84.215832 147.747655 \nL 84.520501 147.036212 \nL 84.825169 146.918684 \nL 85.129837 146.257279 \nL 85.434506 147.773244 \nL 85.739174 148.17325 \nL 86.043842 149.071368 \nL 86.34851 148.924293 \nL 86.653179 147.794728 \nL 86.957847 150.100913 \nL 87.262515 151.368053 \nL 87.567184 151.188724 \nL 87.871852 150.558486 \nL 88.17652 151.748176 \nL 88.481189 151.130457 \nL 88.785857 152.701873 \nL 89.090525 152.515014 \nL 89.699862 155.042722 \nL 90.00453 155.231753 \nL 90.309198 155.813224 \nL 90.613867 156.768448 \nL 90.918535 156.149495 \nL 91.223203 157.450289 \nL 91.83254 157.722623 \nL 92.137208 158.579522 \nL 92.441877 158.337268 \nL 92.746545 157.748968 \nL 93.051213 157.873252 \nL 93.355881 159.023637 \nL 93.66055 157.77314 \nL 93.965218 157.224254 \nL 94.879223 159.834788 \nL 95.183891 160.871549 \nL 95.48856 159.379847 \nL 96.097896 158.947384 \nL 96.402564 159.341702 \nL 96.707233 159.428835 \nL 97.011901 158.631437 \nL 97.316569 158.724866 \nL 97.621238 158.241501 \nL 97.925906 157.201224 \nL 98.230574 157.026939 \nL 98.535243 158.244723 \nL 99.144579 156.798622 \nL 99.753916 157.008824 \nL 100.058584 156.584848 \nL 100.363252 155.909709 \nL 100.667921 156.535565 \nL 101.277257 158.505367 \nL 101.581926 158.337268 \nL 101.886594 158.666728 \nL 102.191262 159.2343 \nL 102.495931 159.306263 \nL 102.800599 158.41724 \nL 103.105267 159.208434 \nL 103.409936 159.513906 \nL 103.714604 159.580494 \nL 104.019272 159.414936 \nL 104.32394 160.625153 \nL 104.628609 161.359792 \nL 104.933277 161.182562 \nL 105.237945 160.563315 \nL 105.847282 161.54435 \nL 106.15195 160.721491 \nL 106.456619 161.202095 \nL 106.761287 161.035395 \nL 107.065955 161.5051 \nL 107.370623 160.710464 \nL 107.675292 160.967371 \nL 108.284628 160.243207 \nL 108.589297 160.700173 \nL 108.893965 160.747909 \nL 109.198633 160.595624 \nL 109.503302 160.643452 \nL 109.80797 160.298307 \nL 110.112638 159.374931 \nL 110.417307 160.010287 \nL 110.721975 159.869619 \nL 111.331311 160.726443 \nL 111.940648 160.442805 \nL 112.245316 160.672963 \nL 112.549985 161.448785 \nL 112.854653 161.48647 \nL 113.159321 161.343242 \nL 113.46399 161.560201 \nL 113.768658 162.129558 \nL 114.073326 161.45532 \nL 114.377994 161.491624 \nL 114.682663 161.179396 \nL 114.987331 161.217117 \nL 115.291999 161.425902 \nL 115.596668 160.950195 \nL 115.901336 160.988708 \nL 116.510673 161.898939 \nL 116.815341 161.598658 \nL 117.120009 161.467084 \nL 118.338682 159.674347 \nL 118.643351 159.400024 \nL 118.948019 159.762806 \nL 119.252687 158.547121 \nL 119.557356 157.815979 \nL 119.862024 157.404853 \nL 120.166692 157.462163 \nL 120.471361 157.211809 \nL 120.776029 157.117073 \nL 121.385365 156.629731 \nL 121.690034 156.540242 \nL 121.994702 156.302996 \nL 122.29937 156.364484 \nL 122.604039 156.719423 \nL 122.908707 156.485307 \nL 123.213375 157.126038 \nL 123.518044 156.89229 \nL 123.822712 157.092238 \nL 124.12738 157.147044 \nL 124.736717 157.537164 \nL 125.041385 157.588509 \nL 125.346053 157.499682 \nL 125.95539 157.877136 \nL 126.260058 157.513636 \nL 126.564727 157.563692 \nL 127.174063 156.987045 \nL 127.478732 157.039145 \nL 127.7834 156.823567 \nL 128.088068 157.008824 \nL 128.392736 156.92784 \nL 128.697405 156.190568 \nL 129.002073 156.506975 \nL 129.306741 156.299866 \nL 129.61141 156.483006 \nL 129.916078 156.406882 \nL 130.220746 156.715612 \nL 130.525415 156.511688 \nL 130.830083 156.56329 \nL 131.134751 156.866498 \nL 131.43942 156.915763 \nL 131.744088 156.839749 \nL 132.048756 156.516162 \nL 132.353424 156.813552 \nL 132.658093 156.862098 \nL 132.962761 157.399478 \nL 133.267429 157.56638 \nL 133.572098 157.973897 \nL 133.876766 158.015853 \nL 134.181434 157.937446 \nL 134.790771 158.495665 \nL 135.095439 157.824963 \nL 135.400107 158.337268 \nL 135.704776 158.376315 \nL 136.009444 158.648079 \nL 136.314112 159.149302 \nL 136.618781 159.184004 \nL 136.923449 159.333307 \nL 137.228117 158.909239 \nL 137.532786 159.058432 \nL 137.837454 158.639519 \nL 139.056127 158.337268 \nL 139.665464 157.859279 \nL 140.2748 157.827062 \nL 140.579469 157.865593 \nL 140.884137 158.228909 \nL 142.10281 158.372781 \nL 142.712147 158.020492 \nL 143.321483 158.302382 \nL 143.626152 158.233014 \nL 143.93082 157.956611 \nL 144.235488 158.199435 \nL 144.844825 157.961342 \nL 145.149493 157.588509 \nL 148.196176 157.945068 \nL 148.500845 157.783836 \nL 148.805513 157.137489 \nL 149.41485 157.114698 \nL 149.719518 157.343788 \nL 150.024186 157.092238 \nL 150.328854 157.033456 \nL 150.633523 156.785035 \nL 151.547528 156.990653 \nL 151.852196 157.214129 \nL 152.156864 157.249457 \nL 152.461533 157.005823 \nL 152.766201 157.134212 \nL 153.375537 157.112544 \nL 153.984874 157.182354 \nL 154.289542 157.035205 \nL 154.594211 157.341671 \nL 154.898879 157.195001 \nL 155.203547 157.408812 \nL 155.508216 157.442023 \nL 155.812884 157.207373 \nL 156.117552 157.241062 \nL 156.422221 157.008824 \nL 157.031557 156.988978 \nL 157.945562 156.655192 \nL 158.25023 156.863406 \nL 159.164235 155.935004 \nL 160.382908 155.488403 \nL 160.687577 155.526235 \nL 160.992245 155.73189 \nL 161.296913 155.68489 \nL 161.601582 155.805142 \nL 161.90625 155.508617 \nL 162.210918 156.043253 \nL 162.820255 156.525274 \nL 163.73426 156.461669 \nL 164.038928 156.657493 \nL 164.343596 157.014052 \nL 164.648265 157.126038 \nL 164.952933 157.076332 \nL 165.257601 157.267609 \nL 165.56227 157.297727 \nL 165.866938 157.168233 \nL 166.171606 157.675182 \nL 166.476275 157.307724 \nL 166.780943 157.416267 \nL 167.085611 157.681515 \nL 167.390279 157.474424 \nL 167.694948 157.737793 \nL 168.304284 157.715665 \nL 168.608953 157.433591 \nL 168.913621 157.616583 \nL 169.218289 157.490551 \nL 169.522958 157.748968 \nL 170.132294 157.727171 \nL 170.436963 157.678366 \nL 171.046299 157.959464 \nL 171.960304 157.962888 \nL 172.874309 158.782489 \nL 174.092982 158.361716 \nL 175.006987 158.652203 \nL 175.311655 158.602957 \nL 175.616324 158.770762 \nL 176.530329 158.552128 \nL 176.834997 158.361072 \nL 177.139665 158.455956 \nL 177.444334 158.408275 \nL 177.749002 158.148477 \nL 178.05367 158.172538 \nL 178.663007 157.588509 \nL 179.272343 157.290271 \nL 179.577012 156.759612 \nL 180.795685 157.350747 \nL 181.405021 157.196511 \nL 182.014358 157.656588 \nL 183.233031 157.686448 \nL 183.5377 157.307724 \nL 183.842368 157.332835 \nL 184.147036 157.023901 \nL 184.756373 157.274513 \nL 185.061041 157.630667 \nL 185.365709 157.456382 \nL 185.670378 157.151241 \nL 185.975046 157.176297 \nL 187.193719 158.120531 \nL 187.498388 158.142715 \nL 188.107724 157.864176 \nL 188.412393 157.951198 \nL 189.021729 158.443971 \nL 190.545071 158.611113 \nL 190.849739 158.883558 \nL 191.459076 158.734458 \nL 191.763744 158.441541 \nL 192.068412 158.399677 \nL 192.37308 158.669214 \nL 192.677749 158.627 \nL 192.982417 158.770762 \nL 193.287085 158.357869 \nL 193.591754 158.439976 \nL 193.896422 158.398738 \nL 194.20109 158.112467 \nL 194.505759 158.194556 \nL 194.810427 158.093229 \nL 195.115095 157.870674 \nL 195.419764 157.892066 \nL 196.0291 158.176165 \nL 196.943105 158.597158 \nL 197.247773 158.496825 \nL 197.552442 158.516321 \nL 197.85711 158.654817 \nL 198.161778 158.614463 \nL 198.771115 158.829875 \nL 199.075783 158.671441 \nL 199.380451 158.749093 \nL 200.294456 158.395682 \nL 200.599125 158.298424 \nL 201.208461 158.395277 \nL 201.51313 158.2987 \nL 203.036471 158.852041 \nL 203.341139 158.755758 \nL 204.559813 158.996943 \nL 204.864481 158.788582 \nL 205.169149 158.806311 \nL 205.473818 158.992433 \nL 205.778486 158.785508 \nL 206.083154 158.859036 \nL 206.692491 158.671184 \nL 206.997159 158.411312 \nL 207.606496 158.779488 \nL 208.215832 158.704155 \nL 209.129837 158.647048 \nL 209.739174 158.79081 \nL 210.043842 158.699314 \nL 210.34851 158.770762 \nL 210.653179 158.517499 \nL 211.262515 158.606437 \nL 211.871852 158.748191 \nL 213.090525 159.081205 \nL 213.395193 158.938216 \nL 213.699862 159.007474 \nL 214.309198 158.723633 \nL 214.613867 158.74033 \nL 214.918535 158.966807 \nL 216.137208 158.718754 \nL 216.441877 158.994808 \nL 216.746545 158.803476 \nL 217.051213 158.92312 \nL 217.355881 159.19702 \nL 217.66055 159.212392 \nL 217.965218 159.43318 \nL 218.269886 159.294205 \nL 218.574555 159.360425 \nL 218.879223 159.017967 \nL 219.183891 158.982602 \nL 219.48856 159.150738 \nL 219.793228 159.165981 \nL 220.097896 159.333068 \nL 221.011901 159.075369 \nL 221.316569 159.241259 \nL 221.621238 159.155893 \nL 221.925906 159.220934 \nL 222.230574 159.135955 \nL 222.839911 159.513906 \nL 223.449248 159.443158 \nL 223.753916 159.556249 \nL 224.363252 159.485776 \nL 224.667921 159.057751 \nL 225.277257 159.332166 \nL 225.886594 159.263258 \nL 226.191262 158.888529 \nL 226.800599 159.06401 \nL 227.409936 159.334651 \nL 227.714604 159.300593 \nL 228.019272 159.074375 \nL 228.628609 159.199211 \nL 228.933277 159.070104 \nL 229.237945 159.179991 \nL 229.542614 159.051418 \nL 229.847282 159.25595 \nL 230.456619 159.37865 \nL 231.065955 159.736204 \nL 231.370623 159.65509 \nL 231.675292 159.762198 \nL 232.589297 159.707411 \nL 232.893965 159.766985 \nL 234.112638 159.494061 \nL 234.721975 159.566577 \nL 235.331311 159.50078 \nL 235.63598 159.743107 \nL 235.940648 159.481211 \nL 236.245316 159.539993 \nL 237.159321 159.35168 \nL 237.46399 159.41026 \nL 237.768658 159.64966 \nL 238.073326 159.662325 \nL 238.377994 159.810192 \nL 239.291999 159.6228 \nL 239.596668 159.635392 \nL 240.206004 159.348237 \nL 241.120009 159.786407 \nL 241.424678 159.621437 \nL 242.034014 159.822766 \nL 242.338682 159.922878 \nL 242.643351 159.802828 \nL 242.948019 159.81485 \nL 243.557356 159.620112 \nL 243.862024 159.676041 \nL 244.471361 159.569835 \nL 244.776029 159.712418 \nL 245.080697 159.551057 \nL 245.994702 159.803436 \nL 246.908707 159.752901 \nL 247.822712 159.44684 \nL 249.346053 159.338609 \nL 249.95539 159.489808 \nL 250.564727 159.429848 \nL 250.869395 159.316131 \nL 251.478732 159.59154 \nL 252.088068 159.365082 \nL 252.697405 159.596953 \nL 253.61141 159.507997 \nL 253.916078 159.602291 \nL 254.525415 159.461034 \nL 255.134751 159.566577 \nL 255.43942 159.414549 \nL 256.353424 159.53134 \nL 256.658093 159.705478 \nL 257.267429 159.363444 \nL 257.572098 159.294371 \nL 258.181434 159.479351 \nL 258.486103 159.450651 \nL 258.790771 159.221174 \nL 259.095439 159.233121 \nL 259.704776 159.416795 \nL 260.009444 159.188846 \nL 262.142122 159.824036 \nL 262.751459 159.570111 \nL 263.056127 159.502676 \nL 263.360795 159.749219 \nL 263.665464 159.838359 \nL 264.2748 159.664461 \nL 265.798142 159.331319 \nL 267.016815 159.491907 \nL 267.626152 159.437156 \nL 268.235488 159.3445 \nL 268.540157 159.470257 \nL 269.149493 159.454075 \nL 269.454162 159.503045 \nL 269.75883 159.665713 \nL 270.063498 159.600524 \nL 271.282171 159.756031 \nL 271.891508 160.189837 \nL 272.196176 160.087037 \nL 273.41485 160.237979 \nL 275.242859 160.110123 \nL 276.461533 160.368835 \nL 276.766201 160.194734 \nL 277.984874 160.268815 \nL 280.422221 161.134752 \nL 280.726889 161.034769 \nL 281.640894 161.166288 \nL 282.25023 161.217614 \nL 282.859567 161.197456 \nL 283.164235 161.276286 \nL 283.468904 161.177407 \nL 284.07824 161.15747 \nL 284.992245 161.039648 \nL 285.296913 161.082726 \nL 285.601582 160.949956 \nL 286.210918 161.106088 \nL 286.515587 160.973851 \nL 287.73426 161.0402 \nL 288.038928 161.01323 \nL 288.343596 160.812803 \nL 288.648265 160.820885 \nL 288.952933 160.655916 \nL 289.257601 160.871549 \nL 289.56227 160.879502 \nL 289.866938 161.059751 \nL 291.694948 161.24221 \nL 292.608953 161.060046 \nL 292.913621 161.203568 \nL 294.436963 161.071478 \nL 295.350967 161.329251 \nL 295.655636 161.269235 \nL 296.264972 161.384056 \nL 296.874309 161.231127 \nL 297.788314 161.152941 \nL 299.311655 161.090072 \nL 299.920992 161.236466 \nL 300.530329 161.250678 \nL 300.834997 161.224923 \nL 301.444334 161.337277 \nL 302.05367 161.351103 \nL 302.967675 161.079118 \nL 303.577012 161.028675 \nL 303.88168 161.133095 \nL 304.491017 160.921236 \nL 305.405021 160.97549 \nL 306.014358 160.990033 \nL 306.928363 161.107598 \nL 307.5377 160.930404 \nL 309.365709 161.100308 \nL 310.279714 160.932153 \nL 310.584383 160.87639 \nL 310.889051 160.946513 \nL 311.193719 160.796676 \nL 311.498388 160.459079 \nL 311.803056 160.435515 \nL 312.107724 160.568396 \nL 313.935734 160.675743 \nL 314.545071 160.349928 \nL 315.459076 160.188143 \nL 316.068412 160.419443 \nL 317.591754 160.090554 \nL 317.896422 159.823686 \nL 318.20109 159.893036 \nL 319.419764 159.713376 \nL 320.0291 159.821035 \nL 320.638437 160.109405 \nL 320.943105 160.026782 \nL 321.247773 160.095027 \nL 322.161778 160.028587 \nL 323.075783 160.052353 \nL 323.380451 160.14987 \nL 324.294456 159.964705 \nL 325.208461 160.047825 \nL 325.51313 160.11491 \nL 326.122466 159.982581 \nL 326.731803 159.939336 \nL 327.950476 160.117579 \nL 328.559813 159.869398 \nL 329.169149 159.97286 \nL 330.387822 160.120212 \nL 330.692491 160.040682 \nL 332.215832 160.165444 \nL 332.825169 160.180375 \nL 334.043842 160.238715 \nL 334.957847 160.089283 \nL 335.262515 160.039706 \nL 335.871852 160.111706 \nL 336.481189 159.89935 \nL 337.699862 159.845079 \nL 338.613867 159.72722 \nL 339.223203 159.51792 \nL 339.527872 159.638245 \nL 341.051213 159.481984 \nL 341.965218 159.478118 \nL 342.879223 159.280158 \nL 345.925906 159.553082 \nL 346.535243 159.56862 \nL 347.753916 159.708497 \nL 349.277257 159.800306 \nL 351.105267 159.575413 \nL 351.714604 159.590638 \nL 352.019272 159.625046 \nL 352.32394 159.525376 \nL 352.628609 159.666873 \nL 353.847282 159.776631 \nL 354.456619 159.871073 \nL 354.761287 159.771992 \nL 355.675292 159.979249 \nL 357.198633 159.988067 \nL 357.80797 160.080925 \nL 360.245316 160.448494 \nL 361.159321 160.467824 \nL 361.768658 160.480637 \nL 363.596668 160.750634 \nL 364.206004 160.865602 \nL 364.510673 160.794486 \nL 364.815341 160.877458 \nL 365.424678 160.710022 \nL 365.729346 160.818418 \nL 367.557356 160.803101 \nL 369.080697 161.060248 \nL 369.385365 160.990089 \nL 369.690034 161.046275 \nL 371.213375 160.798131 \nL 372.12738 161.015973 \nL 372.736717 160.902293 \nL 374.260058 161.079965 \nL 376.088068 161.360013 \nL 376.088068 161.360013 \n\" style=\"fill:none;stroke:#ff7f0e;stroke-linecap:square;stroke-width:1.5;\"/>\n   </g>\n   <g id=\"line2d_17\">\n    <path clip-path=\"url(#p800ad8a6e2)\" d=\"M 71.724432 18.319091 \nL 72.0291 117.155452 \nL 72.333768 133.628183 \nL 72.638437 160.396357 \nL 72.943105 146.806367 \nL 73.247773 154.21909 \nL 73.552442 148.924293 \nL 73.85711 154.21909 \nL 74.466447 146.806367 \nL 74.771115 135.125702 \nL 75.68512 161.278827 \nL 75.989788 161.631814 \nL 76.294456 160.396357 \nL 76.599125 157.85278 \nL 76.903793 156.964548 \nL 77.208461 157.470282 \nL 77.51313 156.690005 \nL 78.122466 163.204224 \nL 78.427135 163.35071 \nL 79.036471 157.678366 \nL 79.341139 153.268744 \nL 79.645808 151.016059 \nL 79.950476 152.454152 \nL 80.255144 146.976767 \nL 80.559813 150.100913 \nL 80.864481 150.63229 \nL 81.169149 148.813982 \nL 81.473818 147.854634 \nL 81.778486 150.585401 \nL 82.083154 151.748176 \nL 82.692491 147.874866 \nL 83.301827 150.100913 \nL 83.606496 152.365914 \nL 83.911164 152.71244 \nL 84.520501 149.909359 \nL 84.825169 151.411242 \nL 85.129837 152.297283 \nL 85.434506 152.607633 \nL 85.739174 151.853333 \nL 86.043842 149.58614 \nL 86.653179 151.254005 \nL 86.957847 149.131936 \nL 87.262515 149.942515 \nL 87.567184 149.790101 \nL 87.871852 148.728193 \nL 88.17652 148.603393 \nL 88.481189 146.71811 \nL 88.785857 146.632965 \nL 89.090525 146.124729 \nL 89.395193 146.890131 \nL 89.699862 148.865455 \nL 90.00453 149.965896 \nL 90.309198 149.43669 \nL 90.613867 148.139874 \nL 90.918535 148.041824 \nL 91.223203 146.046082 \nL 91.527872 145.608355 \nL 91.83254 145.921265 \nL 93.355881 143.923646 \nL 93.66055 144.572385 \nL 93.965218 146.205326 \nL 94.269886 146.806367 \nL 94.574555 148.041824 \nL 94.879223 148.282494 \nL 95.183891 148.833772 \nL 95.48856 149.996658 \nL 95.793228 150.20386 \nL 96.097896 149.490815 \nL 96.402564 150.301799 \nL 96.707233 150.795548 \nL 97.011901 150.395063 \nL 97.316569 150.585401 \nL 97.621238 150.484 \nL 97.925906 150.100913 \nL 98.230574 150.007318 \nL 98.839911 147.355454 \nL 99.144579 147.838175 \nL 99.449248 147.773244 \nL 99.753916 147.178335 \nL 100.058584 147.910397 \nL 100.363252 148.106847 \nL 100.667921 147.784437 \nL 100.972589 147.723409 \nL 101.277257 147.159354 \nL 101.581926 147.355454 \nL 101.886594 146.312176 \nL 102.191262 146.512787 \nL 102.495931 146.467223 \nL 102.800599 147.382112 \nL 103.105267 146.853882 \nL 103.409936 146.571035 \nL 103.714604 147.459064 \nL 104.019272 147.406781 \nL 104.32394 146.897881 \nL 104.628609 147.078388 \nL 104.933277 146.581731 \nL 105.237945 145.648819 \nL 105.542614 145.394416 \nL 105.847282 144.269859 \nL 106.456619 145.087471 \nL 106.761287 145.69871 \nL 107.065955 145.454763 \nL 107.370623 146.261936 \nL 107.675292 146.432613 \nL 107.97996 145.982735 \nL 108.284628 147.173935 \nL 108.589297 147.535483 \nL 108.893965 147.489385 \nL 109.198633 147.64329 \nL 109.503302 147.39938 \nL 110.112638 148.090462 \nL 110.417307 148.041824 \nL 110.721975 149.143203 \nL 111.026643 148.707058 \nL 111.331311 149.220689 \nL 111.63598 148.229013 \nL 112.245316 148.502803 \nL 112.549985 147.538484 \nL 112.854653 147.678453 \nL 113.46399 146.698927 \nL 113.768658 147.552972 \nL 114.073326 148.041824 \nL 114.377994 147.998008 \nL 114.682663 148.128828 \nL 114.987331 147.739444 \nL 115.291999 147.69863 \nL 115.596668 147.828805 \nL 115.901336 147.618713 \nL 116.206004 147.747655 \nL 116.510673 147.707908 \nL 117.120009 148.78309 \nL 117.729346 148.041824 \nL 118.034014 149.131936 \nL 118.338682 149.405633 \nL 118.643351 149.516386 \nL 118.948019 149.308945 \nL 119.252687 149.576309 \nL 119.557356 149.683877 \nL 120.166692 150.20386 \nL 120.471361 149.998591 \nL 120.776029 150.71101 \nL 121.385365 151.356455 \nL 121.690034 151.298924 \nL 121.994702 151.539797 \nL 122.29937 151.333903 \nL 122.908707 152.099084 \nL 123.213375 152.038884 \nL 123.518044 152.123882 \nL 123.822712 152.495205 \nL 124.12738 152.433754 \nL 124.432049 151.947001 \nL 124.736717 152.595354 \nL 125.346053 151.636503 \nL 125.650722 151.581605 \nL 125.95539 151.389279 \nL 126.260058 150.924544 \nL 126.564727 150.73798 \nL 128.088068 149.171001 \nL 128.392736 149.66046 \nL 128.697405 149.750428 \nL 129.002073 149.447239 \nL 129.306741 149.537373 \nL 129.61141 149.497203 \nL 130.220746 150.18626 \nL 130.525415 150.016007 \nL 130.830083 149.974198 \nL 131.43942 149.264725 \nL 131.744088 149.352153 \nL 132.048756 149.066195 \nL 133.267429 149.776331 \nL 133.572098 149.858659 \nL 133.876766 150.060743 \nL 134.181434 150.020941 \nL 134.486103 150.220281 \nL 134.790771 150.180111 \nL 135.095439 150.494991 \nL 135.400107 149.983256 \nL 136.009444 150.256309 \nL 136.618781 149.716039 \nL 136.923449 149.679514 \nL 137.228117 150.100913 \nL 137.532786 150.062952 \nL 138.142122 149.536784 \nL 138.751459 150.361796 \nL 139.360795 149.953175 \nL 139.665464 149.806762 \nL 139.970132 149.881266 \nL 140.2748 150.173797 \nL 140.579469 150.137198 \nL 141.188805 149.741242 \nL 141.798142 150.528773 \nL 142.10281 150.491419 \nL 142.712147 150.100913 \nL 143.016815 149.960723 \nL 143.93082 150.585401 \nL 144.235488 150.859061 \nL 144.844825 150.476839 \nL 145.454162 150.609333 \nL 145.75883 150.472218 \nL 146.063498 150.840504 \nL 146.368166 151.406676 \nL 146.672835 151.268014 \nL 146.977503 151.429357 \nL 147.58684 151.155163 \nL 148.196176 151.571682 \nL 148.500845 151.435653 \nL 148.805513 151.592541 \nL 149.110181 151.360597 \nL 149.41485 151.323501 \nL 150.024186 151.72903 \nL 150.328854 152.167954 \nL 150.633523 152.318399 \nL 150.938191 151.615645 \nL 151.242859 151.389813 \nL 151.852196 151.224052 \nL 152.461533 152.082589 \nL 152.766201 151.859242 \nL 153.070869 151.91414 \nL 153.375537 152.244207 \nL 153.680206 151.931206 \nL 153.984874 151.985238 \nL 154.289542 151.857199 \nL 154.594211 152.273148 \nL 154.898879 152.325339 \nL 155.203547 152.017731 \nL 155.812884 151.944424 \nL 156.422221 152.314993 \nL 156.726889 152.101164 \nL 157.031557 152.06475 \nL 157.945562 152.740036 \nL 158.25023 152.788564 \nL 158.554899 152.663967 \nL 158.859567 152.798542 \nL 159.773572 152.515014 \nL 161.296913 152.753291 \nL 161.601582 152.633039 \nL 161.90625 152.763177 \nL 162.210918 152.726597 \nL 162.515587 152.855539 \nL 163.429592 152.4191 \nL 163.73426 152.221158 \nL 164.343596 152.234266 \nL 164.648265 152.523372 \nL 165.257601 152.213482 \nL 165.56227 151.940097 \nL 165.866938 151.907604 \nL 167.085611 151.150137 \nL 167.390279 151.199088 \nL 167.694948 151.091355 \nL 168.304284 151.266431 \nL 168.913621 151.670966 \nL 169.218289 152.025298 \nL 169.827626 151.273887 \nL 170.436963 151.444066 \nL 171.046299 151.385487 \nL 171.350967 151.130457 \nL 171.655636 151.252495 \nL 171.960304 151.224052 \nL 172.569641 150.572275 \nL 173.178977 150.668079 \nL 173.788314 150.395063 \nL 174.092982 150.443075 \nL 174.39765 150.344583 \nL 174.702319 150.465351 \nL 175.006987 150.730745 \nL 175.311655 150.704751 \nL 175.616324 150.462148 \nL 176.22566 150.555835 \nL 176.834997 151.005473 \nL 177.139665 150.694313 \nL 177.444334 150.668944 \nL 177.749002 150.785312 \nL 178.05367 150.477428 \nL 178.358338 150.593685 \nL 178.663007 150.568887 \nL 178.967675 150.824211 \nL 179.272343 150.729107 \nL 179.577012 150.773732 \nL 179.88168 150.540499 \nL 180.186348 150.723823 \nL 180.491017 150.699081 \nL 180.795685 151.087433 \nL 181.405021 151.241688 \nL 181.70969 150.942752 \nL 182.014358 150.849672 \nL 182.319026 150.55346 \nL 183.233031 150.280444 \nL 183.5377 150.391878 \nL 183.842368 150.234843 \nL 184.147036 150.27899 \nL 184.756373 150.167335 \nL 185.061041 150.145077 \nL 185.365709 150.387202 \nL 185.670378 150.232689 \nL 187.193719 150.187604 \nL 188.412393 150.551343 \nL 188.717061 150.592949 \nL 189.631066 151.034929 \nL 190.240402 150.924544 \nL 190.545071 150.964567 \nL 190.849739 150.878318 \nL 191.154407 150.918267 \nL 191.763744 150.559646 \nL 192.37308 150.70256 \nL 192.982417 150.844039 \nL 193.287085 151.006909 \nL 193.591754 150.984118 \nL 193.896422 150.777027 \nL 194.20109 150.938849 \nL 194.505759 150.671742 \nL 195.115095 151.236957 \nL 195.419764 151.274642 \nL 196.0291 151.591105 \nL 196.638437 151.363413 \nL 197.247773 151.616565 \nL 197.85711 151.688639 \nL 198.466447 151.582268 \nL 199.380451 151.748176 \nL 200.294456 152.554301 \nL 200.599125 152.587364 \nL 200.903793 152.969108 \nL 201.208461 153.001031 \nL 201.51313 152.859221 \nL 203.341139 152.992194 \nL 203.645808 152.966549 \nL 203.950476 153.111452 \nL 204.559813 152.946888 \nL 204.864481 153.090815 \nL 205.473818 152.815166 \nL 205.778486 152.790331 \nL 206.387822 153.075663 \nL 207.301827 153.000257 \nL 207.606496 153.307018 \nL 207.911164 153.005707 \nL 208.520501 152.791454 \nL 209.129837 152.743111 \nL 209.434506 152.88273 \nL 209.739174 152.804028 \nL 210.653179 153.056628 \nL 211.262515 152.684862 \nL 212.17652 153.149431 \nL 212.481189 153.018336 \nL 213.699862 153.504812 \nL 214.00453 153.321544 \nL 214.613867 153.220216 \nL 215.223203 152.596256 \nL 215.83254 152.968004 \nL 216.137208 152.736538 \nL 216.441877 152.71371 \nL 216.746545 152.535559 \nL 217.051213 152.771701 \nL 217.355881 152.64576 \nL 217.66055 152.880686 \nL 217.965218 152.703677 \nL 218.269886 152.373609 \nL 218.879223 152.432281 \nL 219.793228 152.468659 \nL 220.707233 152.353303 \nL 221.621238 152.339607 \nL 222.230574 152.646699 \nL 222.839911 152.553583 \nL 224.667921 152.966439 \nL 225.277257 152.82461 \nL 225.581926 152.949447 \nL 225.886594 152.927594 \nL 226.191262 153.149008 \nL 227.105267 152.889339 \nL 227.409936 153.012592 \nL 228.32394 152.851691 \nL 228.628609 152.97406 \nL 228.933277 152.952576 \nL 229.237945 153.074264 \nL 229.542614 152.86224 \nL 229.847282 153.078664 \nL 230.761287 153.203335 \nL 231.97996 153.398588 \nL 232.589297 153.541816 \nL 232.893965 153.519779 \nL 233.503302 153.754632 \nL 234.112638 153.89519 \nL 234.417307 154.057453 \nL 235.026643 153.874 \nL 235.63598 153.921111 \nL 235.940648 153.898798 \nL 236.549985 154.264673 \nL 236.854653 154.105337 \nL 238.073326 154.106165 \nL 238.987331 154.039393 \nL 239.901336 154.375481 \nL 240.815341 154.396855 \nL 241.120009 154.507442 \nL 241.729346 154.418007 \nL 243.252687 154.569574 \nL 243.557356 154.853213 \nL 244.471361 154.349597 \nL 244.776029 154.457938 \nL 245.080697 154.262445 \nL 245.994702 154.370013 \nL 246.604039 154.541389 \nL 247.518044 154.390098 \nL 247.822712 154.453814 \nL 248.12738 154.26169 \nL 248.432049 154.410478 \nL 248.736717 154.431373 \nL 249.041385 154.706487 \nL 249.95539 154.682923 \nL 250.564727 154.84942 \nL 251.478732 154.741705 \nL 252.088068 154.86494 \nL 252.697405 155.028878 \nL 253.002073 155.214098 \nL 253.61141 155.045484 \nL 254.220746 155.00154 \nL 254.830083 154.752677 \nL 256.048756 154.545292 \nL 256.353424 154.565101 \nL 256.658093 154.747412 \nL 257.267429 154.786183 \nL 257.572098 154.684156 \nL 257.876766 154.743951 \nL 258.486103 154.541039 \nL 259.095439 154.499875 \nL 259.400107 154.439344 \nL 259.704776 154.538959 \nL 260.923449 154.377985 \nL 261.837454 154.357458 \nL 262.446791 154.317619 \nL 263.056127 154.474433 \nL 263.360795 154.297534 \nL 264.884137 154.316367 \nL 265.188805 154.568746 \nL 265.493474 154.665176 \nL 266.10281 154.586438 \nL 266.407479 154.682389 \nL 267.016815 154.642458 \nL 267.321483 154.392013 \nL 267.93082 154.353168 \nL 268.235488 154.372093 \nL 268.844825 154.142837 \nL 271.282171 153.91776 \nL 272.500845 153.582648 \nL 272.805513 153.751834 \nL 273.41485 153.715972 \nL 274.328854 153.959385 \nL 274.633523 154.126471 \nL 275.242859 153.90515 \nL 276.461533 153.8703 \nL 277.070869 154.05436 \nL 277.984874 153.891103 \nL 278.898879 153.983244 \nL 279.203547 153.784327 \nL 279.508216 153.730699 \nL 279.812884 153.893975 \nL 280.422221 153.750839 \nL 281.031557 153.895871 \nL 281.336225 153.842538 \nL 281.945562 154.093941 \nL 282.25023 153.969142 \nL 282.859567 154.183486 \nL 283.164235 154.236874 \nL 283.468904 154.432109 \nL 284.382908 154.448862 \nL 285.296913 154.641464 \nL 285.90625 154.499875 \nL 286.515587 154.42909 \nL 286.820255 154.166678 \nL 287.429592 154.375923 \nL 288.038928 154.340723 \nL 288.952933 154.530546 \nL 289.866938 154.167396 \nL 294.741631 154.337078 \nL 295.350967 154.13505 \nL 296.874309 153.785008 \nL 297.178977 153.802276 \nL 297.483646 153.686277 \nL 298.092982 153.654501 \nL 299.311655 153.393249 \nL 299.616324 153.50982 \nL 299.920992 153.428393 \nL 300.530329 153.561937 \nL 301.444334 153.908187 \nL 301.749002 153.72884 \nL 302.05367 153.680514 \nL 302.358338 153.436751 \nL 302.663007 153.356393 \nL 302.967675 153.536348 \nL 303.272343 153.553469 \nL 303.577012 153.408419 \nL 304.491017 153.492349 \nL 304.795685 153.412653 \nL 305.405021 153.446932 \nL 307.233031 153.38907 \nL 307.5377 153.501738 \nL 308.756373 153.41026 \nL 309.061041 153.427142 \nL 309.670378 153.271175 \nL 310.584383 153.479388 \nL 310.889051 153.307442 \nL 311.193719 153.418489 \nL 311.498388 153.654667 \nL 311.803056 153.733682 \nL 312.717061 153.657521 \nL 313.326397 153.845649 \nL 313.631066 153.892742 \nL 313.935734 153.753472 \nL 314.240402 153.89357 \nL 314.849739 153.987146 \nL 315.459076 154.172827 \nL 316.677749 153.927499 \nL 317.896422 153.867852 \nL 318.20109 153.975051 \nL 318.505759 153.899185 \nL 318.810427 154.00609 \nL 320.638437 153.947234 \nL 320.943105 154.083337 \nL 321.247773 153.947897 \nL 321.552442 153.963269 \nL 321.85711 154.098857 \nL 322.161778 153.993921 \nL 322.771115 154.174171 \nL 323.380451 154.174281 \nL 324.599125 154.174484 \nL 324.903793 154.130006 \nL 325.51313 154.21909 \nL 328.255144 154.116512 \nL 328.559813 154.21909 \nL 329.169149 154.014651 \nL 329.778486 153.869435 \nL 330.387822 153.608625 \nL 330.997159 153.61006 \nL 332.520501 153.656858 \nL 332.825169 153.815918 \nL 333.434506 153.759382 \nL 334.34851 153.947087 \nL 335.262515 153.933777 \nL 336.17652 153.892097 \nL 336.785857 154.091437 \nL 337.699862 154.021186 \nL 338.613867 154.261359 \nL 338.918535 154.247239 \nL 339.527872 154.387558 \nL 344.707233 154.646067 \nL 345.011901 154.521764 \nL 345.621238 154.658364 \nL 346.230574 154.493027 \nL 346.839911 154.410422 \nL 347.753916 154.6686 \nL 348.363252 154.586051 \nL 348.972589 154.66663 \nL 349.581926 154.719761 \nL 349.886594 154.867904 \nL 350.191262 154.772689 \nL 351.105267 154.865087 \nL 351.714604 154.783109 \nL 352.019272 154.608106 \nL 352.628609 154.580491 \nL 353.542614 154.59266 \nL 353.847282 154.792166 \nL 355.065955 154.736624 \nL 355.370623 154.590267 \nL 356.284628 154.575852 \nL 356.893965 154.443247 \nL 357.80797 154.481963 \nL 358.417307 154.324007 \nL 360.245316 154.297295 \nL 361.159321 154.310034 \nL 362.073326 154.478097 \nL 363.596668 154.30928 \nL 364.510673 154.39888 \nL 365.120009 154.475409 \nL 365.424678 154.641575 \nL 366.948019 154.371928 \nL 367.557356 154.269938 \nL 369.690034 154.282199 \nL 370.604039 154.068112 \nL 370.908707 154.156258 \nL 371.213375 154.093536 \nL 371.822712 154.143905 \nL 373.346053 154.206627 \nL 373.650722 154.044732 \nL 374.260058 154.045082 \nL 375.174063 154.082785 \nL 376.088068 154.21909 \nL 376.088068 154.21909 \n\" style=\"fill:none;stroke:#2ca02c;stroke-linecap:square;stroke-width:1.5;\"/>\n   </g>\n   <g id=\"line2d_18\">\n    <path clip-path=\"url(#p800ad8a6e2)\" d=\"M 71.724432 166.573643 \nL 72.0291 166.573643 \nL 72.333768 141.864538 \nL 72.638437 154.21909 \nL 72.943105 161.631814 \nL 73.247773 158.337268 \nL 73.85711 144.95319 \nL 74.161778 136.373641 \nL 74.466447 136.922729 \nL 75.075783 141.864538 \nL 75.380451 139.963846 \nL 75.68512 147.159354 \nL 75.989788 141.864538 \nL 76.294456 148.041824 \nL 76.599125 146.22497 \nL 76.903793 152.846371 \nL 77.208461 150.967899 \nL 77.51313 150.512738 \nL 77.817798 144.217796 \nL 78.122466 147.480254 \nL 78.427135 147.236086 \nL 78.731803 144.95319 \nL 79.341139 152.318399 \nL 79.645808 154.676664 \nL 79.950476 150.689232 \nL 80.255144 149.532881 \nL 80.559813 150.100913 \nL 81.169149 149.58614 \nL 81.778486 147.678453 \nL 82.083154 148.218317 \nL 82.387822 147.355454 \nL 82.997159 149.667419 \nL 83.301827 152.001604 \nL 83.606496 151.130457 \nL 84.215832 151.865851 \nL 84.825169 155.9038 \nL 85.129837 154.493634 \nL 85.434506 156.367706 \nL 85.739174 156.059122 \nL 86.043842 156.792952 \nL 86.653179 156.195814 \nL 86.957847 157.85278 \nL 87.262515 157.54532 \nL 87.567184 157.715665 \nL 87.871852 158.337268 \nL 88.17652 158.037779 \nL 88.481189 159.513906 \nL 88.785857 159.204255 \nL 89.090525 159.757338 \nL 89.395193 159.035272 \nL 89.699862 157.925462 \nL 90.309198 159.798557 \nL 90.613867 159.906107 \nL 90.918535 159.238129 \nL 91.223203 160.491407 \nL 91.527872 159.086028 \nL 91.83254 159.935378 \nL 92.137208 160.396357 \nL 92.441877 161.202095 \nL 93.051213 159.26532 \nL 93.355881 159.023637 \nL 93.66055 157.434659 \nL 93.965218 157.892066 \nL 94.269886 157.019465 \nL 94.574555 157.470282 \nL 94.879223 157.588509 \nL 95.183891 156.753352 \nL 95.48856 156.252111 \nL 95.793228 156.072267 \nL 96.097896 156.201926 \nL 96.707233 154.367951 \nL 97.011901 154.513241 \nL 97.316569 153.492349 \nL 97.621238 153.357148 \nL 97.925906 154.361103 \nL 98.230574 153.938306 \nL 98.535243 152.969752 \nL 98.839911 153.944546 \nL 99.144579 152.725695 \nL 100.058584 155.270542 \nL 100.363252 154.609229 \nL 100.667921 154.476477 \nL 100.972589 155.874859 \nL 101.581926 157.089348 \nL 101.886594 158.419633 \nL 102.191262 158.011085 \nL 102.800599 156.73798 \nL 103.105267 157.070147 \nL 103.409936 156.454673 \nL 103.714604 156.78325 \nL 104.019272 157.798453 \nL 104.32394 158.337268 \nL 104.628609 157.506088 \nL 105.237945 158.114677 \nL 105.542614 157.08712 \nL 105.847282 156.952398 \nL 106.15195 156.386557 \nL 106.456619 156.904864 \nL 106.761287 156.988223 \nL 107.065955 156.85895 \nL 107.675292 157.022226 \nL 107.97996 157.307724 \nL 108.589297 156.244434 \nL 108.893965 155.926628 \nL 109.198633 156.01249 \nL 110.112638 157.42932 \nL 110.417307 157.307724 \nL 110.721975 157.379558 \nL 111.026643 157.830412 \nL 111.331311 157.142681 \nL 111.63598 156.839749 \nL 111.940648 156.169801 \nL 112.549985 156.873034 \nL 112.854653 156.399315 \nL 113.159321 156.47358 \nL 113.768658 155.552321 \nL 114.073326 156.337017 \nL 114.377994 156.409606 \nL 114.682663 156.133184 \nL 115.291999 154.733863 \nL 115.596668 154.985928 \nL 116.206004 153.966951 \nL 116.815341 154.467842 \nL 117.120009 153.560189 \nL 117.729346 155.194455 \nL 118.034014 155.26883 \nL 118.338682 155.984029 \nL 118.643351 155.5741 \nL 118.948019 155.644609 \nL 119.252687 156.18637 \nL 119.557356 156.095739 \nL 119.862024 156.317042 \nL 120.166692 156.226706 \nL 120.471361 156.290974 \nL 120.776029 156.506975 \nL 121.080697 156.417136 \nL 121.385365 156.780396 \nL 121.690034 156.690005 \nL 121.994702 157.047245 \nL 122.29937 156.808361 \nL 123.213375 155.817918 \nL 124.432049 154.929116 \nL 124.736717 154.148489 \nL 125.346053 154.986886 \nL 125.650722 154.774346 \nL 125.95539 154.978307 \nL 126.260058 155.317266 \nL 126.869395 155.440979 \nL 127.478732 156.502005 \nL 127.7834 156.42288 \nL 128.697405 157.110574 \nL 129.002073 157.945068 \nL 129.306741 157.730392 \nL 129.61141 157.776693 \nL 129.916078 158.208584 \nL 130.220746 157.611797 \nL 130.525415 157.785345 \nL 131.134751 158.631437 \nL 131.43942 159.298881 \nL 132.048756 158.254498 \nL 132.353424 158.419633 \nL 132.658093 158.214347 \nL 132.962761 157.766438 \nL 133.267429 157.688105 \nL 133.876766 158.256928 \nL 134.181434 157.817507 \nL 134.486103 157.740444 \nL 134.790771 158.020492 \nL 135.095439 157.588509 \nL 135.400107 157.866624 \nL 135.704776 157.790795 \nL 136.314112 157.525235 \nL 136.618781 157.682987 \nL 136.923449 156.804936 \nL 137.837454 156.599318 \nL 138.142122 156.757697 \nL 139.056127 156.667747 \nL 139.360795 157.044575 \nL 139.665464 157.08712 \nL 139.970132 156.909632 \nL 140.2748 157.280404 \nL 140.884137 157.253544 \nL 141.188805 156.97055 \nL 141.493474 157.012303 \nL 142.10281 156.562204 \nL 142.407479 156.393074 \nL 142.712147 156.014203 \nL 143.016815 156.269416 \nL 143.321483 156.103692 \nL 143.626152 156.252111 \nL 144.540157 155.66046 \nL 145.149493 155.852749 \nL 145.75883 156.041891 \nL 146.063498 155.378902 \nL 146.368166 155.725741 \nL 146.672835 155.469551 \nL 146.977503 155.41469 \nL 147.282171 155.558746 \nL 147.58684 155.405136 \nL 148.500845 155.439893 \nL 148.805513 155.872853 \nL 149.110181 156.108608 \nL 149.41485 156.149495 \nL 149.719518 156.478477 \nL 150.024186 156.038761 \nL 150.328854 155.984029 \nL 150.938191 156.538529 \nL 151.547528 156.89669 \nL 151.852196 156.652559 \nL 152.156864 156.690005 \nL 152.461533 156.541383 \nL 152.766201 156.76403 \nL 153.070869 157.16943 \nL 153.375537 156.836969 \nL 153.984874 157.000006 \nL 154.289542 157.398576 \nL 154.594211 157.522694 \nL 154.898879 157.28519 \nL 155.203547 157.229114 \nL 155.508216 156.815338 \nL 155.812884 156.761361 \nL 156.117552 156.441142 \nL 156.726889 156.601748 \nL 157.336225 156.76009 \nL 157.640894 157.056707 \nL 157.945562 156.655192 \nL 158.554899 157.156543 \nL 158.859567 156.931061 \nL 159.164235 157.050338 \nL 159.468904 157.339794 \nL 159.773572 157.371624 \nL 160.07824 157.063611 \nL 160.382908 156.926937 \nL 160.687577 156.959854 \nL 161.90625 157.754914 \nL 162.210918 157.535746 \nL 162.820255 157.348906 \nL 163.124923 157.543736 \nL 164.038928 157.714137 \nL 164.343596 157.500142 \nL 164.648265 157.449037 \nL 164.952933 157.076332 \nL 165.257601 157.026939 \nL 165.56227 157.137802 \nL 165.866938 157.407357 \nL 166.171606 157.039586 \nL 166.476275 157.149345 \nL 166.780943 157.100504 \nL 167.085611 156.737225 \nL 167.390279 156.690005 \nL 167.694948 156.095739 \nL 167.999616 155.972891 \nL 169.218289 156.335912 \nL 169.522958 156.214242 \nL 169.827626 156.246312 \nL 170.132294 156.049402 \nL 170.436963 156.157798 \nL 170.741631 156.417136 \nL 171.046299 156.37264 \nL 171.350967 156.102403 \nL 171.655636 155.984029 \nL 171.960304 155.641737 \nL 172.264972 156.048021 \nL 172.569641 156.079723 \nL 172.874309 155.88863 \nL 173.178977 155.846637 \nL 173.483646 156.026169 \nL 173.788314 156.057576 \nL 174.702319 155.78618 \nL 175.006987 155.236521 \nL 175.311655 155.704533 \nL 175.616324 155.808566 \nL 176.22566 155.440188 \nL 177.139665 155.75006 \nL 178.05367 156.407618 \nL 178.358338 156.506975 \nL 178.967675 156.354009 \nL 179.88168 156.717766 \nL 180.491017 156.358703 \nL 181.100353 156.621373 \nL 181.405021 156.443591 \nL 181.70969 156.744608 \nL 182.319026 156.459202 \nL 182.928363 156.717012 \nL 183.233031 156.474556 \nL 183.842368 156.797149 \nL 184.756373 156.809557 \nL 185.061041 156.504527 \nL 185.975046 157.04487 \nL 186.584383 156.768448 \nL 186.889051 156.92471 \nL 187.193719 156.755028 \nL 187.498388 156.715944 \nL 187.803056 156.806427 \nL 188.107724 156.70291 \nL 188.412393 156.792952 \nL 188.717061 157.010904 \nL 189.021729 156.651602 \nL 189.631066 156.639046 \nL 190.240402 157.00678 \nL 191.154407 156.702578 \nL 191.459076 156.727634 \nL 192.068412 157.026939 \nL 192.982417 157.098718 \nL 193.287085 157.245959 \nL 193.591754 157.145976 \nL 193.896422 157.2309 \nL 194.505759 157.215988 \nL 195.115095 157.748968 \nL 195.419764 157.770636 \nL 196.0291 157.632453 \nL 196.638437 157.976567 \nL 196.943105 157.757528 \nL 197.247773 157.838697 \nL 197.552442 157.68076 \nL 197.85711 157.702189 \nL 198.161778 157.901695 \nL 198.466447 157.922498 \nL 198.771115 157.765849 \nL 199.075783 158.081723 \nL 199.989788 158.083546 \nL 200.294456 158.045198 \nL 200.599125 158.181872 \nL 200.903793 158.085331 \nL 201.208461 158.221269 \nL 201.51313 157.951493 \nL 203.036471 158.280069 \nL 203.645808 158.204424 \nL 203.950476 158.450875 \nL 204.864481 158.168028 \nL 205.169149 158.299749 \nL 206.083154 158.076403 \nL 206.692491 158.448573 \nL 206.997159 158.633407 \nL 209.434506 158.719086 \nL 209.739174 158.681972 \nL 210.34851 158.987518 \nL 210.653179 158.841915 \nL 210.957847 158.912737 \nL 213.699862 157.578899 \nL 214.309198 157.775312 \nL 214.613867 157.6363 \nL 214.918535 157.707748 \nL 215.223203 157.935918 \nL 215.527872 157.692984 \nL 216.746545 158.181872 \nL 217.66055 158.131374 \nL 218.879223 158.456398 \nL 219.48856 158.235591 \nL 219.793228 158.404924 \nL 220.097896 158.371032 \nL 220.402564 158.488872 \nL 222.230574 158.037779 \nL 222.839911 158.022407 \nL 223.144579 157.791494 \nL 224.667921 157.682288 \nL 224.972589 157.797993 \nL 225.277257 157.570725 \nL 225.581926 157.735013 \nL 225.886594 157.606237 \nL 226.191262 157.769807 \nL 226.495931 157.641473 \nL 226.800599 157.75589 \nL 227.409936 157.500768 \nL 227.714604 157.325784 \nL 228.32394 157.553622 \nL 228.628609 157.379558 \nL 229.847282 157.54532 \nL 231.370623 157.490109 \nL 231.675292 157.225524 \nL 231.97996 157.290143 \nL 232.284628 157.073736 \nL 233.198633 156.941279 \nL 233.503302 157.005823 \nL 233.80797 157.255569 \nL 234.112638 157.319304 \nL 234.417307 157.198039 \nL 235.026643 157.509034 \nL 235.331311 157.479965 \nL 235.63598 157.267609 \nL 236.549985 157.547068 \nL 238.377994 157.420446 \nL 238.682663 157.527149 \nL 239.901336 157.458536 \nL 240.206004 157.608796 \nL 241.120009 157.612717 \nL 241.424678 157.628771 \nL 241.729346 157.42376 \nL 242.948019 157.357099 \nL 243.252687 157.504873 \nL 244.166692 157.378546 \nL 244.471361 157.525235 \nL 244.776029 157.324016 \nL 245.690034 157.588509 \nL 245.994702 157.388579 \nL 246.29937 157.404577 \nL 246.604039 157.635398 \nL 246.908707 157.608005 \nL 247.213375 157.366616 \nL 247.518044 157.425288 \nL 247.822712 157.355736 \nL 248.12738 157.414242 \nL 248.432049 157.217351 \nL 250.564727 157.370759 \nL 250.869395 157.470282 \nL 251.7834 157.182519 \nL 252.088068 157.406694 \nL 252.697405 157.271383 \nL 253.002073 157.286994 \nL 253.306741 157.178396 \nL 253.61141 157.27674 \nL 254.525415 157.240915 \nL 255.134751 157.476762 \nL 255.744088 157.384308 \nL 256.353424 157.496 \nL 256.658093 157.307724 \nL 257.572098 157.434106 \nL 258.181434 157.222082 \nL 258.790771 157.332835 \nL 259.400107 157.64313 \nL 260.009444 157.671978 \nL 260.314112 157.566767 \nL 260.618781 157.660859 \nL 260.923449 157.95326 \nL 261.228117 157.927431 \nL 261.837454 158.034171 \nL 263.665464 158.311163 \nL 264.2748 158.688581 \nL 264.884137 158.752334 \nL 265.493474 158.660524 \nL 266.10281 158.801303 \nL 267.016815 158.414258 \nL 267.626152 158.593071 \nL 267.93082 158.490511 \nL 268.844825 158.642317 \nL 270.063498 158.804672 \nL 270.672835 158.790644 \nL 270.977503 158.802537 \nL 272.196176 158.474752 \nL 272.500845 158.449586 \nL 273.110181 158.287507 \nL 273.41485 158.48635 \nL 274.938191 158.472911 \nL 275.242859 158.374217 \nL 276.156864 158.55789 \nL 277.375537 158.532227 \nL 279.812884 158.084411 \nL 283.164235 158.325431 \nL 283.468904 158.372781 \nL 283.773572 158.171839 \nL 284.07824 158.148477 \nL 284.687577 158.349032 \nL 286.210918 158.302235 \nL 286.820255 158.53532 \nL 287.429592 158.453452 \nL 288.038928 158.372026 \nL 288.343596 158.522359 \nL 288.648265 158.395038 \nL 291.390279 158.496991 \nL 291.694948 158.234745 \nL 292.304284 158.223662 \nL 292.913621 158.348609 \nL 293.218289 158.156264 \nL 294.132294 158.326002 \nL 295.655636 158.281321 \nL 295.960304 158.39316 \nL 296.569641 158.281542 \nL 297.788314 158.558976 \nL 298.39765 158.414663 \nL 299.616324 158.095346 \nL 300.530329 157.767746 \nL 300.834997 157.582544 \nL 301.749002 157.618222 \nL 302.05367 157.597419 \nL 302.663007 157.914066 \nL 302.967675 157.762904 \nL 304.186348 157.80902 \nL 304.795685 158.025445 \nL 305.100353 158.101035 \nL 305.70969 158.058803 \nL 306.014358 158.230308 \nL 306.319026 158.080895 \nL 308.451705 158.220827 \nL 309.975046 158.495058 \nL 315.459076 158.707451 \nL 316.068412 158.388558 \nL 316.37308 158.429464 \nL 316.677749 158.347504 \nL 318.20109 158.489793 \nL 319.724432 158.266538 \nL 320.333768 158.407851 \nL 320.638437 158.206375 \nL 321.247773 158.226792 \nL 321.552442 158.026273 \nL 321.85711 158.036675 \nL 322.161778 157.806866 \nL 323.075783 157.719052 \nL 326.427135 158.160149 \nL 326.731803 158.081723 \nL 332.520501 158.760139 \nL 333.434506 158.500084 \nL 334.043842 158.63348 \nL 335.567184 158.622269 \nL 335.871852 158.716821 \nL 336.481189 158.564481 \nL 337.090525 158.554521 \nL 337.699862 158.657689 \nL 338.613867 158.54388 \nL 339.83254 158.720577 \nL 340.137208 158.701468 \nL 340.746545 158.467719 \nL 342.879223 158.420462 \nL 343.793228 158.58602 \nL 344.097896 158.705389 \nL 344.707233 158.585192 \nL 345.621238 158.694177 \nL 345.925906 158.812625 \nL 346.839911 158.865719 \nL 347.753916 158.86397 \nL 348.363252 158.745006 \nL 348.667921 158.91653 \nL 349.886594 158.679707 \nL 350.495931 158.858797 \nL 351.409936 158.937756 \nL 351.714604 158.81176 \nL 352.32394 159.042986 \nL 352.933277 158.979068 \nL 354.15195 158.958559 \nL 355.065955 158.797308 \nL 356.284628 158.751303 \nL 357.503302 158.574109 \nL 364.815341 157.413561 \nL 365.424678 157.381344 \nL 366.643351 157.317297 \nL 367.252687 157.590828 \nL 369.690034 157.563269 \nL 370.29937 157.531273 \nL 372.432049 157.520301 \nL 374.260058 157.500381 \nL 375.7834 157.372655 \nL 376.088068 157.406566 \nL 376.088068 157.406566 \n\" style=\"fill:none;stroke:#d62728;stroke-linecap:square;stroke-width:1.5;\"/>\n   </g>\n   <g id=\"line2d_19\">\n    <path clip-path=\"url(#p800ad8a6e2)\" d=\"M 71.724432 191.282728 \nL 72.0291 203.63728 \nL 72.333768 166.573643 \nL 72.638437 148.041824 \nL 72.943105 151.748176 \nL 73.247773 137.74636 \nL 73.552442 145.394416 \nL 73.85711 163.485009 \nL 74.466447 181.39909 \nL 74.771115 193.529007 \nL 75.075783 195.400906 \nL 75.380451 191.282728 \nL 75.68512 182.458053 \nL 75.989788 191.282728 \nL 76.294456 186.649778 \nL 76.903793 181.673634 \nL 77.208461 183.479866 \nL 77.51313 182.634547 \nL 78.122466 185.667031 \nL 78.427135 188.059796 \nL 78.731803 188.194095 \nL 79.036471 185.352538 \nL 79.341139 188.431672 \nL 79.645808 187.622124 \nL 79.950476 187.752851 \nL 80.255144 187.022538 \nL 80.864481 188.891528 \nL 81.169149 188.966253 \nL 81.473818 188.28769 \nL 82.083154 183.517017 \nL 82.692491 182.601152 \nL 82.997159 180.228656 \nL 83.301827 174.809998 \nL 83.606496 172.750909 \nL 84.215832 175.986618 \nL 84.520501 175.193086 \nL 84.825169 172.18934 \nL 85.129837 173.711822 \nL 85.434506 170.870873 \nL 85.739174 169.202273 \nL 86.043842 169.147504 \nL 86.34851 170.60778 \nL 86.653179 170.52709 \nL 87.262515 166.573643 \nL 87.567184 167.03985 \nL 87.871852 169.776674 \nL 88.17652 168.370669 \nL 88.481189 168.338581 \nL 88.785857 166.140149 \nL 89.090525 167.425681 \nL 89.395193 166.992445 \nL 89.699862 168.220906 \nL 90.309198 168.964843 \nL 90.613867 168.534681 \nL 91.223203 166.573643 \nL 91.527872 168.071162 \nL 91.83254 168.048812 \nL 92.137208 168.753849 \nL 92.441877 167.289835 \nL 92.746545 167.279618 \nL 93.051213 167.965693 \nL 93.355881 166.573643 \nL 93.66055 167.250604 \nL 94.269886 169.209268 \nL 94.574555 169.174603 \nL 94.879223 169.782602 \nL 95.183891 170.05825 \nL 95.48856 169.388597 \nL 95.793228 169.044538 \nL 96.097896 169.319101 \nL 96.402564 169.285613 \nL 96.707233 170.443731 \nL 97.011901 170.985971 \nL 97.316569 171.80616 \nL 97.621238 172.032618 \nL 97.925906 171.969878 \nL 98.535243 172.959142 \nL 99.144579 175.262546 \nL 99.449248 174.093787 \nL 99.753916 174.278621 \nL 100.058584 174.19666 \nL 100.363252 173.596228 \nL 100.667921 174.552612 \nL 100.972589 173.451417 \nL 101.277257 173.129118 \nL 101.886594 171.268357 \nL 102.191262 170.977245 \nL 102.800599 172.570991 \nL 103.105267 172.275736 \nL 103.409936 172.927403 \nL 103.714604 172.634357 \nL 104.019272 171.884935 \nL 104.628609 171.334098 \nL 104.933277 170.841565 \nL 105.237945 171.470938 \nL 105.542614 171.427215 \nL 105.847282 171.602917 \nL 106.15195 172.642531 \nL 106.456619 171.730312 \nL 107.065955 171.642166 \nL 107.370623 170.761612 \nL 107.675292 170.311144 \nL 107.97996 169.456363 \nL 108.284628 169.228341 \nL 108.589297 169.409106 \nL 109.198633 170.758243 \nL 109.503302 171.120104 \nL 109.80797 171.280139 \nL 110.112638 170.075721 \nL 111.331311 167.893968 \nL 111.63598 168.258352 \nL 112.549985 166.939701 \nL 112.854653 167.118699 \nL 113.159321 166.212923 \nL 113.46399 166.036484 \nL 114.377994 164.470738 \nL 114.682663 164.833557 \nL 115.291999 166.573643 \nL 115.596668 166.232824 \nL 115.901336 166.065921 \nL 116.206004 165.397023 \nL 116.510673 165.071061 \nL 116.815341 165.4128 \nL 117.120009 166.244182 \nL 117.424678 166.246373 \nL 118.034014 165.927646 \nL 118.338682 166.092284 \nL 118.643351 166.414233 \nL 119.252687 166.416258 \nL 119.557356 166.730033 \nL 119.862024 166.418228 \nL 120.166692 166.419203 \nL 120.776029 167.488789 \nL 121.080697 168.089535 \nL 121.385365 167.326968 \nL 121.690034 167.172639 \nL 121.994702 167.169031 \nL 122.29937 167.313437 \nL 122.908707 168.035723 \nL 123.213375 168.317815 \nL 123.518044 167.729625 \nL 123.822712 167.435585 \nL 124.12738 167.430596 \nL 124.432049 167.709687 \nL 124.736717 167.420802 \nL 125.650722 168.239426 \nL 125.95539 167.539913 \nL 126.260058 167.259993 \nL 126.564727 167.256201 \nL 126.869395 167.388217 \nL 127.174063 167.248745 \nL 127.478732 167.647941 \nL 127.7834 167.775704 \nL 128.088068 168.034931 \nL 128.392736 167.630709 \nL 128.697405 167.887948 \nL 129.002073 168.403936 \nL 129.306741 168.264261 \nL 129.61141 168.384771 \nL 129.916078 168.117959 \nL 130.525415 168.102035 \nL 130.830083 167.207213 \nL 131.134751 167.330042 \nL 131.43942 167.075344 \nL 131.744088 167.571983 \nL 132.048756 167.815304 \nL 132.353424 166.944267 \nL 132.658093 167.188287 \nL 132.962761 166.940603 \nL 133.267429 166.330193 \nL 134.486103 165.499326 \nL 134.790771 165.266903 \nL 135.095439 165.746053 \nL 135.400107 165.514679 \nL 135.704776 166.105226 \nL 136.009444 166.340539 \nL 136.314112 166.341625 \nL 136.923449 166.688556 \nL 137.532786 165.662712 \nL 137.837454 165.666891 \nL 138.142122 165.5582 \nL 139.056127 167.13015 \nL 139.970132 166.683456 \nL 140.579469 165.811683 \nL 140.884137 165.38154 \nL 141.188805 165.71043 \nL 141.798142 165.610944 \nL 142.10281 165.934605 \nL 142.712147 166.890418 \nL 143.016815 166.783937 \nL 143.626152 165.948099 \nL 143.93082 166.158356 \nL 144.235488 165.436401 \nL 144.540157 165.647045 \nL 144.844825 165.548369 \nL 145.454162 165.86185 \nL 145.75883 165.864777 \nL 146.063498 165.464255 \nL 146.368166 164.564775 \nL 146.672835 164.372836 \nL 146.977503 164.381709 \nL 147.282171 164.192034 \nL 149.719518 164.26617 \nL 150.328854 163.997793 \nL 150.633523 164.007697 \nL 150.938191 163.733522 \nL 151.547528 164.036969 \nL 151.852196 164.140174 \nL 152.156864 163.96287 \nL 152.461533 164.065578 \nL 152.766201 164.352603 \nL 153.375537 164.460963 \nL 153.680206 164.468787 \nL 154.289542 164.938474 \nL 154.594211 164.672932 \nL 154.898879 164.770062 \nL 155.508216 164.60408 \nL 155.812884 164.967985 \nL 157.336225 164.908834 \nL 157.640894 164.652792 \nL 158.554899 164.672932 \nL 159.164235 164.943518 \nL 159.468904 164.607173 \nL 160.07824 164.875421 \nL 160.687577 165.05567 \nL 160.992245 164.892744 \nL 161.296913 164.479649 \nL 162.210918 164.334893 \nL 162.820255 164.432189 \nL 164.038928 164.13524 \nL 164.343596 164.386275 \nL 164.648265 164.231928 \nL 165.257601 164.808704 \nL 165.56227 164.814411 \nL 165.866938 164.501262 \nL 166.476275 164.593752 \nL 166.780943 164.600067 \nL 167.085611 164.921114 \nL 167.390279 164.691047 \nL 167.694948 164.93157 \nL 167.999616 165.014708 \nL 168.304284 164.786502 \nL 168.608953 164.792098 \nL 168.913621 164.643237 \nL 169.218289 164.187395 \nL 169.522958 164.425027 \nL 169.827626 164.431673 \nL 170.436963 164.824996 \nL 170.741631 164.45139 \nL 171.350967 164.765662 \nL 171.655636 164.771148 \nL 172.264972 165.006001 \nL 172.569641 165.010714 \nL 172.874309 164.867007 \nL 173.178977 165.020066 \nL 173.483646 165.024705 \nL 174.092982 165.473828 \nL 174.39765 165.330877 \nL 174.702319 165.042986 \nL 175.006987 164.974815 \nL 175.311655 165.12443 \nL 177.444334 165.153573 \nL 177.749002 164.945249 \nL 178.358338 165.165705 \nL 178.967675 165.313682 \nL 179.272343 165.526646 \nL 179.88168 165.740751 \nL 180.186348 165.535445 \nL 180.491017 165.607354 \nL 181.100353 165.200904 \nL 181.70969 165.549787 \nL 182.623695 166.032066 \nL 182.928363 165.695997 \nL 184.756373 166.440798 \nL 185.365709 165.58263 \nL 185.670378 165.782946 \nL 187.803056 164.3744 \nL 188.717061 164.327364 \nL 189.326397 164.019719 \nL 189.631066 164.153668 \nL 189.935734 163.778773 \nL 190.240402 163.595872 \nL 190.545071 163.856278 \nL 191.154407 163.555739 \nL 192.37308 163.337179 \nL 192.677749 163.096988 \nL 192.982417 163.105695 \nL 193.287085 162.805507 \nL 193.591754 162.876513 \nL 193.896422 163.19305 \nL 194.505759 163.026294 \nL 195.115095 162.861196 \nL 196.333768 162.656351 \nL 196.638437 162.365275 \nL 196.943105 162.61539 \nL 197.247773 162.445487 \nL 197.552442 162.515149 \nL 197.85711 162.227221 \nL 198.161778 162.297067 \nL 199.075783 161.502081 \nL 199.380451 161.337664 \nL 199.68512 161.350109 \nL 201.208461 160.483362 \nL 201.51313 160.671233 \nL 201.817798 160.396357 \nL 202.427135 160.310163 \nL 202.731803 160.267379 \nL 203.036471 160.110381 \nL 203.645808 160.310973 \nL 204.255144 160.226344 \nL 204.864481 160.76306 \nL 206.083154 160.983351 \nL 206.387822 160.94018 \nL 206.692491 160.618967 \nL 207.606496 160.216715 \nL 207.911164 160.065443 \nL 208.520501 160.039448 \nL 209.129837 159.467035 \nL 209.739174 159.607207 \nL 210.34851 159.258453 \nL 210.653179 159.38259 \nL 211.262515 159.413923 \nL 212.785857 159.491078 \nL 213.090525 159.718862 \nL 213.699862 159.748207 \nL 214.918535 159.806179 \nL 215.527872 160.043756 \nL 215.83254 159.953272 \nL 216.137208 160.123268 \nL 216.441877 160.084902 \nL 216.746545 160.305708 \nL 217.66055 160.087498 \nL 217.965218 160.152355 \nL 218.269886 160.422002 \nL 218.574555 160.434741 \nL 218.879223 160.651626 \nL 219.183891 160.561934 \nL 219.48856 160.676001 \nL 219.793228 160.535884 \nL 220.097896 160.598901 \nL 220.402564 160.459521 \nL 220.707233 160.522427 \nL 221.011901 160.736053 \nL 221.621238 160.559246 \nL 222.230574 160.683383 \nL 223.753916 160.594041 \nL 224.667921 161.022692 \nL 224.972589 161.033701 \nL 225.277257 161.191454 \nL 225.886594 161.212699 \nL 226.191262 161.223248 \nL 226.495931 161.427927 \nL 226.800599 161.341125 \nL 227.105267 161.689842 \nL 227.714604 161.805215 \nL 228.019272 161.958715 \nL 228.32394 161.871711 \nL 228.628609 161.928708 \nL 228.933277 161.842108 \nL 229.237945 161.517343 \nL 229.542614 161.669904 \nL 229.847282 161.536783 \nL 230.15195 161.546448 \nL 230.456619 161.414083 \nL 230.761287 161.47119 \nL 231.065955 161.292302 \nL 231.370623 161.349428 \nL 231.675292 161.12448 \nL 232.893965 161.445342 \nL 233.503302 161.325274 \nL 233.80797 161.103327 \nL 234.417307 161.07759 \nL 234.721975 160.995648 \nL 235.331311 161.200107 \nL 235.63598 161.118386 \nL 235.940648 161.265756 \nL 236.245316 160.955865 \nL 238.377994 161.072711 \nL 238.682663 161.17275 \nL 238.987331 160.957927 \nL 240.510673 160.74141 \nL 240.815341 160.52968 \nL 241.120009 160.540542 \nL 241.424678 160.728468 \nL 242.034014 160.749345 \nL 242.338682 160.671638 \nL 242.643351 160.770074 \nL 243.252687 161.097325 \nL 243.862024 161.029375 \nL 245.080697 161.415077 \nL 245.690034 161.303514 \nL 245.994702 161.485199 \nL 246.29937 161.321887 \nL 246.604039 161.373986 \nL 246.908707 161.297218 \nL 247.518044 161.529217 \nL 247.822712 161.537925 \nL 248.432049 161.810444 \nL 249.346053 161.369494 \nL 249.650722 161.420637 \nL 249.95539 161.302925 \nL 250.260058 161.059346 \nL 250.564727 160.984676 \nL 250.869395 161.036113 \nL 251.174063 160.919856 \nL 251.7834 161.022435 \nL 252.088068 160.781801 \nL 252.392736 160.749952 \nL 252.697405 160.884325 \nL 253.002073 160.686568 \nL 253.306741 160.779206 \nL 255.43942 160.355451 \nL 256.048756 160.253664 \nL 256.353424 160.141953 \nL 257.267429 160.214083 \nL 257.876766 160.154122 \nL 258.790771 160.225607 \nL 259.095439 160.155687 \nL 259.400107 159.925805 \nL 260.009444 160.1868 \nL 261.228117 159.474233 \nL 263.665464 159.211821 \nL 264.2748 159.07894 \nL 265.493474 159.591485 \nL 265.798142 159.873522 \nL 266.10281 159.845336 \nL 266.407479 159.701428 \nL 267.626152 159.974315 \nL 267.93082 160.061172 \nL 268.540157 159.737584 \nL 269.149493 159.682502 \nL 270.063498 159.827902 \nL 270.368166 159.724716 \nL 270.672835 159.886316 \nL 273.110181 159.892484 \nL 273.41485 159.75349 \nL 274.633523 159.868477 \nL 275.242859 160.073193 \nL 275.547528 159.824736 \nL 277.070869 159.435463 \nL 277.680206 159.420054 \nL 280.726889 159.41628 \nL 281.336225 159.401184 \nL 281.640894 159.483199 \nL 281.945562 159.314676 \nL 282.554899 159.442587 \nL 282.859567 159.13242 \nL 283.468904 159.047312 \nL 283.773572 159.0581 \nL 284.382908 158.90287 \nL 284.992245 158.85425 \nL 285.90625 158.816952 \nL 287.124923 158.511774 \nL 288.038928 158.545795 \nL 288.343596 158.695871 \nL 290.171606 158.79613 \nL 290.476275 158.635119 \nL 292.608953 158.643587 \nL 292.913621 158.552533 \nL 293.218289 158.665366 \nL 293.522958 158.54064 \nL 293.827626 158.653197 \nL 294.132294 158.528821 \nL 297.178977 158.704082 \nL 297.788314 158.825033 \nL 298.39765 158.845836 \nL 298.702319 158.723706 \nL 299.616324 158.920083 \nL 301.749002 158.860214 \nL 302.967675 158.965831 \nL 303.88168 158.704303 \nL 304.186348 158.876305 \nL 306.014358 158.647472 \nL 308.451705 159.014819 \nL 308.756373 158.834202 \nL 309.061041 158.875807 \nL 309.670378 159.11668 \nL 309.975046 159.094644 \nL 310.279714 158.915075 \nL 310.889051 159.091753 \nL 311.803056 159.214141 \nL 312.107724 159.223456 \nL 312.717061 159.054842 \nL 314.849739 159.027927 \nL 315.154407 159.00648 \nL 315.459076 158.861687 \nL 316.37308 159.259263 \nL 317.287085 159.286454 \nL 317.896422 159.396084 \nL 319.115095 159.644155 \nL 320.0291 159.487949 \nL 320.638437 159.475062 \nL 320.943105 159.513906 \nL 321.247773 159.432112 \nL 322.466447 159.496767 \nL 323.380451 159.253538 \nL 324.294456 159.33953 \nL 324.903793 159.149026 \nL 325.51313 159.077946 \nL 326.427135 159.104824 \nL 329.169149 158.687752 \nL 330.387822 158.89928 \nL 330.997159 158.801303 \nL 331.301827 158.868333 \nL 331.606496 158.790571 \nL 332.520501 158.817817 \nL 335.871852 158.659898 \nL 336.785857 158.772253 \nL 337.090525 158.696202 \nL 338.309198 159.127063 \nL 339.223203 159.124375 \nL 340.137208 159.289787 \nL 342.879223 159.612932 \nL 344.707233 159.218762 \nL 347.144579 159.447595 \nL 347.449248 159.373643 \nL 347.753916 159.43607 \nL 348.667921 159.188055 \nL 348.972589 159.196173 \nL 349.277257 159.339732 \nL 349.581926 159.239399 \nL 350.191262 159.390451 \nL 350.800599 159.136655 \nL 351.714604 159.268339 \nL 353.237945 159.013991 \nL 353.542614 158.995471 \nL 353.847282 158.817062 \nL 354.456619 158.83376 \nL 355.97996 158.584198 \nL 357.503302 158.705665 \nL 358.721975 158.634235 \nL 359.63598 158.528821 \nL 359.940648 158.380752 \nL 362.073326 158.518586 \nL 363.291999 158.423242 \nL 364.510673 158.482815 \nL 365.120009 158.52525 \nL 367.252687 158.659604 \nL 370.29937 158.790644 \nL 370.604039 158.899225 \nL 373.346053 158.794381 \nL 373.95539 158.810048 \nL 375.7834 158.683555 \nL 376.088068 158.493769 \nL 376.088068 158.493769 \n\" style=\"fill:none;stroke:#9467bd;stroke-linecap:square;stroke-width:1.5;\"/>\n   </g>\n   <g id=\"line2d_20\">\n    <path clip-path=\"url(#p800ad8a6e2)\" d=\"M 71.724432 191.282728 \nL 72.0291 166.573643 \nL 72.333768 174.809998 \nL 72.638437 178.928176 \nL 72.943105 181.39909 \nL 73.247773 195.400906 \nL 73.552442 184.222992 \nL 74.161778 174.809998 \nL 74.771115 173.312479 \nL 75.075783 160.396357 \nL 75.68512 154.21909 \nL 75.989788 151.748176 \nL 76.599125 156.399315 \nL 76.903793 156.964548 \nL 77.208461 158.770762 \nL 77.51313 155.454547 \nL 78.122466 160.957927 \nL 78.427135 157.979163 \nL 78.731803 159.366813 \nL 79.036471 156.690005 \nL 79.341139 159.921184 \nL 79.645808 160.16758 \nL 79.950476 164.808704 \nL 80.255144 166.573643 \nL 80.559813 164.92636 \nL 80.864481 166.573643 \nL 81.169149 165.801484 \nL 81.473818 165.824883 \nL 81.778486 165.120159 \nL 82.083154 165.867667 \nL 82.387822 167.259993 \nL 82.692491 165.90583 \nL 82.997159 163.322433 \nL 83.301827 163.405811 \nL 83.606496 164.720448 \nL 83.911164 161.149682 \nL 84.215832 161.867146 \nL 84.520501 161.976591 \nL 84.825169 162.642655 \nL 85.129837 162.180902 \nL 85.434506 161.202095 \nL 86.043842 163.485009 \nL 86.34851 163.043765 \nL 86.653179 164.102728 \nL 86.957847 162.213211 \nL 87.262515 162.297067 \nL 87.567184 161.91155 \nL 87.871852 160.625153 \nL 88.17652 160.73331 \nL 88.481189 162.60254 \nL 89.090525 163.591509 \nL 89.395193 163.642044 \nL 90.00453 158.877372 \nL 90.309198 159.001491 \nL 90.918535 161.554604 \nL 91.223203 162.011956 \nL 91.527872 162.081085 \nL 92.137208 160.033005 \nL 92.746545 161.631814 \nL 93.051213 162.049439 \nL 93.355881 162.79864 \nL 93.66055 163.865795 \nL 93.965218 161.565042 \nL 94.269886 160.643452 \nL 94.574555 159.095896 \nL 94.879223 156.304929 \nL 95.183891 155.486231 \nL 95.48856 155.939349 \nL 95.793228 154.836828 \nL 96.097896 154.371615 \nL 96.402564 154.52042 \nL 96.707233 154.96334 \nL 97.011901 155.689879 \nL 97.316569 155.817918 \nL 97.621238 156.804936 \nL 97.925906 156.633192 \nL 98.230574 157.307724 \nL 98.535243 157.411849 \nL 98.839911 157.239092 \nL 99.144579 157.341671 \nL 99.449248 158.247742 \nL 99.753916 158.337268 \nL 100.058584 157.899172 \nL 100.363252 157.730392 \nL 100.667921 156.278179 \nL 101.277257 155.984029 \nL 101.581926 155.591829 \nL 101.886594 156.195814 \nL 102.191262 156.298577 \nL 103.105267 154.456686 \nL 103.409936 154.101434 \nL 103.714604 153.985987 \nL 104.019272 153.179918 \nL 104.32394 153.075148 \nL 105.237945 153.439973 \nL 105.542614 153.777865 \nL 105.847282 154.328426 \nL 106.15195 154.21909 \nL 106.456619 154.326529 \nL 106.761287 154.645109 \nL 107.065955 155.169436 \nL 107.370623 156.103692 \nL 107.675292 155.568743 \nL 107.97996 156.072267 \nL 108.284628 156.159069 \nL 108.893965 154.922194 \nL 109.80797 153.434671 \nL 110.112638 154.705493 \nL 110.721975 153.93177 \nL 111.331311 154.124777 \nL 111.63598 154.78066 \nL 111.940648 155.055112 \nL 112.245316 154.21909 \nL 112.549985 155.042722 \nL 112.854653 155.309203 \nL 113.46399 156.367706 \nL 113.768658 156.796652 \nL 114.073326 156.690005 \nL 114.682663 157.177217 \nL 114.987331 156.897353 \nL 115.291999 156.449776 \nL 116.206004 157.496828 \nL 116.815341 156.955325 \nL 117.120009 156.854735 \nL 117.424678 156.428182 \nL 117.729346 156.332378 \nL 118.034014 156.076317 \nL 118.338682 155.663129 \nL 118.643351 155.892938 \nL 118.948019 155.961404 \nL 119.252687 155.871619 \nL 119.557356 156.095739 \nL 119.862024 156.161627 \nL 120.166692 156.072267 \nL 120.471361 155.830547 \nL 120.776029 155.286761 \nL 121.080697 155.052829 \nL 121.385365 155.123081 \nL 121.690034 155.042722 \nL 122.29937 154.441038 \nL 122.604039 154.660334 \nL 123.213375 154.50978 \nL 123.518044 154.724842 \nL 123.822712 154.793731 \nL 124.12738 155.147474 \nL 124.432049 155.213141 \nL 124.736717 155.419256 \nL 125.95539 156.77283 \nL 126.564727 157.15415 \nL 126.869395 157.070147 \nL 127.174063 156.717012 \nL 127.478732 155.964846 \nL 127.7834 156.289317 \nL 128.088068 156.211757 \nL 128.697405 156.716294 \nL 129.002073 155.853283 \nL 129.306741 156.299866 \nL 129.916078 155.763407 \nL 130.220746 156.20351 \nL 130.525415 156.129595 \nL 131.134751 155.73189 \nL 131.43942 155.034364 \nL 132.048756 155.771176 \nL 132.353424 156.319362 \nL 132.658093 156.001592 \nL 132.962761 156.053931 \nL 133.572098 156.520433 \nL 133.876766 156.690005 \nL 134.181434 157.097816 \nL 134.486103 157.143601 \nL 134.790771 156.713753 \nL 135.095439 156.760937 \nL 136.314112 156.133184 \nL 136.618781 156.066505 \nL 137.532786 157.122688 \nL 137.837454 157.279391 \nL 138.142122 157.209011 \nL 138.446791 156.353052 \nL 138.751459 156.62292 \nL 139.056127 156.445137 \nL 139.360795 156.822959 \nL 139.970132 156.690005 \nL 140.579469 156.994777 \nL 140.884137 156.820051 \nL 141.188805 156.862651 \nL 141.798142 156.197968 \nL 142.10281 155.816666 \nL 142.712147 156.014203 \nL 143.016815 155.953984 \nL 143.93082 156.918414 \nL 144.235488 157.165582 \nL 144.844825 157.243658 \nL 145.149493 157.486408 \nL 145.454162 157.117073 \nL 145.75883 156.9533 \nL 146.063498 157.194265 \nL 146.368166 157.031505 \nL 146.672835 157.270223 \nL 146.977503 157.108457 \nL 147.282171 157.543405 \nL 147.891508 157.221585 \nL 148.196176 156.866498 \nL 148.500845 157.100191 \nL 148.805513 156.845659 \nL 149.110181 156.980694 \nL 149.41485 156.72861 \nL 150.328854 157.605869 \nL 150.633523 157.450289 \nL 150.938191 157.674574 \nL 151.547528 156.614838 \nL 152.766201 156.30132 \nL 153.070869 155.786456 \nL 153.375537 155.826552 \nL 153.984874 156.361759 \nL 154.289542 156.21763 \nL 154.594211 156.255554 \nL 155.812884 157.385781 \nL 156.117552 157.507708 \nL 156.422221 157.274513 \nL 157.336225 157.548688 \nL 157.640894 157.493257 \nL 157.945562 157.612239 \nL 158.25023 157.556991 \nL 158.554899 157.329337 \nL 158.859567 157.79201 \nL 159.468904 158.023788 \nL 159.773572 157.797643 \nL 160.382908 158.280861 \nL 160.992245 158.085147 \nL 161.296913 157.946393 \nL 161.601582 157.641639 \nL 161.90625 157.588509 \nL 162.515587 157.070147 \nL 163.429592 157.737278 \nL 163.73426 158.174177 \nL 164.038928 158.20181 \nL 164.343596 157.905211 \nL 164.648265 157.772035 \nL 164.952933 157.881186 \nL 165.257601 157.748968 \nL 165.56227 157.937446 \nL 166.171606 157.675182 \nL 166.476275 158.020492 \nL 167.085611 157.917582 \nL 167.999616 158.389239 \nL 168.304284 158.414976 \nL 168.913621 158.079882 \nL 169.218289 158.029366 \nL 169.827626 158.464774 \nL 170.436963 158.134541 \nL 170.741631 158.387803 \nL 171.046299 158.186143 \nL 171.350967 158.287047 \nL 171.655636 158.162026 \nL 171.960304 158.487031 \nL 172.569641 158.759016 \nL 172.874309 158.634088 \nL 173.483646 159.050276 \nL 173.788314 158.778512 \nL 174.092982 158.801635 \nL 174.702319 159.066164 \nL 175.006987 159.088237 \nL 175.311655 158.747878 \nL 175.616324 158.915259 \nL 175.920992 159.225739 \nL 176.530329 159.411585 \nL 176.834997 159.289455 \nL 177.139665 159.381651 \nL 177.444334 159.1183 \nL 178.358338 159.674807 \nL 178.663007 160.045376 \nL 178.967675 160.133872 \nL 179.272343 159.942668 \nL 179.88168 160.188143 \nL 181.100353 160.190463 \nL 181.70969 159.884439 \nL 182.623695 159.871717 \nL 183.5377 160.463516 \nL 183.842368 160.279179 \nL 184.147036 160.36298 \nL 184.451705 160.046702 \nL 184.756373 160.197091 \nL 185.061041 160.479164 \nL 185.670378 160.709341 \nL 186.279714 160.478299 \nL 186.889051 159.988895 \nL 187.803056 160.105281 \nL 188.412393 160.267673 \nL 189.631066 159.313756 \nL 189.935734 159.522964 \nL 190.849739 159.387837 \nL 191.459076 159.926008 \nL 192.068412 159.897196 \nL 192.37308 160.162959 \nL 193.591754 160.473383 \nL 193.896422 160.304161 \nL 194.505759 160.641004 \nL 195.419764 160.563315 \nL 196.333768 159.944362 \nL 196.638437 160.080741 \nL 196.943105 159.736664 \nL 197.552442 159.948744 \nL 197.85711 159.905168 \nL 198.466447 160.055649 \nL 198.771115 160.071242 \nL 199.075783 160.204712 \nL 199.989788 159.95723 \nL 200.294456 160.031274 \nL 201.208461 159.671328 \nL 201.817798 159.819047 \nL 202.427135 159.333307 \nL 202.731803 159.178113 \nL 203.341139 159.212263 \nL 204.559813 158.883853 \nL 204.864481 158.957823 \nL 205.473818 158.823966 \nL 205.778486 159.009628 \nL 206.083154 158.859036 \nL 206.692491 158.949428 \nL 206.997159 159.077615 \nL 207.301827 158.706622 \nL 207.606496 158.668938 \nL 208.520501 159.270733 \nL 208.825169 159.451277 \nL 209.129837 159.467035 \nL 209.434506 159.155451 \nL 209.739174 159.11738 \nL 210.043842 159.242363 \nL 210.34851 159.095896 \nL 211.871852 159.39139 \nL 212.17652 159.246487 \nL 212.481189 159.42241 \nL 212.785857 159.1183 \nL 213.090525 159.081205 \nL 213.395193 159.415433 \nL 213.699862 159.324931 \nL 214.00453 159.49881 \nL 214.613867 159.52891 \nL 215.83254 159.744746 \nL 216.746545 159.580494 \nL 217.051213 159.59513 \nL 217.66055 159.263866 \nL 219.183891 159.543012 \nL 220.402564 159.145749 \nL 220.707233 159.312191 \nL 221.011901 159.125682 \nL 221.316569 159.140815 \nL 221.621238 159.456615 \nL 221.925906 159.270953 \nL 222.230574 159.235791 \nL 222.839911 158.967009 \nL 223.449248 158.997496 \nL 223.753916 159.309172 \nL 224.058584 159.175702 \nL 224.667921 159.303373 \nL 224.972589 159.072662 \nL 226.495931 159.291977 \nL 227.105267 159.127063 \nL 227.409936 159.045085 \nL 227.714604 159.107935 \nL 228.628609 158.816142 \nL 229.542614 159.099025 \nL 230.761287 158.683739 \nL 231.675292 158.869659 \nL 231.97996 158.743626 \nL 232.589297 158.913345 \nL 232.893965 158.787938 \nL 234.112638 158.985087 \nL 234.417307 158.860712 \nL 234.721975 158.967304 \nL 235.026643 158.751395 \nL 235.63598 158.780427 \nL 235.940648 158.794842 \nL 236.245316 158.489517 \nL 236.549985 158.504428 \nL 236.854653 158.792319 \nL 237.46399 158.639519 \nL 238.682663 158.337268 \nL 238.987331 158.442093 \nL 239.291999 158.681088 \nL 239.596668 158.516321 \nL 240.815341 158.618734 \nL 241.424678 158.381562 \nL 243.557356 157.827062 \nL 244.471361 158.177767 \nL 244.776029 158.192531 \nL 245.080697 158.337268 \nL 245.690034 158.150078 \nL 246.29937 158.050298 \nL 246.604039 157.80729 \nL 247.518044 158.066535 \nL 248.432049 158.025389 \nL 249.346053 158.19625 \nL 249.650722 157.914894 \nL 252.088068 158.448389 \nL 252.392736 158.295681 \nL 252.697405 157.977359 \nL 253.002073 157.867416 \nL 253.306741 158.047555 \nL 253.61141 158.020492 \nL 254.525415 158.47431 \nL 254.830083 158.446732 \nL 255.134751 158.255327 \nL 255.43942 158.391816 \nL 255.744088 158.282812 \nL 256.658093 158.283089 \nL 257.267429 158.593826 \nL 257.572098 158.606878 \nL 258.181434 158.753788 \nL 258.790771 158.859589 \nL 259.095439 158.751763 \nL 259.400107 158.844529 \nL 259.704776 158.657137 \nL 260.009444 158.709844 \nL 260.618781 158.934111 \nL 260.923449 158.827224 \nL 261.532786 158.852041 \nL 262.142122 158.758298 \nL 262.446791 158.928404 \nL 263.056127 158.874151 \nL 264.884137 158.635598 \nL 265.493474 158.427789 \nL 266.10281 158.221269 \nL 267.016815 158.645171 \nL 267.626152 158.516321 \nL 267.93082 158.4522 \nL 269.149493 158.882987 \nL 269.454162 158.704744 \nL 270.368166 158.740901 \nL 270.672835 158.563965 \nL 270.977503 158.576189 \nL 271.282171 158.739042 \nL 271.891508 158.650215 \nL 272.500845 158.674221 \nL 272.805513 158.424493 \nL 273.41485 158.598152 \nL 274.633523 158.460761 \nL 274.938191 158.546881 \nL 275.242859 158.448076 \nL 275.852196 158.656419 \nL 277.070869 158.776542 \nL 277.375537 158.71498 \nL 277.984874 158.811042 \nL 279.203547 158.96526 \nL 279.508216 159.048767 \nL 280.117552 158.89037 \nL 280.726889 159.020637 \nL 281.640894 158.874427 \nL 282.859567 158.954417 \nL 283.468904 158.763287 \nL 283.773572 158.951748 \nL 284.382908 159.044256 \nL 284.687577 158.949115 \nL 286.210918 159.073288 \nL 286.515587 159.013917 \nL 286.820255 159.094515 \nL 287.73426 158.812901 \nL 288.343596 158.938805 \nL 289.257601 159.005393 \nL 289.866938 158.854194 \nL 290.171606 158.727296 \nL 290.780943 158.852041 \nL 291.390279 158.702314 \nL 292.608953 158.983928 \nL 292.913621 158.790442 \nL 293.522958 158.913474 \nL 293.827626 158.856275 \nL 294.741631 158.98899 \nL 295.350967 158.942395 \nL 296.874309 158.993961 \nL 297.178977 158.80412 \nL 299.006987 159.197296 \nL 299.920992 159.029124 \nL 301.444334 158.88273 \nL 301.749002 159.023637 \nL 302.05367 159.033615 \nL 302.358338 159.173953 \nL 302.967675 159.225942 \nL 304.186348 159.329091 \nL 305.100353 159.260773 \nL 305.70969 159.311933 \nL 306.928363 159.381467 \nL 311.803056 159.120196 \nL 312.717061 159.086028 \nL 313.021729 158.970838 \nL 313.935734 159.092619 \nL 314.240402 159.164011 \nL 315.154407 159.037371 \nL 315.459076 159.139324 \nL 316.068412 158.819345 \nL 317.896422 159.029584 \nL 318.810427 158.935731 \nL 319.115095 158.975514 \nL 319.419764 158.893794 \nL 321.552442 159.10974 \nL 321.85711 158.968537 \nL 323.075783 159.035272 \nL 323.68512 158.874427 \nL 324.903793 159.119331 \nL 325.817798 159.146117 \nL 326.427135 159.252433 \nL 328.255144 159.216608 \nL 329.473818 159.280526 \nL 329.778486 159.172572 \nL 330.692491 159.227691 \nL 331.301827 158.984204 \nL 332.825169 158.942046 \nL 333.129837 158.835858 \nL 333.434506 158.902336 \nL 333.739174 158.853845 \nL 334.653179 159.223825 \nL 335.262515 159.183728 \nL 335.567184 159.220769 \nL 335.871852 159.143834 \nL 336.481189 159.217713 \nL 336.785857 159.112685 \nL 337.090525 159.206243 \nL 339.527872 158.711648 \nL 339.83254 158.608388 \nL 340.441877 158.710378 \nL 341.051213 158.700234 \nL 341.66055 158.606565 \nL 341.965218 158.532061 \nL 342.574555 158.661169 \nL 343.183891 158.706622 \nL 345.316569 158.932786 \nL 345.925906 158.894898 \nL 346.230574 158.985585 \nL 347.449248 158.800917 \nL 347.753916 158.809477 \nL 348.058584 158.981313 \nL 348.667921 158.943684 \nL 349.581926 158.941696 \nL 350.191262 158.742337 \nL 350.800599 158.86721 \nL 352.019272 159.142122 \nL 353.847282 159.030302 \nL 354.15195 158.878679 \nL 355.065955 159.221947 \nL 355.675292 159.264197 \nL 355.97996 159.272021 \nL 356.284628 159.06841 \nL 359.63598 159.495239 \nL 359.940648 159.607078 \nL 360.245316 159.510169 \nL 360.854653 159.499031 \nL 362.682663 159.284982 \nL 363.901336 159.598462 \nL 364.815341 159.825472 \nL 365.729346 159.923154 \nL 366.338682 159.987956 \nL 366.643351 159.969252 \nL 367.252687 159.728379 \nL 369.385365 159.499455 \nL 370.29937 159.571473 \nL 370.604039 159.70441 \nL 371.518044 159.499565 \nL 373.650722 159.649107 \nL 374.869395 159.800969 \nL 375.7834 159.549235 \nL 376.088068 159.531543 \nL 376.088068 159.531543 \n\" style=\"fill:none;stroke:#8c564b;stroke-linecap:square;stroke-width:1.5;\"/>\n   </g>\n   <g id=\"line2d_21\">\n    <path clip-path=\"url(#p800ad8a6e2)\" d=\"M 56.50625 157.925456 \nL 391.30625 157.925456 \n\" style=\"fill:none;stroke:#000000;stroke-dasharray:5.55,2.4;stroke-dashoffset:0;stroke-width:1.5;\"/>\n   </g>\n   <g id=\"patch_3\">\n    <path d=\"M 56.50625 251.82 \nL 56.50625 7.2 \n\" style=\"fill:none;stroke:#000000;stroke-linecap:square;stroke-linejoin:miter;stroke-width:0.8;\"/>\n   </g>\n   <g id=\"patch_4\">\n    <path d=\"M 391.30625 251.82 \nL 391.30625 7.2 \n\" style=\"fill:none;stroke:#000000;stroke-linecap:square;stroke-linejoin:miter;stroke-width:0.8;\"/>\n   </g>\n   <g id=\"patch_5\">\n    <path d=\"M 56.50625 251.82 \nL 391.30625 251.82 \n\" style=\"fill:none;stroke:#000000;stroke-linecap:square;stroke-linejoin:miter;stroke-width:0.8;\"/>\n   </g>\n   <g id=\"patch_6\">\n    <path d=\"M 56.50625 7.2 \nL 391.30625 7.2 \n\" style=\"fill:none;stroke:#000000;stroke-linecap:square;stroke-linejoin:miter;stroke-width:0.8;\"/>\n   </g>\n   <g id=\"legend_1\">\n    <g id=\"patch_7\">\n     <path d=\"M 308.132812 103.26875 \nL 384.30625 103.26875 \nQ 386.30625 103.26875 386.30625 101.26875 \nL 386.30625 14.2 \nQ 386.30625 12.2 384.30625 12.2 \nL 308.132812 12.2 \nQ 306.132812 12.2 306.132812 14.2 \nL 306.132812 101.26875 \nQ 306.132812 103.26875 308.132812 103.26875 \nz\n\" style=\"fill:#ffffff;opacity:0.8;stroke:#cccccc;stroke-linejoin:miter;\"/>\n    </g>\n    <g id=\"line2d_22\">\n     <path d=\"M 310.132812 20.298437 \nL 330.132812 20.298437 \n\" style=\"fill:none;stroke:#1f77b4;stroke-linecap:square;stroke-width:1.5;\"/>\n    </g>\n    <g id=\"line2d_23\"/>\n    <g id=\"text_17\">\n     <!-- p(die=1) -->\n     <defs>\n      <path d=\"M 31 75.875 \nQ 24.46875 64.65625 21.28125 53.65625 \nQ 18.109375 42.671875 18.109375 31.390625 \nQ 18.109375 20.125 21.3125 9.0625 \nQ 24.515625 -2 31 -13.1875 \nL 23.1875 -13.1875 \nQ 15.875 -1.703125 12.234375 9.375 \nQ 8.59375 20.453125 8.59375 31.390625 \nQ 8.59375 42.28125 12.203125 53.3125 \nQ 15.828125 64.359375 23.1875 75.875 \nz\n\" id=\"DejaVuSans-40\"/>\n      <path d=\"M 10.59375 45.40625 \nL 73.1875 45.40625 \nL 73.1875 37.203125 \nL 10.59375 37.203125 \nz\nM 10.59375 25.484375 \nL 73.1875 25.484375 \nL 73.1875 17.1875 \nL 10.59375 17.1875 \nz\n\" id=\"DejaVuSans-61\"/>\n      <path d=\"M 8.015625 75.875 \nL 15.828125 75.875 \nQ 23.140625 64.359375 26.78125 53.3125 \nQ 30.421875 42.28125 30.421875 31.390625 \nQ 30.421875 20.453125 26.78125 9.375 \nQ 23.140625 -1.703125 15.828125 -13.1875 \nL 8.015625 -13.1875 \nQ 14.5 -2 17.703125 9.0625 \nQ 20.90625 20.125 20.90625 31.390625 \nQ 20.90625 42.671875 17.703125 53.65625 \nQ 14.5 64.65625 8.015625 75.875 \nz\n\" id=\"DejaVuSans-41\"/>\n     </defs>\n     <g transform=\"translate(338.132812 23.798437)scale(0.1 -0.1)\">\n      <use xlink:href=\"#DejaVuSans-112\"/>\n      <use x=\"63.476562\" xlink:href=\"#DejaVuSans-40\"/>\n      <use x=\"102.490234\" xlink:href=\"#DejaVuSans-100\"/>\n      <use x=\"165.966797\" xlink:href=\"#DejaVuSans-105\"/>\n      <use x=\"193.75\" xlink:href=\"#DejaVuSans-101\"/>\n      <use x=\"255.273438\" xlink:href=\"#DejaVuSans-61\"/>\n      <use x=\"339.0625\" xlink:href=\"#DejaVuSans-49\"/>\n      <use x=\"402.685547\" xlink:href=\"#DejaVuSans-41\"/>\n     </g>\n    </g>\n    <g id=\"line2d_24\">\n     <path d=\"M 310.132812 34.976562 \nL 330.132812 34.976562 \n\" style=\"fill:none;stroke:#ff7f0e;stroke-linecap:square;stroke-width:1.5;\"/>\n    </g>\n    <g id=\"line2d_25\"/>\n    <g id=\"text_18\">\n     <!-- p(die=2) -->\n     <g transform=\"translate(338.132812 38.476562)scale(0.1 -0.1)\">\n      <use xlink:href=\"#DejaVuSans-112\"/>\n      <use x=\"63.476562\" xlink:href=\"#DejaVuSans-40\"/>\n      <use x=\"102.490234\" xlink:href=\"#DejaVuSans-100\"/>\n      <use x=\"165.966797\" xlink:href=\"#DejaVuSans-105\"/>\n      <use x=\"193.75\" xlink:href=\"#DejaVuSans-101\"/>\n      <use x=\"255.273438\" xlink:href=\"#DejaVuSans-61\"/>\n      <use x=\"339.0625\" xlink:href=\"#DejaVuSans-50\"/>\n      <use x=\"402.685547\" xlink:href=\"#DejaVuSans-41\"/>\n     </g>\n    </g>\n    <g id=\"line2d_26\">\n     <path d=\"M 310.132812 49.654687 \nL 330.132812 49.654687 \n\" style=\"fill:none;stroke:#2ca02c;stroke-linecap:square;stroke-width:1.5;\"/>\n    </g>\n    <g id=\"line2d_27\"/>\n    <g id=\"text_19\">\n     <!-- p(die=3) -->\n     <defs>\n      <path d=\"M 40.578125 39.3125 \nQ 47.65625 37.796875 51.625 33 \nQ 55.609375 28.21875 55.609375 21.1875 \nQ 55.609375 10.40625 48.1875 4.484375 \nQ 40.765625 -1.421875 27.09375 -1.421875 \nQ 22.515625 -1.421875 17.65625 -0.515625 \nQ 12.796875 0.390625 7.625 2.203125 \nL 7.625 11.71875 \nQ 11.71875 9.328125 16.59375 8.109375 \nQ 21.484375 6.890625 26.8125 6.890625 \nQ 36.078125 6.890625 40.9375 10.546875 \nQ 45.796875 14.203125 45.796875 21.1875 \nQ 45.796875 27.640625 41.28125 31.265625 \nQ 36.765625 34.90625 28.71875 34.90625 \nL 20.21875 34.90625 \nL 20.21875 43.015625 \nL 29.109375 43.015625 \nQ 36.375 43.015625 40.234375 45.921875 \nQ 44.09375 48.828125 44.09375 54.296875 \nQ 44.09375 59.90625 40.109375 62.90625 \nQ 36.140625 65.921875 28.71875 65.921875 \nQ 24.65625 65.921875 20.015625 65.03125 \nQ 15.375 64.15625 9.8125 62.3125 \nL 9.8125 71.09375 \nQ 15.4375 72.65625 20.34375 73.4375 \nQ 25.25 74.21875 29.59375 74.21875 \nQ 40.828125 74.21875 47.359375 69.109375 \nQ 53.90625 64.015625 53.90625 55.328125 \nQ 53.90625 49.265625 50.4375 45.09375 \nQ 46.96875 40.921875 40.578125 39.3125 \nz\n\" id=\"DejaVuSans-51\"/>\n     </defs>\n     <g transform=\"translate(338.132812 53.154687)scale(0.1 -0.1)\">\n      <use xlink:href=\"#DejaVuSans-112\"/>\n      <use x=\"63.476562\" xlink:href=\"#DejaVuSans-40\"/>\n      <use x=\"102.490234\" xlink:href=\"#DejaVuSans-100\"/>\n      <use x=\"165.966797\" xlink:href=\"#DejaVuSans-105\"/>\n      <use x=\"193.75\" xlink:href=\"#DejaVuSans-101\"/>\n      <use x=\"255.273438\" xlink:href=\"#DejaVuSans-61\"/>\n      <use x=\"339.0625\" xlink:href=\"#DejaVuSans-51\"/>\n      <use x=\"402.685547\" xlink:href=\"#DejaVuSans-41\"/>\n     </g>\n    </g>\n    <g id=\"line2d_28\">\n     <path d=\"M 310.132812 64.332812 \nL 330.132812 64.332812 \n\" style=\"fill:none;stroke:#d62728;stroke-linecap:square;stroke-width:1.5;\"/>\n    </g>\n    <g id=\"line2d_29\"/>\n    <g id=\"text_20\">\n     <!-- p(die=4) -->\n     <g transform=\"translate(338.132812 67.832812)scale(0.1 -0.1)\">\n      <use xlink:href=\"#DejaVuSans-112\"/>\n      <use x=\"63.476562\" xlink:href=\"#DejaVuSans-40\"/>\n      <use x=\"102.490234\" xlink:href=\"#DejaVuSans-100\"/>\n      <use x=\"165.966797\" xlink:href=\"#DejaVuSans-105\"/>\n      <use x=\"193.75\" xlink:href=\"#DejaVuSans-101\"/>\n      <use x=\"255.273438\" xlink:href=\"#DejaVuSans-61\"/>\n      <use x=\"339.0625\" xlink:href=\"#DejaVuSans-52\"/>\n      <use x=\"402.685547\" xlink:href=\"#DejaVuSans-41\"/>\n     </g>\n    </g>\n    <g id=\"line2d_30\">\n     <path d=\"M 310.132812 79.010937 \nL 330.132812 79.010937 \n\" style=\"fill:none;stroke:#9467bd;stroke-linecap:square;stroke-width:1.5;\"/>\n    </g>\n    <g id=\"line2d_31\"/>\n    <g id=\"text_21\">\n     <!-- p(die=5) -->\n     <g transform=\"translate(338.132812 82.510937)scale(0.1 -0.1)\">\n      <use xlink:href=\"#DejaVuSans-112\"/>\n      <use x=\"63.476562\" xlink:href=\"#DejaVuSans-40\"/>\n      <use x=\"102.490234\" xlink:href=\"#DejaVuSans-100\"/>\n      <use x=\"165.966797\" xlink:href=\"#DejaVuSans-105\"/>\n      <use x=\"193.75\" xlink:href=\"#DejaVuSans-101\"/>\n      <use x=\"255.273438\" xlink:href=\"#DejaVuSans-61\"/>\n      <use x=\"339.0625\" xlink:href=\"#DejaVuSans-53\"/>\n      <use x=\"402.685547\" xlink:href=\"#DejaVuSans-41\"/>\n     </g>\n    </g>\n    <g id=\"line2d_32\">\n     <path d=\"M 310.132812 93.689062 \nL 330.132812 93.689062 \n\" style=\"fill:none;stroke:#8c564b;stroke-linecap:square;stroke-width:1.5;\"/>\n    </g>\n    <g id=\"line2d_33\"/>\n    <g id=\"text_22\">\n     <!-- p(die=6) -->\n     <g transform=\"translate(338.132812 97.189062)scale(0.1 -0.1)\">\n      <use xlink:href=\"#DejaVuSans-112\"/>\n      <use x=\"63.476562\" xlink:href=\"#DejaVuSans-40\"/>\n      <use x=\"102.490234\" xlink:href=\"#DejaVuSans-100\"/>\n      <use x=\"165.966797\" xlink:href=\"#DejaVuSans-105\"/>\n      <use x=\"193.75\" xlink:href=\"#DejaVuSans-101\"/>\n      <use x=\"255.273438\" xlink:href=\"#DejaVuSans-61\"/>\n      <use x=\"339.0625\" xlink:href=\"#DejaVuSans-54\"/>\n      <use x=\"402.685547\" xlink:href=\"#DejaVuSans-41\"/>\n     </g>\n    </g>\n   </g>\n  </g>\n </g>\n <defs>\n  <clipPath id=\"p800ad8a6e2\">\n   <rect height=\"244.62\" width=\"334.8\" x=\"56.50625\" y=\"7.2\"/>\n  </clipPath>\n </defs>\n</svg>\n"
          },
          "metadata": {
            "tags": [],
            "needs_background": "light"
          }
        }
      ]
    },
    {
      "cell_type": "markdown",
      "metadata": {
        "id": "sw1LAHCZbNji"
      },
      "source": [
        "2. Given two events with probability $P(A)$ and $P(B)$, compute upper and lower bounds on $P(A\\cup B)$ and $P(A\\cap B)$. (Hint: display the situation using a Venn Diagram.)\n",
        "  - $0 \\leq P(A\\cup B),P(A\\cap B) \\leq 1$\n",
        "  - $P(A) + P(B) - P(A\\cap B) \\leq P(A\\cup B) \\leq P(A) + P(B)$\n",
        "  - $P(A\\cap B) \\leq P(A)$ and $P(B)$"
      ]
    },
    {
      "cell_type": "markdown",
      "metadata": {
        "id": "tTLkkpohbPxo"
      },
      "source": [
        "3. Assume that we have a sequence of random variables, say $A$, $B$, and  $C$, where $B$ only depends on $A$, and $C$ only depends on $B$, can you simplify the joint probability $P(A,B,C)$ ? (Hint: this is a Markov Chain.)\n",
        "  - $A$ and $C$ are conditionally independent given $B$. $P(A,C|B) = P(A|B)P(C|B) = \\frac{P(A,B,C)}{P(B)} \\to P(A,B,C) = P(B)P(A|B)P(C|B)$"
      ]
    },
    {
      "cell_type": "markdown",
      "metadata": {
        "id": "6JFG-aIZbVGi"
      },
      "source": [
        "4. In Section 2.6.2.6, the first test is more accurate. Why not run the first test twice rather than run both the first and second tests?\n",
        "  - Running the first test twice is better becasue it gives 93% of accuracy compared to 83% from the two different tests. Let's compute $P(H=1|D_1=1,D^2_1=1)$, where $D^2_1$ is the second trial of the first test.\n",
        "  - $P(H=1|D_1=1,D^2_1=1) = \\frac{P(D_1=1,D^2_1=1,H=1)}{P(D_1=1,D^2_1=1)} = \\frac{P(D_1=1,D^2_1=1,H=1)}{P(D_1=1,D^2_1=1,H=1)+P(D_1=1,D^2_1=1,H=0)} = \\frac{P(D_1=1,D^2_1=1|H=1)P(H=1)}{P(D_1=1,D^2_1=1|H=1)P(H=1)+P(D_1=1,D^2_1=1|H=0)P(H=0)}$. \n",
        "  \\\n",
        "  Because $D_1$ and $D^2_1$ are indepdent to each other, $\\frac{P(D_1=1|H=1)P(D^2_1=1|H=1)P(H=1)}{P(D_1=1|H=1)P(D^2_1=1|H=1)P(H=1)+P(D_1=1|H=0)P(D^2_1=1|H=0)P(H=0)} = \\frac{1*1*0.0015}{1*1*0.0015 + 0.01*0.01*0.9985}= 0.9375$"
      ]
    },
    {
      "cell_type": "markdown",
      "metadata": {
        "id": "0NiicqKWYS_Z"
      },
      "source": [
        "# 2.7 Documentation"
      ]
    },
    {
      "cell_type": "markdown",
      "metadata": {
        "id": "gJ4b1lwVYOfR"
      },
      "source": [
        "### 2.7.4 Exercises"
      ]
    },
    {
      "cell_type": "markdown",
      "metadata": {
        "id": "KLyrjq2KYcsf"
      },
      "source": [
        "1. Look up the documentation for any function or class in the deep learning framework. Can you also find the documentation on the official website of the framework?\n",
        "  - Yes, one of examples would be \"https://mxnet.apache.org/versions/1.0.0/api/python/ndarray/ndarray.html\""
      ]
    }
  ]
}