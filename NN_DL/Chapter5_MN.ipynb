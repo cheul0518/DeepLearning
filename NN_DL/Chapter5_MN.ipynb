{
  "nbformat": 4,
  "nbformat_minor": 0,
  "metadata": {
    "colab": {
      "name": "Chapter5_MN",
      "provenance": [],
      "collapsed_sections": [],
      "authorship_tag": "ABX9TyMwWrAUjgRhlcgFwk07YpoJ",
      "include_colab_link": true
    },
    "kernelspec": {
      "name": "python3",
      "display_name": "Python 3"
    },
    "language_info": {
      "name": "python"
    }
  },
  "cells": [
    {
      "cell_type": "markdown",
      "metadata": {
        "id": "view-in-github",
        "colab_type": "text"
      },
      "source": [
        "<a href=\"https://colab.research.google.com/github/cheul0518/DeepLearning/blob/main/NN_DL/Chapter5_MN.ipynb\" target=\"_parent\"><img src=\"https://colab.research.google.com/assets/colab-badge.svg\" alt=\"Open In Colab\"/></a>"
      ]
    },
    {
      "cell_type": "markdown",
      "metadata": {
        "id": "YtY5AX7Q0wHB"
      },
      "source": [
        "# Exercise"
      ]
    },
    {
      "cell_type": "markdown",
      "metadata": {
        "id": "12Nc2S_S0y1t"
      },
      "source": [
        "1. In out discussion of the vanishing gradient problem, we made use of the fact that $|\\sigma'(z)|<\\frac{1}{4}$. Suppose we used a different activation function, one whose derivative could be much larger. Would that help us avoid the unstable gradient problem? \n",
        "  - No, a different activation function such as Relu has a higher chance of having exploding gradient problem, one of the unstable gradient problems. However, the different activation functions whose derivative are much larger would help us avoid vanishing gradient problem."
      ]
    },
    {
      "cell_type": "markdown",
      "metadata": {
        "id": "Yp7MJdWE4hGN"
      },
      "source": [
        "# Problems"
      ]
    },
    {
      "cell_type": "markdown",
      "metadata": {
        "id": "PIKly3rV4qrW"
      },
      "source": [
        "1. Consider the product $|w\\sigma'(wa+b)|$. Suppose $|w\\sigma'(wa+b)|\\geq 1$. (1) Argue that this can only ever occur if $|w|\\geq 4$. (2) Supposing that  $|w|\\geq 4$, consider the set of input activations $a$ for which $|w\\sigma'(wa+b)|\\geq 1$. Show that the set of $a$ satisfying that contraint can range over an interval no greater in width than $\\frac{2}{|w|}ln\\frac{|w|(1+\\sqrt{1-4/|w|})}{2}-1$. (3) Show numerically that the above expression bounding the width of the range is greatest at $|w|\\approx6.9$, where it takes a value $\\approx0.45$. And so even given that everything lines up just perfectly, we still have a fairly narrow range of input activations which can avoid the vanishing gradient problem.\n",
        "\n",
        "  (1) For $\\forall z$, $0\\leq\\sigma'(z)\\leq\\frac{1}{4}$. $|w\\sigma'(wa+b)|\\geq 1 \\leftrightarrow |w||\\sigma'(wa+b)|\\geq1$, where $w$ is a real-number scalar. Thus, $|w|\\geq\\frac{1}{|\\sigma'(wa+b)|} = 4$\n",
        "\n",
        "  (2) $|w\\sigma'(wa+b)|\\geq 1 \\leftrightarrow |w|\\sigma'(wa+b)\\geq 1$, because $0\\leq\\sigma'(x)\\leq\\frac{1}{4}$ for $\\forall x$.\n",
        "\n",
        "  $|w|\\sigma'(wa+b)=|w|\\frac{e^{-wa-b}}{(1+e^{-wa-b})^2} \\leq 1$\n",
        "  $\\to |w|(e^{-wa-b}) \\leq (1+e^{-wa-b})^2$ \n",
        "  $\\to (e^{-wa-b})^2+(2-|w|)e^{-wa-b}+1 \\geq 0$. Substitue $e^{-wa-b}$ for $x$.\n",
        "  Then, $x^2+(2-|w|)x+1 \\geq 0$. Using roots of quadratic function: $x = \\frac{-b\\pm\\sqrt{b^2-4ac}}{2a}$, $(x - (\\frac{|w|}{2}(1+\\sqrt{1-\\frac{4}{|w|}})-1))(x - (\\frac{|w|}{2}(1-\\sqrt{1-\\frac{4}{|w|}})-1)) \\geq 0$. \n",
        "  \n",
        "  So, $x \\geq (\\frac{|w|}{2}(1+\\sqrt{1-\\frac{4}{|w|}})-1)$, because $x \\geq 0$ and $(\\frac{|w|}{2}(1+\\sqrt{1-\\frac{4}{|w|}})-1) \\geq (\\frac{|w|}{2}(1-\\sqrt{1-\\frac{4}{|w|}})-1) \\geq 0$. \n",
        "  \n",
        "  Now substitute back $x$ for $e^{-wa-b}$, $e^{-wa-b} \\geq (\\frac{|w|}{2}(1+\\sqrt{1-\\frac{4}{|w|}})-1)$. Take the log of both sides, then $-wa-b \\geq ln(\\frac{|w|}{2}(1+\\sqrt{1-\\frac{4}{|w|}})-1) \\to wa \\leq ln(\\frac{|w|}{2}(1+\\sqrt{1-\\frac{4}{|w|}})-1) - b$. Considering both cases: $w \\geq 4$ or $w \\leq 4$, $-\\frac{1}{w}ln(\\frac{|w|}{2}(1+\\sqrt{1-\\frac{4}{|w|}})-1) - b \\leq a \\leq \\frac{1}{w}ln(\\frac{|w|}{2}(1+\\sqrt{1-\\frac{4}{|w|}})-1) - b$.\n",
        "\n",
        "  Thus, $a$ is within $\\frac{2}{|w|}ln(\\frac{|w|}{2}(1+\\sqrt{1-\\frac{4}{|w|}})-1)$.\n"
      ]
    },
    {
      "cell_type": "code",
      "metadata": {
        "colab": {
          "base_uri": "https://localhost:8080/",
          "height": 312
        },
        "id": "6b5NJ_0m0t5q",
        "cellView": "form",
        "outputId": "928a738f-7ff9-4f61-ff69-7256649ceeba"
      },
      "source": [
        "#@title (3) The maximum value of a and w's location\n",
        "import matplotlib.pyplot as plt\n",
        "import numpy as np\n",
        "\n",
        "def a(w):\n",
        "    return (2/abs(w))*np.log((abs(w)/2)*(1+np.sqrt(1-4/abs(w)))-1)\n",
        "\n",
        "w_pos = np.arange(4, 15, 0.01)\n",
        "w_neg = np.arange(-4, -15, -0.01)\n",
        "fig = plt.figure()\n",
        "ax = fig.add_subplot(111)\n",
        "ax.set_title('(3)Graph between a and w')\n",
        "ax.set_xlabel('w')\n",
        "ax.set_ylabel('a')\n",
        "plt.plot(w_pos,a(w_pos),color='orange')\n",
        "plt.plot(w_neg,a(w_neg),color='orange')\n",
        "plt.show()\n",
        "\n",
        "max_pos = a(w_pos).tolist().index(max(a(w_pos)))\n",
        "max_neg = a(w_neg).tolist().index(max(a(w_neg)))\n",
        "print(f'Maximum value of a is {max(a(w_pos)):.2f} at both {w_pos[max_pos]:.1f} and {w_neg[max_neg]:.1f}')"
      ],
      "execution_count": null,
      "outputs": [
        {
          "output_type": "display_data",
          "data": {
            "image/png": "[encoded data removed]",
            "text/plain": [
              "<Figure size 432x288 with 1 Axes>"
            ]
          },
          "metadata": {
            "tags": [],
            "needs_background": "light"
          }
        },
        {
          "output_type": "stream",
          "text": [
            "Maximum value of a is 0.45 at both 6.9 and -6.9\n"
          ],
          "name": "stdout"
        }
      ]
    },
    {
      "cell_type": "markdown",
      "metadata": {
        "id": "lN5Ao3zByYHI"
      },
      "source": [
        "2. **Identity neuron**: Consider a neuron with a single input, $x$, a corresponding weight $w_1$, a bias $b$. and a weight $w_2$ on the output. Show that by choosing the weights and bias appropriately, we can ensure $w_2\\sigma(w_1x+b)\\approx x$ for $x\\in[0,1]$. Such a neuron can thus be used as a kind of identity neuron, that is, a neuron whose output is the same (up to rescaling by a weight factor) as its input. Hint: it helps to rewrite $x=\\frac{1}{2}+\\Delta$, to assume $w_1$ is small, and to use a Taylor series expansion in $w_1\\Delta$.\n",
        "  - The equation $w_2\\sigma(w_1x+b)= x$ can be written as $\\sigma(w_1(x+\\frac{b}{w_1}))= \\frac{x}{w_2}$. The graph of $\\sigma(w_1(x+\\frac{b}{w_1})$ is a sigmoid function scaled by $w_1$ and shifted by $-\\frac{b}{w_1}$. And $\\frac{x}{w_2}$ is a linear function through the origin. Intuitvely, if $\\frac{1}{w_2} \\geq 1 \\leftrightarrow  w_2 \\leq 1$, there would be always an intersection of these two graphs for $x\\in[0,1]$, regardless of $w_1$ and $b$."
      ]
    },
    {
      "cell_type": "code",
      "metadata": {
        "colab": {
          "base_uri": "https://localhost:8080/",
          "height": 281
        },
        "id": "Oz3iX5DD6dg0",
        "cellView": "form",
        "outputId": "5684cd5d-fff2-4a21-a574-9dda640038f9"
      },
      "source": [
        "#@title Some graphs of sigma(w1x+b) and x/w2 in order to compare based on w2\n",
        "import matplotlib.pyplot as plt\n",
        "from matplotlib.ticker import LinearLocator,FormatStrFormatter\n",
        "import numpy as np\n",
        "\n",
        "def sigmoid(x,w1,s): # s = b/w1\n",
        "    return 1/(1+np.exp(-w1*(x+s)))\n",
        "\n",
        "def f(x,w2):\n",
        "    return (1/w2)*x\n",
        "\n",
        "x = np.arange(-2,2,0.1)\n",
        "fig = plt.figure()\n",
        "# First graph\n",
        "ax = fig.add_subplot(221)\n",
        "ax.set_title(\"sig(x-3) and 15x\")\n",
        "ax.set_ylim(0,1.1)\n",
        "ax.xaxis.set_major_locator(LinearLocator(5))\n",
        "ax.xaxis.set_major_formatter(FormatStrFormatter('%.0f'))\n",
        "plt.plot(x, sigmoid(x,1.0,-3))\n",
        "plt.plot(x, f(x,15))\n",
        "# Second graph\n",
        "ax = fig.add_subplot(222)\n",
        "ax.set_title(\"sig(x-3) and x\")\n",
        "ax.set_ylim(0,1.1)\n",
        "ax.xaxis.set_major_locator(LinearLocator(5))\n",
        "ax.xaxis.set_major_formatter(FormatStrFormatter('%.0f'))\n",
        "plt.plot(x, sigmoid(x,1.0,-3))\n",
        "plt.plot(x, f(x,1.0))\n",
        "# Third graph\n",
        "ax = fig.add_subplot(223)\n",
        "ax.set_title(\"sig(x+3) and 2x\")\n",
        "ax.set_ylim(0,1.1)\n",
        "ax.xaxis.set_major_locator(LinearLocator(5))\n",
        "ax.xaxis.set_major_formatter(FormatStrFormatter('%.0f'))\n",
        "plt.plot(x, sigmoid(x,1.0,3))\n",
        "plt.plot(x, f(x,2))\n",
        "# Fourth graph\n",
        "ax = fig.add_subplot(224)\n",
        "ax.set_title(\"sig(x+3) and x\")\n",
        "ax.set_ylim(0,1.1)\n",
        "ax.xaxis.set_major_locator(LinearLocator(5))\n",
        "ax.xaxis.set_major_formatter(FormatStrFormatter('%.0f'))\n",
        "plt.plot(x, sigmoid(x,1.0,3))\n",
        "plt.plot(x, f(x,1))\n",
        "plt.subplots_adjust(wspace=0.5,hspace=0.5) # Adjust space among the four graphs\n",
        "plt.show()"
      ],
      "execution_count": 140,
      "outputs": [
        {
          "output_type": "display_data",
          "data": {
            "image/png": "[encoded data removed]",
            "text/plain": [
              "<Figure size 432x288 with 4 Axes>"
            ]
          },
          "metadata": {
            "tags": [],
            "needs_background": "light"
          }
        }
      ]
    }
  ]
}