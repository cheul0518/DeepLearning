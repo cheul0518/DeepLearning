{
  "nbformat": 4,
  "nbformat_minor": 0,
  "metadata": {
    "colab": {
      "name": " [TF]MNIST.ipynb",
      "provenance": [],
      "collapsed_sections": [],
      "include_colab_link": true
    },
    "kernelspec": {
      "display_name": "Python 3",
      "name": "python3"
    },
    "language_info": {
      "name": "python"
    }
  },
  "cells": [
    {
      "cell_type": "markdown",
      "metadata": {
        "id": "view-in-github",
        "colab_type": "text"
      },
      "source": [
        "<a href=\"https://colab.research.google.com/github/cheul0518/DeepLearning/blob/main/Vision_AIHUB/MNIST.ipynb\" target=\"_parent\"><img src=\"https://colab.research.google.com/assets/colab-badge.svg\" alt=\"Open In Colab\"/></a>"
      ]
    },
    {
      "cell_type": "markdown",
      "metadata": {
        "id": "BcK9Pw1Hr9-9"
      },
      "source": [
        "## Import necessary modules"
      ]
    },
    {
      "cell_type": "code",
      "metadata": {
        "id": "OyGYDOpKJnRx"
      },
      "source": [
        "import numpy as np\n",
        "import matplotlib.pyplot as plt\n",
        "import tensorflow as tf\n",
        "from tensorflow import keras"
      ],
      "execution_count": 1,
      "outputs": []
    },
    {
      "cell_type": "markdown",
      "metadata": {
        "id": "ydeDxMX2sBvO"
      },
      "source": [
        "## Data preparation"
      ]
    },
    {
      "cell_type": "code",
      "metadata": {
        "colab": {
          "base_uri": "https://localhost:8080/"
        },
        "id": "dl0JVj7MKHOq",
        "outputId": "5e1d6ea0-71cd-427e-d7a6-76eea1947890"
      },
      "source": [
        "# Bring datasets, and split them (keras.datasets.mnist.load_data() returns tuples of train and test datasets)\n",
        "(trainX, trainY), (testX, testY) = keras.datasets.mnist.load_data()\n",
        "\n",
        "print(type(trainX))\n",
        "print(trainX.shape, trainY.shape, testX.shape, testY.shape)"
      ],
      "execution_count": 2,
      "outputs": [
        {
          "output_type": "stream",
          "name": "stdout",
          "text": [
            "<class 'numpy.ndarray'>\n",
            "(60000, 28, 28) (60000,) (10000, 28, 28) (10000,)\n"
          ]
        }
      ]
    },
    {
      "cell_type": "code",
      "metadata": {
        "colab": {
          "base_uri": "https://localhost:8080/"
        },
        "id": "hTOkWt_jRrhm",
        "outputId": "addcd508-43b1-486f-c620-7dcacaaaeceb"
      },
      "source": [
        "# Check Label/target\n",
        "np.unique(trainY)"
      ],
      "execution_count": 3,
      "outputs": [
        {
          "output_type": "execute_result",
          "data": {
            "text/plain": [
              "array([0, 1, 2, 3, 4, 5, 6, 7, 8, 9], dtype=uint8)"
            ]
          },
          "metadata": {},
          "execution_count": 3
        }
      ]
    },
    {
      "cell_type": "code",
      "metadata": {
        "colab": {
          "base_uri": "https://localhost:8080/",
          "height": 227
        },
        "id": "YuL42NgLjYLO",
        "outputId": "96a2213e-a881-458f-a108-546b4755a64f"
      },
      "source": [
        "for i in range(10):\n",
        "    plt.subplot(2,5,i+1)\n",
        "    plt.imshow(trainX[i])\n",
        "plt.show()"
      ],
      "execution_count": 4,
      "outputs": [
        {
          "output_type": "display_data",
          "data": {
            "text/plain": [
              "<Figure size 432x288 with 10 Axes>"
            ],
            "image/png": "[encoded data removed]"
          },
          "metadata": {
            "needs_background": "light"
          }
        }
      ]
    },
    {
      "cell_type": "code",
      "metadata": {
        "colab": {
          "base_uri": "https://localhost:8080/"
        },
        "id": "cvehz-PAnxkn",
        "outputId": "f9c39f2b-e437-4d16-f44f-f938b183fd68"
      },
      "source": [
        "print(trainY[0:10])"
      ],
      "execution_count": 5,
      "outputs": [
        {
          "output_type": "stream",
          "name": "stdout",
          "text": [
            "[5 0 4 1 9 2 1 3 1 4]\n"
          ]
        }
      ]
    },
    {
      "cell_type": "code",
      "source": [
        "# Reshape train X and testX from (60000, 28, 28), (10000, 28, 28)to (60000, 28*28), (10000, 28*28) respectively\n",
        "trainX = trainX.reshape((60000, 28*28))\n",
        "testX = testX.reshape((10000, 28*28))\n",
        "\n",
        "# Normalization/transformation\n",
        "\"\"\"Do not always just divide variables randomly to make it smaller in any case.\n",
        "For image classification, dividing by 255 works good because the whole range is in [0,1]\n",
        "\"\"\"\n",
        "trainX = trainX / 255\n",
        "testX = testX / 255"
      ],
      "metadata": {
        "id": "aHf_choVZTEG"
      },
      "execution_count": 6,
      "outputs": []
    },
    {
      "cell_type": "markdown",
      "metadata": {
        "id": "XbtRWJ4eqMCF"
      },
      "source": [
        "### Model"
      ]
    },
    {
      "cell_type": "markdown",
      "metadata": {
        "id": "bYU0zJtosze1"
      },
      "source": [
        "#### Model layout"
      ]
    },
    {
      "cell_type": "code",
      "metadata": {
        "id": "si3jLP0LgjcW",
        "colab": {
          "base_uri": "https://localhost:8080/"
        },
        "outputId": "e491f9fb-f8b1-4ee6-f062-ea530b7fd7d7"
      },
      "source": [
        "model = keras.Sequential()\n",
        "model.add(keras.layers.InputLayer(input_shape=(28*28,)))\n",
        "model.add(keras.layers.Dense(128, activation='relu'))\n",
        "model.add(keras.layers.Dense(10, activation='softmax'))\n",
        "model.summary()"
      ],
      "execution_count": 7,
      "outputs": [
        {
          "output_type": "stream",
          "name": "stdout",
          "text": [
            "Model: \"sequential\"\n",
            "_________________________________________________________________\n",
            " Layer (type)                Output Shape              Param #   \n",
            "=================================================================\n",
            " dense (Dense)               (None, 128)               100480    \n",
            "                                                                 \n",
            " dense_1 (Dense)             (None, 10)                1290      \n",
            "                                                                 \n",
            "=================================================================\n",
            "Total params: 101,770\n",
            "Trainable params: 101,770\n",
            "Non-trainable params: 0\n",
            "_________________________________________________________________\n"
          ]
        }
      ]
    },
    {
      "cell_type": "code",
      "metadata": {
        "colab": {
          "base_uri": "https://localhost:8080/",
          "height": 312
        },
        "id": "OuU8sQ9xrQvd",
        "outputId": "a921253c-c344-47af-c95d-7952df366714"
      },
      "source": [
        "keras.utils.plot_model(model, show_shapes=True)"
      ],
      "execution_count": 8,
      "outputs": [
        {
          "output_type": "execute_result",
          "data": {
            "text/plain": [
              "<IPython.core.display.Image object>"
            ],
            "image/png": "[encoded data removed]"
          },
          "metadata": {},
          "execution_count": 8
        }
      ]
    },
    {
      "cell_type": "code",
      "metadata": {
        "id": "Yk-cr2DuhChL"
      },
      "source": [
        "model.compile(optimizer=keras.optimizers.Adam(learning_rate=0.001), loss='sparse_categorical_crossentropy', metrics=['accuracy'])"
      ],
      "execution_count": 9,
      "outputs": []
    },
    {
      "cell_type": "markdown",
      "metadata": {
        "id": "DO-s2Bfxsqir"
      },
      "source": [
        "### Learning"
      ]
    },
    {
      "cell_type": "code",
      "metadata": {
        "colab": {
          "base_uri": "https://localhost:8080/"
        },
        "id": "1bR6wMSjhVLi",
        "outputId": "6dd972b0-ad12-463f-99a3-13657156e5bf"
      },
      "source": [
        "hist = model.fit(trainX, trainY, epochs=15)"
      ],
      "execution_count": 10,
      "outputs": [
        {
          "output_type": "stream",
          "name": "stdout",
          "text": [
            "Epoch 1/15\n",
            "1875/1875 [==============================] - 15s 7ms/step - loss: 0.2541 - accuracy: 0.9275\n",
            "Epoch 2/15\n",
            "1875/1875 [==============================] - 5s 3ms/step - loss: 0.1126 - accuracy: 0.9666\n",
            "Epoch 3/15\n",
            "1875/1875 [==============================] - 5s 3ms/step - loss: 0.0786 - accuracy: 0.9759\n",
            "Epoch 4/15\n",
            "1875/1875 [==============================] - 5s 2ms/step - loss: 0.0586 - accuracy: 0.9820\n",
            "Epoch 5/15\n",
            "1875/1875 [==============================] - 5s 3ms/step - loss: 0.0455 - accuracy: 0.9860\n",
            "Epoch 6/15\n",
            "1875/1875 [==============================] - 5s 3ms/step - loss: 0.0350 - accuracy: 0.9890\n",
            "Epoch 7/15\n",
            "1875/1875 [==============================] - 5s 3ms/step - loss: 0.0294 - accuracy: 0.9908\n",
            "Epoch 8/15\n",
            "1875/1875 [==============================] - 5s 3ms/step - loss: 0.0227 - accuracy: 0.9931\n",
            "Epoch 9/15\n",
            "1875/1875 [==============================] - 5s 3ms/step - loss: 0.0199 - accuracy: 0.9935\n",
            "Epoch 10/15\n",
            "1875/1875 [==============================] - 5s 3ms/step - loss: 0.0158 - accuracy: 0.9955\n",
            "Epoch 11/15\n",
            "1875/1875 [==============================] - 5s 3ms/step - loss: 0.0135 - accuracy: 0.9956\n",
            "Epoch 12/15\n",
            "1875/1875 [==============================] - 5s 3ms/step - loss: 0.0117 - accuracy: 0.9964\n",
            "Epoch 13/15\n",
            "1875/1875 [==============================] - 5s 3ms/step - loss: 0.0104 - accuracy: 0.9968\n",
            "Epoch 14/15\n",
            "1875/1875 [==============================] - 5s 3ms/step - loss: 0.0085 - accuracy: 0.9975\n",
            "Epoch 15/15\n",
            "1875/1875 [==============================] - 5s 2ms/step - loss: 0.0082 - accuracy: 0.9973\n"
          ]
        }
      ]
    },
    {
      "cell_type": "markdown",
      "metadata": {
        "id": "KbSmmtGEs4RJ"
      },
      "source": [
        "### Model evaluation"
      ]
    },
    {
      "cell_type": "code",
      "metadata": {
        "colab": {
          "base_uri": "https://localhost:8080/"
        },
        "id": "efA3HD9HhFZG",
        "outputId": "8c069a4d-eaa2-4ff7-a056-38580952d29c"
      },
      "source": [
        "model.evaluate(testX,testY) # Loss and accuracy"
      ],
      "execution_count": 11,
      "outputs": [
        {
          "output_type": "stream",
          "name": "stdout",
          "text": [
            "313/313 [==============================] - 1s 2ms/step - loss: 0.0868 - accuracy: 0.9805\n"
          ]
        },
        {
          "output_type": "execute_result",
          "data": {
            "text/plain": [
              "[0.0867641270160675, 0.9804999828338623]"
            ]
          },
          "metadata": {},
          "execution_count": 11
        }
      ]
    },
    {
      "cell_type": "code",
      "metadata": {
        "colab": {
          "base_uri": "https://localhost:8080/"
        },
        "id": "f4InGpWBuFhq",
        "outputId": "8b0aa15f-268e-4a2d-8eae-69e44fee2a93"
      },
      "source": [
        "print(hist.history['loss'])\n",
        "print(hist.history['accuracy'])"
      ],
      "execution_count": 12,
      "outputs": [
        {
          "output_type": "stream",
          "name": "stdout",
          "text": [
            "[0.25413739681243896, 0.11263673007488251, 0.07859514653682709, 0.05861738324165344, 0.04549570754170418, 0.03496232256293297, 0.029357507824897766, 0.022732064127922058, 0.01993265561759472, 0.015815075486898422, 0.01347314938902855, 0.011669320985674858, 0.010362988337874413, 0.008518913760781288, 0.008226289413869381]\n",
            "[0.9274666905403137, 0.9665666818618774, 0.9759166836738586, 0.9819999933242798, 0.9859833121299744, 0.9889666438102722, 0.9908166527748108, 0.9931333065032959, 0.9935166835784912, 0.9954666495323181, 0.9956333041191101, 0.996399998664856, 0.9968000054359436, 0.9975166916847229, 0.9973000288009644]\n"
          ]
        }
      ]
    },
    {
      "cell_type": "code",
      "source": [
        "plt.figure()\n",
        "plt.plot(hist.history['loss'])\n",
        "plt.plot(hist.history['accuracy'])\n",
        "plt.xlim([0,1])\n",
        "plt.ylim([0,3])"
      ],
      "metadata": {
        "colab": {
          "base_uri": "https://localhost:8080/",
          "height": 286
        },
        "id": "6PLpfbegWAu2",
        "outputId": "57771e83-61f1-4d8f-d551-b4bb4f61111b"
      },
      "execution_count": 26,
      "outputs": [
        {
          "output_type": "execute_result",
          "data": {
            "text/plain": [
              "(0.0, 3.0)"
            ]
          },
          "metadata": {},
          "execution_count": 26
        },
        {
          "output_type": "display_data",
          "data": {
            "text/plain": [
              "<Figure size 432x288 with 1 Axes>"
            ],
            "image/png": "[encoded data removed]"
          },
          "metadata": {
            "needs_background": "light"
          }
        }
      ]
    },
    {
      "cell_type": "code",
      "source": [
        "# Check f1, precision, and recall\n",
        "from sklearn.metrics import f1_score, precision_score, recall_score\n",
        "preds = model.predict(testX)\n",
        "pred = np.argmax(preds,axis=1)\n",
        "\n",
        "print(\"Macro\")\n",
        "print(f\"Precision: {precision_score(testY, pred, average='macro'):.2f}\")\n",
        "print(f\"Recall: {recall_score(testY, pred, average='macro'):.2f}\")\n",
        "print(f\"F1: {f1_score(testY, pred, average='macro'):.2f}\")\n",
        "\"\"\"Difference between Macro and Micro\n",
        "A macro average computes the metric independently for each class and then take the average, therefore treaing all classes equally\n",
        "A micro-average aggregates the contribution of all classes to compute the average metric\n",
        "For detail: https://datascience.stackexchange.com/a/24051\n",
        "\"\"\"\n",
        "print(\"Micro\")\n",
        "print(f\"Precision: {precision_score(testY, pred, average='micro'):.2f}\")\n",
        "print(f\"Recall: {recall_score(testY, pred, average='micro'):.2f}\")\n",
        "print(f\"F1: {f1_score(testY, pred, average='micro'):.2f}\")"
      ],
      "metadata": {
        "colab": {
          "base_uri": "https://localhost:8080/"
        },
        "id": "1ntahS_OfJ9_",
        "outputId": "5f0857ba-e17e-4355-f0f6-2b6b8f846eac"
      },
      "execution_count": 14,
      "outputs": [
        {
          "output_type": "stream",
          "name": "stdout",
          "text": [
            "Macro\n",
            "Precision: 0.98\n",
            "Recall: 0.98\n",
            "F1: 0.98\n",
            "Micro\n",
            "Precision: 0.98\n",
            "Recall: 0.98\n",
            "F1: 0.98\n"
          ]
        }
      ]
    },
    {
      "cell_type": "code",
      "metadata": {
        "colab": {
          "base_uri": "https://localhost:8080/"
        },
        "id": "VRTxcKL7kFve",
        "outputId": "7cfd2148-40e1-4c96-abcd-051f455531d4"
      },
      "source": [
        "preds = model.predict(testX)\n",
        "print(preds[0])\n",
        "print(np.argmax(preds[0]))"
      ],
      "execution_count": 15,
      "outputs": [
        {
          "output_type": "stream",
          "name": "stdout",
          "text": [
            "[5.7267526e-13 9.8023184e-16 1.0748359e-12 1.5421023e-09 3.5609386e-21\n",
            " 4.5968465e-17 5.3880265e-19 1.0000000e+00 6.4506785e-15 4.7659658e-12]\n",
            "7\n"
          ]
        }
      ]
    },
    {
      "cell_type": "code",
      "metadata": {
        "colab": {
          "base_uri": "https://localhost:8080/",
          "height": 282
        },
        "id": "4Rcl5R1TkW6b",
        "outputId": "271bf3c0-5bcb-4091-d870-aafe2ab56959"
      },
      "source": [
        "print(testY[0])\n",
        "plt.imshow(testX[0].reshape(28, 28))\n",
        "plt.show()"
      ],
      "execution_count": 16,
      "outputs": [
        {
          "output_type": "stream",
          "name": "stdout",
          "text": [
            "7\n"
          ]
        },
        {
          "output_type": "display_data",
          "data": {
            "text/plain": [
              "<Figure size 432x288 with 1 Axes>"
            ],
            "image/png": "[encoded data removed]"
          },
          "metadata": {
            "needs_background": "light"
          }
        }
      ]
    },
    {
      "cell_type": "markdown",
      "metadata": {
        "id": "nS0AfAcOqI9W"
      },
      "source": [
        "#### Model 2 "
      ]
    },
    {
      "cell_type": "code",
      "metadata": {
        "id": "XGq_JI1GqJkN"
      },
      "source": [
        "model = keras.Sequential()\n",
        "model.add(keras.layers.InputLayer(input_shape=(28*28)))\n",
        "model.add(keras.layers.Dense(256, activation='relu'))\n",
        "model.add(keras.layers.Dense(128, activation='relu'))\n",
        "model.add(keras.layers.Dense(10, activation='softmax'))"
      ],
      "execution_count": 17,
      "outputs": []
    },
    {
      "cell_type": "code",
      "metadata": {
        "colab": {
          "base_uri": "https://localhost:8080/"
        },
        "id": "q4uM9ICkqJkO",
        "outputId": "2eb93c4d-f705-4241-c7c0-3280c8841e24"
      },
      "source": [
        "model.summary()"
      ],
      "execution_count": 18,
      "outputs": [
        {
          "output_type": "stream",
          "name": "stdout",
          "text": [
            "Model: \"sequential_1\"\n",
            "_________________________________________________________________\n",
            " Layer (type)                Output Shape              Param #   \n",
            "=================================================================\n",
            " dense_2 (Dense)             (None, 256)               200960    \n",
            "                                                                 \n",
            " dense_3 (Dense)             (None, 128)               32896     \n",
            "                                                                 \n",
            " dense_4 (Dense)             (None, 10)                1290      \n",
            "                                                                 \n",
            "=================================================================\n",
            "Total params: 235,146\n",
            "Trainable params: 235,146\n",
            "Non-trainable params: 0\n",
            "_________________________________________________________________\n"
          ]
        }
      ]
    },
    {
      "cell_type": "code",
      "metadata": {
        "colab": {
          "base_uri": "https://localhost:8080/",
          "height": 422
        },
        "id": "vqN0eCnermqL",
        "outputId": "d5c3c566-7a71-441f-d781-35b72becef72"
      },
      "source": [
        "keras.utils.plot_model(model, show_shapes=True)"
      ],
      "execution_count": 19,
      "outputs": [
        {
          "output_type": "execute_result",
          "data": {
            "text/plain": [
              "<IPython.core.display.Image object>"
            ],
            "image/png": "[encoded data removed]"
          },
          "metadata": {},
          "execution_count": 19
        }
      ]
    },
    {
      "cell_type": "code",
      "metadata": {
        "id": "7sHEeLwaqJkP"
      },
      "source": [
        "model.compile(optimizer=\"adam\", loss=\"sparse_categorical_crossentropy\", metrics=[\"accuracy\"])"
      ],
      "execution_count": 20,
      "outputs": []
    },
    {
      "cell_type": "markdown",
      "source": [
        "#### Learning"
      ],
      "metadata": {
        "id": "9JYzg_0HiJYJ"
      }
    },
    {
      "cell_type": "code",
      "metadata": {
        "colab": {
          "base_uri": "https://localhost:8080/"
        },
        "id": "eVjf_PCBqJkQ",
        "outputId": "ad182842-ebbe-4877-f72a-1e198d5b11f2"
      },
      "source": [
        "hist2 = model.fit(trainX, trainY, epochs=5)"
      ],
      "execution_count": 21,
      "outputs": [
        {
          "output_type": "stream",
          "name": "stdout",
          "text": [
            "Epoch 1/5\n",
            "1875/1875 [==============================] - 8s 4ms/step - loss: 0.2035 - accuracy: 0.9394\n",
            "Epoch 2/5\n",
            "1875/1875 [==============================] - 8s 4ms/step - loss: 0.0853 - accuracy: 0.9729\n",
            "Epoch 3/5\n",
            "1875/1875 [==============================] - 8s 4ms/step - loss: 0.0585 - accuracy: 0.9808\n",
            "Epoch 4/5\n",
            "1875/1875 [==============================] - 8s 4ms/step - loss: 0.0431 - accuracy: 0.9863\n",
            "Epoch 5/5\n",
            "1875/1875 [==============================] - 8s 4ms/step - loss: 0.0341 - accuracy: 0.9889\n"
          ]
        }
      ]
    },
    {
      "cell_type": "markdown",
      "metadata": {
        "id": "v2txJUFrtR5z"
      },
      "source": [
        "#### Evaluation"
      ]
    },
    {
      "cell_type": "code",
      "metadata": {
        "colab": {
          "base_uri": "https://localhost:8080/"
        },
        "id": "PlcQE4BzqJkR",
        "outputId": "da777381-2899-4f6f-87b2-738a553bb30b"
      },
      "source": [
        "model.evaluate(testX, testY)"
      ],
      "execution_count": 22,
      "outputs": [
        {
          "output_type": "stream",
          "name": "stdout",
          "text": [
            "313/313 [==============================] - 1s 2ms/step - loss: 0.0746 - accuracy: 0.9790\n"
          ]
        },
        {
          "output_type": "execute_result",
          "data": {
            "text/plain": [
              "[0.0745936781167984, 0.9789999723434448]"
            ]
          },
          "metadata": {},
          "execution_count": 22
        }
      ]
    },
    {
      "cell_type": "code",
      "metadata": {
        "colab": {
          "base_uri": "https://localhost:8080/"
        },
        "id": "0rJ--maSuYIE",
        "outputId": "37bfee49-799a-42bc-c721-67c0826d3d5d"
      },
      "source": [
        "print(hist2.history['loss'])\n",
        "print(hist2.history['accuracy'])"
      ],
      "execution_count": 23,
      "outputs": [
        {
          "output_type": "stream",
          "name": "stdout",
          "text": [
            "[0.20352709293365479, 0.08530720323324203, 0.05849601700901985, 0.04313574731349945, 0.03412526100873947]\n",
            "[0.9394333362579346, 0.9728833436965942, 0.9807999730110168, 0.9862833619117737, 0.9888666868209839]\n"
          ]
        }
      ]
    },
    {
      "cell_type": "code",
      "metadata": {
        "colab": {
          "base_uri": "https://localhost:8080/",
          "height": 521
        },
        "id": "nUe3rYtUubZB",
        "outputId": "258739e9-d33a-4df7-84dd-fe9d58c21089"
      },
      "source": [
        "plt.figure()\n",
        "plt.plot(hist.history['loss'])\n",
        "plt.plot(hist.history['accuracy'])\n",
        "plt.xlim([0,4])\n",
        "plt.ylim([0,1])\n",
        "plt.figure()\n",
        "plt.plot(hist2.history['loss'])\n",
        "plt.plot(hist2.history['accuracy'])\n",
        "plt.xlim([0,4])\n",
        "plt.ylim([0,1])\n",
        "plt.show()"
      ],
      "execution_count": 25,
      "outputs": [
        {
          "output_type": "display_data",
          "data": {
            "text/plain": [
              "<Figure size 432x288 with 1 Axes>"
            ],
            "image/png": "[encoded data removed]"
          },
          "metadata": {
            "needs_background": "light"
          }
        },
        {
          "output_type": "display_data",
          "data": {
            "text/plain": [
              "<Figure size 432x288 with 1 Axes>"
            ],
            "image/png": "[encoded data removed]"
          },
          "metadata": {
            "needs_background": "light"
          }
        }
      ]
    }
  ]
}