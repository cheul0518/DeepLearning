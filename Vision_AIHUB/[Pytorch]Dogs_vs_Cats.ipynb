{
  "nbformat": 4,
  "nbformat_minor": 0,
  "metadata": {
    "colab": {
      "name": "[Pytorch]Dogs-vs-Cats.ipynb",
      "provenance": [],
      "collapsed_sections": [],
      "machine_shape": "hm",
      "include_colab_link": true
    },
    "kernelspec": {
      "name": "python3",
      "display_name": "Python 3"
    },
    "language_info": {
      "name": "python"
    },
    "gpuClass": "standard",
    "accelerator": "GPU"
  },
  "cells": [
    {
      "cell_type": "markdown",
      "metadata": {
        "id": "view-in-github",
        "colab_type": "text"
      },
      "source": [
        "<a href=\"https://colab.research.google.com/github/cheul0518/DeepLearning/blob/main/Vision_AIHUB/%5BPytorch%5DDogs_vs_Cats.ipynb\" target=\"_parent\"><img src=\"https://colab.research.google.com/assets/colab-badge.svg\" alt=\"Open In Colab\"/></a>"
      ]
    },
    {
      "cell_type": "markdown",
      "source": [
        "### Module"
      ],
      "metadata": {
        "id": "5KA7wA7oaP-N"
      }
    },
    {
      "cell_type": "code",
      "execution_count": 1,
      "metadata": {
        "id": "0Fwppb90ZHZW"
      },
      "outputs": [],
      "source": [
        "import torch\n",
        "import torchvision\n",
        "import torch.nn as nn\n",
        "import torch.nn.functional as F\n",
        "import matplotlib.pyplot as plt \n",
        "import numpy as np\n",
        "import PIL"
      ]
    },
    {
      "cell_type": "markdown",
      "source": [
        "### CUDA"
      ],
      "metadata": {
        "id": "UgIAp3acvle7"
      }
    },
    {
      "cell_type": "code",
      "source": [
        "device = torch.device(\"cuda\" if torch.cuda.is_available() else \"cpu\")\n",
        "device"
      ],
      "metadata": {
        "colab": {
          "base_uri": "https://localhost:8080/"
        },
        "id": "qUDFY3mKvnRp",
        "outputId": "b33fad52-c5ce-4079-be2c-88848041bc51"
      },
      "execution_count": 2,
      "outputs": [
        {
          "output_type": "execute_result",
          "data": {
            "text/plain": [
              "device(type='cuda')"
            ]
          },
          "metadata": {},
          "execution_count": 2
        }
      ]
    },
    {
      "cell_type": "markdown",
      "source": [
        "### Download and unzip the data"
      ],
      "metadata": {
        "id": "xmn1f4_yaNjo"
      }
    },
    {
      "cell_type": "code",
      "source": [
        "import os\n",
        "import shutil\n",
        "import zipfile"
      ],
      "metadata": {
        "id": "D2k9vVMlaNVG"
      },
      "execution_count": 3,
      "outputs": []
    },
    {
      "cell_type": "code",
      "source": [
        "from google.colab import drive\n",
        "drive.mount('/content/drive')"
      ],
      "metadata": {
        "colab": {
          "base_uri": "https://localhost:8080/"
        },
        "id": "ps117ik3a3P2",
        "outputId": "0f397788-4354-4807-dd3a-90c7bc9ab340"
      },
      "execution_count": 4,
      "outputs": [
        {
          "output_type": "stream",
          "name": "stdout",
          "text": [
            "Mounted at /content/drive\n"
          ]
        }
      ]
    },
    {
      "cell_type": "code",
      "source": [
        "zip = zipfile.ZipFile('/content/drive/MyDrive/DeepLearning/대구AI허브/dogs-vs-cats.zip', 'r')\n",
        "zip.extractall('dogs-vs-cats')\n",
        "zip.close()"
      ],
      "metadata": {
        "id": "5W6OczW8ZL0T"
      },
      "execution_count": 5,
      "outputs": []
    },
    {
      "cell_type": "code",
      "source": [
        "filenames = os.listdir('dogs-vs-cats')   \n",
        "filenames[0]"
      ],
      "metadata": {
        "id": "ih5hyHoyaXkP",
        "colab": {
          "base_uri": "https://localhost:8080/",
          "height": 36
        },
        "outputId": "22488de2-4653-4909-c80a-50010ada28f1"
      },
      "execution_count": 6,
      "outputs": [
        {
          "output_type": "execute_result",
          "data": {
            "text/plain": [
              "'cat.4019.jpg'"
            ],
            "application/vnd.google.colaboratory.intrinsic+json": {
              "type": "string"
            }
          },
          "metadata": {},
          "execution_count": 6
        }
      ]
    },
    {
      "cell_type": "code",
      "source": [
        "os.makedirs('dogs-vs-cats/train/dogs', exist_ok=True)\n",
        "os.makedirs('dogs-vs-cats/train/cats', exist_ok=True)\n",
        "os.makedirs('dogs-vs-cats/test/dogs', exist_ok=True)\n",
        "os.makedirs('dogs-vs-cats/test/cats', exist_ok=True)"
      ],
      "metadata": {
        "id": "5IoBfyc0oKBN"
      },
      "execution_count": 7,
      "outputs": []
    },
    {
      "cell_type": "markdown",
      "source": [
        "### Split dog and cat by file name"
      ],
      "metadata": {
        "id": "x5taNKpSp6xI"
      }
    },
    {
      "cell_type": "code",
      "source": [
        "dogs = []\n",
        "cats = []\n",
        "for filename in filenames:\n",
        "    category = filename.split('.')[0]\n",
        "    if category == 'dog':\n",
        "        dogs.append(filename)\n",
        "    else:\n",
        "        cats.append(filename)"
      ],
      "metadata": {
        "id": "9u1moCKcp_Lx"
      },
      "execution_count": 8,
      "outputs": []
    },
    {
      "cell_type": "code",
      "source": [
        "print(len(dogs), dogs)\n",
        "print(len(cats), cats)"
      ],
      "metadata": {
        "id": "NwQ5pDvWpLK3"
      },
      "execution_count": null,
      "outputs": []
    },
    {
      "cell_type": "code",
      "source": [
        "data_size = min(len(dogs), len(cats))\n",
        "train_size_per_category = int(data_size * 0.8)\n",
        "test_size_per_category = data_size - train_size_per_category\n",
        "print(data_size, train_size_per_category, test_size_per_category)"
      ],
      "metadata": {
        "id": "oOTI-SF4qjwA",
        "colab": {
          "base_uri": "https://localhost:8080/"
        },
        "outputId": "d57827b8-8df6-4150-8773-0151bf6f38af"
      },
      "execution_count": 10,
      "outputs": [
        {
          "output_type": "stream",
          "name": "stdout",
          "text": [
            "12500 10000 2500\n"
          ]
        }
      ]
    },
    {
      "cell_type": "code",
      "source": [
        "dogs = dogs[:data_size]\n",
        "cats = cats[:data_size]\n",
        "train_dogs, test_dogs = torch.utils.data.random_split(dogs, [train_size_per_category, test_size_per_category])\n",
        "train_cats, test_cats = torch.utils.data.random_split(cats, [train_size_per_category, test_size_per_category])\n",
        "print(len(train_dogs), len(train_cats), len(test_dogs), len(test_cats))\n",
        "for i in range(train_size_per_category):\n",
        "    shutil.move(os.path.join('dogs-vs-cats/', train_dogs[i]), 'dogs-vs-cats/train/dogs')\n",
        "    shutil.move(os.path.join('dogs-vs-cats/', train_cats[i]), 'dogs-vs-cats/train/cats')\n",
        "for i in range(test_size_per_category):\n",
        "    shutil.move(os.path.join('dogs-vs-cats/', test_dogs[i]), 'dogs-vs-cats/test/dogs')\n",
        "    shutil.move(os.path.join('dogs-vs-cats/', test_cats[i]), 'dogs-vs-cats/test/cats')"
      ],
      "metadata": {
        "colab": {
          "base_uri": "https://localhost:8080/"
        },
        "id": "sNquZNdNrv2h",
        "outputId": "8ce89476-87ac-4434-bd57-9527cd1d845f"
      },
      "execution_count": 11,
      "outputs": [
        {
          "output_type": "stream",
          "name": "stdout",
          "text": [
            "10000 10000 2500 2500\n"
          ]
        }
      ]
    },
    {
      "cell_type": "code",
      "source": [
        "filenames = os.listdir('dogs-vs-cats/train/dogs') \n",
        "print(f'train_dogs: {len(filenames)}, {filenames}')\n",
        "filenames = os.listdir('dogs-vs-cats/train/cats') \n",
        "print(f'train_cats: {len(filenames)}, {filenames}')\n",
        "filenames = os.listdir('dogs-vs-cats/test/dogs') \n",
        "print(f'test_dogs: {len(filenames)}, {filenames}')\n",
        "filenames = os.listdir('dogs-vs-cats/test/cats') \n",
        "print(f'test_cats: {len(filenames)}, {filenames}')"
      ],
      "metadata": {
        "id": "oQXsgI7UuqHQ"
      },
      "execution_count": null,
      "outputs": []
    },
    {
      "cell_type": "markdown",
      "source": [
        "### Transform "
      ],
      "metadata": {
        "id": "V-9ci4LvcPcp"
      }
    },
    {
      "cell_type": "code",
      "source": [
        "from torchvision.transforms import transforms\n",
        "trans = transforms.Compose([transforms.Resize((120, 120)),\n",
        "                                 transforms.ToTensor()])"
      ],
      "metadata": {
        "id": "KyLX0e6XcSRk"
      },
      "execution_count": 13,
      "outputs": []
    },
    {
      "cell_type": "markdown",
      "source": [
        "### Load data"
      ],
      "metadata": {
        "id": "6h1t-B96c7go"
      }
    },
    {
      "cell_type": "code",
      "source": [
        "from torchvision.datasets import ImageFolder\n",
        "\n",
        "trainSet = ImageFolder('dogs-vs-cats/train', transform=trans)\n",
        "testSet = ImageFolder('dogs-vs-cats/test', transform=trans)"
      ],
      "metadata": {
        "id": "6ykLecEznXXO"
      },
      "execution_count": 14,
      "outputs": []
    },
    {
      "cell_type": "code",
      "source": [
        "print(len(trainSet), len(testSet))\n",
        "print(trainSet[0][0].size())\n",
        "print(trainSet[0][0])\n",
        "print(trainSet[0][1])"
      ],
      "metadata": {
        "colab": {
          "base_uri": "https://localhost:8080/"
        },
        "id": "TZHbCr_WbZEI",
        "outputId": "ce4a8cb0-ec8b-4b5e-d210-95dfa216964e"
      },
      "execution_count": 15,
      "outputs": [
        {
          "output_type": "stream",
          "name": "stdout",
          "text": [
            "20000 5000\n",
            "torch.Size([3, 120, 120])\n",
            "tensor([[[0.8039, 0.8196, 0.8275,  ..., 0.9686, 0.9608, 0.9451],\n",
            "         [0.8039, 0.8196, 0.8275,  ..., 0.9686, 0.9608, 0.9490],\n",
            "         [0.8039, 0.8196, 0.8275,  ..., 0.9686, 0.9608, 0.9529],\n",
            "         ...,\n",
            "         [0.6196, 0.6275, 0.6314,  ..., 0.0118, 0.0118, 0.0078],\n",
            "         [0.6078, 0.6157, 0.6235,  ..., 0.0118, 0.0118, 0.0118],\n",
            "         [0.5961, 0.6039, 0.6157,  ..., 0.0078, 0.0078, 0.0078]],\n",
            "\n",
            "        [[0.6510, 0.6667, 0.6745,  ..., 0.8157, 0.8000, 0.7882],\n",
            "         [0.6510, 0.6667, 0.6745,  ..., 0.8196, 0.8078, 0.7961],\n",
            "         [0.6510, 0.6667, 0.6745,  ..., 0.8235, 0.8118, 0.8000],\n",
            "         ...,\n",
            "         [0.4863, 0.4941, 0.5020,  ..., 0.0157, 0.0157, 0.0078],\n",
            "         [0.4863, 0.4902, 0.5020,  ..., 0.0118, 0.0118, 0.0118],\n",
            "         [0.4745, 0.4824, 0.4941,  ..., 0.0078, 0.0078, 0.0078]],\n",
            "\n",
            "        [[0.3490, 0.3647, 0.3725,  ..., 0.4941, 0.4784, 0.4784],\n",
            "         [0.3490, 0.3647, 0.3725,  ..., 0.5020, 0.4863, 0.4824],\n",
            "         [0.3490, 0.3647, 0.3725,  ..., 0.5137, 0.4980, 0.4902],\n",
            "         ...,\n",
            "         [0.2118, 0.2196, 0.2235,  ..., 0.0000, 0.0000, 0.0000],\n",
            "         [0.2196, 0.2275, 0.2353,  ..., 0.0039, 0.0039, 0.0039],\n",
            "         [0.2118, 0.2196, 0.2314,  ..., 0.0000, 0.0000, 0.0000]]])\n",
            "0\n"
          ]
        }
      ]
    },
    {
      "cell_type": "code",
      "source": [
        "labels = [\"cat\", \"dog\"]"
      ],
      "metadata": {
        "id": "RE8wOEFmlT_x"
      },
      "execution_count": 16,
      "outputs": []
    },
    {
      "cell_type": "code",
      "source": [
        "tf = torchvision.transforms.ToPILImage()\n",
        "img, label = trainSet[0]\n",
        "img = tf(img)\n",
        "plt.imshow(img)\n",
        "plt.title(f'label: {labels[label]}')\n",
        "plt.show()"
      ],
      "metadata": {
        "colab": {
          "base_uri": "https://localhost:8080/",
          "height": 281
        },
        "id": "eCiQaK1sdCHF",
        "outputId": "e9408026-2758-41b0-95d5-c6b47d74cfc4"
      },
      "execution_count": 17,
      "outputs": [
        {
          "output_type": "display_data",
          "data": {
            "text/plain": [
              "<Figure size 432x288 with 1 Axes>"
            ],
            "image/png": "[encoded data removed]"
          },
          "metadata": {
            "needs_background": "light"
          }
        }
      ]
    },
    {
      "cell_type": "code",
      "source": [
        "batch_size = 256\n",
        "learning_rate = 0.001"
      ],
      "metadata": {
        "id": "hd0IahCUdEbN"
      },
      "execution_count": 18,
      "outputs": []
    },
    {
      "cell_type": "markdown",
      "source": [
        "### Load Data"
      ],
      "metadata": {
        "id": "hka8QnMzll2c"
      }
    },
    {
      "cell_type": "code",
      "source": [
        "torch.manual_seed(25)"
      ],
      "metadata": {
        "colab": {
          "base_uri": "https://localhost:8080/"
        },
        "id": "T8HlB0jAlPtq",
        "outputId": "127675c0-4e33-4b05-ccf3-c35396053b94"
      },
      "execution_count": 19,
      "outputs": [
        {
          "output_type": "execute_result",
          "data": {
            "text/plain": [
              "<torch._C.Generator at 0x7fae41e74b90>"
            ]
          },
          "metadata": {},
          "execution_count": 19
        }
      ]
    },
    {
      "cell_type": "code",
      "source": [
        "train_loader = torch.utils.data.DataLoader(\n",
        "              trainSet,\n",
        "              batch_size = batch_size,\n",
        "              shuffle = True,\n",
        "              drop_last=False # residual data take/drop\n",
        ")"
      ],
      "metadata": {
        "id": "v4CJxD7ploAq"
      },
      "execution_count": 20,
      "outputs": []
    },
    {
      "cell_type": "code",
      "source": [
        "test_loader = torch.utils.data.DataLoader(\n",
        "    testSet, \n",
        "    batch_size=batch_size,\n",
        "    shuffle=False,\n",
        "    drop_last=False\n",
        ")"
      ],
      "metadata": {
        "id": "CRfPCiqulpVq"
      },
      "execution_count": 21,
      "outputs": []
    },
    {
      "cell_type": "code",
      "source": [
        "print(len(train_loader))"
      ],
      "metadata": {
        "colab": {
          "base_uri": "https://localhost:8080/"
        },
        "id": "NZ_2rV0Kr1GA",
        "outputId": "c136c6e7-1940-451a-9db5-2568a6147f35"
      },
      "execution_count": 22,
      "outputs": [
        {
          "output_type": "stream",
          "name": "stdout",
          "text": [
            "79\n"
          ]
        }
      ]
    },
    {
      "cell_type": "markdown",
      "source": [
        "### Model"
      ],
      "metadata": {
        "id": "IhhZNpItolGZ"
      }
    },
    {
      "cell_type": "code",
      "source": [
        "class Net(nn.Module):\n",
        "      def __init__(self):\n",
        "          super().__init__()\n",
        "          self.linear1 = nn.Linear(3*120*120, 512)\n",
        "          self.linear2 = nn.Linear(512, 256)\n",
        "          self.linear3 = nn.Linear(256, 2)\n",
        "\n",
        "      def forward(self, x):\n",
        "          x = F.relu(self.linear1(x))\n",
        "          x = F.relu(self.linear2(x))\n",
        "          x = self.linear3(x)\n",
        "          return x "
      ],
      "metadata": {
        "id": "OGS3pQXulqS9"
      },
      "execution_count": 23,
      "outputs": []
    },
    {
      "cell_type": "code",
      "source": [
        "model = Net().to(device)\n",
        "model"
      ],
      "metadata": {
        "colab": {
          "base_uri": "https://localhost:8080/"
        },
        "id": "g7zGLnqSor2s",
        "outputId": "d4df5e34-7553-485d-f556-9b0a1f0ac47c"
      },
      "execution_count": 24,
      "outputs": [
        {
          "output_type": "execute_result",
          "data": {
            "text/plain": [
              "Net(\n",
              "  (linear1): Linear(in_features=43200, out_features=512, bias=True)\n",
              "  (linear2): Linear(in_features=512, out_features=256, bias=True)\n",
              "  (linear3): Linear(in_features=256, out_features=2, bias=True)\n",
              ")"
            ]
          },
          "metadata": {},
          "execution_count": 24
        }
      ]
    },
    {
      "cell_type": "markdown",
      "source": [
        "### Loss function and optimizer"
      ],
      "metadata": {
        "id": "KIJ-wr_6onqH"
      }
    },
    {
      "cell_type": "code",
      "source": [
        "criterion = torch.nn.CrossEntropyLoss()\n",
        "optimizer = torch.optim.Adam(model.parameters(), lr=learning_rate)"
      ],
      "metadata": {
        "id": "-tL9ewekoWCp"
      },
      "execution_count": 25,
      "outputs": []
    },
    {
      "cell_type": "markdown",
      "source": [
        "### Training and test methods"
      ],
      "metadata": {
        "id": "sOn6K2GbouvR"
      }
    },
    {
      "cell_type": "code",
      "source": [
        "def train_loop(model, criterion, optimizer):\n",
        "    accuracy = 0\n",
        "    cost = 0\n",
        "    for X, Y in train_loader: \n",
        "        X, Y = X.to(device), Y.to(device)\n",
        "        X = X.view(-1, 3*120*120)\n",
        "        optimizer.zero_grad()\n",
        "        pred = model(X)\n",
        "        loss = criterion(pred, Y)\n",
        "        loss.backward()\n",
        "        optimizer.step()  # params = params - lr * params.grad\n",
        "        cost += loss\n",
        "        accuracy += ((pred.argmax(dim=1)  == Y).sum().item()) / len(Y)\n",
        "    return cost / len(train_loader), accuracy / len(train_loader) #epoch 평균\n",
        "    \n",
        "def test_loop(model, criterion):\n",
        "    accuracy = 0\n",
        "    with torch.no_grad():\n",
        "        for (X, Y) in test_loader:\n",
        "            X, Y = X.to(device), Y.to(device)\n",
        "            X = X.view(-1, 3*120*120)\n",
        "            output = model(X)\n",
        "            preds = torch.argmax(output, 1)\n",
        "            correct = (preds == Y)\n",
        "            accuracy += correct.sum().item()\n",
        "    return accuracy / len(testSet)"
      ],
      "metadata": {
        "id": "_JS5ufICopP4"
      },
      "execution_count": 26,
      "outputs": []
    },
    {
      "cell_type": "markdown",
      "source": [
        "### Training"
      ],
      "metadata": {
        "id": "VWZNYTsVsR_0"
      }
    },
    {
      "cell_type": "code",
      "source": [
        "import time\n",
        "losses = []\n",
        "accuracies = []\n",
        "for epoch in range(15):   #epochs\n",
        "    t = time.time()\n",
        "    cost, accuracy = train_loop(model, criterion, optimizer)\n",
        "    t = time.time() - t\n",
        "    print(f'Epoch {epoch} ===================={t}====')\n",
        "    print(f'loss: {cost:.4}\\t\\taccuracy: {accuracy:.4}')\n",
        "    losses.append(cost)\n",
        "    accuracies.append(accuracy)"
      ],
      "metadata": {
        "colab": {
          "base_uri": "https://localhost:8080/"
        },
        "id": "G3iX47aGo2Di",
        "outputId": "efe92d63-408c-4a9d-8e37-7b0c497088f4"
      },
      "execution_count": 27,
      "outputs": [
        {
          "output_type": "stream",
          "name": "stdout",
          "text": [
            "Epoch 0 ====================70.31245160102844====\n",
            "loss: 1.152\t\taccuracy: 0.5403\n",
            "Epoch 1 ====================65.75913834571838====\n",
            "loss: 0.6861\t\taccuracy: 0.5739\n",
            "Epoch 2 ====================65.59448432922363====\n",
            "loss: 0.6618\t\taccuracy: 0.6043\n",
            "Epoch 3 ====================65.81775856018066====\n",
            "loss: 0.6595\t\taccuracy: 0.6077\n",
            "Epoch 4 ====================65.71146726608276====\n",
            "loss: 0.6456\t\taccuracy: 0.6247\n",
            "Epoch 5 ====================65.79694080352783====\n",
            "loss: 0.6368\t\taccuracy: 0.6374\n",
            "Epoch 6 ====================66.03762292861938====\n",
            "loss: 0.6479\t\taccuracy: 0.6244\n",
            "Epoch 7 ====================66.18137073516846====\n",
            "loss: 0.6468\t\taccuracy: 0.6233\n",
            "Epoch 8 ====================66.31626224517822====\n",
            "loss: 0.632\t\taccuracy: 0.6406\n",
            "Epoch 9 ====================66.30438613891602====\n",
            "loss: 0.6284\t\taccuracy: 0.6436\n",
            "Epoch 10 ====================66.33720231056213====\n",
            "loss: 0.6179\t\taccuracy: 0.6556\n",
            "Epoch 11 ====================66.32218551635742====\n",
            "loss: 0.6178\t\taccuracy: 0.6559\n",
            "Epoch 12 ====================66.44554471969604====\n",
            "loss: 0.6124\t\taccuracy: 0.6607\n",
            "Epoch 13 ====================66.620845079422====\n",
            "loss: 0.6127\t\taccuracy: 0.6554\n",
            "Epoch 14 ====================66.39418458938599====\n",
            "loss: 0.6059\t\taccuracy: 0.6663\n"
          ]
        }
      ]
    },
    {
      "cell_type": "code",
      "source": [
        "plt.subplot(1,2,1)\n",
        "plt.plot(range(len(losses)), torch.Tensor(losses))\n",
        "plt.subplot(1,2,2)\n",
        "plt.plot(range(len(losses)), torch.Tensor(accuracies))\n",
        "plt.show()"
      ],
      "metadata": {
        "colab": {
          "base_uri": "https://localhost:8080/",
          "height": 265
        },
        "id": "7X9Q5PoLsUq5",
        "outputId": "75d5a7de-915d-47b2-e35e-b1f111ca69cb"
      },
      "execution_count": 28,
      "outputs": [
        {
          "output_type": "display_data",
          "data": {
            "text/plain": [
              "<Figure size 432x288 with 2 Axes>"
            ],
            "image/png": "[encoded data removed]"
          },
          "metadata": {
            "needs_background": "light"
          }
        }
      ]
    },
    {
      "cell_type": "markdown",
      "source": [
        "### Test"
      ],
      "metadata": {
        "id": "OWJ_dJ9RsdU-"
      }
    },
    {
      "cell_type": "code",
      "source": [
        "accuracy = test_loop(model, criterion)\n",
        "print(f'accuracy: {accuracy}')"
      ],
      "metadata": {
        "colab": {
          "base_uri": "https://localhost:8080/"
        },
        "id": "SjSpgJSPseO3",
        "outputId": "95283f15-5e06-4bd9-8365-f68f2349fdaf"
      },
      "execution_count": 29,
      "outputs": [
        {
          "output_type": "stream",
          "name": "stdout",
          "text": [
            "accuracy: 0.647\n"
          ]
        }
      ]
    },
    {
      "cell_type": "markdown",
      "source": [
        "### Test visually"
      ],
      "metadata": {
        "id": "I7ib4FdbsfUm"
      }
    },
    {
      "cell_type": "code",
      "source": [
        "tf = torchvision.transforms.ToPILImage()\n",
        "img, label = testSet[903] # (img, label)\n",
        "# Predict\n",
        "input = img.view(-1, 3*120*120).to(device)\n",
        "output = model(input)\n",
        "preds = torch.argmax(output, 1)\n",
        "\n",
        "# Image out\n",
        "img = tf(img)\n",
        "plt.axis('off')\n",
        "plt.imshow(img)\n",
        "plt.title(f'pred: {preds.item()}, label: {label}')\n",
        "plt.show()"
      ],
      "metadata": {
        "colab": {
          "base_uri": "https://localhost:8080/",
          "height": 264
        },
        "id": "L6u3IJ79sgRc",
        "outputId": "712f3af7-2950-4360-dc0c-a863d5ccebb4"
      },
      "execution_count": 30,
      "outputs": [
        {
          "output_type": "display_data",
          "data": {
            "text/plain": [
              "<Figure size 432x288 with 1 Axes>"
            ],
            "image/png": "[encoded data removed]"
          },
          "metadata": {
            "needs_background": "light"
          }
        }
      ]
    },
    {
      "cell_type": "markdown",
      "source": [
        "**   ** "
      ],
      "metadata": {
        "id": "gPMJHJz-1oMe"
      }
    },
    {
      "cell_type": "markdown",
      "source": [
        "## CNN\n",
        "  - Output Size = (input - kernel_size + 2*padding_size) / stride + 1"
      ],
      "metadata": {
        "id": "G3fqtidp1mBA"
      }
    },
    {
      "cell_type": "code",
      "source": [
        "class Net(nn.Module):\n",
        "  def __init__(self):\n",
        "    super().__init__()\n",
        "    \n",
        "    self.conv1 = nn.Conv2d(in_channels=3, out_channels=16, kernel_size=3, stride=1, padding=1)   \n",
        "    self.conv2 = nn.Conv2d(in_channels=16, out_channels=32, kernel_size=3, stride=1, padding=1)  \n",
        "    self.maxPool = nn.MaxPool2d(kernel_size=2, stride=2)\n",
        "    self.linear1 = nn.Linear(30*30*32, 512)  #input, output\n",
        "    self.linear2 = nn.Linear(512, 2)  #input, output\n",
        "    \n",
        "  def forward(self, x):\n",
        "    # CONV1 + RELU + POOLING\n",
        "    x = F.relu(self.conv1(x))     #(120,120,3) -> (120,120,16)\n",
        "    x = self.maxPool(x)   #(120,120,16) -> (60, 60, 16)\n",
        "    # CONV2 + RELU + POOLING\n",
        "    x = F.relu(self.conv2(x))     #(60,60,16) -> (60,60,32)\n",
        "    x = self.maxPool(x)   #(60,60,32) -> (30, 30, 32)\n",
        "    x = x.view(-1, 30*30*32)\n",
        "    x = F.relu(self.linear1(x))\n",
        "    x = self.linear2(x)\n",
        "    return x"
      ],
      "metadata": {
        "id": "tmAoywsz3qFQ"
      },
      "execution_count": 31,
      "outputs": []
    },
    {
      "cell_type": "code",
      "source": [
        "model = Net().to(device)\n",
        "model"
      ],
      "metadata": {
        "colab": {
          "base_uri": "https://localhost:8080/"
        },
        "id": "6oVL42nFye3w",
        "outputId": "426581fa-c777-4621-c70a-5be8681a7437"
      },
      "execution_count": 32,
      "outputs": [
        {
          "output_type": "execute_result",
          "data": {
            "text/plain": [
              "Net(\n",
              "  (conv1): Conv2d(3, 16, kernel_size=(3, 3), stride=(1, 1), padding=(1, 1))\n",
              "  (conv2): Conv2d(16, 32, kernel_size=(3, 3), stride=(1, 1), padding=(1, 1))\n",
              "  (maxPool): MaxPool2d(kernel_size=2, stride=2, padding=0, dilation=1, ceil_mode=False)\n",
              "  (linear1): Linear(in_features=28800, out_features=512, bias=True)\n",
              "  (linear2): Linear(in_features=512, out_features=2, bias=True)\n",
              ")"
            ]
          },
          "metadata": {},
          "execution_count": 32
        }
      ]
    },
    {
      "cell_type": "code",
      "source": [
        "criterion = torch.nn.CrossEntropyLoss()\n",
        "optimizer = torch.optim.Adam(model.parameters(), lr=learning_rate)"
      ],
      "metadata": {
        "id": "N-X6q8Gey-sr"
      },
      "execution_count": 33,
      "outputs": []
    },
    {
      "cell_type": "markdown",
      "source": [
        "### Training"
      ],
      "metadata": {
        "id": "VeaGAXmcGv6F"
      }
    },
    {
      "cell_type": "code",
      "source": [
        "def train_loop(model, criterion, optimizer):\n",
        "    accuracy = 0\n",
        "    cost = 0\n",
        "    for X, Y in train_loader: \n",
        "        X, Y = X.to(device), Y.to(device)\n",
        "        optimizer.zero_grad()   \n",
        "        pred = model(X)\n",
        "        loss = criterion(pred, Y)  \n",
        "        loss.backward()\n",
        "        optimizer.step()        \n",
        "        cost += loss\n",
        "        accuracy += ((pred.argmax(dim=1)  == Y).sum().item()) / len(Y)\n",
        "\n",
        "    return cost / len(train_loader), accuracy / len(train_loader)\n",
        "    \n",
        "def test_loop(model, criterion):\n",
        "    accuracy = 0\n",
        "    with torch.no_grad():\n",
        "        for (X, Y) in test_loader:\n",
        "            X, Y = X.to(device), Y.to(device)\n",
        "            output = model(X)\n",
        "            preds = torch.argmax(output, 1)  \n",
        "            correct = (preds == Y)\n",
        "            accuracy += correct.sum().item()\n",
        "    return accuracy / len(testSet)"
      ],
      "metadata": {
        "id": "cwY5U_GUGy65"
      },
      "execution_count": 34,
      "outputs": []
    },
    {
      "cell_type": "code",
      "source": [
        "import time\n",
        "losses = []\n",
        "accuracies = []\n",
        "for epoch in range(20): \n",
        "    t = time.time()\n",
        "    cost, accuracy = train_loop(model, criterion, optimizer)\n",
        "    t = time.time() - t\n",
        "    print(f'Epoch {epoch} ===================={t}====')\n",
        "    print(f'loss: {cost:.4}\\t\\taccuracy: {accuracy:.4}')\n",
        "    losses.append(cost)\n",
        "    accuracies.append(accuracy)"
      ],
      "metadata": {
        "colab": {
          "base_uri": "https://localhost:8080/"
        },
        "id": "L-ACQ2YWzDG4",
        "outputId": "d8cf2ce0-c493-4377-cacb-11d79852a921"
      },
      "execution_count": 35,
      "outputs": [
        {
          "output_type": "stream",
          "name": "stdout",
          "text": [
            "Epoch 0 ====================71.99144864082336====\n",
            "loss: 0.7229\t\taccuracy: 0.5446\n",
            "Epoch 1 ====================67.5954122543335====\n",
            "loss: 0.6119\t\taccuracy: 0.668\n",
            "Epoch 2 ====================67.76865315437317====\n",
            "loss: 0.554\t\taccuracy: 0.7156\n",
            "Epoch 3 ====================67.98757123947144====\n",
            "loss: 0.5081\t\taccuracy: 0.7491\n",
            "Epoch 4 ====================68.18020367622375====\n",
            "loss: 0.4686\t\taccuracy: 0.7773\n",
            "Epoch 5 ====================68.11729097366333====\n",
            "loss: 0.4294\t\taccuracy: 0.7994\n",
            "Epoch 6 ====================68.55671381950378====\n",
            "loss: 0.3921\t\taccuracy: 0.8224\n",
            "Epoch 7 ====================68.57696747779846====\n",
            "loss: 0.3575\t\taccuracy: 0.842\n",
            "Epoch 8 ====================68.34382820129395====\n",
            "loss: 0.3308\t\taccuracy: 0.8539\n",
            "Epoch 9 ====================68.53694272041321====\n",
            "loss: 0.2785\t\taccuracy: 0.8844\n",
            "Epoch 10 ====================68.55425786972046====\n",
            "loss: 0.2336\t\taccuracy: 0.9079\n",
            "Epoch 11 ====================68.83745193481445====\n",
            "loss: 0.2125\t\taccuracy: 0.9147\n",
            "Epoch 12 ====================68.92908596992493====\n",
            "loss: 0.1609\t\taccuracy: 0.9417\n",
            "Epoch 13 ====================68.86468148231506====\n",
            "loss: 0.1307\t\taccuracy: 0.9547\n",
            "Epoch 14 ====================68.93128991127014====\n",
            "loss: 0.09653\t\taccuracy: 0.9706\n",
            "Epoch 15 ====================68.79145073890686====\n",
            "loss: 0.066\t\taccuracy: 0.984\n",
            "Epoch 16 ====================68.9745123386383====\n",
            "loss: 0.05179\t\taccuracy: 0.9879\n",
            "Epoch 17 ====================69.09675240516663====\n",
            "loss: 0.04175\t\taccuracy: 0.9908\n",
            "Epoch 18 ====================69.14001536369324====\n",
            "loss: 0.0249\t\taccuracy: 0.9965\n",
            "Epoch 19 ====================69.10084629058838====\n",
            "loss: 0.01746\t\taccuracy: 0.9984\n"
          ]
        }
      ]
    },
    {
      "cell_type": "markdown",
      "source": [
        "### Test"
      ],
      "metadata": {
        "id": "O9JGwOFFzcd0"
      }
    },
    {
      "cell_type": "code",
      "source": [
        "accuracy = test_loop(model, criterion)\n",
        "print(f'accuracy: {accuracy}')"
      ],
      "metadata": {
        "colab": {
          "base_uri": "https://localhost:8080/"
        },
        "id": "lYPLYHg4zEPa",
        "outputId": "56787eeb-9021-45b0-edae-bda320eb55da"
      },
      "execution_count": 36,
      "outputs": [
        {
          "output_type": "stream",
          "name": "stdout",
          "text": [
            "accuracy: 0.7666\n"
          ]
        }
      ]
    }
  ]
}